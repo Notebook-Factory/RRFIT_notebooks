{
 "cells": [
  {
   "cell_type": "markdown",
   "metadata": {
    "kernel": "Python3"
   },
   "source": [
    "# Reference region and input function tail (RRIFT) method"
   ]
  },
  {
   "cell_type": "markdown",
   "metadata": {
    "kernel": "SoS"
   },
   "source": [
    "<img src=\"images/NotebookFactory.png\">"
   ]
  },
  {
   "cell_type": "code",
   "execution_count": 2,
   "metadata": {
    "kernel": "Python3",
    "scrolled": false
   },
   "outputs": [
    {
     "data": {
      "text/html": [
       "<script>\n",
       "code_show=true; \n",
       "function code_toggle() {\n",
       " if (code_show){\n",
       " $('div.input').hide();\n",
       " } else {\n",
       " $('div.input').show();\n",
       " }\n",
       " code_show = !code_show\n",
       "} \n",
       "$( document ).ready(code_toggle);\n",
       "</script>\n",
       "<form action=\"javascript:code_toggle()\"><input type=\"submit\" value=\"Click here to toggle on/off the raw code.\"></form>"
      ],
      "text/plain": [
       "<IPython.core.display.HTML object>"
      ]
     },
     "execution_count": 2,
     "metadata": {},
     "output_type": "execute_result"
    }
   ],
   "source": [
    "from IPython.display import HTML\n",
    "\n",
    "HTML('''<script>\n",
    "code_show=true; \n",
    "function code_toggle() {\n",
    " if (code_show){\n",
    " $('div.input').hide();\n",
    " } else {\n",
    " $('div.input').show();\n",
    " }\n",
    " code_show = !code_show\n",
    "} \n",
    "$( document ).ready(code_toggle);\n",
    "</script>\n",
    "<form action=\"javascript:code_toggle()\"><input type=\"submit\" value=\"Click here to toggle on/off the raw code.\"></form>''')"
   ]
  },
  {
   "cell_type": "markdown",
   "metadata": {
    "kernel": "Python3"
   },
   "source": [
    "## Table of Contents\n",
    "\n",
    "1. [Introduction](#introduction)\n",
    "\n",
    "2. [Abstract](#abstract)\n",
    "\n",
    "3. [Imports](#imports)\n",
    "\n",
    "4. [Figures](#figures)\n",
    "\n",
    "    1. [Figure 1](#figure-1)\n",
    "    \n",
    "        1. [Reference Tissue](#reference-tissue)\n",
    "        \n",
    "        2. [Tissue of Interest](#tissue-of-interest)\n",
    "        \n",
    "        3. [Input Function](#input-function)\n",
    "        \n",
    "        4. [RRIFT Fit](#rrift-fit)\n",
    "        \n",
    "    2. [Figure 2](#figure-2)\n",
    "        \n",
    "        1. [$K_{trans}$](#fig-2-1)\n",
    "        \n",
    "        2. [$V_{e}$](#fig-2-2)\n",
    "        \n",
    "        3. [$V_{p}$](#fig-2-3)\n",
    "        \n",
    "    3. [Figure 3](#figure-3)\n",
    "    \n",
    "        1. [$\\widehat{k_{ep,RR}}$](#fig-3-1)\n",
    "        \n",
    "        2. [$K^{trans}_{RR}$](#fig-3-2)\n",
    "    \n",
    "        3. [$K_{e, RR}$](#fig-3-3)"
   ]
  },
  {
   "cell_type": "markdown",
   "metadata": {
    "kernel": "MATLAB"
   },
   "source": [
    "# Introduction <a name=\"introduction\"></a>\n",
    "\n",
    "This is a jupyter notebook that introduces interactive plots created in plotly from some of figures in the paper [Pharmacokinetic modeling of dynamic contrast‐enhanced MRI using a reference region and input function tail](https://onlinelibrary.wiley.com/doi/abs/10.1002/mrm.27913). \n",
    "\n",
    "Link to the paper's GitHub repository: https://github.com/MPUmri/RRIFT\n",
    "\n",
    "GitHub link to this notebook: https://github.com/Notebook-Factory/RRFIT_notebooks\n"
   ]
  },
  {
   "cell_type": "markdown",
   "metadata": {
    "kernel": "SoS"
   },
   "source": [
    "# Abstract <a name=\"abstract\"></a>\n",
    "\n",
    "###  Purpose\n",
    "Quantitative analysis of dynamic contrast‐enhanced MRI (DCE‐MRI) requires an arterial input function (AIF) which is difficult to measure. We propose the reference region and input function tail (RRIFT) approach which uses a reference tissue and the washout portion of the AIF.\n",
    "\n",
    "### Methods\n",
    "RRIFT was evaluated in simulations with 100 parameter combinations at various temporal resolutions (5‐30 s) and noise levels (σ = 0.01‐0.05 mM). RRIFT was compared against the extended Tofts model (ETM) in 8 studies from patients with glioblastoma multiforme. Two versions of RRIFT were evaluated: one using measured patient‐specific AIF tails, and another assuming a literature‐based AIF tail.\n",
    "\n",
    "### Results\n",
    "RRIFT estimated the transfer constant $K^{trans}$ and interstitial volume $V_{e}$ with median errors within 20% across all simulations. RRIFT was more accurate and precise than the ETM at temporal resolutions slower than 10 s. The percentage error of $K^{trans}$ had a median and interquartile range of −9 ± 45% with the ETM and −2 ± 17% with RRIFT at a temporal resolution of 30 s under noiseless conditions. RRIFT was in excellent agreement with the ETM in vivo, with concordance correlation coefficients (CCC) of 0.95 for $K^{trans}$, 0.96 for $V_{e}$, and 0.73 for the plasma volume $V_{p}$ using a measured AIF tail. With the literature‐based AIF tail, the CCC was 0.89 for $K^{trans}$, 0.93 for $V_{e}$ and 0.78 for $V_{p}$.\n",
    "\n",
    "### Conclusions\n",
    "Quantitative DCE‐MRI analysis using the input function tail and a reference tissue yields absolute kinetic parameters with the RRIFT method. This approach was viable in simulation and in vivo for temporal resolutions as low as 30 s."
   ]
  },
  {
   "cell_type": "markdown",
   "metadata": {
    "kernel": "SoS"
   },
   "source": [
    "## Imports <a name=\"imports\"></a>"
   ]
  },
  {
   "cell_type": "code",
   "execution_count": 1,
   "metadata": {
    "kernel": "SoS"
   },
   "outputs": [],
   "source": [
    "import plotly.express as px\n",
    "import plotly.graph_objects as go\n",
    "import numpy as np\n",
    "from scipy import stats\n",
    "import statsmodels.api as sm\n",
    "import pandas as pd\n",
    "from itertools import cycle\n",
    "import itertools\n",
    "from pandas.core.common import flatten\n",
    "from plotly.subplots import make_subplots"
   ]
  },
  {
   "cell_type": "markdown",
   "metadata": {
    "kernel": "SoS"
   },
   "source": [
    "# Figures <a name=\"figures\"></a>\n",
    "\n",
    "## Figure 1 <a name=\"figure-1\"></a>\n"
   ]
  },
  {
   "cell_type": "code",
   "execution_count": 2,
   "metadata": {
    "kernel": "MATLAB",
    "scrolled": true
   },
   "outputs": [],
   "source": [
    "%% Initialize\n",
    "addpath('RRIFT/mfiles')\n",
    "clearvars\n",
    "\n",
    "rng(12345)\n",
    "load('RRIFT/data/simMap.mat');\n",
    "sigmaC = 0.03; % StdDev of noise (in units of mM)\n",
    "TRes = 5; % Temporal resolution (in seconds)\n",
    "\n",
    "% Properties for the simulated reference tissue\n",
    "ktRR = 0.07; % Ktrans of ref.tissue, in units of 1/min\n",
    "kepRR = 0.5; % kep of ref.tissue, in units of 1/min\n",
    "veRR = ktRR/kepRR;\n",
    "Crr = ToftsKety(Cp,[ktRR,kepRR],t);\n",
    "%% Downsample and Add noise\n",
    "Ct = downsample(simCt, TRes./initTRes);\n",
    "Cp = downsample(Cp, TRes./initTRes);\n",
    "Crr = downsample(Crr, TRes./initTRes);\n",
    "t = downsample(t, TRes./initTRes);\n",
    "\n",
    "[sT sX sY] = size(Ct);\n",
    "Ct = reshape(Ct,[sT sX*sY]);\n",
    "Ct = Ct + sigmaC * randn(size(Ct));\n",
    "Cp = Cp + sigmaC * randn(size(Cp)) / (1-0.35);\n",
    "Crr = Crr + 0.1 * sigmaC * randn(size(Crr));\n",
    "%% Pick four voxels and fit them\n",
    "% Chosen voxels (tried to avoid overlap of curves in figure)\n",
    "idx = [5, 28, 53, 98];\n",
    "\n",
    "% Fit the chosen voxels with CERRM\n",
    "[pkCE, ~, estKepRR] = CERRM(Ct(:,idx),Crr,t);\n",
    "\n",
    "% Use RRIFT, with AIF tail starting at 3 minutes into acquisition\n",
    "fTail = find(t>3, 1);\n",
    "[estKtRR, num, denum] = RRIFT(Cp(fTail:end), Crr(fTail:end), t(fTail:end), estKepRR);"
   ]
  },
  {
   "cell_type": "markdown",
   "metadata": {
    "kernel": "SoS"
   },
   "source": [
    "* (A) Reference Tissue <a name=\"reference-tissue\"></a>"
   ]
  },
  {
   "cell_type": "code",
   "execution_count": 4,
   "metadata": {
    "kernel": "SoS",
    "scrolled": false
   },
   "outputs": [
    {
     "data": {
      "application/vnd.plotly.v1+json": {
       "config": {
        "plotlyServerURL": "https://plot.ly"
       },
       "data": [
        {
         "line": {
          "color": "#41B3A8"
         },
         "mode": "lines",
         "type": "scatter",
         "x": [
          0.0016666666666666668,
          0.08499999999999999,
          0.16833333333333333,
          0.25166666666666665,
          0.335,
          0.41833333333333333,
          0.5016666666666667,
          0.5850000000000001,
          0.6683333333333333,
          0.7516666666666667,
          0.8350000000000001,
          0.9183333333333333,
          1.0016666666666667,
          1.085,
          1.1683333333333332,
          1.2516666666666665,
          1.335,
          1.4183333333333332,
          1.5016666666666665,
          1.585,
          1.6683333333333332,
          1.7516666666666665,
          1.835,
          1.9183333333333332,
          2.0016666666666665,
          2.085,
          2.1683333333333334,
          2.2516666666666665,
          2.335,
          2.4183333333333334,
          2.5016666666666665,
          2.585,
          2.6683333333333334,
          2.7516666666666665,
          2.835,
          2.9183333333333334,
          3.0016666666666665,
          3.085,
          3.1683333333333334,
          3.2516666666666665,
          3.335,
          3.4183333333333334,
          3.5016666666666665,
          3.585,
          3.6683333333333334,
          3.7516666666666665,
          3.835,
          3.9183333333333334,
          4.001666666666667,
          4.085,
          4.168333333333333,
          4.251666666666667,
          4.335,
          4.418333333333334,
          4.501666666666667,
          4.585,
          4.668333333333334,
          4.751666666666667,
          4.835,
          4.918333333333334,
          5.001666666666666,
          5.084999999999999,
          5.168333333333333,
          5.251666666666666,
          5.334999999999999,
          5.418333333333333,
          5.501666666666666,
          5.584999999999999,
          5.668333333333333,
          5.751666666666667,
          5.835,
          5.918333333333334,
          6.001666666666667,
          6.085,
          6.168333333333334,
          6.251666666666667,
          6.335,
          6.418333333333334,
          6.501666666666667,
          6.585,
          6.668333333333334,
          6.751666666666667,
          6.835,
          6.918333333333334,
          7.001666666666667,
          7.085,
          7.168333333333334,
          7.251666666666667,
          7.335,
          7.418333333333334,
          7.501666666666667,
          7.585,
          7.668333333333334,
          7.751666666666667,
          7.835,
          7.918333333333334,
          8.001666666666667,
          8.085,
          8.168333333333333,
          8.251666666666667,
          8.335,
          8.418333333333333,
          8.501666666666667,
          8.585,
          8.668333333333333,
          8.751666666666667,
          8.835,
          8.918333333333333,
          9.001666666666667,
          9.085,
          9.168333333333333,
          9.251666666666667,
          9.335,
          9.418333333333333,
          9.501666666666667,
          9.585,
          9.668333333333333,
          9.751666666666667,
          9.835,
          9.918333333333333
         ],
         "y": [
          -0.00033660936626305724,
          0.0016191436883746676,
          -0.0037330013995024577,
          -0.0023588757519993598,
          -0.002213592029872352,
          0.000614735016767242,
          0.001856527289625253,
          -0.0017485746854623645,
          -0.001505751449854099,
          0.004058400717866957,
          0.0002951497440908903,
          -0.00276697839456615,
          0.0023533216312549687,
          0.02033966344585496,
          0.08861462957638963,
          0.12709274670218085,
          0.1314693374335281,
          0.13943526760139272,
          0.15730108098772733,
          0.16306710170206062,
          0.1652857241496148,
          0.17513955812551651,
          0.1753479024268873,
          0.18112901097464454,
          0.18835211665284862,
          0.18595042227451714,
          0.19190630453056146,
          0.19636641492148638,
          0.19718165315357497,
          0.20387151716907034,
          0.1991232329182351,
          0.20592559069278957,
          0.20744735474730133,
          0.2078092292536825,
          0.20087147341544154,
          0.20375703214551502,
          0.20753552706030076,
          0.20683279921587905,
          0.20903595282046364,
          0.20842205666420627,
          0.20929633832788494,
          0.21011923768175822,
          0.21184134224600057,
          0.20871184666804016,
          0.2063920648880829,
          0.20498501631870147,
          0.20650948911966155,
          0.2002798645412246,
          0.2072231309798702,
          0.2073154136318455,
          0.20729173190512276,
          0.19929283290823419,
          0.1998566444138523,
          0.19837310403347694,
          0.19799574737296213,
          0.19513062039134638,
          0.1988226805144,
          0.19025384889570107,
          0.19387455353917266,
          0.19057684186558047,
          0.1932763976963761,
          0.18785669709647485,
          0.18749321250365214,
          0.18916414103581827,
          0.1785131518474595,
          0.17890225479399038,
          0.18213091322288813,
          0.1764831869393931,
          0.17769381594318778,
          0.18085740818975185,
          0.1760628762290309,
          0.17288340651579664,
          0.1717464215360387,
          0.16845096292766212,
          0.17183314812239808,
          0.172393701072853,
          0.1662418838026946,
          0.1655317941695057,
          0.16192678424090307,
          0.15954175976552873,
          0.16170445791981136,
          0.16123233175553212,
          0.16252241384891006,
          0.15625503799590706,
          0.15842266847811934,
          0.1590533598563743,
          0.15797667460529582,
          0.14774641807733777,
          0.1465733261184379,
          0.14647897675724844,
          0.14548493224811118,
          0.14593918538365191,
          0.14923329862331947,
          0.1473203184550417,
          0.1414167115939143,
          0.14025876353828762,
          0.14485977452987978,
          0.14548429203992674,
          0.14043282378347344,
          0.14018959029027314,
          0.1381005521697943,
          0.13368502938423668,
          0.13580077589559764,
          0.13039677829925045,
          0.1353308473912486,
          0.1295799685085121,
          0.132263118446341,
          0.12780656144144187,
          0.1298613710512023,
          0.12419584500140787,
          0.12309173533339014,
          0.12411583591865838,
          0.11820965184124266,
          0.1259490432732923,
          0.11915464676068682,
          0.11801044634601224,
          0.12181877663642506,
          0.12321076077918193,
          0.12133004811913234,
          0.11493854365865125
         ]
        }
       ],
       "layout": {
        "annotations": [
         {
          "font": {
           "size": 26
          },
          "showarrow": false,
          "text": "$K_{RR}^{trans}\\space0.007\\min{}^{-1}\\\\K_{ep, RR}\\space0.50 \\min{}^{-1}$",
          "x": 0.8,
          "xref": "paper",
          "y": 0.1,
          "yref": "paper"
         }
        ],
        "plot_bgcolor": "#fff",
        "template": {
         "data": {
          "bar": [
           {
            "error_x": {
             "color": "#2a3f5f"
            },
            "error_y": {
             "color": "#2a3f5f"
            },
            "marker": {
             "line": {
              "color": "#E5ECF6",
              "width": 0.5
             }
            },
            "type": "bar"
           }
          ],
          "barpolar": [
           {
            "marker": {
             "line": {
              "color": "#E5ECF6",
              "width": 0.5
             }
            },
            "type": "barpolar"
           }
          ],
          "carpet": [
           {
            "aaxis": {
             "endlinecolor": "#2a3f5f",
             "gridcolor": "white",
             "linecolor": "white",
             "minorgridcolor": "white",
             "startlinecolor": "#2a3f5f"
            },
            "baxis": {
             "endlinecolor": "#2a3f5f",
             "gridcolor": "white",
             "linecolor": "white",
             "minorgridcolor": "white",
             "startlinecolor": "#2a3f5f"
            },
            "type": "carpet"
           }
          ],
          "choropleth": [
           {
            "colorbar": {
             "outlinewidth": 0,
             "ticks": ""
            },
            "type": "choropleth"
           }
          ],
          "contour": [
           {
            "colorbar": {
             "outlinewidth": 0,
             "ticks": ""
            },
            "colorscale": [
             [
              0,
              "#0d0887"
             ],
             [
              0.1111111111111111,
              "#46039f"
             ],
             [
              0.2222222222222222,
              "#7201a8"
             ],
             [
              0.3333333333333333,
              "#9c179e"
             ],
             [
              0.4444444444444444,
              "#bd3786"
             ],
             [
              0.5555555555555556,
              "#d8576b"
             ],
             [
              0.6666666666666666,
              "#ed7953"
             ],
             [
              0.7777777777777778,
              "#fb9f3a"
             ],
             [
              0.8888888888888888,
              "#fdca26"
             ],
             [
              1,
              "#f0f921"
             ]
            ],
            "type": "contour"
           }
          ],
          "contourcarpet": [
           {
            "colorbar": {
             "outlinewidth": 0,
             "ticks": ""
            },
            "type": "contourcarpet"
           }
          ],
          "heatmap": [
           {
            "colorbar": {
             "outlinewidth": 0,
             "ticks": ""
            },
            "colorscale": [
             [
              0,
              "#0d0887"
             ],
             [
              0.1111111111111111,
              "#46039f"
             ],
             [
              0.2222222222222222,
              "#7201a8"
             ],
             [
              0.3333333333333333,
              "#9c179e"
             ],
             [
              0.4444444444444444,
              "#bd3786"
             ],
             [
              0.5555555555555556,
              "#d8576b"
             ],
             [
              0.6666666666666666,
              "#ed7953"
             ],
             [
              0.7777777777777778,
              "#fb9f3a"
             ],
             [
              0.8888888888888888,
              "#fdca26"
             ],
             [
              1,
              "#f0f921"
             ]
            ],
            "type": "heatmap"
           }
          ],
          "heatmapgl": [
           {
            "colorbar": {
             "outlinewidth": 0,
             "ticks": ""
            },
            "colorscale": [
             [
              0,
              "#0d0887"
             ],
             [
              0.1111111111111111,
              "#46039f"
             ],
             [
              0.2222222222222222,
              "#7201a8"
             ],
             [
              0.3333333333333333,
              "#9c179e"
             ],
             [
              0.4444444444444444,
              "#bd3786"
             ],
             [
              0.5555555555555556,
              "#d8576b"
             ],
             [
              0.6666666666666666,
              "#ed7953"
             ],
             [
              0.7777777777777778,
              "#fb9f3a"
             ],
             [
              0.8888888888888888,
              "#fdca26"
             ],
             [
              1,
              "#f0f921"
             ]
            ],
            "type": "heatmapgl"
           }
          ],
          "histogram": [
           {
            "marker": {
             "colorbar": {
              "outlinewidth": 0,
              "ticks": ""
             }
            },
            "type": "histogram"
           }
          ],
          "histogram2d": [
           {
            "colorbar": {
             "outlinewidth": 0,
             "ticks": ""
            },
            "colorscale": [
             [
              0,
              "#0d0887"
             ],
             [
              0.1111111111111111,
              "#46039f"
             ],
             [
              0.2222222222222222,
              "#7201a8"
             ],
             [
              0.3333333333333333,
              "#9c179e"
             ],
             [
              0.4444444444444444,
              "#bd3786"
             ],
             [
              0.5555555555555556,
              "#d8576b"
             ],
             [
              0.6666666666666666,
              "#ed7953"
             ],
             [
              0.7777777777777778,
              "#fb9f3a"
             ],
             [
              0.8888888888888888,
              "#fdca26"
             ],
             [
              1,
              "#f0f921"
             ]
            ],
            "type": "histogram2d"
           }
          ],
          "histogram2dcontour": [
           {
            "colorbar": {
             "outlinewidth": 0,
             "ticks": ""
            },
            "colorscale": [
             [
              0,
              "#0d0887"
             ],
             [
              0.1111111111111111,
              "#46039f"
             ],
             [
              0.2222222222222222,
              "#7201a8"
             ],
             [
              0.3333333333333333,
              "#9c179e"
             ],
             [
              0.4444444444444444,
              "#bd3786"
             ],
             [
              0.5555555555555556,
              "#d8576b"
             ],
             [
              0.6666666666666666,
              "#ed7953"
             ],
             [
              0.7777777777777778,
              "#fb9f3a"
             ],
             [
              0.8888888888888888,
              "#fdca26"
             ],
             [
              1,
              "#f0f921"
             ]
            ],
            "type": "histogram2dcontour"
           }
          ],
          "mesh3d": [
           {
            "colorbar": {
             "outlinewidth": 0,
             "ticks": ""
            },
            "type": "mesh3d"
           }
          ],
          "parcoords": [
           {
            "line": {
             "colorbar": {
              "outlinewidth": 0,
              "ticks": ""
             }
            },
            "type": "parcoords"
           }
          ],
          "pie": [
           {
            "automargin": true,
            "type": "pie"
           }
          ],
          "scatter": [
           {
            "marker": {
             "colorbar": {
              "outlinewidth": 0,
              "ticks": ""
             }
            },
            "type": "scatter"
           }
          ],
          "scatter3d": [
           {
            "line": {
             "colorbar": {
              "outlinewidth": 0,
              "ticks": ""
             }
            },
            "marker": {
             "colorbar": {
              "outlinewidth": 0,
              "ticks": ""
             }
            },
            "type": "scatter3d"
           }
          ],
          "scattercarpet": [
           {
            "marker": {
             "colorbar": {
              "outlinewidth": 0,
              "ticks": ""
             }
            },
            "type": "scattercarpet"
           }
          ],
          "scattergeo": [
           {
            "marker": {
             "colorbar": {
              "outlinewidth": 0,
              "ticks": ""
             }
            },
            "type": "scattergeo"
           }
          ],
          "scattergl": [
           {
            "marker": {
             "colorbar": {
              "outlinewidth": 0,
              "ticks": ""
             }
            },
            "type": "scattergl"
           }
          ],
          "scattermapbox": [
           {
            "marker": {
             "colorbar": {
              "outlinewidth": 0,
              "ticks": ""
             }
            },
            "type": "scattermapbox"
           }
          ],
          "scatterpolar": [
           {
            "marker": {
             "colorbar": {
              "outlinewidth": 0,
              "ticks": ""
             }
            },
            "type": "scatterpolar"
           }
          ],
          "scatterpolargl": [
           {
            "marker": {
             "colorbar": {
              "outlinewidth": 0,
              "ticks": ""
             }
            },
            "type": "scatterpolargl"
           }
          ],
          "scatterternary": [
           {
            "marker": {
             "colorbar": {
              "outlinewidth": 0,
              "ticks": ""
             }
            },
            "type": "scatterternary"
           }
          ],
          "surface": [
           {
            "colorbar": {
             "outlinewidth": 0,
             "ticks": ""
            },
            "colorscale": [
             [
              0,
              "#0d0887"
             ],
             [
              0.1111111111111111,
              "#46039f"
             ],
             [
              0.2222222222222222,
              "#7201a8"
             ],
             [
              0.3333333333333333,
              "#9c179e"
             ],
             [
              0.4444444444444444,
              "#bd3786"
             ],
             [
              0.5555555555555556,
              "#d8576b"
             ],
             [
              0.6666666666666666,
              "#ed7953"
             ],
             [
              0.7777777777777778,
              "#fb9f3a"
             ],
             [
              0.8888888888888888,
              "#fdca26"
             ],
             [
              1,
              "#f0f921"
             ]
            ],
            "type": "surface"
           }
          ],
          "table": [
           {
            "cells": {
             "fill": {
              "color": "#EBF0F8"
             },
             "line": {
              "color": "white"
             }
            },
            "header": {
             "fill": {
              "color": "#C8D4E3"
             },
             "line": {
              "color": "white"
             }
            },
            "type": "table"
           }
          ]
         },
         "layout": {
          "annotationdefaults": {
           "arrowcolor": "#2a3f5f",
           "arrowhead": 0,
           "arrowwidth": 1
          },
          "autotypenumbers": "strict",
          "coloraxis": {
           "colorbar": {
            "outlinewidth": 0,
            "ticks": ""
           }
          },
          "colorscale": {
           "diverging": [
            [
             0,
             "#8e0152"
            ],
            [
             0.1,
             "#c51b7d"
            ],
            [
             0.2,
             "#de77ae"
            ],
            [
             0.3,
             "#f1b6da"
            ],
            [
             0.4,
             "#fde0ef"
            ],
            [
             0.5,
             "#f7f7f7"
            ],
            [
             0.6,
             "#e6f5d0"
            ],
            [
             0.7,
             "#b8e186"
            ],
            [
             0.8,
             "#7fbc41"
            ],
            [
             0.9,
             "#4d9221"
            ],
            [
             1,
             "#276419"
            ]
           ],
           "sequential": [
            [
             0,
             "#0d0887"
            ],
            [
             0.1111111111111111,
             "#46039f"
            ],
            [
             0.2222222222222222,
             "#7201a8"
            ],
            [
             0.3333333333333333,
             "#9c179e"
            ],
            [
             0.4444444444444444,
             "#bd3786"
            ],
            [
             0.5555555555555556,
             "#d8576b"
            ],
            [
             0.6666666666666666,
             "#ed7953"
            ],
            [
             0.7777777777777778,
             "#fb9f3a"
            ],
            [
             0.8888888888888888,
             "#fdca26"
            ],
            [
             1,
             "#f0f921"
            ]
           ],
           "sequentialminus": [
            [
             0,
             "#0d0887"
            ],
            [
             0.1111111111111111,
             "#46039f"
            ],
            [
             0.2222222222222222,
             "#7201a8"
            ],
            [
             0.3333333333333333,
             "#9c179e"
            ],
            [
             0.4444444444444444,
             "#bd3786"
            ],
            [
             0.5555555555555556,
             "#d8576b"
            ],
            [
             0.6666666666666666,
             "#ed7953"
            ],
            [
             0.7777777777777778,
             "#fb9f3a"
            ],
            [
             0.8888888888888888,
             "#fdca26"
            ],
            [
             1,
             "#f0f921"
            ]
           ]
          },
          "colorway": [
           "#636efa",
           "#EF553B",
           "#00cc96",
           "#ab63fa",
           "#FFA15A",
           "#19d3f3",
           "#FF6692",
           "#B6E880",
           "#FF97FF",
           "#FECB52"
          ],
          "font": {
           "color": "#2a3f5f"
          },
          "geo": {
           "bgcolor": "white",
           "lakecolor": "white",
           "landcolor": "#E5ECF6",
           "showlakes": true,
           "showland": true,
           "subunitcolor": "white"
          },
          "hoverlabel": {
           "align": "left"
          },
          "hovermode": "closest",
          "mapbox": {
           "style": "light"
          },
          "paper_bgcolor": "white",
          "plot_bgcolor": "#E5ECF6",
          "polar": {
           "angularaxis": {
            "gridcolor": "white",
            "linecolor": "white",
            "ticks": ""
           },
           "bgcolor": "#E5ECF6",
           "radialaxis": {
            "gridcolor": "white",
            "linecolor": "white",
            "ticks": ""
           }
          },
          "scene": {
           "xaxis": {
            "backgroundcolor": "#E5ECF6",
            "gridcolor": "white",
            "gridwidth": 2,
            "linecolor": "white",
            "showbackground": true,
            "ticks": "",
            "zerolinecolor": "white"
           },
           "yaxis": {
            "backgroundcolor": "#E5ECF6",
            "gridcolor": "white",
            "gridwidth": 2,
            "linecolor": "white",
            "showbackground": true,
            "ticks": "",
            "zerolinecolor": "white"
           },
           "zaxis": {
            "backgroundcolor": "#E5ECF6",
            "gridcolor": "white",
            "gridwidth": 2,
            "linecolor": "white",
            "showbackground": true,
            "ticks": "",
            "zerolinecolor": "white"
           }
          },
          "shapedefaults": {
           "line": {
            "color": "#2a3f5f"
           }
          },
          "ternary": {
           "aaxis": {
            "gridcolor": "white",
            "linecolor": "white",
            "ticks": ""
           },
           "baxis": {
            "gridcolor": "white",
            "linecolor": "white",
            "ticks": ""
           },
           "bgcolor": "#E5ECF6",
           "caxis": {
            "gridcolor": "white",
            "linecolor": "white",
            "ticks": ""
           }
          },
          "title": {
           "x": 0.05
          },
          "xaxis": {
           "automargin": true,
           "gridcolor": "white",
           "linecolor": "white",
           "ticks": "",
           "title": {
            "standoff": 15
           },
           "zerolinecolor": "white",
           "zerolinewidth": 2
          },
          "yaxis": {
           "automargin": true,
           "gridcolor": "white",
           "linecolor": "white",
           "ticks": "",
           "title": {
            "standoff": 15
           },
           "zerolinecolor": "white",
           "zerolinewidth": 2
          }
         }
        },
        "title": {
         "text": "(A) Reference Tissue"
        },
        "xaxis": {
         "range": [
          0,
          10
         ],
         "showline": true,
         "tickvals": [
          0,
          1,
          2,
          3,
          4,
          5,
          6,
          7,
          8,
          9,
          10
         ],
         "title": {
          "text": "Time [min]"
         }
        },
        "yaxis": {
         "range": [
          -0.01,
          0.25
         ],
         "showline": true,
         "tickvals": [
          0,
          0.05,
          0.1,
          0.15,
          0.2,
          0.25
         ],
         "title": {
          "text": "Concentration [mM]"
         }
        }
       }
      },
      "text/html": [
       "<div>                            <div id=\"ca4d3627-ff16-4e8a-ab10-b46c08bedba0\" class=\"plotly-graph-div\" style=\"height:525px; width:100%;\"></div>            <script type=\"text/javascript\">                require([\"plotly\"], function(Plotly) {                    window.PLOTLYENV=window.PLOTLYENV || {};                                    if (document.getElementById(\"ca4d3627-ff16-4e8a-ab10-b46c08bedba0\")) {                    Plotly.newPlot(                        \"ca4d3627-ff16-4e8a-ab10-b46c08bedba0\",                        [{\"line\": {\"color\": \"#41B3A8\"}, \"mode\": \"lines\", \"type\": \"scatter\", \"x\": [0.0016666666666666668, 0.08499999999999999, 0.16833333333333333, 0.25166666666666665, 0.335, 0.41833333333333333, 0.5016666666666667, 0.5850000000000001, 0.6683333333333333, 0.7516666666666667, 0.8350000000000001, 0.9183333333333333, 1.0016666666666667, 1.085, 1.1683333333333332, 1.2516666666666665, 1.335, 1.4183333333333332, 1.5016666666666665, 1.585, 1.6683333333333332, 1.7516666666666665, 1.835, 1.9183333333333332, 2.0016666666666665, 2.085, 2.1683333333333334, 2.2516666666666665, 2.335, 2.4183333333333334, 2.5016666666666665, 2.585, 2.6683333333333334, 2.7516666666666665, 2.835, 2.9183333333333334, 3.0016666666666665, 3.085, 3.1683333333333334, 3.2516666666666665, 3.335, 3.4183333333333334, 3.5016666666666665, 3.585, 3.6683333333333334, 3.7516666666666665, 3.835, 3.9183333333333334, 4.001666666666667, 4.085, 4.168333333333333, 4.251666666666667, 4.335, 4.418333333333334, 4.501666666666667, 4.585, 4.668333333333334, 4.751666666666667, 4.835, 4.918333333333334, 5.001666666666666, 5.084999999999999, 5.168333333333333, 5.251666666666666, 5.334999999999999, 5.418333333333333, 5.501666666666666, 5.584999999999999, 5.668333333333333, 5.751666666666667, 5.835, 5.918333333333334, 6.001666666666667, 6.085, 6.168333333333334, 6.251666666666667, 6.335, 6.418333333333334, 6.501666666666667, 6.585, 6.668333333333334, 6.751666666666667, 6.835, 6.918333333333334, 7.001666666666667, 7.085, 7.168333333333334, 7.251666666666667, 7.335, 7.418333333333334, 7.501666666666667, 7.585, 7.668333333333334, 7.751666666666667, 7.835, 7.918333333333334, 8.001666666666667, 8.085, 8.168333333333333, 8.251666666666667, 8.335, 8.418333333333333, 8.501666666666667, 8.585, 8.668333333333333, 8.751666666666667, 8.835, 8.918333333333333, 9.001666666666667, 9.085, 9.168333333333333, 9.251666666666667, 9.335, 9.418333333333333, 9.501666666666667, 9.585, 9.668333333333333, 9.751666666666667, 9.835, 9.918333333333333], \"y\": [-0.00033660936626305724, 0.0016191436883746676, -0.0037330013995024577, -0.0023588757519993598, -0.002213592029872352, 0.000614735016767242, 0.001856527289625253, -0.0017485746854623645, -0.001505751449854099, 0.004058400717866957, 0.0002951497440908903, -0.00276697839456615, 0.0023533216312549687, 0.02033966344585496, 0.08861462957638963, 0.12709274670218085, 0.1314693374335281, 0.13943526760139272, 0.15730108098772733, 0.16306710170206062, 0.1652857241496148, 0.17513955812551651, 0.1753479024268873, 0.18112901097464454, 0.18835211665284862, 0.18595042227451714, 0.19190630453056146, 0.19636641492148638, 0.19718165315357497, 0.20387151716907034, 0.1991232329182351, 0.20592559069278957, 0.20744735474730133, 0.2078092292536825, 0.20087147341544154, 0.20375703214551502, 0.20753552706030076, 0.20683279921587905, 0.20903595282046364, 0.20842205666420627, 0.20929633832788494, 0.21011923768175822, 0.21184134224600057, 0.20871184666804016, 0.2063920648880829, 0.20498501631870147, 0.20650948911966155, 0.2002798645412246, 0.2072231309798702, 0.2073154136318455, 0.20729173190512276, 0.19929283290823419, 0.1998566444138523, 0.19837310403347694, 0.19799574737296213, 0.19513062039134638, 0.1988226805144, 0.19025384889570107, 0.19387455353917266, 0.19057684186558047, 0.1932763976963761, 0.18785669709647485, 0.18749321250365214, 0.18916414103581827, 0.1785131518474595, 0.17890225479399038, 0.18213091322288813, 0.1764831869393931, 0.17769381594318778, 0.18085740818975185, 0.1760628762290309, 0.17288340651579664, 0.1717464215360387, 0.16845096292766212, 0.17183314812239808, 0.172393701072853, 0.1662418838026946, 0.1655317941695057, 0.16192678424090307, 0.15954175976552873, 0.16170445791981136, 0.16123233175553212, 0.16252241384891006, 0.15625503799590706, 0.15842266847811934, 0.1590533598563743, 0.15797667460529582, 0.14774641807733777, 0.1465733261184379, 0.14647897675724844, 0.14548493224811118, 0.14593918538365191, 0.14923329862331947, 0.1473203184550417, 0.1414167115939143, 0.14025876353828762, 0.14485977452987978, 0.14548429203992674, 0.14043282378347344, 0.14018959029027314, 0.1381005521697943, 0.13368502938423668, 0.13580077589559764, 0.13039677829925045, 0.1353308473912486, 0.1295799685085121, 0.132263118446341, 0.12780656144144187, 0.1298613710512023, 0.12419584500140787, 0.12309173533339014, 0.12411583591865838, 0.11820965184124266, 0.1259490432732923, 0.11915464676068682, 0.11801044634601224, 0.12181877663642506, 0.12321076077918193, 0.12133004811913234, 0.11493854365865125]}],                        {\"annotations\": [{\"font\": {\"size\": 26}, \"showarrow\": false, \"text\": \"$K_{RR}^{trans}\\\\space0.007\\\\min{}^{-1}\\\\\\\\K_{ep, RR}\\\\space0.50 \\\\min{}^{-1}$\", \"x\": 0.8, \"xref\": \"paper\", \"y\": 0.1, \"yref\": \"paper\"}], \"plot_bgcolor\": \"#fff\", \"template\": {\"data\": {\"bar\": [{\"error_x\": {\"color\": \"#2a3f5f\"}, \"error_y\": {\"color\": \"#2a3f5f\"}, \"marker\": {\"line\": {\"color\": \"#E5ECF6\", \"width\": 0.5}}, \"type\": \"bar\"}], \"barpolar\": [{\"marker\": {\"line\": {\"color\": \"#E5ECF6\", \"width\": 0.5}}, \"type\": \"barpolar\"}], \"carpet\": [{\"aaxis\": {\"endlinecolor\": \"#2a3f5f\", \"gridcolor\": \"white\", \"linecolor\": \"white\", \"minorgridcolor\": \"white\", \"startlinecolor\": \"#2a3f5f\"}, \"baxis\": {\"endlinecolor\": \"#2a3f5f\", \"gridcolor\": \"white\", \"linecolor\": \"white\", \"minorgridcolor\": \"white\", \"startlinecolor\": \"#2a3f5f\"}, \"type\": \"carpet\"}], \"choropleth\": [{\"colorbar\": {\"outlinewidth\": 0, \"ticks\": \"\"}, \"type\": \"choropleth\"}], \"contour\": [{\"colorbar\": {\"outlinewidth\": 0, \"ticks\": \"\"}, \"colorscale\": [[0.0, \"#0d0887\"], [0.1111111111111111, \"#46039f\"], [0.2222222222222222, \"#7201a8\"], [0.3333333333333333, \"#9c179e\"], [0.4444444444444444, \"#bd3786\"], [0.5555555555555556, \"#d8576b\"], [0.6666666666666666, \"#ed7953\"], [0.7777777777777778, \"#fb9f3a\"], [0.8888888888888888, \"#fdca26\"], [1.0, \"#f0f921\"]], \"type\": \"contour\"}], \"contourcarpet\": [{\"colorbar\": {\"outlinewidth\": 0, \"ticks\": \"\"}, \"type\": \"contourcarpet\"}], \"heatmap\": [{\"colorbar\": {\"outlinewidth\": 0, \"ticks\": \"\"}, \"colorscale\": [[0.0, \"#0d0887\"], [0.1111111111111111, \"#46039f\"], [0.2222222222222222, \"#7201a8\"], [0.3333333333333333, \"#9c179e\"], [0.4444444444444444, \"#bd3786\"], [0.5555555555555556, \"#d8576b\"], [0.6666666666666666, \"#ed7953\"], [0.7777777777777778, \"#fb9f3a\"], [0.8888888888888888, \"#fdca26\"], [1.0, \"#f0f921\"]], \"type\": \"heatmap\"}], \"heatmapgl\": [{\"colorbar\": {\"outlinewidth\": 0, \"ticks\": \"\"}, \"colorscale\": [[0.0, \"#0d0887\"], [0.1111111111111111, \"#46039f\"], [0.2222222222222222, \"#7201a8\"], [0.3333333333333333, \"#9c179e\"], [0.4444444444444444, \"#bd3786\"], [0.5555555555555556, \"#d8576b\"], [0.6666666666666666, \"#ed7953\"], [0.7777777777777778, \"#fb9f3a\"], [0.8888888888888888, \"#fdca26\"], [1.0, \"#f0f921\"]], \"type\": \"heatmapgl\"}], \"histogram\": [{\"marker\": {\"colorbar\": {\"outlinewidth\": 0, \"ticks\": \"\"}}, \"type\": \"histogram\"}], \"histogram2d\": [{\"colorbar\": {\"outlinewidth\": 0, \"ticks\": \"\"}, \"colorscale\": [[0.0, \"#0d0887\"], [0.1111111111111111, \"#46039f\"], [0.2222222222222222, \"#7201a8\"], [0.3333333333333333, \"#9c179e\"], [0.4444444444444444, \"#bd3786\"], [0.5555555555555556, \"#d8576b\"], [0.6666666666666666, \"#ed7953\"], [0.7777777777777778, \"#fb9f3a\"], [0.8888888888888888, \"#fdca26\"], [1.0, \"#f0f921\"]], \"type\": \"histogram2d\"}], \"histogram2dcontour\": [{\"colorbar\": {\"outlinewidth\": 0, \"ticks\": \"\"}, \"colorscale\": [[0.0, \"#0d0887\"], [0.1111111111111111, \"#46039f\"], [0.2222222222222222, \"#7201a8\"], [0.3333333333333333, \"#9c179e\"], [0.4444444444444444, \"#bd3786\"], [0.5555555555555556, \"#d8576b\"], [0.6666666666666666, \"#ed7953\"], [0.7777777777777778, \"#fb9f3a\"], [0.8888888888888888, \"#fdca26\"], [1.0, \"#f0f921\"]], \"type\": \"histogram2dcontour\"}], \"mesh3d\": [{\"colorbar\": {\"outlinewidth\": 0, \"ticks\": \"\"}, \"type\": \"mesh3d\"}], \"parcoords\": [{\"line\": {\"colorbar\": {\"outlinewidth\": 0, \"ticks\": \"\"}}, \"type\": \"parcoords\"}], \"pie\": [{\"automargin\": true, \"type\": \"pie\"}], \"scatter\": [{\"marker\": {\"colorbar\": {\"outlinewidth\": 0, \"ticks\": \"\"}}, \"type\": \"scatter\"}], \"scatter3d\": [{\"line\": {\"colorbar\": {\"outlinewidth\": 0, \"ticks\": \"\"}}, \"marker\": {\"colorbar\": {\"outlinewidth\": 0, \"ticks\": \"\"}}, \"type\": \"scatter3d\"}], \"scattercarpet\": [{\"marker\": {\"colorbar\": {\"outlinewidth\": 0, \"ticks\": \"\"}}, \"type\": \"scattercarpet\"}], \"scattergeo\": [{\"marker\": {\"colorbar\": {\"outlinewidth\": 0, \"ticks\": \"\"}}, \"type\": \"scattergeo\"}], \"scattergl\": [{\"marker\": {\"colorbar\": {\"outlinewidth\": 0, \"ticks\": \"\"}}, \"type\": \"scattergl\"}], \"scattermapbox\": [{\"marker\": {\"colorbar\": {\"outlinewidth\": 0, \"ticks\": \"\"}}, \"type\": \"scattermapbox\"}], \"scatterpolar\": [{\"marker\": {\"colorbar\": {\"outlinewidth\": 0, \"ticks\": \"\"}}, \"type\": \"scatterpolar\"}], \"scatterpolargl\": [{\"marker\": {\"colorbar\": {\"outlinewidth\": 0, \"ticks\": \"\"}}, \"type\": \"scatterpolargl\"}], \"scatterternary\": [{\"marker\": {\"colorbar\": {\"outlinewidth\": 0, \"ticks\": \"\"}}, \"type\": \"scatterternary\"}], \"surface\": [{\"colorbar\": {\"outlinewidth\": 0, \"ticks\": \"\"}, \"colorscale\": [[0.0, \"#0d0887\"], [0.1111111111111111, \"#46039f\"], [0.2222222222222222, \"#7201a8\"], [0.3333333333333333, \"#9c179e\"], [0.4444444444444444, \"#bd3786\"], [0.5555555555555556, \"#d8576b\"], [0.6666666666666666, \"#ed7953\"], [0.7777777777777778, \"#fb9f3a\"], [0.8888888888888888, \"#fdca26\"], [1.0, \"#f0f921\"]], \"type\": \"surface\"}], \"table\": [{\"cells\": {\"fill\": {\"color\": \"#EBF0F8\"}, \"line\": {\"color\": \"white\"}}, \"header\": {\"fill\": {\"color\": \"#C8D4E3\"}, \"line\": {\"color\": \"white\"}}, \"type\": \"table\"}]}, \"layout\": {\"annotationdefaults\": {\"arrowcolor\": \"#2a3f5f\", \"arrowhead\": 0, \"arrowwidth\": 1}, \"autotypenumbers\": \"strict\", \"coloraxis\": {\"colorbar\": {\"outlinewidth\": 0, \"ticks\": \"\"}}, \"colorscale\": {\"diverging\": [[0, \"#8e0152\"], [0.1, \"#c51b7d\"], [0.2, \"#de77ae\"], [0.3, \"#f1b6da\"], [0.4, \"#fde0ef\"], [0.5, \"#f7f7f7\"], [0.6, \"#e6f5d0\"], [0.7, \"#b8e186\"], [0.8, \"#7fbc41\"], [0.9, \"#4d9221\"], [1, \"#276419\"]], \"sequential\": [[0.0, \"#0d0887\"], [0.1111111111111111, \"#46039f\"], [0.2222222222222222, \"#7201a8\"], [0.3333333333333333, \"#9c179e\"], [0.4444444444444444, \"#bd3786\"], [0.5555555555555556, \"#d8576b\"], [0.6666666666666666, \"#ed7953\"], [0.7777777777777778, \"#fb9f3a\"], [0.8888888888888888, \"#fdca26\"], [1.0, \"#f0f921\"]], \"sequentialminus\": [[0.0, \"#0d0887\"], [0.1111111111111111, \"#46039f\"], [0.2222222222222222, \"#7201a8\"], [0.3333333333333333, \"#9c179e\"], [0.4444444444444444, \"#bd3786\"], [0.5555555555555556, \"#d8576b\"], [0.6666666666666666, \"#ed7953\"], [0.7777777777777778, \"#fb9f3a\"], [0.8888888888888888, \"#fdca26\"], [1.0, \"#f0f921\"]]}, \"colorway\": [\"#636efa\", \"#EF553B\", \"#00cc96\", \"#ab63fa\", \"#FFA15A\", \"#19d3f3\", \"#FF6692\", \"#B6E880\", \"#FF97FF\", \"#FECB52\"], \"font\": {\"color\": \"#2a3f5f\"}, \"geo\": {\"bgcolor\": \"white\", \"lakecolor\": \"white\", \"landcolor\": \"#E5ECF6\", \"showlakes\": true, \"showland\": true, \"subunitcolor\": \"white\"}, \"hoverlabel\": {\"align\": \"left\"}, \"hovermode\": \"closest\", \"mapbox\": {\"style\": \"light\"}, \"paper_bgcolor\": \"white\", \"plot_bgcolor\": \"#E5ECF6\", \"polar\": {\"angularaxis\": {\"gridcolor\": \"white\", \"linecolor\": \"white\", \"ticks\": \"\"}, \"bgcolor\": \"#E5ECF6\", \"radialaxis\": {\"gridcolor\": \"white\", \"linecolor\": \"white\", \"ticks\": \"\"}}, \"scene\": {\"xaxis\": {\"backgroundcolor\": \"#E5ECF6\", \"gridcolor\": \"white\", \"gridwidth\": 2, \"linecolor\": \"white\", \"showbackground\": true, \"ticks\": \"\", \"zerolinecolor\": \"white\"}, \"yaxis\": {\"backgroundcolor\": \"#E5ECF6\", \"gridcolor\": \"white\", \"gridwidth\": 2, \"linecolor\": \"white\", \"showbackground\": true, \"ticks\": \"\", \"zerolinecolor\": \"white\"}, \"zaxis\": {\"backgroundcolor\": \"#E5ECF6\", \"gridcolor\": \"white\", \"gridwidth\": 2, \"linecolor\": \"white\", \"showbackground\": true, \"ticks\": \"\", \"zerolinecolor\": \"white\"}}, \"shapedefaults\": {\"line\": {\"color\": \"#2a3f5f\"}}, \"ternary\": {\"aaxis\": {\"gridcolor\": \"white\", \"linecolor\": \"white\", \"ticks\": \"\"}, \"baxis\": {\"gridcolor\": \"white\", \"linecolor\": \"white\", \"ticks\": \"\"}, \"bgcolor\": \"#E5ECF6\", \"caxis\": {\"gridcolor\": \"white\", \"linecolor\": \"white\", \"ticks\": \"\"}}, \"title\": {\"x\": 0.05}, \"xaxis\": {\"automargin\": true, \"gridcolor\": \"white\", \"linecolor\": \"white\", \"ticks\": \"\", \"title\": {\"standoff\": 15}, \"zerolinecolor\": \"white\", \"zerolinewidth\": 2}, \"yaxis\": {\"automargin\": true, \"gridcolor\": \"white\", \"linecolor\": \"white\", \"ticks\": \"\", \"title\": {\"standoff\": 15}, \"zerolinecolor\": \"white\", \"zerolinewidth\": 2}}}, \"title\": {\"text\": \"(A) Reference Tissue\"}, \"xaxis\": {\"range\": [0, 10], \"showline\": true, \"tickvals\": [0, 1, 2, 3, 4, 5, 6, 7, 8, 9, 10], \"title\": {\"text\": \"Time [min]\"}}, \"yaxis\": {\"range\": [-0.01, 0.25], \"showline\": true, \"tickvals\": [0, 0.05, 0.1, 0.15, 0.2, 0.25], \"title\": {\"text\": \"Concentration [mM]\"}}},                        {\"responsive\": true}                    ).then(function(){\n",
       "                            \n",
       "var gd = document.getElementById('ca4d3627-ff16-4e8a-ab10-b46c08bedba0');\n",
       "var x = new MutationObserver(function (mutations, observer) {{\n",
       "        var display = window.getComputedStyle(gd).display;\n",
       "        if (!display || display === 'none') {{\n",
       "            console.log([gd, 'removed!']);\n",
       "            Plotly.purge(gd);\n",
       "            observer.disconnect();\n",
       "        }}\n",
       "}});\n",
       "\n",
       "// Listen for the removal of the full notebook cells\n",
       "var notebookContainer = gd.closest('#notebook-container');\n",
       "if (notebookContainer) {{\n",
       "    x.observe(notebookContainer, {childList: true});\n",
       "}}\n",
       "\n",
       "// Listen for the clearing of the current output cell\n",
       "var outputEl = gd.closest('.output');\n",
       "if (outputEl) {{\n",
       "    x.observe(outputEl, {childList: true});\n",
       "}}\n",
       "\n",
       "                        })                };                });            </script>        </div>"
      ]
     },
     "metadata": {},
     "output_type": "display_data"
    }
   ],
   "source": [
    "%get Crr --from MATLAB\n",
    "%get Ct --from MATLAB\n",
    "%get Cp --from MATLAB\n",
    "%get t --from MATLAB\n",
    "%get idx --from MATLAB\n",
    "%get estKepRR --from MATLAB\n",
    "%get pkCE --from MATLAB\n",
    "%get denum --from MATLAB\n",
    "%get num --from MATLAB\n",
    "\n",
    "\n",
    "# ======================================= First subplot ===================================================================================\n",
    "\n",
    "sub1 = go.Figure()\n",
    "\n",
    "# sub1.add_trace(go.Scatter(x=t,y=Crr,mode='lines',line_color='#41B3A8')\n",
    "\n",
    "sub1.add_trace(go.Scatter(x=t, y=Crr,\n",
    "                    mode='lines', line_color='#41B3A8'))\n",
    "\n",
    "sub1.update_layout(title='(A) Reference Tissue',\n",
    "                   xaxis_title='Time [min]',\n",
    "                   yaxis_title=r'Concentration [mM]',\n",
    "                   plot_bgcolor=\"#fff\",\n",
    "                   xaxis=dict(showline=True,\n",
    "                              range=[0, 10],\n",
    "                              tickvals=[0, 1, 2, 3, 4, 5, 6, 7, 8, 9, 10]),\n",
    "                   yaxis=dict(showline=True, \n",
    "                              range=[-0.01, 0.25], #the range from zero cuts out some values off\n",
    "                              tickvals=[0, 0.05, 0.10, 0.15, 0.20, 0.25]),\n",
    "                   \n",
    "                 )\n",
    "\n",
    "sub1.add_annotation(text=r'$K_{RR}^{trans}\\space0.007\\min{}^{-1}\\\\K_{ep, RR}\\space0.50 \\min{}^{-1}$',\n",
    "                  xref=\"paper\", yref=\"paper\",\n",
    "                  x=0.8, y=0.1, showarrow=False, font = dict(size = 26))\n",
    "               \n",
    "sub1.show()"
   ]
  },
  {
   "cell_type": "markdown",
   "metadata": {
    "kernel": "SoS"
   },
   "source": [
    "* (B) Tissue of Interest <a name=\"tissue-of-interest\"></a>"
   ]
  },
  {
   "cell_type": "code",
   "execution_count": 5,
   "metadata": {
    "kernel": "SoS",
    "scrolled": false
   },
   "outputs": [
    {
     "data": {
      "application/vnd.plotly.v1+json": {
       "config": {
        "plotlyServerURL": "https://plot.ly"
       },
       "data": [
        {
         "line": {
          "color": "#292348"
         },
         "mode": "lines",
         "name": "0.304",
         "type": "scatter",
         "x": [
          0.0016666666666666668,
          0.08499999999999999,
          0.16833333333333333,
          0.25166666666666665,
          0.335,
          0.41833333333333333,
          0.5016666666666667,
          0.5850000000000001,
          0.6683333333333333,
          0.7516666666666667,
          0.8350000000000001,
          0.9183333333333333,
          1.0016666666666667,
          1.085,
          1.1683333333333332,
          1.2516666666666665,
          1.335,
          1.4183333333333332,
          1.5016666666666665,
          1.585,
          1.6683333333333332,
          1.7516666666666665,
          1.835,
          1.9183333333333332,
          2.0016666666666665,
          2.085,
          2.1683333333333334,
          2.2516666666666665,
          2.335,
          2.4183333333333334,
          2.5016666666666665,
          2.585,
          2.6683333333333334,
          2.7516666666666665,
          2.835,
          2.9183333333333334,
          3.0016666666666665,
          3.085,
          3.1683333333333334,
          3.2516666666666665,
          3.335,
          3.4183333333333334,
          3.5016666666666665,
          3.585,
          3.6683333333333334,
          3.7516666666666665,
          3.835,
          3.9183333333333334,
          4.001666666666667,
          4.085,
          4.168333333333333,
          4.251666666666667,
          4.335,
          4.418333333333334,
          4.501666666666667,
          4.585,
          4.668333333333334,
          4.751666666666667,
          4.835,
          4.918333333333334,
          5.001666666666666,
          5.084999999999999,
          5.168333333333333,
          5.251666666666666,
          5.334999999999999,
          5.418333333333333,
          5.501666666666666,
          5.584999999999999,
          5.668333333333333,
          5.751666666666667,
          5.835,
          5.918333333333334,
          6.001666666666667,
          6.085,
          6.168333333333334,
          6.251666666666667,
          6.335,
          6.418333333333334,
          6.501666666666667,
          6.585,
          6.668333333333334,
          6.751666666666667,
          6.835,
          6.918333333333334,
          7.001666666666667,
          7.085,
          7.168333333333334,
          7.251666666666667,
          7.335,
          7.418333333333334,
          7.501666666666667,
          7.585,
          7.668333333333334,
          7.751666666666667,
          7.835,
          7.918333333333334,
          8.001666666666667,
          8.085,
          8.168333333333333,
          8.251666666666667,
          8.335,
          8.418333333333333,
          8.501666666666667,
          8.585,
          8.668333333333333,
          8.751666666666667,
          8.835,
          8.918333333333333,
          9.001666666666667,
          9.085,
          9.168333333333333,
          9.251666666666667,
          9.335,
          9.418333333333333,
          9.501666666666667,
          9.585,
          9.668333333333333,
          9.751666666666667,
          9.835,
          9.918333333333333
         ],
         "y": [
          -0.0006716566060837607,
          0.03973094656621428,
          0.007845331885268907,
          0.010914553042315686,
          0.019667241646193077,
          0.04287858694587153,
          0.018560880445676827,
          0.020224961854788934,
          -0.055541719533177825,
          0.009600762674593427,
          -0.024110836851905404,
          0.00047209798071307096,
          0.003421975598280373,
          0.03179033873652918,
          0.09870907770026047,
          0.08383213981931513,
          0.1045264856282472,
          0.13515378761284136,
          0.12220872291934354,
          0.1215505755223825,
          0.11420335095054467,
          0.13757864337604744,
          0.14907100444374102,
          0.24504180546123258,
          0.17566201737604956,
          0.25165305066271676,
          0.20197791295932296,
          0.21111407388711761,
          0.22437513248622895,
          0.2006075889344845,
          0.21005058759243614,
          0.24676032268894055,
          0.271540223017152,
          0.2658058686272775,
          0.22481435604648956,
          0.23101464581321363,
          0.24661510029338582,
          0.3022468098331569,
          0.26343562501089074,
          0.2928981884406648,
          0.2255673041168169,
          0.2712683310829335,
          0.27678635810553115,
          0.3149131059948328,
          0.2680330476192768,
          0.3138578288868106,
          0.24661380590157972,
          0.27172127500972615,
          0.31327056741281334,
          0.3271673318300092,
          0.30561673164370823,
          0.2587645640400814,
          0.23308402639291861,
          0.286528231605196,
          0.30024714941321573,
          0.33663042100016694,
          0.33882653039331656,
          0.32249222894223784,
          0.3137692557765938,
          0.3134879986317295,
          0.2941785116484934,
          0.28735941494676354,
          0.3642096578195444,
          0.3708423317937681,
          0.3167081555974301,
          0.3466307736879037,
          0.32569359699904615,
          0.2626759089861438,
          0.3571867533987172,
          0.3246043774260184,
          0.3337289184974551,
          0.31180816006228196,
          0.35228117995795605,
          0.33059973597803693,
          0.3874997012242704,
          0.29135125247803856,
          0.37366356530381156,
          0.3604462194689206,
          0.33829839897755776,
          0.39784826861875,
          0.330605138786125,
          0.39881208709443977,
          0.3825907168063047,
          0.295999736836527,
          0.3730269052772046,
          0.37696164367353086,
          0.33333490472192345,
          0.37301020671369306,
          0.32444694595950446,
          0.36233590836151736,
          0.33829984220849457,
          0.371225120536298,
          0.35604574983351434,
          0.3716326472032554,
          0.3932198608492762,
          0.40459599085601783,
          0.3568548269244882,
          0.3486026987197751,
          0.37288181403077136,
          0.3767945331626213,
          0.3394700985268135,
          0.3513749165986712,
          0.38195050020981647,
          0.4196913245550017,
          0.34435611123378185,
          0.41426267019076174,
          0.3510381012010628,
          0.38790876434647287,
          0.3470614504754844,
          0.3735534642608407,
          0.39525832666240496,
          0.4197274297310558,
          0.3208931471580977,
          0.37722831055150985,
          0.3994520404852341,
          0.3856839742837567,
          0.38680700844929317,
          0.35510776997422117,
          0.3362588393555078,
          0.3790902945477144
         ]
        },
        {
         "line": {
          "color": "#585E9A"
         },
         "mode": "lines",
         "name": "0.529",
         "type": "scatter",
         "x": [
          0.0016666666666666668,
          0.08499999999999999,
          0.16833333333333333,
          0.25166666666666665,
          0.335,
          0.41833333333333333,
          0.5016666666666667,
          0.5850000000000001,
          0.6683333333333333,
          0.7516666666666667,
          0.8350000000000001,
          0.9183333333333333,
          1.0016666666666667,
          1.085,
          1.1683333333333332,
          1.2516666666666665,
          1.335,
          1.4183333333333332,
          1.5016666666666665,
          1.585,
          1.6683333333333332,
          1.7516666666666665,
          1.835,
          1.9183333333333332,
          2.0016666666666665,
          2.085,
          2.1683333333333334,
          2.2516666666666665,
          2.335,
          2.4183333333333334,
          2.5016666666666665,
          2.585,
          2.6683333333333334,
          2.7516666666666665,
          2.835,
          2.9183333333333334,
          3.0016666666666665,
          3.085,
          3.1683333333333334,
          3.2516666666666665,
          3.335,
          3.4183333333333334,
          3.5016666666666665,
          3.585,
          3.6683333333333334,
          3.7516666666666665,
          3.835,
          3.9183333333333334,
          4.001666666666667,
          4.085,
          4.168333333333333,
          4.251666666666667,
          4.335,
          4.418333333333334,
          4.501666666666667,
          4.585,
          4.668333333333334,
          4.751666666666667,
          4.835,
          4.918333333333334,
          5.001666666666666,
          5.084999999999999,
          5.168333333333333,
          5.251666666666666,
          5.334999999999999,
          5.418333333333333,
          5.501666666666666,
          5.584999999999999,
          5.668333333333333,
          5.751666666666667,
          5.835,
          5.918333333333334,
          6.001666666666667,
          6.085,
          6.168333333333334,
          6.251666666666667,
          6.335,
          6.418333333333334,
          6.501666666666667,
          6.585,
          6.668333333333334,
          6.751666666666667,
          6.835,
          6.918333333333334,
          7.001666666666667,
          7.085,
          7.168333333333334,
          7.251666666666667,
          7.335,
          7.418333333333334,
          7.501666666666667,
          7.585,
          7.668333333333334,
          7.751666666666667,
          7.835,
          7.918333333333334,
          8.001666666666667,
          8.085,
          8.168333333333333,
          8.251666666666667,
          8.335,
          8.418333333333333,
          8.501666666666667,
          8.585,
          8.668333333333333,
          8.751666666666667,
          8.835,
          8.918333333333333,
          9.001666666666667,
          9.085,
          9.168333333333333,
          9.251666666666667,
          9.335,
          9.418333333333333,
          9.501666666666667,
          9.585,
          9.668333333333333,
          9.751666666666667,
          9.835,
          9.918333333333333
         ],
         "y": [
          -0.033108748976921044,
          0.001319447352058255,
          0.017260620931031423,
          0.018016002629984325,
          -0.004314267096227916,
          0.025306886327501988,
          0.029795436525864877,
          -0.027868380303069755,
          0.012151424549243927,
          -0.08300639075151398,
          -0.0061911442073401875,
          0.001995328468404263,
          -0.04422260915618586,
          0.13504547317910093,
          0.2138572803591428,
          0.2529979651113347,
          0.22650660016300492,
          0.24904796896532005,
          0.20744280291210904,
          0.3520531780792289,
          0.31446992952264585,
          0.28630971690845586,
          0.2604026008630153,
          0.31606591245532195,
          0.2987475031605795,
          0.35212871986883604,
          0.3527410517015827,
          0.32105895471140655,
          0.36539440955243446,
          0.404996429687007,
          0.3666451831819675,
          0.38669583531573176,
          0.41403385573264767,
          0.3892572927116568,
          0.4008238705333867,
          0.39681712756936904,
          0.43294807157457893,
          0.418488798322939,
          0.4491414579136288,
          0.40287347758563197,
          0.44077278221979876,
          0.402356094563205,
          0.4075932880347589,
          0.37307304627132465,
          0.3954284817274617,
          0.4185197681440302,
          0.458385398502497,
          0.4756099418239972,
          0.42998478702432635,
          0.4188508186639701,
          0.4761074629319725,
          0.41304431858042706,
          0.4304811273481859,
          0.47410513520532804,
          0.422497549210436,
          0.4574402446640026,
          0.45407628555946916,
          0.45597690472749314,
          0.44308498268333735,
          0.42937378697856055,
          0.3974547171925109,
          0.47903784147993295,
          0.4412878460829353,
          0.42987594448980665,
          0.4382322802827908,
          0.4173924123465552,
          0.36369946246470247,
          0.4238780240748068,
          0.42754546513220726,
          0.41328803810665987,
          0.3896674778734793,
          0.37938548751515033,
          0.39868320570240284,
          0.39581672874906587,
          0.39350249247241154,
          0.4445900771666504,
          0.3574235447381821,
          0.38703615598013685,
          0.39434962449571004,
          0.34588481530483955,
          0.4242320589495248,
          0.40071105833418447,
          0.43619632931398156,
          0.4254350586745132,
          0.42020594705154335,
          0.3861140386802027,
          0.3817089543592113,
          0.3908969207893346,
          0.3328160673988299,
          0.372004524000563,
          0.3869665517741193,
          0.3935385831057928,
          0.43561341232636996,
          0.40046233524751146,
          0.3953261946264241,
          0.3512082925547714,
          0.3421563872291714,
          0.3777091404233143,
          0.3571077554769078,
          0.3424111738844292,
          0.3280760919426508,
          0.4077585526732143,
          0.3160277179902611,
          0.4014173081706841,
          0.31498496777740403,
          0.30814432771973405,
          0.3715794639755192,
          0.24634244001951733,
          0.37038076032552986,
          0.33231618683184655,
          0.38848125654751886,
          0.33858279369132516,
          0.34187412857774957,
          0.34841118396005843,
          0.30175672760930206,
          0.3365752939085919,
          0.31283594660164116,
          0.304007640088401,
          0.26869229673789335,
          0.3231572381742017
         ]
        },
        {
         "line": {
          "color": "#88A8D5"
         },
         "mode": "lines",
         "name": "0.479",
         "type": "scatter",
         "x": [
          0.0016666666666666668,
          0.08499999999999999,
          0.16833333333333333,
          0.25166666666666665,
          0.335,
          0.41833333333333333,
          0.5016666666666667,
          0.5850000000000001,
          0.6683333333333333,
          0.7516666666666667,
          0.8350000000000001,
          0.9183333333333333,
          1.0016666666666667,
          1.085,
          1.1683333333333332,
          1.2516666666666665,
          1.335,
          1.4183333333333332,
          1.5016666666666665,
          1.585,
          1.6683333333333332,
          1.7516666666666665,
          1.835,
          1.9183333333333332,
          2.0016666666666665,
          2.085,
          2.1683333333333334,
          2.2516666666666665,
          2.335,
          2.4183333333333334,
          2.5016666666666665,
          2.585,
          2.6683333333333334,
          2.7516666666666665,
          2.835,
          2.9183333333333334,
          3.0016666666666665,
          3.085,
          3.1683333333333334,
          3.2516666666666665,
          3.335,
          3.4183333333333334,
          3.5016666666666665,
          3.585,
          3.6683333333333334,
          3.7516666666666665,
          3.835,
          3.9183333333333334,
          4.001666666666667,
          4.085,
          4.168333333333333,
          4.251666666666667,
          4.335,
          4.418333333333334,
          4.501666666666667,
          4.585,
          4.668333333333334,
          4.751666666666667,
          4.835,
          4.918333333333334,
          5.001666666666666,
          5.084999999999999,
          5.168333333333333,
          5.251666666666666,
          5.334999999999999,
          5.418333333333333,
          5.501666666666666,
          5.584999999999999,
          5.668333333333333,
          5.751666666666667,
          5.835,
          5.918333333333334,
          6.001666666666667,
          6.085,
          6.168333333333334,
          6.251666666666667,
          6.335,
          6.418333333333334,
          6.501666666666667,
          6.585,
          6.668333333333334,
          6.751666666666667,
          6.835,
          6.918333333333334,
          7.001666666666667,
          7.085,
          7.168333333333334,
          7.251666666666667,
          7.335,
          7.418333333333334,
          7.501666666666667,
          7.585,
          7.668333333333334,
          7.751666666666667,
          7.835,
          7.918333333333334,
          8.001666666666667,
          8.085,
          8.168333333333333,
          8.251666666666667,
          8.335,
          8.418333333333333,
          8.501666666666667,
          8.585,
          8.668333333333333,
          8.751666666666667,
          8.835,
          8.918333333333333,
          9.001666666666667,
          9.085,
          9.168333333333333,
          9.251666666666667,
          9.335,
          9.418333333333333,
          9.501666666666667,
          9.585,
          9.668333333333333,
          9.751666666666667,
          9.835,
          9.918333333333333
         ],
         "y": [
          0.03658857760057437,
          0.017259561780665414,
          -0.04032582926319478,
          0.00885750524500158,
          0.02903141982494562,
          0.0395813821391759,
          0.02366051272698659,
          -0.015532284471600247,
          -0.002933283881906225,
          -0.021532063231768553,
          0.024356808498363795,
          -0.0716660868611007,
          0.018197776228877117,
          0.5139421484435814,
          0.7296272747068996,
          0.409617595047843,
          0.344988063710515,
          0.46938983190609584,
          0.5045919031286871,
          0.4938957460399596,
          0.3818021471371266,
          0.46524206346245073,
          0.5148988989463328,
          0.5021846672951911,
          0.5953118952190393,
          0.559456238018979,
          0.5017721488822379,
          0.5406978988006735,
          0.5313689574680066,
          0.5522139637116991,
          0.4822874731714608,
          0.5171460540059185,
          0.542047034543856,
          0.5289009381388127,
          0.5944339545172456,
          0.6051283135992291,
          0.5440592871421406,
          0.5622866501047222,
          0.5413996748858639,
          0.5758767687543701,
          0.5177763698745151,
          0.601238911892246,
          0.5480141344879359,
          0.5316547538083762,
          0.5044491208761941,
          0.5113916190833172,
          0.5522736678866751,
          0.5431230750080983,
          0.5814049292572997,
          0.5223832451971454,
          0.6002451313920896,
          0.5611746801283692,
          0.5522520863773649,
          0.5776824604175672,
          0.5208997747405724,
          0.5487932300704442,
          0.5414628956240743,
          0.4737119422998762,
          0.4880152568480583,
          0.5410187545302232,
          0.5513998117286082,
          0.5093272301208723,
          0.5442690421211918,
          0.523086059378104,
          0.5333594578200432,
          0.49515845994022567,
          0.4511008347602172,
          0.5027735269590073,
          0.45133374490771144,
          0.5318173992739188,
          0.4879299479191947,
          0.4916889101382616,
          0.46291496709635105,
          0.48776663914802504,
          0.45433114182468287,
          0.4774273690207764,
          0.4326108643163257,
          0.41738130938726387,
          0.4492507541385562,
          0.436326726601545,
          0.44459175258377936,
          0.4094864661016405,
          0.39116893430713684,
          0.5027039440889529,
          0.4251064107536695,
          0.43198206840776443,
          0.48203741003011547,
          0.4487504273442018,
          0.40703476767175656,
          0.38973052140968284,
          0.46388107577980103,
          0.43706580866659406,
          0.38322980367194504,
          0.4473902453571933,
          0.41556927307377134,
          0.36754312413070195,
          0.35430467716893466,
          0.4094187908761599,
          0.39468221742744547,
          0.3771741905313984,
          0.400932271851432,
          0.40297496411653727,
          0.4048990589052885,
          0.36030083945049396,
          0.3868817392712736,
          0.39471183949896177,
          0.4088136311920715,
          0.3673377869947496,
          0.3387349764354224,
          0.35277872849755804,
          0.35585566683745523,
          0.29198912276813754,
          0.2955380112775499,
          0.37366607897219356,
          0.3643684961314128,
          0.352215151639521,
          0.3677029873051915,
          0.3133286837166165,
          0.32522465858377214,
          0.2861113613007602
         ]
        },
        {
         "line": {
          "color": "#83C9C4"
         },
         "mode": "lines",
         "name": "0.519",
         "type": "scatter",
         "x": [
          0.0016666666666666668,
          0.08499999999999999,
          0.16833333333333333,
          0.25166666666666665,
          0.335,
          0.41833333333333333,
          0.5016666666666667,
          0.5850000000000001,
          0.6683333333333333,
          0.7516666666666667,
          0.8350000000000001,
          0.9183333333333333,
          1.0016666666666667,
          1.085,
          1.1683333333333332,
          1.2516666666666665,
          1.335,
          1.4183333333333332,
          1.5016666666666665,
          1.585,
          1.6683333333333332,
          1.7516666666666665,
          1.835,
          1.9183333333333332,
          2.0016666666666665,
          2.085,
          2.1683333333333334,
          2.2516666666666665,
          2.335,
          2.4183333333333334,
          2.5016666666666665,
          2.585,
          2.6683333333333334,
          2.7516666666666665,
          2.835,
          2.9183333333333334,
          3.0016666666666665,
          3.085,
          3.1683333333333334,
          3.2516666666666665,
          3.335,
          3.4183333333333334,
          3.5016666666666665,
          3.585,
          3.6683333333333334,
          3.7516666666666665,
          3.835,
          3.9183333333333334,
          4.001666666666667,
          4.085,
          4.168333333333333,
          4.251666666666667,
          4.335,
          4.418333333333334,
          4.501666666666667,
          4.585,
          4.668333333333334,
          4.751666666666667,
          4.835,
          4.918333333333334,
          5.001666666666666,
          5.084999999999999,
          5.168333333333333,
          5.251666666666666,
          5.334999999999999,
          5.418333333333333,
          5.501666666666666,
          5.584999999999999,
          5.668333333333333,
          5.751666666666667,
          5.835,
          5.918333333333334,
          6.001666666666667,
          6.085,
          6.168333333333334,
          6.251666666666667,
          6.335,
          6.418333333333334,
          6.501666666666667,
          6.585,
          6.668333333333334,
          6.751666666666667,
          6.835,
          6.918333333333334,
          7.001666666666667,
          7.085,
          7.168333333333334,
          7.251666666666667,
          7.335,
          7.418333333333334,
          7.501666666666667,
          7.585,
          7.668333333333334,
          7.751666666666667,
          7.835,
          7.918333333333334,
          8.001666666666667,
          8.085,
          8.168333333333333,
          8.251666666666667,
          8.335,
          8.418333333333333,
          8.501666666666667,
          8.585,
          8.668333333333333,
          8.751666666666667,
          8.835,
          8.918333333333333,
          9.001666666666667,
          9.085,
          9.168333333333333,
          9.251666666666667,
          9.335,
          9.418333333333333,
          9.501666666666667,
          9.585,
          9.668333333333333,
          9.751666666666667,
          9.835,
          9.918333333333333
         ],
         "y": [
          -0.02810090306643105,
          0.0033089605616102094,
          -0.02338789375291241,
          -0.0033643415634170937,
          0.03471859260670522,
          -0.018463306186492178,
          -0.011158759115090143,
          -0.01655374124666205,
          -0.007963094451508416,
          -0.05829398954355172,
          -0.002818119952031037,
          0.011859339611845814,
          0.02180441681025998,
          0.9978932853447701,
          1.3858546447967341,
          0.8323675652565072,
          0.6509837549825138,
          0.767712597975843,
          0.7971223255851672,
          0.748991155975781,
          0.7461481267478774,
          0.7709286431370009,
          0.8084547684660466,
          0.8075589833214528,
          0.7531438584565966,
          0.802561871786265,
          0.7974428575692922,
          0.8209390136160633,
          0.8088752943633676,
          0.7515324522680518,
          0.7925390810539928,
          0.8269255248132178,
          0.8235104305881439,
          0.7884391442397335,
          0.7664971978944646,
          0.7222771309374161,
          0.7536391863229026,
          0.7624835601010397,
          0.725310529284388,
          0.7648156110759575,
          0.7029084061003872,
          0.7083706723748823,
          0.7068129488417276,
          0.7312603451938615,
          0.7025458349284301,
          0.7169486719419147,
          0.7354293488747732,
          0.7121146192637401,
          0.620311404096676,
          0.6532382310568543,
          0.6987109502816863,
          0.6450229114318562,
          0.6531096284654405,
          0.6350818908345751,
          0.6177396851356004,
          0.6232466909776648,
          0.6432581865918964,
          0.6150129637954389,
          0.583933863916669,
          0.5764711835878,
          0.6213948938031808,
          0.5779528908122542,
          0.5044894466575324,
          0.5716441783302446,
          0.5619199471371362,
          0.6022676427437438,
          0.5357525797664761,
          0.5741043654162643,
          0.4873018508563721,
          0.5912779011941142,
          0.49646343920705593,
          0.5538917113490601,
          0.5175318137811863,
          0.5145835730235119,
          0.4713502301428637,
          0.44824467542486257,
          0.4622846853218965,
          0.45522141854498654,
          0.4935116595338679,
          0.484707768423478,
          0.5254141098269662,
          0.49403310158170494,
          0.4780425336318285,
          0.46724157056991766,
          0.48823380447942777,
          0.39550148486458236,
          0.44619064948086545,
          0.4351649018977009,
          0.38277060560306525,
          0.45466291131799913,
          0.42729306783536675,
          0.3970702169594361,
          0.39626384129131725,
          0.4576987898661433,
          0.45596225789726236,
          0.41172817244044346,
          0.43170208801827087,
          0.4075830882866861,
          0.40529613782451906,
          0.41519022604778033,
          0.3632411288231663,
          0.3970313753776559,
          0.38911657822611617,
          0.43270102788339926,
          0.31990371264540446,
          0.4554386952816681,
          0.33882797536907977,
          0.4129043527613315,
          0.3931940717113396,
          0.3806664280354308,
          0.3437860222678378,
          0.386410946574934,
          0.31892174868831147,
          0.4004218512820137,
          0.3737960827396297,
          0.338710846166693,
          0.293968605310343,
          0.37055778935707545,
          0.3528938588681401,
          0.2959174587099656
         ]
        }
       ],
       "layout": {
        "annotations": [
         {
          "font": {
           "size": 26
          },
          "showarrow": false,
          "text": "$Estimate \\space k_{ep, RR} \\space (min^{-1})$",
          "x": 0.8,
          "xref": "paper",
          "y": 0.8,
          "yref": "paper"
         }
        ],
        "plot_bgcolor": "#fff",
        "template": {
         "data": {
          "bar": [
           {
            "error_x": {
             "color": "#2a3f5f"
            },
            "error_y": {
             "color": "#2a3f5f"
            },
            "marker": {
             "line": {
              "color": "#E5ECF6",
              "width": 0.5
             }
            },
            "type": "bar"
           }
          ],
          "barpolar": [
           {
            "marker": {
             "line": {
              "color": "#E5ECF6",
              "width": 0.5
             }
            },
            "type": "barpolar"
           }
          ],
          "carpet": [
           {
            "aaxis": {
             "endlinecolor": "#2a3f5f",
             "gridcolor": "white",
             "linecolor": "white",
             "minorgridcolor": "white",
             "startlinecolor": "#2a3f5f"
            },
            "baxis": {
             "endlinecolor": "#2a3f5f",
             "gridcolor": "white",
             "linecolor": "white",
             "minorgridcolor": "white",
             "startlinecolor": "#2a3f5f"
            },
            "type": "carpet"
           }
          ],
          "choropleth": [
           {
            "colorbar": {
             "outlinewidth": 0,
             "ticks": ""
            },
            "type": "choropleth"
           }
          ],
          "contour": [
           {
            "colorbar": {
             "outlinewidth": 0,
             "ticks": ""
            },
            "colorscale": [
             [
              0,
              "#0d0887"
             ],
             [
              0.1111111111111111,
              "#46039f"
             ],
             [
              0.2222222222222222,
              "#7201a8"
             ],
             [
              0.3333333333333333,
              "#9c179e"
             ],
             [
              0.4444444444444444,
              "#bd3786"
             ],
             [
              0.5555555555555556,
              "#d8576b"
             ],
             [
              0.6666666666666666,
              "#ed7953"
             ],
             [
              0.7777777777777778,
              "#fb9f3a"
             ],
             [
              0.8888888888888888,
              "#fdca26"
             ],
             [
              1,
              "#f0f921"
             ]
            ],
            "type": "contour"
           }
          ],
          "contourcarpet": [
           {
            "colorbar": {
             "outlinewidth": 0,
             "ticks": ""
            },
            "type": "contourcarpet"
           }
          ],
          "heatmap": [
           {
            "colorbar": {
             "outlinewidth": 0,
             "ticks": ""
            },
            "colorscale": [
             [
              0,
              "#0d0887"
             ],
             [
              0.1111111111111111,
              "#46039f"
             ],
             [
              0.2222222222222222,
              "#7201a8"
             ],
             [
              0.3333333333333333,
              "#9c179e"
             ],
             [
              0.4444444444444444,
              "#bd3786"
             ],
             [
              0.5555555555555556,
              "#d8576b"
             ],
             [
              0.6666666666666666,
              "#ed7953"
             ],
             [
              0.7777777777777778,
              "#fb9f3a"
             ],
             [
              0.8888888888888888,
              "#fdca26"
             ],
             [
              1,
              "#f0f921"
             ]
            ],
            "type": "heatmap"
           }
          ],
          "heatmapgl": [
           {
            "colorbar": {
             "outlinewidth": 0,
             "ticks": ""
            },
            "colorscale": [
             [
              0,
              "#0d0887"
             ],
             [
              0.1111111111111111,
              "#46039f"
             ],
             [
              0.2222222222222222,
              "#7201a8"
             ],
             [
              0.3333333333333333,
              "#9c179e"
             ],
             [
              0.4444444444444444,
              "#bd3786"
             ],
             [
              0.5555555555555556,
              "#d8576b"
             ],
             [
              0.6666666666666666,
              "#ed7953"
             ],
             [
              0.7777777777777778,
              "#fb9f3a"
             ],
             [
              0.8888888888888888,
              "#fdca26"
             ],
             [
              1,
              "#f0f921"
             ]
            ],
            "type": "heatmapgl"
           }
          ],
          "histogram": [
           {
            "marker": {
             "colorbar": {
              "outlinewidth": 0,
              "ticks": ""
             }
            },
            "type": "histogram"
           }
          ],
          "histogram2d": [
           {
            "colorbar": {
             "outlinewidth": 0,
             "ticks": ""
            },
            "colorscale": [
             [
              0,
              "#0d0887"
             ],
             [
              0.1111111111111111,
              "#46039f"
             ],
             [
              0.2222222222222222,
              "#7201a8"
             ],
             [
              0.3333333333333333,
              "#9c179e"
             ],
             [
              0.4444444444444444,
              "#bd3786"
             ],
             [
              0.5555555555555556,
              "#d8576b"
             ],
             [
              0.6666666666666666,
              "#ed7953"
             ],
             [
              0.7777777777777778,
              "#fb9f3a"
             ],
             [
              0.8888888888888888,
              "#fdca26"
             ],
             [
              1,
              "#f0f921"
             ]
            ],
            "type": "histogram2d"
           }
          ],
          "histogram2dcontour": [
           {
            "colorbar": {
             "outlinewidth": 0,
             "ticks": ""
            },
            "colorscale": [
             [
              0,
              "#0d0887"
             ],
             [
              0.1111111111111111,
              "#46039f"
             ],
             [
              0.2222222222222222,
              "#7201a8"
             ],
             [
              0.3333333333333333,
              "#9c179e"
             ],
             [
              0.4444444444444444,
              "#bd3786"
             ],
             [
              0.5555555555555556,
              "#d8576b"
             ],
             [
              0.6666666666666666,
              "#ed7953"
             ],
             [
              0.7777777777777778,
              "#fb9f3a"
             ],
             [
              0.8888888888888888,
              "#fdca26"
             ],
             [
              1,
              "#f0f921"
             ]
            ],
            "type": "histogram2dcontour"
           }
          ],
          "mesh3d": [
           {
            "colorbar": {
             "outlinewidth": 0,
             "ticks": ""
            },
            "type": "mesh3d"
           }
          ],
          "parcoords": [
           {
            "line": {
             "colorbar": {
              "outlinewidth": 0,
              "ticks": ""
             }
            },
            "type": "parcoords"
           }
          ],
          "pie": [
           {
            "automargin": true,
            "type": "pie"
           }
          ],
          "scatter": [
           {
            "marker": {
             "colorbar": {
              "outlinewidth": 0,
              "ticks": ""
             }
            },
            "type": "scatter"
           }
          ],
          "scatter3d": [
           {
            "line": {
             "colorbar": {
              "outlinewidth": 0,
              "ticks": ""
             }
            },
            "marker": {
             "colorbar": {
              "outlinewidth": 0,
              "ticks": ""
             }
            },
            "type": "scatter3d"
           }
          ],
          "scattercarpet": [
           {
            "marker": {
             "colorbar": {
              "outlinewidth": 0,
              "ticks": ""
             }
            },
            "type": "scattercarpet"
           }
          ],
          "scattergeo": [
           {
            "marker": {
             "colorbar": {
              "outlinewidth": 0,
              "ticks": ""
             }
            },
            "type": "scattergeo"
           }
          ],
          "scattergl": [
           {
            "marker": {
             "colorbar": {
              "outlinewidth": 0,
              "ticks": ""
             }
            },
            "type": "scattergl"
           }
          ],
          "scattermapbox": [
           {
            "marker": {
             "colorbar": {
              "outlinewidth": 0,
              "ticks": ""
             }
            },
            "type": "scattermapbox"
           }
          ],
          "scatterpolar": [
           {
            "marker": {
             "colorbar": {
              "outlinewidth": 0,
              "ticks": ""
             }
            },
            "type": "scatterpolar"
           }
          ],
          "scatterpolargl": [
           {
            "marker": {
             "colorbar": {
              "outlinewidth": 0,
              "ticks": ""
             }
            },
            "type": "scatterpolargl"
           }
          ],
          "scatterternary": [
           {
            "marker": {
             "colorbar": {
              "outlinewidth": 0,
              "ticks": ""
             }
            },
            "type": "scatterternary"
           }
          ],
          "surface": [
           {
            "colorbar": {
             "outlinewidth": 0,
             "ticks": ""
            },
            "colorscale": [
             [
              0,
              "#0d0887"
             ],
             [
              0.1111111111111111,
              "#46039f"
             ],
             [
              0.2222222222222222,
              "#7201a8"
             ],
             [
              0.3333333333333333,
              "#9c179e"
             ],
             [
              0.4444444444444444,
              "#bd3786"
             ],
             [
              0.5555555555555556,
              "#d8576b"
             ],
             [
              0.6666666666666666,
              "#ed7953"
             ],
             [
              0.7777777777777778,
              "#fb9f3a"
             ],
             [
              0.8888888888888888,
              "#fdca26"
             ],
             [
              1,
              "#f0f921"
             ]
            ],
            "type": "surface"
           }
          ],
          "table": [
           {
            "cells": {
             "fill": {
              "color": "#EBF0F8"
             },
             "line": {
              "color": "white"
             }
            },
            "header": {
             "fill": {
              "color": "#C8D4E3"
             },
             "line": {
              "color": "white"
             }
            },
            "type": "table"
           }
          ]
         },
         "layout": {
          "annotationdefaults": {
           "arrowcolor": "#2a3f5f",
           "arrowhead": 0,
           "arrowwidth": 1
          },
          "autotypenumbers": "strict",
          "coloraxis": {
           "colorbar": {
            "outlinewidth": 0,
            "ticks": ""
           }
          },
          "colorscale": {
           "diverging": [
            [
             0,
             "#8e0152"
            ],
            [
             0.1,
             "#c51b7d"
            ],
            [
             0.2,
             "#de77ae"
            ],
            [
             0.3,
             "#f1b6da"
            ],
            [
             0.4,
             "#fde0ef"
            ],
            [
             0.5,
             "#f7f7f7"
            ],
            [
             0.6,
             "#e6f5d0"
            ],
            [
             0.7,
             "#b8e186"
            ],
            [
             0.8,
             "#7fbc41"
            ],
            [
             0.9,
             "#4d9221"
            ],
            [
             1,
             "#276419"
            ]
           ],
           "sequential": [
            [
             0,
             "#0d0887"
            ],
            [
             0.1111111111111111,
             "#46039f"
            ],
            [
             0.2222222222222222,
             "#7201a8"
            ],
            [
             0.3333333333333333,
             "#9c179e"
            ],
            [
             0.4444444444444444,
             "#bd3786"
            ],
            [
             0.5555555555555556,
             "#d8576b"
            ],
            [
             0.6666666666666666,
             "#ed7953"
            ],
            [
             0.7777777777777778,
             "#fb9f3a"
            ],
            [
             0.8888888888888888,
             "#fdca26"
            ],
            [
             1,
             "#f0f921"
            ]
           ],
           "sequentialminus": [
            [
             0,
             "#0d0887"
            ],
            [
             0.1111111111111111,
             "#46039f"
            ],
            [
             0.2222222222222222,
             "#7201a8"
            ],
            [
             0.3333333333333333,
             "#9c179e"
            ],
            [
             0.4444444444444444,
             "#bd3786"
            ],
            [
             0.5555555555555556,
             "#d8576b"
            ],
            [
             0.6666666666666666,
             "#ed7953"
            ],
            [
             0.7777777777777778,
             "#fb9f3a"
            ],
            [
             0.8888888888888888,
             "#fdca26"
            ],
            [
             1,
             "#f0f921"
            ]
           ]
          },
          "colorway": [
           "#636efa",
           "#EF553B",
           "#00cc96",
           "#ab63fa",
           "#FFA15A",
           "#19d3f3",
           "#FF6692",
           "#B6E880",
           "#FF97FF",
           "#FECB52"
          ],
          "font": {
           "color": "#2a3f5f"
          },
          "geo": {
           "bgcolor": "white",
           "lakecolor": "white",
           "landcolor": "#E5ECF6",
           "showlakes": true,
           "showland": true,
           "subunitcolor": "white"
          },
          "hoverlabel": {
           "align": "left"
          },
          "hovermode": "closest",
          "mapbox": {
           "style": "light"
          },
          "paper_bgcolor": "white",
          "plot_bgcolor": "#E5ECF6",
          "polar": {
           "angularaxis": {
            "gridcolor": "white",
            "linecolor": "white",
            "ticks": ""
           },
           "bgcolor": "#E5ECF6",
           "radialaxis": {
            "gridcolor": "white",
            "linecolor": "white",
            "ticks": ""
           }
          },
          "scene": {
           "xaxis": {
            "backgroundcolor": "#E5ECF6",
            "gridcolor": "white",
            "gridwidth": 2,
            "linecolor": "white",
            "showbackground": true,
            "ticks": "",
            "zerolinecolor": "white"
           },
           "yaxis": {
            "backgroundcolor": "#E5ECF6",
            "gridcolor": "white",
            "gridwidth": 2,
            "linecolor": "white",
            "showbackground": true,
            "ticks": "",
            "zerolinecolor": "white"
           },
           "zaxis": {
            "backgroundcolor": "#E5ECF6",
            "gridcolor": "white",
            "gridwidth": 2,
            "linecolor": "white",
            "showbackground": true,
            "ticks": "",
            "zerolinecolor": "white"
           }
          },
          "shapedefaults": {
           "line": {
            "color": "#2a3f5f"
           }
          },
          "ternary": {
           "aaxis": {
            "gridcolor": "white",
            "linecolor": "white",
            "ticks": ""
           },
           "baxis": {
            "gridcolor": "white",
            "linecolor": "white",
            "ticks": ""
           },
           "bgcolor": "#E5ECF6",
           "caxis": {
            "gridcolor": "white",
            "linecolor": "white",
            "ticks": ""
           }
          },
          "title": {
           "x": 0.05
          },
          "xaxis": {
           "automargin": true,
           "gridcolor": "white",
           "linecolor": "white",
           "ticks": "",
           "title": {
            "standoff": 15
           },
           "zerolinecolor": "white",
           "zerolinewidth": 2
          },
          "yaxis": {
           "automargin": true,
           "gridcolor": "white",
           "linecolor": "white",
           "ticks": "",
           "title": {
            "standoff": 15
           },
           "zerolinecolor": "white",
           "zerolinewidth": 2
          }
         }
        },
        "title": {
         "text": "(B) Tissue of Interest"
        },
        "xaxis": {
         "range": [
          0,
          10
         ],
         "showline": true,
         "tickvals": [
          0,
          1,
          2,
          3,
          4,
          5,
          6,
          7,
          8,
          9,
          10
         ],
         "title": {
          "text": "Time [min]"
         }
        },
        "yaxis": {
         "range": [
          -0.1,
          1.5
         ],
         "showline": true,
         "tickvals": [
          0,
          0.5,
          1,
          1.5
         ],
         "title": {
          "text": "Concentration [mM]"
         }
        }
       }
      },
      "text/html": [
       "<div>                            <div id=\"8e57c06f-e087-45a1-bdbe-10714cd4bac0\" class=\"plotly-graph-div\" style=\"height:525px; width:100%;\"></div>            <script type=\"text/javascript\">                require([\"plotly\"], function(Plotly) {                    window.PLOTLYENV=window.PLOTLYENV || {};                                    if (document.getElementById(\"8e57c06f-e087-45a1-bdbe-10714cd4bac0\")) {                    Plotly.newPlot(                        \"8e57c06f-e087-45a1-bdbe-10714cd4bac0\",                        [{\"line\": {\"color\": \"#292348\"}, \"mode\": \"lines\", \"name\": \"0.304\", \"type\": \"scatter\", \"x\": [0.0016666666666666668, 0.08499999999999999, 0.16833333333333333, 0.25166666666666665, 0.335, 0.41833333333333333, 0.5016666666666667, 0.5850000000000001, 0.6683333333333333, 0.7516666666666667, 0.8350000000000001, 0.9183333333333333, 1.0016666666666667, 1.085, 1.1683333333333332, 1.2516666666666665, 1.335, 1.4183333333333332, 1.5016666666666665, 1.585, 1.6683333333333332, 1.7516666666666665, 1.835, 1.9183333333333332, 2.0016666666666665, 2.085, 2.1683333333333334, 2.2516666666666665, 2.335, 2.4183333333333334, 2.5016666666666665, 2.585, 2.6683333333333334, 2.7516666666666665, 2.835, 2.9183333333333334, 3.0016666666666665, 3.085, 3.1683333333333334, 3.2516666666666665, 3.335, 3.4183333333333334, 3.5016666666666665, 3.585, 3.6683333333333334, 3.7516666666666665, 3.835, 3.9183333333333334, 4.001666666666667, 4.085, 4.168333333333333, 4.251666666666667, 4.335, 4.418333333333334, 4.501666666666667, 4.585, 4.668333333333334, 4.751666666666667, 4.835, 4.918333333333334, 5.001666666666666, 5.084999999999999, 5.168333333333333, 5.251666666666666, 5.334999999999999, 5.418333333333333, 5.501666666666666, 5.584999999999999, 5.668333333333333, 5.751666666666667, 5.835, 5.918333333333334, 6.001666666666667, 6.085, 6.168333333333334, 6.251666666666667, 6.335, 6.418333333333334, 6.501666666666667, 6.585, 6.668333333333334, 6.751666666666667, 6.835, 6.918333333333334, 7.001666666666667, 7.085, 7.168333333333334, 7.251666666666667, 7.335, 7.418333333333334, 7.501666666666667, 7.585, 7.668333333333334, 7.751666666666667, 7.835, 7.918333333333334, 8.001666666666667, 8.085, 8.168333333333333, 8.251666666666667, 8.335, 8.418333333333333, 8.501666666666667, 8.585, 8.668333333333333, 8.751666666666667, 8.835, 8.918333333333333, 9.001666666666667, 9.085, 9.168333333333333, 9.251666666666667, 9.335, 9.418333333333333, 9.501666666666667, 9.585, 9.668333333333333, 9.751666666666667, 9.835, 9.918333333333333], \"y\": [-0.0006716566060837607, 0.03973094656621428, 0.007845331885268907, 0.010914553042315686, 0.019667241646193077, 0.04287858694587153, 0.018560880445676827, 0.020224961854788934, -0.055541719533177825, 0.009600762674593427, -0.024110836851905404, 0.00047209798071307096, 0.003421975598280373, 0.03179033873652918, 0.09870907770026047, 0.08383213981931513, 0.1045264856282472, 0.13515378761284136, 0.12220872291934354, 0.1215505755223825, 0.11420335095054467, 0.13757864337604744, 0.14907100444374102, 0.24504180546123258, 0.17566201737604956, 0.25165305066271676, 0.20197791295932296, 0.21111407388711761, 0.22437513248622895, 0.2006075889344845, 0.21005058759243614, 0.24676032268894055, 0.271540223017152, 0.2658058686272775, 0.22481435604648956, 0.23101464581321363, 0.24661510029338582, 0.3022468098331569, 0.26343562501089074, 0.2928981884406648, 0.2255673041168169, 0.2712683310829335, 0.27678635810553115, 0.3149131059948328, 0.2680330476192768, 0.3138578288868106, 0.24661380590157972, 0.27172127500972615, 0.31327056741281334, 0.3271673318300092, 0.30561673164370823, 0.2587645640400814, 0.23308402639291861, 0.286528231605196, 0.30024714941321573, 0.33663042100016694, 0.33882653039331656, 0.32249222894223784, 0.3137692557765938, 0.3134879986317295, 0.2941785116484934, 0.28735941494676354, 0.3642096578195444, 0.3708423317937681, 0.3167081555974301, 0.3466307736879037, 0.32569359699904615, 0.2626759089861438, 0.3571867533987172, 0.3246043774260184, 0.3337289184974551, 0.31180816006228196, 0.35228117995795605, 0.33059973597803693, 0.3874997012242704, 0.29135125247803856, 0.37366356530381156, 0.3604462194689206, 0.33829839897755776, 0.39784826861875, 0.330605138786125, 0.39881208709443977, 0.3825907168063047, 0.295999736836527, 0.3730269052772046, 0.37696164367353086, 0.33333490472192345, 0.37301020671369306, 0.32444694595950446, 0.36233590836151736, 0.33829984220849457, 0.371225120536298, 0.35604574983351434, 0.3716326472032554, 0.3932198608492762, 0.40459599085601783, 0.3568548269244882, 0.3486026987197751, 0.37288181403077136, 0.3767945331626213, 0.3394700985268135, 0.3513749165986712, 0.38195050020981647, 0.4196913245550017, 0.34435611123378185, 0.41426267019076174, 0.3510381012010628, 0.38790876434647287, 0.3470614504754844, 0.3735534642608407, 0.39525832666240496, 0.4197274297310558, 0.3208931471580977, 0.37722831055150985, 0.3994520404852341, 0.3856839742837567, 0.38680700844929317, 0.35510776997422117, 0.3362588393555078, 0.3790902945477144]}, {\"line\": {\"color\": \"#585E9A\"}, \"mode\": \"lines\", \"name\": \"0.529\", \"type\": \"scatter\", \"x\": [0.0016666666666666668, 0.08499999999999999, 0.16833333333333333, 0.25166666666666665, 0.335, 0.41833333333333333, 0.5016666666666667, 0.5850000000000001, 0.6683333333333333, 0.7516666666666667, 0.8350000000000001, 0.9183333333333333, 1.0016666666666667, 1.085, 1.1683333333333332, 1.2516666666666665, 1.335, 1.4183333333333332, 1.5016666666666665, 1.585, 1.6683333333333332, 1.7516666666666665, 1.835, 1.9183333333333332, 2.0016666666666665, 2.085, 2.1683333333333334, 2.2516666666666665, 2.335, 2.4183333333333334, 2.5016666666666665, 2.585, 2.6683333333333334, 2.7516666666666665, 2.835, 2.9183333333333334, 3.0016666666666665, 3.085, 3.1683333333333334, 3.2516666666666665, 3.335, 3.4183333333333334, 3.5016666666666665, 3.585, 3.6683333333333334, 3.7516666666666665, 3.835, 3.9183333333333334, 4.001666666666667, 4.085, 4.168333333333333, 4.251666666666667, 4.335, 4.418333333333334, 4.501666666666667, 4.585, 4.668333333333334, 4.751666666666667, 4.835, 4.918333333333334, 5.001666666666666, 5.084999999999999, 5.168333333333333, 5.251666666666666, 5.334999999999999, 5.418333333333333, 5.501666666666666, 5.584999999999999, 5.668333333333333, 5.751666666666667, 5.835, 5.918333333333334, 6.001666666666667, 6.085, 6.168333333333334, 6.251666666666667, 6.335, 6.418333333333334, 6.501666666666667, 6.585, 6.668333333333334, 6.751666666666667, 6.835, 6.918333333333334, 7.001666666666667, 7.085, 7.168333333333334, 7.251666666666667, 7.335, 7.418333333333334, 7.501666666666667, 7.585, 7.668333333333334, 7.751666666666667, 7.835, 7.918333333333334, 8.001666666666667, 8.085, 8.168333333333333, 8.251666666666667, 8.335, 8.418333333333333, 8.501666666666667, 8.585, 8.668333333333333, 8.751666666666667, 8.835, 8.918333333333333, 9.001666666666667, 9.085, 9.168333333333333, 9.251666666666667, 9.335, 9.418333333333333, 9.501666666666667, 9.585, 9.668333333333333, 9.751666666666667, 9.835, 9.918333333333333], \"y\": [-0.033108748976921044, 0.001319447352058255, 0.017260620931031423, 0.018016002629984325, -0.004314267096227916, 0.025306886327501988, 0.029795436525864877, -0.027868380303069755, 0.012151424549243927, -0.08300639075151398, -0.0061911442073401875, 0.001995328468404263, -0.04422260915618586, 0.13504547317910093, 0.2138572803591428, 0.2529979651113347, 0.22650660016300492, 0.24904796896532005, 0.20744280291210904, 0.3520531780792289, 0.31446992952264585, 0.28630971690845586, 0.2604026008630153, 0.31606591245532195, 0.2987475031605795, 0.35212871986883604, 0.3527410517015827, 0.32105895471140655, 0.36539440955243446, 0.404996429687007, 0.3666451831819675, 0.38669583531573176, 0.41403385573264767, 0.3892572927116568, 0.4008238705333867, 0.39681712756936904, 0.43294807157457893, 0.418488798322939, 0.4491414579136288, 0.40287347758563197, 0.44077278221979876, 0.402356094563205, 0.4075932880347589, 0.37307304627132465, 0.3954284817274617, 0.4185197681440302, 0.458385398502497, 0.4756099418239972, 0.42998478702432635, 0.4188508186639701, 0.4761074629319725, 0.41304431858042706, 0.4304811273481859, 0.47410513520532804, 0.422497549210436, 0.4574402446640026, 0.45407628555946916, 0.45597690472749314, 0.44308498268333735, 0.42937378697856055, 0.3974547171925109, 0.47903784147993295, 0.4412878460829353, 0.42987594448980665, 0.4382322802827908, 0.4173924123465552, 0.36369946246470247, 0.4238780240748068, 0.42754546513220726, 0.41328803810665987, 0.3896674778734793, 0.37938548751515033, 0.39868320570240284, 0.39581672874906587, 0.39350249247241154, 0.4445900771666504, 0.3574235447381821, 0.38703615598013685, 0.39434962449571004, 0.34588481530483955, 0.4242320589495248, 0.40071105833418447, 0.43619632931398156, 0.4254350586745132, 0.42020594705154335, 0.3861140386802027, 0.3817089543592113, 0.3908969207893346, 0.3328160673988299, 0.372004524000563, 0.3869665517741193, 0.3935385831057928, 0.43561341232636996, 0.40046233524751146, 0.3953261946264241, 0.3512082925547714, 0.3421563872291714, 0.3777091404233143, 0.3571077554769078, 0.3424111738844292, 0.3280760919426508, 0.4077585526732143, 0.3160277179902611, 0.4014173081706841, 0.31498496777740403, 0.30814432771973405, 0.3715794639755192, 0.24634244001951733, 0.37038076032552986, 0.33231618683184655, 0.38848125654751886, 0.33858279369132516, 0.34187412857774957, 0.34841118396005843, 0.30175672760930206, 0.3365752939085919, 0.31283594660164116, 0.304007640088401, 0.26869229673789335, 0.3231572381742017]}, {\"line\": {\"color\": \"#88A8D5\"}, \"mode\": \"lines\", \"name\": \"0.479\", \"type\": \"scatter\", \"x\": [0.0016666666666666668, 0.08499999999999999, 0.16833333333333333, 0.25166666666666665, 0.335, 0.41833333333333333, 0.5016666666666667, 0.5850000000000001, 0.6683333333333333, 0.7516666666666667, 0.8350000000000001, 0.9183333333333333, 1.0016666666666667, 1.085, 1.1683333333333332, 1.2516666666666665, 1.335, 1.4183333333333332, 1.5016666666666665, 1.585, 1.6683333333333332, 1.7516666666666665, 1.835, 1.9183333333333332, 2.0016666666666665, 2.085, 2.1683333333333334, 2.2516666666666665, 2.335, 2.4183333333333334, 2.5016666666666665, 2.585, 2.6683333333333334, 2.7516666666666665, 2.835, 2.9183333333333334, 3.0016666666666665, 3.085, 3.1683333333333334, 3.2516666666666665, 3.335, 3.4183333333333334, 3.5016666666666665, 3.585, 3.6683333333333334, 3.7516666666666665, 3.835, 3.9183333333333334, 4.001666666666667, 4.085, 4.168333333333333, 4.251666666666667, 4.335, 4.418333333333334, 4.501666666666667, 4.585, 4.668333333333334, 4.751666666666667, 4.835, 4.918333333333334, 5.001666666666666, 5.084999999999999, 5.168333333333333, 5.251666666666666, 5.334999999999999, 5.418333333333333, 5.501666666666666, 5.584999999999999, 5.668333333333333, 5.751666666666667, 5.835, 5.918333333333334, 6.001666666666667, 6.085, 6.168333333333334, 6.251666666666667, 6.335, 6.418333333333334, 6.501666666666667, 6.585, 6.668333333333334, 6.751666666666667, 6.835, 6.918333333333334, 7.001666666666667, 7.085, 7.168333333333334, 7.251666666666667, 7.335, 7.418333333333334, 7.501666666666667, 7.585, 7.668333333333334, 7.751666666666667, 7.835, 7.918333333333334, 8.001666666666667, 8.085, 8.168333333333333, 8.251666666666667, 8.335, 8.418333333333333, 8.501666666666667, 8.585, 8.668333333333333, 8.751666666666667, 8.835, 8.918333333333333, 9.001666666666667, 9.085, 9.168333333333333, 9.251666666666667, 9.335, 9.418333333333333, 9.501666666666667, 9.585, 9.668333333333333, 9.751666666666667, 9.835, 9.918333333333333], \"y\": [0.03658857760057437, 0.017259561780665414, -0.04032582926319478, 0.00885750524500158, 0.02903141982494562, 0.0395813821391759, 0.02366051272698659, -0.015532284471600247, -0.002933283881906225, -0.021532063231768553, 0.024356808498363795, -0.0716660868611007, 0.018197776228877117, 0.5139421484435814, 0.7296272747068996, 0.409617595047843, 0.344988063710515, 0.46938983190609584, 0.5045919031286871, 0.4938957460399596, 0.3818021471371266, 0.46524206346245073, 0.5148988989463328, 0.5021846672951911, 0.5953118952190393, 0.559456238018979, 0.5017721488822379, 0.5406978988006735, 0.5313689574680066, 0.5522139637116991, 0.4822874731714608, 0.5171460540059185, 0.542047034543856, 0.5289009381388127, 0.5944339545172456, 0.6051283135992291, 0.5440592871421406, 0.5622866501047222, 0.5413996748858639, 0.5758767687543701, 0.5177763698745151, 0.601238911892246, 0.5480141344879359, 0.5316547538083762, 0.5044491208761941, 0.5113916190833172, 0.5522736678866751, 0.5431230750080983, 0.5814049292572997, 0.5223832451971454, 0.6002451313920896, 0.5611746801283692, 0.5522520863773649, 0.5776824604175672, 0.5208997747405724, 0.5487932300704442, 0.5414628956240743, 0.4737119422998762, 0.4880152568480583, 0.5410187545302232, 0.5513998117286082, 0.5093272301208723, 0.5442690421211918, 0.523086059378104, 0.5333594578200432, 0.49515845994022567, 0.4511008347602172, 0.5027735269590073, 0.45133374490771144, 0.5318173992739188, 0.4879299479191947, 0.4916889101382616, 0.46291496709635105, 0.48776663914802504, 0.45433114182468287, 0.4774273690207764, 0.4326108643163257, 0.41738130938726387, 0.4492507541385562, 0.436326726601545, 0.44459175258377936, 0.4094864661016405, 0.39116893430713684, 0.5027039440889529, 0.4251064107536695, 0.43198206840776443, 0.48203741003011547, 0.4487504273442018, 0.40703476767175656, 0.38973052140968284, 0.46388107577980103, 0.43706580866659406, 0.38322980367194504, 0.4473902453571933, 0.41556927307377134, 0.36754312413070195, 0.35430467716893466, 0.4094187908761599, 0.39468221742744547, 0.3771741905313984, 0.400932271851432, 0.40297496411653727, 0.4048990589052885, 0.36030083945049396, 0.3868817392712736, 0.39471183949896177, 0.4088136311920715, 0.3673377869947496, 0.3387349764354224, 0.35277872849755804, 0.35585566683745523, 0.29198912276813754, 0.2955380112775499, 0.37366607897219356, 0.3643684961314128, 0.352215151639521, 0.3677029873051915, 0.3133286837166165, 0.32522465858377214, 0.2861113613007602]}, {\"line\": {\"color\": \"#83C9C4\"}, \"mode\": \"lines\", \"name\": \"0.519\", \"type\": \"scatter\", \"x\": [0.0016666666666666668, 0.08499999999999999, 0.16833333333333333, 0.25166666666666665, 0.335, 0.41833333333333333, 0.5016666666666667, 0.5850000000000001, 0.6683333333333333, 0.7516666666666667, 0.8350000000000001, 0.9183333333333333, 1.0016666666666667, 1.085, 1.1683333333333332, 1.2516666666666665, 1.335, 1.4183333333333332, 1.5016666666666665, 1.585, 1.6683333333333332, 1.7516666666666665, 1.835, 1.9183333333333332, 2.0016666666666665, 2.085, 2.1683333333333334, 2.2516666666666665, 2.335, 2.4183333333333334, 2.5016666666666665, 2.585, 2.6683333333333334, 2.7516666666666665, 2.835, 2.9183333333333334, 3.0016666666666665, 3.085, 3.1683333333333334, 3.2516666666666665, 3.335, 3.4183333333333334, 3.5016666666666665, 3.585, 3.6683333333333334, 3.7516666666666665, 3.835, 3.9183333333333334, 4.001666666666667, 4.085, 4.168333333333333, 4.251666666666667, 4.335, 4.418333333333334, 4.501666666666667, 4.585, 4.668333333333334, 4.751666666666667, 4.835, 4.918333333333334, 5.001666666666666, 5.084999999999999, 5.168333333333333, 5.251666666666666, 5.334999999999999, 5.418333333333333, 5.501666666666666, 5.584999999999999, 5.668333333333333, 5.751666666666667, 5.835, 5.918333333333334, 6.001666666666667, 6.085, 6.168333333333334, 6.251666666666667, 6.335, 6.418333333333334, 6.501666666666667, 6.585, 6.668333333333334, 6.751666666666667, 6.835, 6.918333333333334, 7.001666666666667, 7.085, 7.168333333333334, 7.251666666666667, 7.335, 7.418333333333334, 7.501666666666667, 7.585, 7.668333333333334, 7.751666666666667, 7.835, 7.918333333333334, 8.001666666666667, 8.085, 8.168333333333333, 8.251666666666667, 8.335, 8.418333333333333, 8.501666666666667, 8.585, 8.668333333333333, 8.751666666666667, 8.835, 8.918333333333333, 9.001666666666667, 9.085, 9.168333333333333, 9.251666666666667, 9.335, 9.418333333333333, 9.501666666666667, 9.585, 9.668333333333333, 9.751666666666667, 9.835, 9.918333333333333], \"y\": [-0.02810090306643105, 0.0033089605616102094, -0.02338789375291241, -0.0033643415634170937, 0.03471859260670522, -0.018463306186492178, -0.011158759115090143, -0.01655374124666205, -0.007963094451508416, -0.05829398954355172, -0.002818119952031037, 0.011859339611845814, 0.02180441681025998, 0.9978932853447701, 1.3858546447967341, 0.8323675652565072, 0.6509837549825138, 0.767712597975843, 0.7971223255851672, 0.748991155975781, 0.7461481267478774, 0.7709286431370009, 0.8084547684660466, 0.8075589833214528, 0.7531438584565966, 0.802561871786265, 0.7974428575692922, 0.8209390136160633, 0.8088752943633676, 0.7515324522680518, 0.7925390810539928, 0.8269255248132178, 0.8235104305881439, 0.7884391442397335, 0.7664971978944646, 0.7222771309374161, 0.7536391863229026, 0.7624835601010397, 0.725310529284388, 0.7648156110759575, 0.7029084061003872, 0.7083706723748823, 0.7068129488417276, 0.7312603451938615, 0.7025458349284301, 0.7169486719419147, 0.7354293488747732, 0.7121146192637401, 0.620311404096676, 0.6532382310568543, 0.6987109502816863, 0.6450229114318562, 0.6531096284654405, 0.6350818908345751, 0.6177396851356004, 0.6232466909776648, 0.6432581865918964, 0.6150129637954389, 0.583933863916669, 0.5764711835878, 0.6213948938031808, 0.5779528908122542, 0.5044894466575324, 0.5716441783302446, 0.5619199471371362, 0.6022676427437438, 0.5357525797664761, 0.5741043654162643, 0.4873018508563721, 0.5912779011941142, 0.49646343920705593, 0.5538917113490601, 0.5175318137811863, 0.5145835730235119, 0.4713502301428637, 0.44824467542486257, 0.4622846853218965, 0.45522141854498654, 0.4935116595338679, 0.484707768423478, 0.5254141098269662, 0.49403310158170494, 0.4780425336318285, 0.46724157056991766, 0.48823380447942777, 0.39550148486458236, 0.44619064948086545, 0.4351649018977009, 0.38277060560306525, 0.45466291131799913, 0.42729306783536675, 0.3970702169594361, 0.39626384129131725, 0.4576987898661433, 0.45596225789726236, 0.41172817244044346, 0.43170208801827087, 0.4075830882866861, 0.40529613782451906, 0.41519022604778033, 0.3632411288231663, 0.3970313753776559, 0.38911657822611617, 0.43270102788339926, 0.31990371264540446, 0.4554386952816681, 0.33882797536907977, 0.4129043527613315, 0.3931940717113396, 0.3806664280354308, 0.3437860222678378, 0.386410946574934, 0.31892174868831147, 0.4004218512820137, 0.3737960827396297, 0.338710846166693, 0.293968605310343, 0.37055778935707545, 0.3528938588681401, 0.2959174587099656]}],                        {\"annotations\": [{\"font\": {\"size\": 26}, \"showarrow\": false, \"text\": \"$Estimate \\\\space k_{ep, RR} \\\\space (min^{-1})$\", \"x\": 0.8, \"xref\": \"paper\", \"y\": 0.8, \"yref\": \"paper\"}], \"plot_bgcolor\": \"#fff\", \"template\": {\"data\": {\"bar\": [{\"error_x\": {\"color\": \"#2a3f5f\"}, \"error_y\": {\"color\": \"#2a3f5f\"}, \"marker\": {\"line\": {\"color\": \"#E5ECF6\", \"width\": 0.5}}, \"type\": \"bar\"}], \"barpolar\": [{\"marker\": {\"line\": {\"color\": \"#E5ECF6\", \"width\": 0.5}}, \"type\": \"barpolar\"}], \"carpet\": [{\"aaxis\": {\"endlinecolor\": \"#2a3f5f\", \"gridcolor\": \"white\", \"linecolor\": \"white\", \"minorgridcolor\": \"white\", \"startlinecolor\": \"#2a3f5f\"}, \"baxis\": {\"endlinecolor\": \"#2a3f5f\", \"gridcolor\": \"white\", \"linecolor\": \"white\", \"minorgridcolor\": \"white\", \"startlinecolor\": \"#2a3f5f\"}, \"type\": \"carpet\"}], \"choropleth\": [{\"colorbar\": {\"outlinewidth\": 0, \"ticks\": \"\"}, \"type\": \"choropleth\"}], \"contour\": [{\"colorbar\": {\"outlinewidth\": 0, \"ticks\": \"\"}, \"colorscale\": [[0.0, \"#0d0887\"], [0.1111111111111111, \"#46039f\"], [0.2222222222222222, \"#7201a8\"], [0.3333333333333333, \"#9c179e\"], [0.4444444444444444, \"#bd3786\"], [0.5555555555555556, \"#d8576b\"], [0.6666666666666666, \"#ed7953\"], [0.7777777777777778, \"#fb9f3a\"], [0.8888888888888888, \"#fdca26\"], [1.0, \"#f0f921\"]], \"type\": \"contour\"}], \"contourcarpet\": [{\"colorbar\": {\"outlinewidth\": 0, \"ticks\": \"\"}, \"type\": \"contourcarpet\"}], \"heatmap\": [{\"colorbar\": {\"outlinewidth\": 0, \"ticks\": \"\"}, \"colorscale\": [[0.0, \"#0d0887\"], [0.1111111111111111, \"#46039f\"], [0.2222222222222222, \"#7201a8\"], [0.3333333333333333, \"#9c179e\"], [0.4444444444444444, \"#bd3786\"], [0.5555555555555556, \"#d8576b\"], [0.6666666666666666, \"#ed7953\"], [0.7777777777777778, \"#fb9f3a\"], [0.8888888888888888, \"#fdca26\"], [1.0, \"#f0f921\"]], \"type\": \"heatmap\"}], \"heatmapgl\": [{\"colorbar\": {\"outlinewidth\": 0, \"ticks\": \"\"}, \"colorscale\": [[0.0, \"#0d0887\"], [0.1111111111111111, \"#46039f\"], [0.2222222222222222, \"#7201a8\"], [0.3333333333333333, \"#9c179e\"], [0.4444444444444444, \"#bd3786\"], [0.5555555555555556, \"#d8576b\"], [0.6666666666666666, \"#ed7953\"], [0.7777777777777778, \"#fb9f3a\"], [0.8888888888888888, \"#fdca26\"], [1.0, \"#f0f921\"]], \"type\": \"heatmapgl\"}], \"histogram\": [{\"marker\": {\"colorbar\": {\"outlinewidth\": 0, \"ticks\": \"\"}}, \"type\": \"histogram\"}], \"histogram2d\": [{\"colorbar\": {\"outlinewidth\": 0, \"ticks\": \"\"}, \"colorscale\": [[0.0, \"#0d0887\"], [0.1111111111111111, \"#46039f\"], [0.2222222222222222, \"#7201a8\"], [0.3333333333333333, \"#9c179e\"], [0.4444444444444444, \"#bd3786\"], [0.5555555555555556, \"#d8576b\"], [0.6666666666666666, \"#ed7953\"], [0.7777777777777778, \"#fb9f3a\"], [0.8888888888888888, \"#fdca26\"], [1.0, \"#f0f921\"]], \"type\": \"histogram2d\"}], \"histogram2dcontour\": [{\"colorbar\": {\"outlinewidth\": 0, \"ticks\": \"\"}, \"colorscale\": [[0.0, \"#0d0887\"], [0.1111111111111111, \"#46039f\"], [0.2222222222222222, \"#7201a8\"], [0.3333333333333333, \"#9c179e\"], [0.4444444444444444, \"#bd3786\"], [0.5555555555555556, \"#d8576b\"], [0.6666666666666666, \"#ed7953\"], [0.7777777777777778, \"#fb9f3a\"], [0.8888888888888888, \"#fdca26\"], [1.0, \"#f0f921\"]], \"type\": \"histogram2dcontour\"}], \"mesh3d\": [{\"colorbar\": {\"outlinewidth\": 0, \"ticks\": \"\"}, \"type\": \"mesh3d\"}], \"parcoords\": [{\"line\": {\"colorbar\": {\"outlinewidth\": 0, \"ticks\": \"\"}}, \"type\": \"parcoords\"}], \"pie\": [{\"automargin\": true, \"type\": \"pie\"}], \"scatter\": [{\"marker\": {\"colorbar\": {\"outlinewidth\": 0, \"ticks\": \"\"}}, \"type\": \"scatter\"}], \"scatter3d\": [{\"line\": {\"colorbar\": {\"outlinewidth\": 0, \"ticks\": \"\"}}, \"marker\": {\"colorbar\": {\"outlinewidth\": 0, \"ticks\": \"\"}}, \"type\": \"scatter3d\"}], \"scattercarpet\": [{\"marker\": {\"colorbar\": {\"outlinewidth\": 0, \"ticks\": \"\"}}, \"type\": \"scattercarpet\"}], \"scattergeo\": [{\"marker\": {\"colorbar\": {\"outlinewidth\": 0, \"ticks\": \"\"}}, \"type\": \"scattergeo\"}], \"scattergl\": [{\"marker\": {\"colorbar\": {\"outlinewidth\": 0, \"ticks\": \"\"}}, \"type\": \"scattergl\"}], \"scattermapbox\": [{\"marker\": {\"colorbar\": {\"outlinewidth\": 0, \"ticks\": \"\"}}, \"type\": \"scattermapbox\"}], \"scatterpolar\": [{\"marker\": {\"colorbar\": {\"outlinewidth\": 0, \"ticks\": \"\"}}, \"type\": \"scatterpolar\"}], \"scatterpolargl\": [{\"marker\": {\"colorbar\": {\"outlinewidth\": 0, \"ticks\": \"\"}}, \"type\": \"scatterpolargl\"}], \"scatterternary\": [{\"marker\": {\"colorbar\": {\"outlinewidth\": 0, \"ticks\": \"\"}}, \"type\": \"scatterternary\"}], \"surface\": [{\"colorbar\": {\"outlinewidth\": 0, \"ticks\": \"\"}, \"colorscale\": [[0.0, \"#0d0887\"], [0.1111111111111111, \"#46039f\"], [0.2222222222222222, \"#7201a8\"], [0.3333333333333333, \"#9c179e\"], [0.4444444444444444, \"#bd3786\"], [0.5555555555555556, \"#d8576b\"], [0.6666666666666666, \"#ed7953\"], [0.7777777777777778, \"#fb9f3a\"], [0.8888888888888888, \"#fdca26\"], [1.0, \"#f0f921\"]], \"type\": \"surface\"}], \"table\": [{\"cells\": {\"fill\": {\"color\": \"#EBF0F8\"}, \"line\": {\"color\": \"white\"}}, \"header\": {\"fill\": {\"color\": \"#C8D4E3\"}, \"line\": {\"color\": \"white\"}}, \"type\": \"table\"}]}, \"layout\": {\"annotationdefaults\": {\"arrowcolor\": \"#2a3f5f\", \"arrowhead\": 0, \"arrowwidth\": 1}, \"autotypenumbers\": \"strict\", \"coloraxis\": {\"colorbar\": {\"outlinewidth\": 0, \"ticks\": \"\"}}, \"colorscale\": {\"diverging\": [[0, \"#8e0152\"], [0.1, \"#c51b7d\"], [0.2, \"#de77ae\"], [0.3, \"#f1b6da\"], [0.4, \"#fde0ef\"], [0.5, \"#f7f7f7\"], [0.6, \"#e6f5d0\"], [0.7, \"#b8e186\"], [0.8, \"#7fbc41\"], [0.9, \"#4d9221\"], [1, \"#276419\"]], \"sequential\": [[0.0, \"#0d0887\"], [0.1111111111111111, \"#46039f\"], [0.2222222222222222, \"#7201a8\"], [0.3333333333333333, \"#9c179e\"], [0.4444444444444444, \"#bd3786\"], [0.5555555555555556, \"#d8576b\"], [0.6666666666666666, \"#ed7953\"], [0.7777777777777778, \"#fb9f3a\"], [0.8888888888888888, \"#fdca26\"], [1.0, \"#f0f921\"]], \"sequentialminus\": [[0.0, \"#0d0887\"], [0.1111111111111111, \"#46039f\"], [0.2222222222222222, \"#7201a8\"], [0.3333333333333333, \"#9c179e\"], [0.4444444444444444, \"#bd3786\"], [0.5555555555555556, \"#d8576b\"], [0.6666666666666666, \"#ed7953\"], [0.7777777777777778, \"#fb9f3a\"], [0.8888888888888888, \"#fdca26\"], [1.0, \"#f0f921\"]]}, \"colorway\": [\"#636efa\", \"#EF553B\", \"#00cc96\", \"#ab63fa\", \"#FFA15A\", \"#19d3f3\", \"#FF6692\", \"#B6E880\", \"#FF97FF\", \"#FECB52\"], \"font\": {\"color\": \"#2a3f5f\"}, \"geo\": {\"bgcolor\": \"white\", \"lakecolor\": \"white\", \"landcolor\": \"#E5ECF6\", \"showlakes\": true, \"showland\": true, \"subunitcolor\": \"white\"}, \"hoverlabel\": {\"align\": \"left\"}, \"hovermode\": \"closest\", \"mapbox\": {\"style\": \"light\"}, \"paper_bgcolor\": \"white\", \"plot_bgcolor\": \"#E5ECF6\", \"polar\": {\"angularaxis\": {\"gridcolor\": \"white\", \"linecolor\": \"white\", \"ticks\": \"\"}, \"bgcolor\": \"#E5ECF6\", \"radialaxis\": {\"gridcolor\": \"white\", \"linecolor\": \"white\", \"ticks\": \"\"}}, \"scene\": {\"xaxis\": {\"backgroundcolor\": \"#E5ECF6\", \"gridcolor\": \"white\", \"gridwidth\": 2, \"linecolor\": \"white\", \"showbackground\": true, \"ticks\": \"\", \"zerolinecolor\": \"white\"}, \"yaxis\": {\"backgroundcolor\": \"#E5ECF6\", \"gridcolor\": \"white\", \"gridwidth\": 2, \"linecolor\": \"white\", \"showbackground\": true, \"ticks\": \"\", \"zerolinecolor\": \"white\"}, \"zaxis\": {\"backgroundcolor\": \"#E5ECF6\", \"gridcolor\": \"white\", \"gridwidth\": 2, \"linecolor\": \"white\", \"showbackground\": true, \"ticks\": \"\", \"zerolinecolor\": \"white\"}}, \"shapedefaults\": {\"line\": {\"color\": \"#2a3f5f\"}}, \"ternary\": {\"aaxis\": {\"gridcolor\": \"white\", \"linecolor\": \"white\", \"ticks\": \"\"}, \"baxis\": {\"gridcolor\": \"white\", \"linecolor\": \"white\", \"ticks\": \"\"}, \"bgcolor\": \"#E5ECF6\", \"caxis\": {\"gridcolor\": \"white\", \"linecolor\": \"white\", \"ticks\": \"\"}}, \"title\": {\"x\": 0.05}, \"xaxis\": {\"automargin\": true, \"gridcolor\": \"white\", \"linecolor\": \"white\", \"ticks\": \"\", \"title\": {\"standoff\": 15}, \"zerolinecolor\": \"white\", \"zerolinewidth\": 2}, \"yaxis\": {\"automargin\": true, \"gridcolor\": \"white\", \"linecolor\": \"white\", \"ticks\": \"\", \"title\": {\"standoff\": 15}, \"zerolinecolor\": \"white\", \"zerolinewidth\": 2}}}, \"title\": {\"text\": \"(B) Tissue of Interest\"}, \"xaxis\": {\"range\": [0, 10], \"showline\": true, \"tickvals\": [0, 1, 2, 3, 4, 5, 6, 7, 8, 9, 10], \"title\": {\"text\": \"Time [min]\"}}, \"yaxis\": {\"range\": [-0.1, 1.5], \"showline\": true, \"tickvals\": [0, 0.5, 1, 1.5], \"title\": {\"text\": \"Concentration [mM]\"}}},                        {\"responsive\": true}                    ).then(function(){\n",
       "                            \n",
       "var gd = document.getElementById('8e57c06f-e087-45a1-bdbe-10714cd4bac0');\n",
       "var x = new MutationObserver(function (mutations, observer) {{\n",
       "        var display = window.getComputedStyle(gd).display;\n",
       "        if (!display || display === 'none') {{\n",
       "            console.log([gd, 'removed!']);\n",
       "            Plotly.purge(gd);\n",
       "            observer.disconnect();\n",
       "        }}\n",
       "}});\n",
       "\n",
       "// Listen for the removal of the full notebook cells\n",
       "var notebookContainer = gd.closest('#notebook-container');\n",
       "if (notebookContainer) {{\n",
       "    x.observe(notebookContainer, {childList: true});\n",
       "}}\n",
       "\n",
       "// Listen for the clearing of the current output cell\n",
       "var outputEl = gd.closest('.output');\n",
       "if (outputEl) {{\n",
       "    x.observe(outputEl, {childList: true});\n",
       "}}\n",
       "\n",
       "                        })                };                });            </script>        </div>"
      ]
     },
     "metadata": {},
     "output_type": "display_data"
    }
   ],
   "source": [
    "%get Ct --from MATLAB\n",
    "%get t --from MATLAB\n",
    "%get idx --from MATLAB\n",
    "%get estKepRR --from MATLAB\n",
    "%get pkCE --from MATLAB\n",
    "\n",
    "\n",
    "# Matlab's indexing starts at 1, whereas Python's starts from 0, so we need to\n",
    "# lower all the indexes in idx by one to match the approprate data from the array\n",
    "\n",
    "for i in range(idx.size):\n",
    "    idx[i] = idx[i]-1\n",
    "\n",
    "    \n",
    "fig = go.Figure()\n",
    "\n",
    "palette_lines = cycle(px.colors.qualitative.Plotly)\n",
    "palette_labels = cycle(px.colors.qualitative.Plotly)\n",
    "line_colours = cycle(['#292348','#585E9A','#88A8D5','#83C9C4'])\n",
    "pkCE_index = cycle([4, 9, 14, 19])\n",
    "\n",
    "pkCE_reshaped = np.ravel(pkCE)\n",
    "\n",
    "\n",
    "for el in idx:\n",
    "    reshaped_Ct = np.reshape(Ct[:,el], 120)\n",
    "    final_Ct = np.squeeze(np.asarray(reshaped_Ct))\n",
    "    trace_label = round(pkCE_reshaped[next(pkCE_index)], 3)\n",
    "    fig.add_trace(go.Scatter(name=str(trace_label),\n",
    "                             x=t, \n",
    "                             y=final_Ct, \n",
    "                             mode='lines',\n",
    "                             line_color=next(line_colours)))\n",
    "\n",
    "fig.update_layout(title='(B) Tissue of Interest',\n",
    "                   xaxis=dict(title='Time [min]',\n",
    "                              showline=True,\n",
    "                              range=[0, 10],\n",
    "                              tickvals=[0, 1, 2, 3, 4, 5, 6, 7, 8, 9, 10]),\n",
    "                   yaxis=dict(title='Concentration [mM]',\n",
    "                              showline=True,\n",
    "                              range=[-0.1, 1.5],\n",
    "                              tickvals=[0, 0.5, 1, 1.5]),\n",
    "                   plot_bgcolor=\"#fff\",\n",
    ")\n",
    "\n",
    "fig.add_annotation(text=r'$Estimate \\space k_{ep, RR} \\space (min^{-1})$',\n",
    "                  xref=\"paper\", yref=\"paper\",\n",
    "                  x=0.8, y=0.8, showarrow=False, font = dict(size = 26))\n",
    "\n",
    "\n",
    "fig.show()"
   ]
  },
  {
   "cell_type": "markdown",
   "metadata": {
    "kernel": "SoS"
   },
   "source": [
    "* (C) Input Function <a name=\"input-function\"></a>"
   ]
  },
  {
   "cell_type": "code",
   "execution_count": 8,
   "metadata": {
    "kernel": "SoS"
   },
   "outputs": [
    {
     "data": {
      "application/vnd.plotly.v1+json": {
       "config": {
        "plotlyServerURL": "https://plot.ly"
       },
       "data": [
        {
         "line": {
          "color": "red"
         },
         "mode": "lines",
         "type": "scatter",
         "x": [
          0.0016666666666666668,
          0.08499999999999999,
          0.16833333333333333,
          0.25166666666666665,
          0.335,
          0.41833333333333333,
          0.5016666666666667,
          0.5850000000000001,
          0.6683333333333333,
          0.7516666666666667,
          0.8350000000000001,
          0.9183333333333333,
          1.0016666666666667,
          1.085,
          1.1683333333333332,
          1.2516666666666665,
          1.335,
          1.4183333333333332,
          1.5016666666666665,
          1.585,
          1.6683333333333332,
          1.7516666666666665,
          1.835,
          1.9183333333333332,
          2.0016666666666665,
          2.085,
          2.1683333333333334,
          2.2516666666666665,
          2.335,
          2.4183333333333334,
          2.5016666666666665,
          2.585,
          2.6683333333333334,
          2.7516666666666665,
          2.835,
          2.9183333333333334,
          3.0016666666666665,
          3.085,
          3.1683333333333334,
          3.2516666666666665,
          3.335,
          3.4183333333333334,
          3.5016666666666665,
          3.585,
          3.6683333333333334,
          3.7516666666666665,
          3.835,
          3.9183333333333334,
          4.001666666666667,
          4.085,
          4.168333333333333,
          4.251666666666667,
          4.335,
          4.418333333333334,
          4.501666666666667,
          4.585,
          4.668333333333334,
          4.751666666666667,
          4.835,
          4.918333333333334,
          5.001666666666666,
          5.084999999999999,
          5.168333333333333,
          5.251666666666666,
          5.334999999999999,
          5.418333333333333,
          5.501666666666666,
          5.584999999999999,
          5.668333333333333,
          5.751666666666667,
          5.835,
          5.918333333333334,
          6.001666666666667,
          6.085,
          6.168333333333334,
          6.251666666666667,
          6.335,
          6.418333333333334,
          6.501666666666667,
          6.585,
          6.668333333333334,
          6.751666666666667,
          6.835,
          6.918333333333334,
          7.001666666666667,
          7.085,
          7.168333333333334,
          7.251666666666667,
          7.335,
          7.418333333333334,
          7.501666666666667,
          7.585,
          7.668333333333334,
          7.751666666666667,
          7.835,
          7.918333333333334,
          8.001666666666667,
          8.085,
          8.168333333333333,
          8.251666666666667,
          8.335,
          8.418333333333333,
          8.501666666666667,
          8.585,
          8.668333333333333,
          8.751666666666667,
          8.835,
          8.918333333333333,
          9.001666666666667,
          9.085,
          9.168333333333333,
          9.251666666666667,
          9.335,
          9.418333333333333,
          9.501666666666667,
          9.585,
          9.668333333333333,
          9.751666666666667,
          9.835,
          9.918333333333333
         ],
         "y": [
          0.04613946486375311,
          0.007790668414823125,
          -0.056685291481859794,
          -0.012866297025930645,
          0.05447309944675663,
          0.03405916181076526,
          -0.06654741595972537,
          -0.006556793479038596,
          -0.08550354754536943,
          -0.002061173873547717,
          -0.02626883538133613,
          0.0072398127412851435,
          0.049502370399403334,
          9.936472001017659,
          10.726441435693559,
          4.007035093931935,
          1.7172279430886237,
          2.593049725975948,
          3.0797558615792666,
          2.4362793094898763,
          2.0945591269527997,
          2.2472332576650342,
          2.370571111881735,
          2.172996501699644,
          1.9039281562005954,
          2.010713275115827,
          1.9132573630834697,
          1.9331865117486324,
          1.781931448395357,
          1.727917670284065,
          1.728233574504239,
          1.6759273946529951,
          1.6706106470000708,
          1.6516428322621268,
          1.631518600982928,
          1.6102084931143543,
          1.5025466424562048,
          1.459845383481468,
          1.5289266693048285,
          1.442831794410663,
          1.3612154192845352,
          1.2929962320680253,
          1.4032938339777712,
          1.3833644861868004,
          1.3739355855486177,
          1.2735802166714163,
          1.3306027476951525,
          1.3780125593524717,
          1.2238375470951586,
          1.2459824416106438,
          1.3684108300077877,
          1.27833461491594,
          1.1893099226882757,
          1.2175873153425085,
          1.2135747024507302,
          1.2629712362188175,
          1.184654536775834,
          1.1332653969183466,
          1.1404563542917965,
          1.160047761471369,
          1.1665357003579049,
          1.0737547005866497,
          1.1336057563055586,
          1.0574905317448795,
          1.0501530978129798,
          1.0807103708809471,
          1.0195212337936466,
          1.0814096653390797,
          1.1487605740703446,
          1.0359915350132667,
          0.9882987153591305,
          0.9597491011112284,
          0.9243179792179845,
          0.9563283409282283,
          0.9869836011123743,
          0.9512883764264387,
          0.9051381419900759,
          0.9569593263007666,
          0.9110774602015791,
          0.8690452893580509,
          0.9598378211819947,
          0.8393021997703033,
          0.8928895131570869,
          0.9025255877641749,
          0.8047973779246176,
          0.7897616126653814,
          0.8680896701039121,
          0.7788802830813153,
          0.9100886387931135,
          0.8514119108106469,
          0.8867558697896432,
          0.8700591395946914,
          0.8531640903493566,
          0.8482628258020807,
          0.8058210342683289,
          0.7775061000443964,
          0.7290021216233715,
          0.8593246052837431,
          0.8123662683883075,
          0.7500386347556217,
          0.7651219478272964,
          0.7378023834859381,
          0.8032344748224959,
          0.759900448913662,
          0.7488017989637947,
          0.7662616796847886,
          0.7289534678474613,
          0.7211208527898972,
          0.7182498010121081,
          0.6606831519819403,
          0.6956046699793121,
          0.7583730217686371,
          0.7451252583600526,
          0.6918078494958553,
          0.7244940184570733,
          0.673954457500896,
          0.7084204724425677,
          0.6577991187195803,
          0.7507305853807164,
          0.5935297943510198
         ]
        }
       ],
       "layout": {
        "annotations": [
         {
          "font": {
           "color": "black",
           "size": 20
          },
          "showarrow": false,
          "text": "Input Function Tail",
          "x": 10,
          "xanchor": "right",
          "xref": "x",
          "xshift": -140,
          "y": 1,
          "yanchor": "top",
          "yref": "y domain",
          "yshift": -100
         },
         {
          "arrowcolor": "black",
          "arrowhead": 3,
          "arrowsize": 2,
          "arrowwidth": 2,
          "ax": 3,
          "axref": "x",
          "ay": 5,
          "ayref": "y",
          "showarrow": true,
          "text": "",
          "x": 10,
          "xref": "x",
          "y": 5,
          "yref": "y"
         },
         {
          "arrowcolor": "black",
          "arrowhead": 3,
          "arrowsize": 2,
          "arrowwidth": 2,
          "ax": 10,
          "axref": "x",
          "ay": 5,
          "ayref": "y",
          "showarrow": true,
          "text": "",
          "x": 3,
          "xref": "x",
          "y": 5,
          "yref": "y"
         },
         {
          "font": {
           "color": "black",
           "size": 20
          },
          "showarrow": false,
          "text": "$T_{tail}$",
          "x": 6.5,
          "xanchor": "center",
          "y": 4.6,
          "yanchor": "top"
         },
         {
          "arrowcolor": "black",
          "arrowhead": 3,
          "arrowsize": 1,
          "arrowwidth": 2,
          "ax": 3,
          "axref": "x",
          "ay": 2,
          "ayref": "y",
          "font": {
           "color": "black",
           "size": 16
          },
          "showarrow": true,
          "text": "$T_{start}$",
          "x": 3,
          "xref": "x",
          "y": 0,
          "yref": "y"
         },
         {
          "arrowcolor": "black",
          "arrowhead": 3,
          "arrowsize": 1,
          "arrowwidth": 2,
          "ax": 10,
          "axref": "x",
          "ay": 2,
          "ayref": "y",
          "font": {
           "color": "black",
           "size": 16
          },
          "showarrow": true,
          "text": "$T_{end}$",
          "x": 10,
          "xref": "x",
          "y": 0,
          "yref": "y"
         }
        ],
        "plot_bgcolor": "#fff",
        "shapes": [
         {
          "fillcolor": "LightGray",
          "layer": "below",
          "line": {
           "width": 0
          },
          "opacity": 0.5,
          "type": "rect",
          "x0": 3,
          "x1": 10,
          "xref": "x",
          "y0": 0,
          "y1": 1,
          "yref": "y domain"
         }
        ],
        "template": {
         "data": {
          "bar": [
           {
            "error_x": {
             "color": "#2a3f5f"
            },
            "error_y": {
             "color": "#2a3f5f"
            },
            "marker": {
             "line": {
              "color": "#E5ECF6",
              "width": 0.5
             }
            },
            "type": "bar"
           }
          ],
          "barpolar": [
           {
            "marker": {
             "line": {
              "color": "#E5ECF6",
              "width": 0.5
             }
            },
            "type": "barpolar"
           }
          ],
          "carpet": [
           {
            "aaxis": {
             "endlinecolor": "#2a3f5f",
             "gridcolor": "white",
             "linecolor": "white",
             "minorgridcolor": "white",
             "startlinecolor": "#2a3f5f"
            },
            "baxis": {
             "endlinecolor": "#2a3f5f",
             "gridcolor": "white",
             "linecolor": "white",
             "minorgridcolor": "white",
             "startlinecolor": "#2a3f5f"
            },
            "type": "carpet"
           }
          ],
          "choropleth": [
           {
            "colorbar": {
             "outlinewidth": 0,
             "ticks": ""
            },
            "type": "choropleth"
           }
          ],
          "contour": [
           {
            "colorbar": {
             "outlinewidth": 0,
             "ticks": ""
            },
            "colorscale": [
             [
              0,
              "#0d0887"
             ],
             [
              0.1111111111111111,
              "#46039f"
             ],
             [
              0.2222222222222222,
              "#7201a8"
             ],
             [
              0.3333333333333333,
              "#9c179e"
             ],
             [
              0.4444444444444444,
              "#bd3786"
             ],
             [
              0.5555555555555556,
              "#d8576b"
             ],
             [
              0.6666666666666666,
              "#ed7953"
             ],
             [
              0.7777777777777778,
              "#fb9f3a"
             ],
             [
              0.8888888888888888,
              "#fdca26"
             ],
             [
              1,
              "#f0f921"
             ]
            ],
            "type": "contour"
           }
          ],
          "contourcarpet": [
           {
            "colorbar": {
             "outlinewidth": 0,
             "ticks": ""
            },
            "type": "contourcarpet"
           }
          ],
          "heatmap": [
           {
            "colorbar": {
             "outlinewidth": 0,
             "ticks": ""
            },
            "colorscale": [
             [
              0,
              "#0d0887"
             ],
             [
              0.1111111111111111,
              "#46039f"
             ],
             [
              0.2222222222222222,
              "#7201a8"
             ],
             [
              0.3333333333333333,
              "#9c179e"
             ],
             [
              0.4444444444444444,
              "#bd3786"
             ],
             [
              0.5555555555555556,
              "#d8576b"
             ],
             [
              0.6666666666666666,
              "#ed7953"
             ],
             [
              0.7777777777777778,
              "#fb9f3a"
             ],
             [
              0.8888888888888888,
              "#fdca26"
             ],
             [
              1,
              "#f0f921"
             ]
            ],
            "type": "heatmap"
           }
          ],
          "heatmapgl": [
           {
            "colorbar": {
             "outlinewidth": 0,
             "ticks": ""
            },
            "colorscale": [
             [
              0,
              "#0d0887"
             ],
             [
              0.1111111111111111,
              "#46039f"
             ],
             [
              0.2222222222222222,
              "#7201a8"
             ],
             [
              0.3333333333333333,
              "#9c179e"
             ],
             [
              0.4444444444444444,
              "#bd3786"
             ],
             [
              0.5555555555555556,
              "#d8576b"
             ],
             [
              0.6666666666666666,
              "#ed7953"
             ],
             [
              0.7777777777777778,
              "#fb9f3a"
             ],
             [
              0.8888888888888888,
              "#fdca26"
             ],
             [
              1,
              "#f0f921"
             ]
            ],
            "type": "heatmapgl"
           }
          ],
          "histogram": [
           {
            "marker": {
             "colorbar": {
              "outlinewidth": 0,
              "ticks": ""
             }
            },
            "type": "histogram"
           }
          ],
          "histogram2d": [
           {
            "colorbar": {
             "outlinewidth": 0,
             "ticks": ""
            },
            "colorscale": [
             [
              0,
              "#0d0887"
             ],
             [
              0.1111111111111111,
              "#46039f"
             ],
             [
              0.2222222222222222,
              "#7201a8"
             ],
             [
              0.3333333333333333,
              "#9c179e"
             ],
             [
              0.4444444444444444,
              "#bd3786"
             ],
             [
              0.5555555555555556,
              "#d8576b"
             ],
             [
              0.6666666666666666,
              "#ed7953"
             ],
             [
              0.7777777777777778,
              "#fb9f3a"
             ],
             [
              0.8888888888888888,
              "#fdca26"
             ],
             [
              1,
              "#f0f921"
             ]
            ],
            "type": "histogram2d"
           }
          ],
          "histogram2dcontour": [
           {
            "colorbar": {
             "outlinewidth": 0,
             "ticks": ""
            },
            "colorscale": [
             [
              0,
              "#0d0887"
             ],
             [
              0.1111111111111111,
              "#46039f"
             ],
             [
              0.2222222222222222,
              "#7201a8"
             ],
             [
              0.3333333333333333,
              "#9c179e"
             ],
             [
              0.4444444444444444,
              "#bd3786"
             ],
             [
              0.5555555555555556,
              "#d8576b"
             ],
             [
              0.6666666666666666,
              "#ed7953"
             ],
             [
              0.7777777777777778,
              "#fb9f3a"
             ],
             [
              0.8888888888888888,
              "#fdca26"
             ],
             [
              1,
              "#f0f921"
             ]
            ],
            "type": "histogram2dcontour"
           }
          ],
          "mesh3d": [
           {
            "colorbar": {
             "outlinewidth": 0,
             "ticks": ""
            },
            "type": "mesh3d"
           }
          ],
          "parcoords": [
           {
            "line": {
             "colorbar": {
              "outlinewidth": 0,
              "ticks": ""
             }
            },
            "type": "parcoords"
           }
          ],
          "pie": [
           {
            "automargin": true,
            "type": "pie"
           }
          ],
          "scatter": [
           {
            "marker": {
             "colorbar": {
              "outlinewidth": 0,
              "ticks": ""
             }
            },
            "type": "scatter"
           }
          ],
          "scatter3d": [
           {
            "line": {
             "colorbar": {
              "outlinewidth": 0,
              "ticks": ""
             }
            },
            "marker": {
             "colorbar": {
              "outlinewidth": 0,
              "ticks": ""
             }
            },
            "type": "scatter3d"
           }
          ],
          "scattercarpet": [
           {
            "marker": {
             "colorbar": {
              "outlinewidth": 0,
              "ticks": ""
             }
            },
            "type": "scattercarpet"
           }
          ],
          "scattergeo": [
           {
            "marker": {
             "colorbar": {
              "outlinewidth": 0,
              "ticks": ""
             }
            },
            "type": "scattergeo"
           }
          ],
          "scattergl": [
           {
            "marker": {
             "colorbar": {
              "outlinewidth": 0,
              "ticks": ""
             }
            },
            "type": "scattergl"
           }
          ],
          "scattermapbox": [
           {
            "marker": {
             "colorbar": {
              "outlinewidth": 0,
              "ticks": ""
             }
            },
            "type": "scattermapbox"
           }
          ],
          "scatterpolar": [
           {
            "marker": {
             "colorbar": {
              "outlinewidth": 0,
              "ticks": ""
             }
            },
            "type": "scatterpolar"
           }
          ],
          "scatterpolargl": [
           {
            "marker": {
             "colorbar": {
              "outlinewidth": 0,
              "ticks": ""
             }
            },
            "type": "scatterpolargl"
           }
          ],
          "scatterternary": [
           {
            "marker": {
             "colorbar": {
              "outlinewidth": 0,
              "ticks": ""
             }
            },
            "type": "scatterternary"
           }
          ],
          "surface": [
           {
            "colorbar": {
             "outlinewidth": 0,
             "ticks": ""
            },
            "colorscale": [
             [
              0,
              "#0d0887"
             ],
             [
              0.1111111111111111,
              "#46039f"
             ],
             [
              0.2222222222222222,
              "#7201a8"
             ],
             [
              0.3333333333333333,
              "#9c179e"
             ],
             [
              0.4444444444444444,
              "#bd3786"
             ],
             [
              0.5555555555555556,
              "#d8576b"
             ],
             [
              0.6666666666666666,
              "#ed7953"
             ],
             [
              0.7777777777777778,
              "#fb9f3a"
             ],
             [
              0.8888888888888888,
              "#fdca26"
             ],
             [
              1,
              "#f0f921"
             ]
            ],
            "type": "surface"
           }
          ],
          "table": [
           {
            "cells": {
             "fill": {
              "color": "#EBF0F8"
             },
             "line": {
              "color": "white"
             }
            },
            "header": {
             "fill": {
              "color": "#C8D4E3"
             },
             "line": {
              "color": "white"
             }
            },
            "type": "table"
           }
          ]
         },
         "layout": {
          "annotationdefaults": {
           "arrowcolor": "#2a3f5f",
           "arrowhead": 0,
           "arrowwidth": 1
          },
          "autotypenumbers": "strict",
          "coloraxis": {
           "colorbar": {
            "outlinewidth": 0,
            "ticks": ""
           }
          },
          "colorscale": {
           "diverging": [
            [
             0,
             "#8e0152"
            ],
            [
             0.1,
             "#c51b7d"
            ],
            [
             0.2,
             "#de77ae"
            ],
            [
             0.3,
             "#f1b6da"
            ],
            [
             0.4,
             "#fde0ef"
            ],
            [
             0.5,
             "#f7f7f7"
            ],
            [
             0.6,
             "#e6f5d0"
            ],
            [
             0.7,
             "#b8e186"
            ],
            [
             0.8,
             "#7fbc41"
            ],
            [
             0.9,
             "#4d9221"
            ],
            [
             1,
             "#276419"
            ]
           ],
           "sequential": [
            [
             0,
             "#0d0887"
            ],
            [
             0.1111111111111111,
             "#46039f"
            ],
            [
             0.2222222222222222,
             "#7201a8"
            ],
            [
             0.3333333333333333,
             "#9c179e"
            ],
            [
             0.4444444444444444,
             "#bd3786"
            ],
            [
             0.5555555555555556,
             "#d8576b"
            ],
            [
             0.6666666666666666,
             "#ed7953"
            ],
            [
             0.7777777777777778,
             "#fb9f3a"
            ],
            [
             0.8888888888888888,
             "#fdca26"
            ],
            [
             1,
             "#f0f921"
            ]
           ],
           "sequentialminus": [
            [
             0,
             "#0d0887"
            ],
            [
             0.1111111111111111,
             "#46039f"
            ],
            [
             0.2222222222222222,
             "#7201a8"
            ],
            [
             0.3333333333333333,
             "#9c179e"
            ],
            [
             0.4444444444444444,
             "#bd3786"
            ],
            [
             0.5555555555555556,
             "#d8576b"
            ],
            [
             0.6666666666666666,
             "#ed7953"
            ],
            [
             0.7777777777777778,
             "#fb9f3a"
            ],
            [
             0.8888888888888888,
             "#fdca26"
            ],
            [
             1,
             "#f0f921"
            ]
           ]
          },
          "colorway": [
           "#636efa",
           "#EF553B",
           "#00cc96",
           "#ab63fa",
           "#FFA15A",
           "#19d3f3",
           "#FF6692",
           "#B6E880",
           "#FF97FF",
           "#FECB52"
          ],
          "font": {
           "color": "#2a3f5f"
          },
          "geo": {
           "bgcolor": "white",
           "lakecolor": "white",
           "landcolor": "#E5ECF6",
           "showlakes": true,
           "showland": true,
           "subunitcolor": "white"
          },
          "hoverlabel": {
           "align": "left"
          },
          "hovermode": "closest",
          "mapbox": {
           "style": "light"
          },
          "paper_bgcolor": "white",
          "plot_bgcolor": "#E5ECF6",
          "polar": {
           "angularaxis": {
            "gridcolor": "white",
            "linecolor": "white",
            "ticks": ""
           },
           "bgcolor": "#E5ECF6",
           "radialaxis": {
            "gridcolor": "white",
            "linecolor": "white",
            "ticks": ""
           }
          },
          "scene": {
           "xaxis": {
            "backgroundcolor": "#E5ECF6",
            "gridcolor": "white",
            "gridwidth": 2,
            "linecolor": "white",
            "showbackground": true,
            "ticks": "",
            "zerolinecolor": "white"
           },
           "yaxis": {
            "backgroundcolor": "#E5ECF6",
            "gridcolor": "white",
            "gridwidth": 2,
            "linecolor": "white",
            "showbackground": true,
            "ticks": "",
            "zerolinecolor": "white"
           },
           "zaxis": {
            "backgroundcolor": "#E5ECF6",
            "gridcolor": "white",
            "gridwidth": 2,
            "linecolor": "white",
            "showbackground": true,
            "ticks": "",
            "zerolinecolor": "white"
           }
          },
          "shapedefaults": {
           "line": {
            "color": "#2a3f5f"
           }
          },
          "ternary": {
           "aaxis": {
            "gridcolor": "white",
            "linecolor": "white",
            "ticks": ""
           },
           "baxis": {
            "gridcolor": "white",
            "linecolor": "white",
            "ticks": ""
           },
           "bgcolor": "#E5ECF6",
           "caxis": {
            "gridcolor": "white",
            "linecolor": "white",
            "ticks": ""
           }
          },
          "title": {
           "x": 0.05
          },
          "xaxis": {
           "automargin": true,
           "gridcolor": "white",
           "linecolor": "white",
           "ticks": "",
           "title": {
            "standoff": 15
           },
           "zerolinecolor": "white",
           "zerolinewidth": 2
          },
          "yaxis": {
           "automargin": true,
           "gridcolor": "white",
           "linecolor": "white",
           "ticks": "",
           "title": {
            "standoff": 15
           },
           "zerolinecolor": "white",
           "zerolinewidth": 2
          }
         }
        },
        "title": {
         "text": "(C) Input Function"
        },
        "xaxis": {
         "dtick": 1,
         "range": [
          0,
          10
         ],
         "tick0": 0,
         "title": {
          "text": "Time [min]"
         }
        },
        "yaxis": {
         "range": [
          -0.1,
          11
         ],
         "title": {
          "text": "Concentration [mM]"
         }
        }
       }
      },
      "text/html": [
       "<div>                            <div id=\"a862e9ef-3fa6-4f0f-a514-188e3cc21141\" class=\"plotly-graph-div\" style=\"height:525px; width:100%;\"></div>            <script type=\"text/javascript\">                require([\"plotly\"], function(Plotly) {                    window.PLOTLYENV=window.PLOTLYENV || {};                                    if (document.getElementById(\"a862e9ef-3fa6-4f0f-a514-188e3cc21141\")) {                    Plotly.newPlot(                        \"a862e9ef-3fa6-4f0f-a514-188e3cc21141\",                        [{\"line\": {\"color\": \"red\"}, \"mode\": \"lines\", \"type\": \"scatter\", \"x\": [0.0016666666666666668, 0.08499999999999999, 0.16833333333333333, 0.25166666666666665, 0.335, 0.41833333333333333, 0.5016666666666667, 0.5850000000000001, 0.6683333333333333, 0.7516666666666667, 0.8350000000000001, 0.9183333333333333, 1.0016666666666667, 1.085, 1.1683333333333332, 1.2516666666666665, 1.335, 1.4183333333333332, 1.5016666666666665, 1.585, 1.6683333333333332, 1.7516666666666665, 1.835, 1.9183333333333332, 2.0016666666666665, 2.085, 2.1683333333333334, 2.2516666666666665, 2.335, 2.4183333333333334, 2.5016666666666665, 2.585, 2.6683333333333334, 2.7516666666666665, 2.835, 2.9183333333333334, 3.0016666666666665, 3.085, 3.1683333333333334, 3.2516666666666665, 3.335, 3.4183333333333334, 3.5016666666666665, 3.585, 3.6683333333333334, 3.7516666666666665, 3.835, 3.9183333333333334, 4.001666666666667, 4.085, 4.168333333333333, 4.251666666666667, 4.335, 4.418333333333334, 4.501666666666667, 4.585, 4.668333333333334, 4.751666666666667, 4.835, 4.918333333333334, 5.001666666666666, 5.084999999999999, 5.168333333333333, 5.251666666666666, 5.334999999999999, 5.418333333333333, 5.501666666666666, 5.584999999999999, 5.668333333333333, 5.751666666666667, 5.835, 5.918333333333334, 6.001666666666667, 6.085, 6.168333333333334, 6.251666666666667, 6.335, 6.418333333333334, 6.501666666666667, 6.585, 6.668333333333334, 6.751666666666667, 6.835, 6.918333333333334, 7.001666666666667, 7.085, 7.168333333333334, 7.251666666666667, 7.335, 7.418333333333334, 7.501666666666667, 7.585, 7.668333333333334, 7.751666666666667, 7.835, 7.918333333333334, 8.001666666666667, 8.085, 8.168333333333333, 8.251666666666667, 8.335, 8.418333333333333, 8.501666666666667, 8.585, 8.668333333333333, 8.751666666666667, 8.835, 8.918333333333333, 9.001666666666667, 9.085, 9.168333333333333, 9.251666666666667, 9.335, 9.418333333333333, 9.501666666666667, 9.585, 9.668333333333333, 9.751666666666667, 9.835, 9.918333333333333], \"y\": [0.04613946486375311, 0.007790668414823125, -0.056685291481859794, -0.012866297025930645, 0.05447309944675663, 0.03405916181076526, -0.06654741595972537, -0.006556793479038596, -0.08550354754536943, -0.002061173873547717, -0.02626883538133613, 0.0072398127412851435, 0.049502370399403334, 9.936472001017659, 10.726441435693559, 4.007035093931935, 1.7172279430886237, 2.593049725975948, 3.0797558615792666, 2.4362793094898763, 2.0945591269527997, 2.2472332576650342, 2.370571111881735, 2.172996501699644, 1.9039281562005954, 2.010713275115827, 1.9132573630834697, 1.9331865117486324, 1.781931448395357, 1.727917670284065, 1.728233574504239, 1.6759273946529951, 1.6706106470000708, 1.6516428322621268, 1.631518600982928, 1.6102084931143543, 1.5025466424562048, 1.459845383481468, 1.5289266693048285, 1.442831794410663, 1.3612154192845352, 1.2929962320680253, 1.4032938339777712, 1.3833644861868004, 1.3739355855486177, 1.2735802166714163, 1.3306027476951525, 1.3780125593524717, 1.2238375470951586, 1.2459824416106438, 1.3684108300077877, 1.27833461491594, 1.1893099226882757, 1.2175873153425085, 1.2135747024507302, 1.2629712362188175, 1.184654536775834, 1.1332653969183466, 1.1404563542917965, 1.160047761471369, 1.1665357003579049, 1.0737547005866497, 1.1336057563055586, 1.0574905317448795, 1.0501530978129798, 1.0807103708809471, 1.0195212337936466, 1.0814096653390797, 1.1487605740703446, 1.0359915350132667, 0.9882987153591305, 0.9597491011112284, 0.9243179792179845, 0.9563283409282283, 0.9869836011123743, 0.9512883764264387, 0.9051381419900759, 0.9569593263007666, 0.9110774602015791, 0.8690452893580509, 0.9598378211819947, 0.8393021997703033, 0.8928895131570869, 0.9025255877641749, 0.8047973779246176, 0.7897616126653814, 0.8680896701039121, 0.7788802830813153, 0.9100886387931135, 0.8514119108106469, 0.8867558697896432, 0.8700591395946914, 0.8531640903493566, 0.8482628258020807, 0.8058210342683289, 0.7775061000443964, 0.7290021216233715, 0.8593246052837431, 0.8123662683883075, 0.7500386347556217, 0.7651219478272964, 0.7378023834859381, 0.8032344748224959, 0.759900448913662, 0.7488017989637947, 0.7662616796847886, 0.7289534678474613, 0.7211208527898972, 0.7182498010121081, 0.6606831519819403, 0.6956046699793121, 0.7583730217686371, 0.7451252583600526, 0.6918078494958553, 0.7244940184570733, 0.673954457500896, 0.7084204724425677, 0.6577991187195803, 0.7507305853807164, 0.5935297943510198]}],                        {\"annotations\": [{\"font\": {\"color\": \"black\", \"size\": 20}, \"showarrow\": false, \"text\": \"Input Function Tail\", \"x\": 10, \"xanchor\": \"right\", \"xref\": \"x\", \"xshift\": -140, \"y\": 1, \"yanchor\": \"top\", \"yref\": \"y domain\", \"yshift\": -100}, {\"arrowcolor\": \"black\", \"arrowhead\": 3, \"arrowsize\": 2, \"arrowwidth\": 2, \"ax\": 3, \"axref\": \"x\", \"ay\": 5, \"ayref\": \"y\", \"showarrow\": true, \"text\": \"\", \"x\": 10, \"xref\": \"x\", \"y\": 5, \"yref\": \"y\"}, {\"arrowcolor\": \"black\", \"arrowhead\": 3, \"arrowsize\": 2, \"arrowwidth\": 2, \"ax\": 10, \"axref\": \"x\", \"ay\": 5, \"ayref\": \"y\", \"showarrow\": true, \"text\": \"\", \"x\": 3, \"xref\": \"x\", \"y\": 5, \"yref\": \"y\"}, {\"font\": {\"color\": \"black\", \"size\": 20}, \"showarrow\": false, \"text\": \"$T_{tail}$\", \"x\": 6.5, \"xanchor\": \"center\", \"y\": 4.6, \"yanchor\": \"top\"}, {\"arrowcolor\": \"black\", \"arrowhead\": 3, \"arrowsize\": 1, \"arrowwidth\": 2, \"ax\": 3, \"axref\": \"x\", \"ay\": 2, \"ayref\": \"y\", \"font\": {\"color\": \"black\", \"size\": 16}, \"showarrow\": true, \"text\": \"$T_{start}$\", \"x\": 3, \"xref\": \"x\", \"y\": 0, \"yref\": \"y\"}, {\"arrowcolor\": \"black\", \"arrowhead\": 3, \"arrowsize\": 1, \"arrowwidth\": 2, \"ax\": 10, \"axref\": \"x\", \"ay\": 2, \"ayref\": \"y\", \"font\": {\"color\": \"black\", \"size\": 16}, \"showarrow\": true, \"text\": \"$T_{end}$\", \"x\": 10, \"xref\": \"x\", \"y\": 0, \"yref\": \"y\"}], \"plot_bgcolor\": \"#fff\", \"shapes\": [{\"fillcolor\": \"LightGray\", \"layer\": \"below\", \"line\": {\"width\": 0}, \"opacity\": 0.5, \"type\": \"rect\", \"x0\": 3, \"x1\": 10, \"xref\": \"x\", \"y0\": 0, \"y1\": 1, \"yref\": \"y domain\"}], \"template\": {\"data\": {\"bar\": [{\"error_x\": {\"color\": \"#2a3f5f\"}, \"error_y\": {\"color\": \"#2a3f5f\"}, \"marker\": {\"line\": {\"color\": \"#E5ECF6\", \"width\": 0.5}}, \"type\": \"bar\"}], \"barpolar\": [{\"marker\": {\"line\": {\"color\": \"#E5ECF6\", \"width\": 0.5}}, \"type\": \"barpolar\"}], \"carpet\": [{\"aaxis\": {\"endlinecolor\": \"#2a3f5f\", \"gridcolor\": \"white\", \"linecolor\": \"white\", \"minorgridcolor\": \"white\", \"startlinecolor\": \"#2a3f5f\"}, \"baxis\": {\"endlinecolor\": \"#2a3f5f\", \"gridcolor\": \"white\", \"linecolor\": \"white\", \"minorgridcolor\": \"white\", \"startlinecolor\": \"#2a3f5f\"}, \"type\": \"carpet\"}], \"choropleth\": [{\"colorbar\": {\"outlinewidth\": 0, \"ticks\": \"\"}, \"type\": \"choropleth\"}], \"contour\": [{\"colorbar\": {\"outlinewidth\": 0, \"ticks\": \"\"}, \"colorscale\": [[0.0, \"#0d0887\"], [0.1111111111111111, \"#46039f\"], [0.2222222222222222, \"#7201a8\"], [0.3333333333333333, \"#9c179e\"], [0.4444444444444444, \"#bd3786\"], [0.5555555555555556, \"#d8576b\"], [0.6666666666666666, \"#ed7953\"], [0.7777777777777778, \"#fb9f3a\"], [0.8888888888888888, \"#fdca26\"], [1.0, \"#f0f921\"]], \"type\": \"contour\"}], \"contourcarpet\": [{\"colorbar\": {\"outlinewidth\": 0, \"ticks\": \"\"}, \"type\": \"contourcarpet\"}], \"heatmap\": [{\"colorbar\": {\"outlinewidth\": 0, \"ticks\": \"\"}, \"colorscale\": [[0.0, \"#0d0887\"], [0.1111111111111111, \"#46039f\"], [0.2222222222222222, \"#7201a8\"], [0.3333333333333333, \"#9c179e\"], [0.4444444444444444, \"#bd3786\"], [0.5555555555555556, \"#d8576b\"], [0.6666666666666666, \"#ed7953\"], [0.7777777777777778, \"#fb9f3a\"], [0.8888888888888888, \"#fdca26\"], [1.0, \"#f0f921\"]], \"type\": \"heatmap\"}], \"heatmapgl\": [{\"colorbar\": {\"outlinewidth\": 0, \"ticks\": \"\"}, \"colorscale\": [[0.0, \"#0d0887\"], [0.1111111111111111, \"#46039f\"], [0.2222222222222222, \"#7201a8\"], [0.3333333333333333, \"#9c179e\"], [0.4444444444444444, \"#bd3786\"], [0.5555555555555556, \"#d8576b\"], [0.6666666666666666, \"#ed7953\"], [0.7777777777777778, \"#fb9f3a\"], [0.8888888888888888, \"#fdca26\"], [1.0, \"#f0f921\"]], \"type\": \"heatmapgl\"}], \"histogram\": [{\"marker\": {\"colorbar\": {\"outlinewidth\": 0, \"ticks\": \"\"}}, \"type\": \"histogram\"}], \"histogram2d\": [{\"colorbar\": {\"outlinewidth\": 0, \"ticks\": \"\"}, \"colorscale\": [[0.0, \"#0d0887\"], [0.1111111111111111, \"#46039f\"], [0.2222222222222222, \"#7201a8\"], [0.3333333333333333, \"#9c179e\"], [0.4444444444444444, \"#bd3786\"], [0.5555555555555556, \"#d8576b\"], [0.6666666666666666, \"#ed7953\"], [0.7777777777777778, \"#fb9f3a\"], [0.8888888888888888, \"#fdca26\"], [1.0, \"#f0f921\"]], \"type\": \"histogram2d\"}], \"histogram2dcontour\": [{\"colorbar\": {\"outlinewidth\": 0, \"ticks\": \"\"}, \"colorscale\": [[0.0, \"#0d0887\"], [0.1111111111111111, \"#46039f\"], [0.2222222222222222, \"#7201a8\"], [0.3333333333333333, \"#9c179e\"], [0.4444444444444444, \"#bd3786\"], [0.5555555555555556, \"#d8576b\"], [0.6666666666666666, \"#ed7953\"], [0.7777777777777778, \"#fb9f3a\"], [0.8888888888888888, \"#fdca26\"], [1.0, \"#f0f921\"]], \"type\": \"histogram2dcontour\"}], \"mesh3d\": [{\"colorbar\": {\"outlinewidth\": 0, \"ticks\": \"\"}, \"type\": \"mesh3d\"}], \"parcoords\": [{\"line\": {\"colorbar\": {\"outlinewidth\": 0, \"ticks\": \"\"}}, \"type\": \"parcoords\"}], \"pie\": [{\"automargin\": true, \"type\": \"pie\"}], \"scatter\": [{\"marker\": {\"colorbar\": {\"outlinewidth\": 0, \"ticks\": \"\"}}, \"type\": \"scatter\"}], \"scatter3d\": [{\"line\": {\"colorbar\": {\"outlinewidth\": 0, \"ticks\": \"\"}}, \"marker\": {\"colorbar\": {\"outlinewidth\": 0, \"ticks\": \"\"}}, \"type\": \"scatter3d\"}], \"scattercarpet\": [{\"marker\": {\"colorbar\": {\"outlinewidth\": 0, \"ticks\": \"\"}}, \"type\": \"scattercarpet\"}], \"scattergeo\": [{\"marker\": {\"colorbar\": {\"outlinewidth\": 0, \"ticks\": \"\"}}, \"type\": \"scattergeo\"}], \"scattergl\": [{\"marker\": {\"colorbar\": {\"outlinewidth\": 0, \"ticks\": \"\"}}, \"type\": \"scattergl\"}], \"scattermapbox\": [{\"marker\": {\"colorbar\": {\"outlinewidth\": 0, \"ticks\": \"\"}}, \"type\": \"scattermapbox\"}], \"scatterpolar\": [{\"marker\": {\"colorbar\": {\"outlinewidth\": 0, \"ticks\": \"\"}}, \"type\": \"scatterpolar\"}], \"scatterpolargl\": [{\"marker\": {\"colorbar\": {\"outlinewidth\": 0, \"ticks\": \"\"}}, \"type\": \"scatterpolargl\"}], \"scatterternary\": [{\"marker\": {\"colorbar\": {\"outlinewidth\": 0, \"ticks\": \"\"}}, \"type\": \"scatterternary\"}], \"surface\": [{\"colorbar\": {\"outlinewidth\": 0, \"ticks\": \"\"}, \"colorscale\": [[0.0, \"#0d0887\"], [0.1111111111111111, \"#46039f\"], [0.2222222222222222, \"#7201a8\"], [0.3333333333333333, \"#9c179e\"], [0.4444444444444444, \"#bd3786\"], [0.5555555555555556, \"#d8576b\"], [0.6666666666666666, \"#ed7953\"], [0.7777777777777778, \"#fb9f3a\"], [0.8888888888888888, \"#fdca26\"], [1.0, \"#f0f921\"]], \"type\": \"surface\"}], \"table\": [{\"cells\": {\"fill\": {\"color\": \"#EBF0F8\"}, \"line\": {\"color\": \"white\"}}, \"header\": {\"fill\": {\"color\": \"#C8D4E3\"}, \"line\": {\"color\": \"white\"}}, \"type\": \"table\"}]}, \"layout\": {\"annotationdefaults\": {\"arrowcolor\": \"#2a3f5f\", \"arrowhead\": 0, \"arrowwidth\": 1}, \"autotypenumbers\": \"strict\", \"coloraxis\": {\"colorbar\": {\"outlinewidth\": 0, \"ticks\": \"\"}}, \"colorscale\": {\"diverging\": [[0, \"#8e0152\"], [0.1, \"#c51b7d\"], [0.2, \"#de77ae\"], [0.3, \"#f1b6da\"], [0.4, \"#fde0ef\"], [0.5, \"#f7f7f7\"], [0.6, \"#e6f5d0\"], [0.7, \"#b8e186\"], [0.8, \"#7fbc41\"], [0.9, \"#4d9221\"], [1, \"#276419\"]], \"sequential\": [[0.0, \"#0d0887\"], [0.1111111111111111, \"#46039f\"], [0.2222222222222222, \"#7201a8\"], [0.3333333333333333, \"#9c179e\"], [0.4444444444444444, \"#bd3786\"], [0.5555555555555556, \"#d8576b\"], [0.6666666666666666, \"#ed7953\"], [0.7777777777777778, \"#fb9f3a\"], [0.8888888888888888, \"#fdca26\"], [1.0, \"#f0f921\"]], \"sequentialminus\": [[0.0, \"#0d0887\"], [0.1111111111111111, \"#46039f\"], [0.2222222222222222, \"#7201a8\"], [0.3333333333333333, \"#9c179e\"], [0.4444444444444444, \"#bd3786\"], [0.5555555555555556, \"#d8576b\"], [0.6666666666666666, \"#ed7953\"], [0.7777777777777778, \"#fb9f3a\"], [0.8888888888888888, \"#fdca26\"], [1.0, \"#f0f921\"]]}, \"colorway\": [\"#636efa\", \"#EF553B\", \"#00cc96\", \"#ab63fa\", \"#FFA15A\", \"#19d3f3\", \"#FF6692\", \"#B6E880\", \"#FF97FF\", \"#FECB52\"], \"font\": {\"color\": \"#2a3f5f\"}, \"geo\": {\"bgcolor\": \"white\", \"lakecolor\": \"white\", \"landcolor\": \"#E5ECF6\", \"showlakes\": true, \"showland\": true, \"subunitcolor\": \"white\"}, \"hoverlabel\": {\"align\": \"left\"}, \"hovermode\": \"closest\", \"mapbox\": {\"style\": \"light\"}, \"paper_bgcolor\": \"white\", \"plot_bgcolor\": \"#E5ECF6\", \"polar\": {\"angularaxis\": {\"gridcolor\": \"white\", \"linecolor\": \"white\", \"ticks\": \"\"}, \"bgcolor\": \"#E5ECF6\", \"radialaxis\": {\"gridcolor\": \"white\", \"linecolor\": \"white\", \"ticks\": \"\"}}, \"scene\": {\"xaxis\": {\"backgroundcolor\": \"#E5ECF6\", \"gridcolor\": \"white\", \"gridwidth\": 2, \"linecolor\": \"white\", \"showbackground\": true, \"ticks\": \"\", \"zerolinecolor\": \"white\"}, \"yaxis\": {\"backgroundcolor\": \"#E5ECF6\", \"gridcolor\": \"white\", \"gridwidth\": 2, \"linecolor\": \"white\", \"showbackground\": true, \"ticks\": \"\", \"zerolinecolor\": \"white\"}, \"zaxis\": {\"backgroundcolor\": \"#E5ECF6\", \"gridcolor\": \"white\", \"gridwidth\": 2, \"linecolor\": \"white\", \"showbackground\": true, \"ticks\": \"\", \"zerolinecolor\": \"white\"}}, \"shapedefaults\": {\"line\": {\"color\": \"#2a3f5f\"}}, \"ternary\": {\"aaxis\": {\"gridcolor\": \"white\", \"linecolor\": \"white\", \"ticks\": \"\"}, \"baxis\": {\"gridcolor\": \"white\", \"linecolor\": \"white\", \"ticks\": \"\"}, \"bgcolor\": \"#E5ECF6\", \"caxis\": {\"gridcolor\": \"white\", \"linecolor\": \"white\", \"ticks\": \"\"}}, \"title\": {\"x\": 0.05}, \"xaxis\": {\"automargin\": true, \"gridcolor\": \"white\", \"linecolor\": \"white\", \"ticks\": \"\", \"title\": {\"standoff\": 15}, \"zerolinecolor\": \"white\", \"zerolinewidth\": 2}, \"yaxis\": {\"automargin\": true, \"gridcolor\": \"white\", \"linecolor\": \"white\", \"ticks\": \"\", \"title\": {\"standoff\": 15}, \"zerolinecolor\": \"white\", \"zerolinewidth\": 2}}}, \"title\": {\"text\": \"(C) Input Function\"}, \"xaxis\": {\"dtick\": 1, \"range\": [0, 10], \"tick0\": 0, \"title\": {\"text\": \"Time [min]\"}}, \"yaxis\": {\"range\": [-0.1, 11], \"title\": {\"text\": \"Concentration [mM]\"}}},                        {\"responsive\": true}                    ).then(function(){\n",
       "                            \n",
       "var gd = document.getElementById('a862e9ef-3fa6-4f0f-a514-188e3cc21141');\n",
       "var x = new MutationObserver(function (mutations, observer) {{\n",
       "        var display = window.getComputedStyle(gd).display;\n",
       "        if (!display || display === 'none') {{\n",
       "            console.log([gd, 'removed!']);\n",
       "            Plotly.purge(gd);\n",
       "            observer.disconnect();\n",
       "        }}\n",
       "}});\n",
       "\n",
       "// Listen for the removal of the full notebook cells\n",
       "var notebookContainer = gd.closest('#notebook-container');\n",
       "if (notebookContainer) {{\n",
       "    x.observe(notebookContainer, {childList: true});\n",
       "}}\n",
       "\n",
       "// Listen for the clearing of the current output cell\n",
       "var outputEl = gd.closest('.output');\n",
       "if (outputEl) {{\n",
       "    x.observe(outputEl, {childList: true});\n",
       "}}\n",
       "\n",
       "                        })                };                });            </script>        </div>"
      ]
     },
     "metadata": {},
     "output_type": "display_data"
    }
   ],
   "source": [
    "%get t --from MATLAB\n",
    "%get Cp --from MATLAB\n",
    "\n",
    "fig = go.Figure()\n",
    "\n",
    "fig.add_trace(go.Scatter(x=t, \n",
    "                         y=Cp, \n",
    "                         mode='lines',\n",
    "                         line_color='red'))\n",
    "\n",
    "fig.update_layout(title='(C) Input Function',\n",
    "                   xaxis_title='Time [min]',\n",
    "                   yaxis_title='Concentration [mM]',\n",
    "                   xaxis_range=[0,10],\n",
    "                   yaxis_range=[-0.1,11],\n",
    "                   plot_bgcolor=\"#fff\",\n",
    ")\n",
    "\n",
    "#Adding a shape region\n",
    "fig.add_vrect(\n",
    "    x0=3, x1=10,\n",
    "    fillcolor=\"LightGray\", opacity=0.5,\n",
    "    layer=\"below\", line_width=0,\n",
    "    annotation=dict(text=\"Input Function Tail\",\n",
    "                  xref=\"x2 domain\", yref=\"y2 domain\",\n",
    "                  xanchor=\"right\", yanchor=\"top\", \n",
    "                  xshift=-140, yshift=-100,\n",
    "                  showarrow=False, font=dict(size=20, color='black'))\n",
    ")\n",
    "\n",
    "# T_{tail}\n",
    "# An arrow for T_{tail} that points to the right side of the highlighted region\n",
    "fig.add_annotation(\n",
    "    x=10,  # arrows' head\n",
    "    y=5,  # arrows' head\n",
    "    ax=3, # arrows' tail\n",
    "    ay=5,  # arrows' tail\n",
    "    xref='x',\n",
    "    yref='y',\n",
    "    axref='x',\n",
    "    ayref='y',\n",
    "    text='',  # if you want only the arrow\n",
    "    showarrow=True,\n",
    "    arrowhead=3,\n",
    "    arrowsize=2,\n",
    "    arrowwidth=2,\n",
    "    arrowcolor='black'\n",
    ")\n",
    "\n",
    "# An arrow for T_{tail} that points to the left side of the highlighted region\n",
    "fig.add_annotation(\n",
    "    x=3,  # arrows' head\n",
    "    y=5,  # arrows' head\n",
    "    ax=10, # arrows' tail\n",
    "    ay=5,  # arrows' tail\n",
    "    xref='x',\n",
    "    yref='y',\n",
    "    axref='x',\n",
    "    ayref='y',\n",
    "    text='',  # if you want only the arrow\n",
    "    showarrow=True,\n",
    "    arrowhead=3,\n",
    "    arrowsize=2,\n",
    "    arrowwidth=2,\n",
    "    arrowcolor='black'\n",
    ")\n",
    "\n",
    "# Text annotation for T_{tail} below the arrows\n",
    "fig.add_annotation(  \n",
    "    x=6.5,\n",
    "    y=4.6,\n",
    "    text=r'$T_{tail}$',\n",
    "    xanchor=\"center\", yanchor=\"top\", \n",
    "    showarrow=False, font=dict(size=20, color='black'))\n",
    "\n",
    "\n",
    "# T_{start}\n",
    "# An arrow for T_{start}\n",
    "fig.add_annotation(\n",
    "    x=3,  # arrows' head\n",
    "    y=0,  # arrows' head\n",
    "    ax=3, # arrows' tail\n",
    "    ay=2,  # arrows' tail\n",
    "    xref='x',\n",
    "    yref='y',\n",
    "    axref='x',\n",
    "    ayref='y',\n",
    "    text=r'$T_{start}$',\n",
    "    font=dict(size=16, color='black'),\n",
    "    showarrow=True,\n",
    "    arrowhead=3,\n",
    "    arrowsize=1,\n",
    "    arrowwidth=2,\n",
    "    arrowcolor='black'\n",
    ")\n",
    "\n",
    "# T_{end}\n",
    "# An arrow for T_{end}\n",
    "fig.add_annotation(\n",
    "    x=10,  # arrows' head\n",
    "    y=0,  # arrows' head\n",
    "    ax=10, # arrows' tail\n",
    "    ay=2,  # arrows' tail\n",
    "    xref='x',\n",
    "    yref='y',\n",
    "    axref='x',\n",
    "    ayref='y',\n",
    "    text=r'$T_{end}$',\n",
    "    font=dict(size=16, color='black'),\n",
    "    showarrow=True,\n",
    "    arrowhead=3,\n",
    "    arrowsize=1,\n",
    "    arrowwidth=2,\n",
    "    arrowcolor='black'\n",
    ")\n",
    "\n",
    "\n",
    "fig.update_xaxes(tick0=0, dtick=1)\n",
    "fig.show()"
   ]
  },
  {
   "cell_type": "markdown",
   "metadata": {
    "kernel": "SoS"
   },
   "source": [
    "* (D) RRIFT Fit <a name=\"rrift-fit\"></a>"
   ]
  },
  {
   "cell_type": "code",
   "execution_count": 6,
   "metadata": {
    "kernel": "SoS",
    "scrolled": false
   },
   "outputs": [
    {
     "data": {
      "application/vnd.plotly.v1+json": {
       "config": {
        "plotlyServerURL": "https://plot.ly"
       },
       "data": [
        {
         "marker": {
          "color": "red",
          "size": 14,
          "symbol": "circle-open"
         },
         "mode": "markers",
         "name": "Markers",
         "type": "scatter",
         "x": [
          0,
          0.12343300108073658,
          0.2479651699468325,
          0.37178843926831084,
          0.4886237398389443,
          0.5992158919786346,
          0.711561311397209,
          0.8276720747373997,
          0.9425595777263757,
          1.05287273615221,
          1.161380359667484,
          1.2742393307944686,
          1.3826497518964533,
          1.4855589180925282,
          1.594491971076629,
          1.704773031281785,
          1.8075915536819602,
          1.9078789385999102,
          2.0091773560079615,
          2.112366770119192,
          2.2143511773273032,
          2.31093117456456,
          2.4056695808649824,
          2.5015239190217815,
          2.5984648965979997,
          2.6918103299706893,
          2.7837836823411988,
          2.8750793610099667,
          2.962897845574877,
          3.051683823437125,
          3.139193473631899,
          3.2267322610957625,
          3.3196560210711556,
          3.41068735894964,
          3.4950327860484895,
          3.5762014450680883,
          3.6547042400818053,
          3.7330645034212306,
          3.8140358343395895,
          3.89479716673704,
          3.972148271671061,
          4.04973566618318,
          4.127570532287444,
          4.2017423135190946,
          4.277945776458264,
          4.352909943997942,
          4.42508459870325,
          4.499893561241636,
          4.571032018145336,
          4.6374719760865855,
          4.70654911286864,
          4.7751728609180235,
          4.845546565996124,
          4.918942422229615,
          4.991366079754627,
          5.064566705145641,
          5.1363676730599765,
          5.207260461232953,
          5.276180622069219,
          5.3421525859989165,
          5.40492376190174,
          5.471104042189537,
          5.540757828592538,
          5.605858032890202,
          5.6689897238311575,
          5.731611570969208,
          5.795821440065393,
          5.860952061887733,
          5.923814655549293,
          5.986942300492984,
          6.049242931640162,
          6.1096626950000505,
          6.169636472241801,
          6.227092011949886,
          6.283604004531604,
          6.344186408354435,
          6.4068321700264645,
          6.466704382853793,
          6.525716960685165,
          6.583985647183415,
          6.6415846025977245,
          6.698510418896148,
          6.757199156566994,
          6.813210005722482
         ],
         "y": [
          0,
          0.007908903942690747,
          0.018754872012577847,
          0.026816819149098524,
          0.036372355581216965,
          0.04591178145832502,
          0.05640330422513612,
          0.0620139776711223,
          0.0683211150184944,
          0.07546353252642285,
          0.08553991178003313,
          0.08776440858709551,
          0.10317662771116923,
          0.1118840797218716,
          0.12047699305625488,
          0.12092795940974621,
          0.1297871161643764,
          0.1365798067187398,
          0.14444000680120314,
          0.1497450494737581,
          0.1616244650329911,
          0.1611416370873968,
          0.1727455106918475,
          0.17743768059781573,
          0.1881146868025441,
          0.19061590502318765,
          0.1980531498969503,
          0.2075519799189331,
          0.20454226363202363,
          0.21235937128320412,
          0.2230912207350176,
          0.22489641106804473,
          0.23346774247807256,
          0.24408294461673377,
          0.24670612745672701,
          0.250778652430165,
          0.25680395518776705,
          0.2605786668220539,
          0.27103282465934864,
          0.2787472904176363,
          0.27963318520710573,
          0.28581819968824124,
          0.2890186150877372,
          0.2933145277317637,
          0.3021535424968504,
          0.3083928673457035,
          0.31641139966482934,
          0.3167690331652001,
          0.32547646982449263,
          0.33270512365277644,
          0.338217131960336,
          0.3343405818719124,
          0.339284205655909,
          0.34528023137094754,
          0.35035394233452066,
          0.35686473269983077,
          0.36629328379289056,
          0.3705434449495437,
          0.3706405307775307,
          0.37533651827025416,
          0.3858630204488497,
          0.3925216289700073,
          0.3934122483852434,
          0.39900106514291833,
          0.40269560671441595,
          0.4039284822377327,
          0.4116448318351912,
          0.4117730990718179,
          0.42222966668264583,
          0.42198431092580524,
          0.4301092287495154,
          0.4310575837037727,
          0.43846739082966635,
          0.4380818223894837,
          0.4421169800165967,
          0.4482786851039767,
          0.4474086433687482,
          0.4602222758723675,
          0.4585217598385232,
          0.46230645558959926,
          0.47109904946664893,
          0.47758337300743037,
          0.4807848427189922,
          0.4793036028376954
         ]
        },
        {
         "line": {
          "color": "black"
         },
         "mode": "lines",
         "name": "Linear Fit",
         "type": "scatter",
         "x": [
          0,
          0.12343300108073658,
          0.2479651699468325,
          0.37178843926831084,
          0.4886237398389443,
          0.5992158919786346,
          0.711561311397209,
          0.8276720747373997,
          0.9425595777263757,
          1.05287273615221,
          1.161380359667484,
          1.2742393307944686,
          1.3826497518964533,
          1.4855589180925282,
          1.594491971076629,
          1.704773031281785,
          1.8075915536819602,
          1.9078789385999102,
          2.0091773560079615,
          2.112366770119192,
          2.2143511773273032,
          2.31093117456456,
          2.4056695808649824,
          2.5015239190217815,
          2.5984648965979997,
          2.6918103299706893,
          2.7837836823411988,
          2.8750793610099667,
          2.962897845574877,
          3.051683823437125,
          3.139193473631899,
          3.2267322610957625,
          3.3196560210711556,
          3.41068735894964,
          3.4950327860484895,
          3.5762014450680883,
          3.6547042400818053,
          3.7330645034212306,
          3.8140358343395895,
          3.89479716673704,
          3.972148271671061,
          4.04973566618318,
          4.127570532287444,
          4.2017423135190946,
          4.277945776458264,
          4.352909943997942,
          4.42508459870325,
          4.499893561241636,
          4.571032018145336,
          4.6374719760865855,
          4.70654911286864,
          4.7751728609180235,
          4.845546565996124,
          4.918942422229615,
          4.991366079754627,
          5.064566705145641,
          5.1363676730599765,
          5.207260461232953,
          5.276180622069219,
          5.3421525859989165,
          5.40492376190174,
          5.471104042189537,
          5.540757828592538,
          5.605858032890202,
          5.6689897238311575,
          5.731611570969208,
          5.795821440065393,
          5.860952061887733,
          5.923814655549293,
          5.986942300492984,
          6.049242931640162,
          6.1096626950000505,
          6.169636472241801,
          6.227092011949886,
          6.283604004531604,
          6.344186408354435,
          6.4068321700264645,
          6.466704382853793,
          6.525716960685165,
          6.583985647183415,
          6.6415846025977245,
          6.698510418896148,
          6.757199156566994,
          6.813210005722482
         ],
         "y": [
          0.0021240838886161066,
          0.0108053676501886,
          0.01956395802638389,
          0.028272690114670835,
          0.03648994472844182,
          0.04426810653380589,
          0.052169579047202735,
          0.06033587554411497,
          0.06841613775416555,
          0.07617467738736765,
          0.08380623022803643,
          0.09174382183493268,
          0.09936853824025044,
          0.10660634065607758,
          0.11426781478122527,
          0.12202409688394919,
          0.12925552414478098,
          0.1363089315686943,
          0.14343344687997883,
          0.15069095967839213,
          0.15786372199055745,
          0.16465638160644172,
          0.17131951853912597,
          0.17806114113625138,
          0.18487918920358243,
          0.19144435563281983,
          0.1979130209284909,
          0.2043340241106991,
          0.21051046944820323,
          0.2167549604767144,
          0.22290968489048663,
          0.22906645858523544,
          0.2356019679018321,
          0.24200437948057835,
          0.24793655791118457,
          0.25364530804547447,
          0.25916656276360994,
          0.2646777929510388,
          0.2703726646150169,
          0.27605276667335016,
          0.28149302078144056,
          0.28694989359651707,
          0.2924241715714416,
          0.29764081764125616,
          0.3030003558490057,
          0.3082727319936669,
          0.31334891625884936,
          0.3186103765329927,
          0.32361368298535265,
          0.32828653483975795,
          0.3331448646266982,
          0.3379713066995899,
          0.34292082666416246,
          0.34808290041516643,
          0.3531765975344184,
          0.3583249403194107,
          0.3633748424635885,
          0.3683608705548613,
          0.37320815991730244,
          0.3778480968399032,
          0.3822629160964127,
          0.38691750431486627,
          0.3918163909945873,
          0.3963950153616211,
          0.40083519034406234,
          0.40523950701723177,
          0.40975551237266183,
          0.4143362760635452,
          0.41875752490936613,
          0.4231974153289268,
          0.4275791402548236,
          0.4318285800800059,
          0.43604665283146093,
          0.4400876130245452,
          0.44406221170754145,
          0.44832309035376483,
          0.45272908898276193,
          0.4569400185108168,
          0.4610904882326129,
          0.46518863862575244,
          0.4692396855252337,
          0.4732433892375214,
          0.4773710826490739,
          0.4813104349372628
         ]
        }
       ],
       "layout": {
        "annotations": [
         {
          "font": {
           "size": 26
          },
          "showarrow": false,
          "text": "$Slope | K_{RR}^{trans}: 0.071\\space min^{-1}\\\\R^{2}:0.9996$",
          "x": 0.9,
          "xref": "paper",
          "y": 0.1,
          "yref": "paper"
         }
        ],
        "plot_bgcolor": "#fff",
        "template": {
         "data": {
          "bar": [
           {
            "error_x": {
             "color": "#2a3f5f"
            },
            "error_y": {
             "color": "#2a3f5f"
            },
            "marker": {
             "line": {
              "color": "#E5ECF6",
              "width": 0.5
             }
            },
            "type": "bar"
           }
          ],
          "barpolar": [
           {
            "marker": {
             "line": {
              "color": "#E5ECF6",
              "width": 0.5
             }
            },
            "type": "barpolar"
           }
          ],
          "carpet": [
           {
            "aaxis": {
             "endlinecolor": "#2a3f5f",
             "gridcolor": "white",
             "linecolor": "white",
             "minorgridcolor": "white",
             "startlinecolor": "#2a3f5f"
            },
            "baxis": {
             "endlinecolor": "#2a3f5f",
             "gridcolor": "white",
             "linecolor": "white",
             "minorgridcolor": "white",
             "startlinecolor": "#2a3f5f"
            },
            "type": "carpet"
           }
          ],
          "choropleth": [
           {
            "colorbar": {
             "outlinewidth": 0,
             "ticks": ""
            },
            "type": "choropleth"
           }
          ],
          "contour": [
           {
            "colorbar": {
             "outlinewidth": 0,
             "ticks": ""
            },
            "colorscale": [
             [
              0,
              "#0d0887"
             ],
             [
              0.1111111111111111,
              "#46039f"
             ],
             [
              0.2222222222222222,
              "#7201a8"
             ],
             [
              0.3333333333333333,
              "#9c179e"
             ],
             [
              0.4444444444444444,
              "#bd3786"
             ],
             [
              0.5555555555555556,
              "#d8576b"
             ],
             [
              0.6666666666666666,
              "#ed7953"
             ],
             [
              0.7777777777777778,
              "#fb9f3a"
             ],
             [
              0.8888888888888888,
              "#fdca26"
             ],
             [
              1,
              "#f0f921"
             ]
            ],
            "type": "contour"
           }
          ],
          "contourcarpet": [
           {
            "colorbar": {
             "outlinewidth": 0,
             "ticks": ""
            },
            "type": "contourcarpet"
           }
          ],
          "heatmap": [
           {
            "colorbar": {
             "outlinewidth": 0,
             "ticks": ""
            },
            "colorscale": [
             [
              0,
              "#0d0887"
             ],
             [
              0.1111111111111111,
              "#46039f"
             ],
             [
              0.2222222222222222,
              "#7201a8"
             ],
             [
              0.3333333333333333,
              "#9c179e"
             ],
             [
              0.4444444444444444,
              "#bd3786"
             ],
             [
              0.5555555555555556,
              "#d8576b"
             ],
             [
              0.6666666666666666,
              "#ed7953"
             ],
             [
              0.7777777777777778,
              "#fb9f3a"
             ],
             [
              0.8888888888888888,
              "#fdca26"
             ],
             [
              1,
              "#f0f921"
             ]
            ],
            "type": "heatmap"
           }
          ],
          "heatmapgl": [
           {
            "colorbar": {
             "outlinewidth": 0,
             "ticks": ""
            },
            "colorscale": [
             [
              0,
              "#0d0887"
             ],
             [
              0.1111111111111111,
              "#46039f"
             ],
             [
              0.2222222222222222,
              "#7201a8"
             ],
             [
              0.3333333333333333,
              "#9c179e"
             ],
             [
              0.4444444444444444,
              "#bd3786"
             ],
             [
              0.5555555555555556,
              "#d8576b"
             ],
             [
              0.6666666666666666,
              "#ed7953"
             ],
             [
              0.7777777777777778,
              "#fb9f3a"
             ],
             [
              0.8888888888888888,
              "#fdca26"
             ],
             [
              1,
              "#f0f921"
             ]
            ],
            "type": "heatmapgl"
           }
          ],
          "histogram": [
           {
            "marker": {
             "colorbar": {
              "outlinewidth": 0,
              "ticks": ""
             }
            },
            "type": "histogram"
           }
          ],
          "histogram2d": [
           {
            "colorbar": {
             "outlinewidth": 0,
             "ticks": ""
            },
            "colorscale": [
             [
              0,
              "#0d0887"
             ],
             [
              0.1111111111111111,
              "#46039f"
             ],
             [
              0.2222222222222222,
              "#7201a8"
             ],
             [
              0.3333333333333333,
              "#9c179e"
             ],
             [
              0.4444444444444444,
              "#bd3786"
             ],
             [
              0.5555555555555556,
              "#d8576b"
             ],
             [
              0.6666666666666666,
              "#ed7953"
             ],
             [
              0.7777777777777778,
              "#fb9f3a"
             ],
             [
              0.8888888888888888,
              "#fdca26"
             ],
             [
              1,
              "#f0f921"
             ]
            ],
            "type": "histogram2d"
           }
          ],
          "histogram2dcontour": [
           {
            "colorbar": {
             "outlinewidth": 0,
             "ticks": ""
            },
            "colorscale": [
             [
              0,
              "#0d0887"
             ],
             [
              0.1111111111111111,
              "#46039f"
             ],
             [
              0.2222222222222222,
              "#7201a8"
             ],
             [
              0.3333333333333333,
              "#9c179e"
             ],
             [
              0.4444444444444444,
              "#bd3786"
             ],
             [
              0.5555555555555556,
              "#d8576b"
             ],
             [
              0.6666666666666666,
              "#ed7953"
             ],
             [
              0.7777777777777778,
              "#fb9f3a"
             ],
             [
              0.8888888888888888,
              "#fdca26"
             ],
             [
              1,
              "#f0f921"
             ]
            ],
            "type": "histogram2dcontour"
           }
          ],
          "mesh3d": [
           {
            "colorbar": {
             "outlinewidth": 0,
             "ticks": ""
            },
            "type": "mesh3d"
           }
          ],
          "parcoords": [
           {
            "line": {
             "colorbar": {
              "outlinewidth": 0,
              "ticks": ""
             }
            },
            "type": "parcoords"
           }
          ],
          "pie": [
           {
            "automargin": true,
            "type": "pie"
           }
          ],
          "scatter": [
           {
            "marker": {
             "colorbar": {
              "outlinewidth": 0,
              "ticks": ""
             }
            },
            "type": "scatter"
           }
          ],
          "scatter3d": [
           {
            "line": {
             "colorbar": {
              "outlinewidth": 0,
              "ticks": ""
             }
            },
            "marker": {
             "colorbar": {
              "outlinewidth": 0,
              "ticks": ""
             }
            },
            "type": "scatter3d"
           }
          ],
          "scattercarpet": [
           {
            "marker": {
             "colorbar": {
              "outlinewidth": 0,
              "ticks": ""
             }
            },
            "type": "scattercarpet"
           }
          ],
          "scattergeo": [
           {
            "marker": {
             "colorbar": {
              "outlinewidth": 0,
              "ticks": ""
             }
            },
            "type": "scattergeo"
           }
          ],
          "scattergl": [
           {
            "marker": {
             "colorbar": {
              "outlinewidth": 0,
              "ticks": ""
             }
            },
            "type": "scattergl"
           }
          ],
          "scattermapbox": [
           {
            "marker": {
             "colorbar": {
              "outlinewidth": 0,
              "ticks": ""
             }
            },
            "type": "scattermapbox"
           }
          ],
          "scatterpolar": [
           {
            "marker": {
             "colorbar": {
              "outlinewidth": 0,
              "ticks": ""
             }
            },
            "type": "scatterpolar"
           }
          ],
          "scatterpolargl": [
           {
            "marker": {
             "colorbar": {
              "outlinewidth": 0,
              "ticks": ""
             }
            },
            "type": "scatterpolargl"
           }
          ],
          "scatterternary": [
           {
            "marker": {
             "colorbar": {
              "outlinewidth": 0,
              "ticks": ""
             }
            },
            "type": "scatterternary"
           }
          ],
          "surface": [
           {
            "colorbar": {
             "outlinewidth": 0,
             "ticks": ""
            },
            "colorscale": [
             [
              0,
              "#0d0887"
             ],
             [
              0.1111111111111111,
              "#46039f"
             ],
             [
              0.2222222222222222,
              "#7201a8"
             ],
             [
              0.3333333333333333,
              "#9c179e"
             ],
             [
              0.4444444444444444,
              "#bd3786"
             ],
             [
              0.5555555555555556,
              "#d8576b"
             ],
             [
              0.6666666666666666,
              "#ed7953"
             ],
             [
              0.7777777777777778,
              "#fb9f3a"
             ],
             [
              0.8888888888888888,
              "#fdca26"
             ],
             [
              1,
              "#f0f921"
             ]
            ],
            "type": "surface"
           }
          ],
          "table": [
           {
            "cells": {
             "fill": {
              "color": "#EBF0F8"
             },
             "line": {
              "color": "white"
             }
            },
            "header": {
             "fill": {
              "color": "#C8D4E3"
             },
             "line": {
              "color": "white"
             }
            },
            "type": "table"
           }
          ]
         },
         "layout": {
          "annotationdefaults": {
           "arrowcolor": "#2a3f5f",
           "arrowhead": 0,
           "arrowwidth": 1
          },
          "autotypenumbers": "strict",
          "coloraxis": {
           "colorbar": {
            "outlinewidth": 0,
            "ticks": ""
           }
          },
          "colorscale": {
           "diverging": [
            [
             0,
             "#8e0152"
            ],
            [
             0.1,
             "#c51b7d"
            ],
            [
             0.2,
             "#de77ae"
            ],
            [
             0.3,
             "#f1b6da"
            ],
            [
             0.4,
             "#fde0ef"
            ],
            [
             0.5,
             "#f7f7f7"
            ],
            [
             0.6,
             "#e6f5d0"
            ],
            [
             0.7,
             "#b8e186"
            ],
            [
             0.8,
             "#7fbc41"
            ],
            [
             0.9,
             "#4d9221"
            ],
            [
             1,
             "#276419"
            ]
           ],
           "sequential": [
            [
             0,
             "#0d0887"
            ],
            [
             0.1111111111111111,
             "#46039f"
            ],
            [
             0.2222222222222222,
             "#7201a8"
            ],
            [
             0.3333333333333333,
             "#9c179e"
            ],
            [
             0.4444444444444444,
             "#bd3786"
            ],
            [
             0.5555555555555556,
             "#d8576b"
            ],
            [
             0.6666666666666666,
             "#ed7953"
            ],
            [
             0.7777777777777778,
             "#fb9f3a"
            ],
            [
             0.8888888888888888,
             "#fdca26"
            ],
            [
             1,
             "#f0f921"
            ]
           ],
           "sequentialminus": [
            [
             0,
             "#0d0887"
            ],
            [
             0.1111111111111111,
             "#46039f"
            ],
            [
             0.2222222222222222,
             "#7201a8"
            ],
            [
             0.3333333333333333,
             "#9c179e"
            ],
            [
             0.4444444444444444,
             "#bd3786"
            ],
            [
             0.5555555555555556,
             "#d8576b"
            ],
            [
             0.6666666666666666,
             "#ed7953"
            ],
            [
             0.7777777777777778,
             "#fb9f3a"
            ],
            [
             0.8888888888888888,
             "#fdca26"
            ],
            [
             1,
             "#f0f921"
            ]
           ]
          },
          "colorway": [
           "#636efa",
           "#EF553B",
           "#00cc96",
           "#ab63fa",
           "#FFA15A",
           "#19d3f3",
           "#FF6692",
           "#B6E880",
           "#FF97FF",
           "#FECB52"
          ],
          "font": {
           "color": "#2a3f5f"
          },
          "geo": {
           "bgcolor": "white",
           "lakecolor": "white",
           "landcolor": "#E5ECF6",
           "showlakes": true,
           "showland": true,
           "subunitcolor": "white"
          },
          "hoverlabel": {
           "align": "left"
          },
          "hovermode": "closest",
          "mapbox": {
           "style": "light"
          },
          "paper_bgcolor": "white",
          "plot_bgcolor": "#E5ECF6",
          "polar": {
           "angularaxis": {
            "gridcolor": "white",
            "linecolor": "white",
            "ticks": ""
           },
           "bgcolor": "#E5ECF6",
           "radialaxis": {
            "gridcolor": "white",
            "linecolor": "white",
            "ticks": ""
           }
          },
          "scene": {
           "xaxis": {
            "backgroundcolor": "#E5ECF6",
            "gridcolor": "white",
            "gridwidth": 2,
            "linecolor": "white",
            "showbackground": true,
            "ticks": "",
            "zerolinecolor": "white"
           },
           "yaxis": {
            "backgroundcolor": "#E5ECF6",
            "gridcolor": "white",
            "gridwidth": 2,
            "linecolor": "white",
            "showbackground": true,
            "ticks": "",
            "zerolinecolor": "white"
           },
           "zaxis": {
            "backgroundcolor": "#E5ECF6",
            "gridcolor": "white",
            "gridwidth": 2,
            "linecolor": "white",
            "showbackground": true,
            "ticks": "",
            "zerolinecolor": "white"
           }
          },
          "shapedefaults": {
           "line": {
            "color": "#2a3f5f"
           }
          },
          "ternary": {
           "aaxis": {
            "gridcolor": "white",
            "linecolor": "white",
            "ticks": ""
           },
           "baxis": {
            "gridcolor": "white",
            "linecolor": "white",
            "ticks": ""
           },
           "bgcolor": "#E5ECF6",
           "caxis": {
            "gridcolor": "white",
            "linecolor": "white",
            "ticks": ""
           }
          },
          "title": {
           "x": 0.05
          },
          "xaxis": {
           "automargin": true,
           "gridcolor": "white",
           "linecolor": "white",
           "ticks": "",
           "title": {
            "standoff": 15
           },
           "zerolinecolor": "white",
           "zerolinewidth": 2
          },
          "yaxis": {
           "automargin": true,
           "gridcolor": "white",
           "linecolor": "white",
           "ticks": "",
           "title": {
            "standoff": 15
           },
           "zerolinecolor": "white",
           "zerolinewidth": 2
          }
         }
        },
        "title": {
         "text": "(D) RRIFT Fit"
        },
        "xaxis": {
         "range": [
          -0.1,
          7
         ],
         "showline": true,
         "tickvals": [
          0,
          1,
          2,
          3,
          4,
          5,
          6,
          7
         ],
         "title": {
          "text": "Denominator [mM * min]"
         }
        },
        "yaxis": {
         "range": [
          -0.015,
          0.5
         ],
         "showline": true,
         "tickvals": [
          0,
          0.1,
          0.2,
          0.3,
          0.4,
          0.5
         ],
         "title": {
          "text": "Numerator [mM]"
         }
        }
       }
      },
      "text/html": [
       "<div>                            <div id=\"9d8d9be6-e77b-40b7-aed2-15e9123bb08b\" class=\"plotly-graph-div\" style=\"height:525px; width:100%;\"></div>            <script type=\"text/javascript\">                require([\"plotly\"], function(Plotly) {                    window.PLOTLYENV=window.PLOTLYENV || {};                                    if (document.getElementById(\"9d8d9be6-e77b-40b7-aed2-15e9123bb08b\")) {                    Plotly.newPlot(                        \"9d8d9be6-e77b-40b7-aed2-15e9123bb08b\",                        [{\"marker\": {\"color\": \"red\", \"size\": 14, \"symbol\": \"circle-open\"}, \"mode\": \"markers\", \"name\": \"Markers\", \"type\": \"scatter\", \"x\": [0.0, 0.12343300108073658, 0.2479651699468325, 0.37178843926831084, 0.4886237398389443, 0.5992158919786346, 0.711561311397209, 0.8276720747373997, 0.9425595777263757, 1.05287273615221, 1.161380359667484, 1.2742393307944686, 1.3826497518964533, 1.4855589180925282, 1.594491971076629, 1.704773031281785, 1.8075915536819602, 1.9078789385999102, 2.0091773560079615, 2.112366770119192, 2.2143511773273032, 2.31093117456456, 2.4056695808649824, 2.5015239190217815, 2.5984648965979997, 2.6918103299706893, 2.7837836823411988, 2.8750793610099667, 2.962897845574877, 3.051683823437125, 3.139193473631899, 3.2267322610957625, 3.3196560210711556, 3.41068735894964, 3.4950327860484895, 3.5762014450680883, 3.6547042400818053, 3.7330645034212306, 3.8140358343395895, 3.89479716673704, 3.972148271671061, 4.04973566618318, 4.127570532287444, 4.2017423135190946, 4.277945776458264, 4.352909943997942, 4.42508459870325, 4.499893561241636, 4.571032018145336, 4.6374719760865855, 4.70654911286864, 4.7751728609180235, 4.845546565996124, 4.918942422229615, 4.991366079754627, 5.064566705145641, 5.1363676730599765, 5.207260461232953, 5.276180622069219, 5.3421525859989165, 5.40492376190174, 5.471104042189537, 5.540757828592538, 5.605858032890202, 5.6689897238311575, 5.731611570969208, 5.795821440065393, 5.860952061887733, 5.923814655549293, 5.986942300492984, 6.049242931640162, 6.1096626950000505, 6.169636472241801, 6.227092011949886, 6.283604004531604, 6.344186408354435, 6.4068321700264645, 6.466704382853793, 6.525716960685165, 6.583985647183415, 6.6415846025977245, 6.698510418896148, 6.757199156566994, 6.813210005722482], \"y\": [0.0, 0.007908903942690747, 0.018754872012577847, 0.026816819149098524, 0.036372355581216965, 0.04591178145832502, 0.05640330422513612, 0.0620139776711223, 0.0683211150184944, 0.07546353252642285, 0.08553991178003313, 0.08776440858709551, 0.10317662771116923, 0.1118840797218716, 0.12047699305625488, 0.12092795940974621, 0.1297871161643764, 0.1365798067187398, 0.14444000680120314, 0.1497450494737581, 0.1616244650329911, 0.1611416370873968, 0.1727455106918475, 0.17743768059781573, 0.1881146868025441, 0.19061590502318765, 0.1980531498969503, 0.2075519799189331, 0.20454226363202363, 0.21235937128320412, 0.2230912207350176, 0.22489641106804473, 0.23346774247807256, 0.24408294461673377, 0.24670612745672701, 0.250778652430165, 0.25680395518776705, 0.2605786668220539, 0.27103282465934864, 0.2787472904176363, 0.27963318520710573, 0.28581819968824124, 0.2890186150877372, 0.2933145277317637, 0.3021535424968504, 0.3083928673457035, 0.31641139966482934, 0.3167690331652001, 0.32547646982449263, 0.33270512365277644, 0.338217131960336, 0.3343405818719124, 0.339284205655909, 0.34528023137094754, 0.35035394233452066, 0.35686473269983077, 0.36629328379289056, 0.3705434449495437, 0.3706405307775307, 0.37533651827025416, 0.3858630204488497, 0.3925216289700073, 0.3934122483852434, 0.39900106514291833, 0.40269560671441595, 0.4039284822377327, 0.4116448318351912, 0.4117730990718179, 0.42222966668264583, 0.42198431092580524, 0.4301092287495154, 0.4310575837037727, 0.43846739082966635, 0.4380818223894837, 0.4421169800165967, 0.4482786851039767, 0.4474086433687482, 0.4602222758723675, 0.4585217598385232, 0.46230645558959926, 0.47109904946664893, 0.47758337300743037, 0.4807848427189922, 0.4793036028376954]}, {\"line\": {\"color\": \"black\"}, \"mode\": \"lines\", \"name\": \"Linear Fit\", \"type\": \"scatter\", \"x\": [0.0, 0.12343300108073658, 0.2479651699468325, 0.37178843926831084, 0.4886237398389443, 0.5992158919786346, 0.711561311397209, 0.8276720747373997, 0.9425595777263757, 1.05287273615221, 1.161380359667484, 1.2742393307944686, 1.3826497518964533, 1.4855589180925282, 1.594491971076629, 1.704773031281785, 1.8075915536819602, 1.9078789385999102, 2.0091773560079615, 2.112366770119192, 2.2143511773273032, 2.31093117456456, 2.4056695808649824, 2.5015239190217815, 2.5984648965979997, 2.6918103299706893, 2.7837836823411988, 2.8750793610099667, 2.962897845574877, 3.051683823437125, 3.139193473631899, 3.2267322610957625, 3.3196560210711556, 3.41068735894964, 3.4950327860484895, 3.5762014450680883, 3.6547042400818053, 3.7330645034212306, 3.8140358343395895, 3.89479716673704, 3.972148271671061, 4.04973566618318, 4.127570532287444, 4.2017423135190946, 4.277945776458264, 4.352909943997942, 4.42508459870325, 4.499893561241636, 4.571032018145336, 4.6374719760865855, 4.70654911286864, 4.7751728609180235, 4.845546565996124, 4.918942422229615, 4.991366079754627, 5.064566705145641, 5.1363676730599765, 5.207260461232953, 5.276180622069219, 5.3421525859989165, 5.40492376190174, 5.471104042189537, 5.540757828592538, 5.605858032890202, 5.6689897238311575, 5.731611570969208, 5.795821440065393, 5.860952061887733, 5.923814655549293, 5.986942300492984, 6.049242931640162, 6.1096626950000505, 6.169636472241801, 6.227092011949886, 6.283604004531604, 6.344186408354435, 6.4068321700264645, 6.466704382853793, 6.525716960685165, 6.583985647183415, 6.6415846025977245, 6.698510418896148, 6.757199156566994, 6.813210005722482], \"y\": [0.0021240838886161066, 0.0108053676501886, 0.01956395802638389, 0.028272690114670835, 0.03648994472844182, 0.04426810653380589, 0.052169579047202735, 0.06033587554411497, 0.06841613775416555, 0.07617467738736765, 0.08380623022803643, 0.09174382183493268, 0.09936853824025044, 0.10660634065607758, 0.11426781478122527, 0.12202409688394919, 0.12925552414478098, 0.1363089315686943, 0.14343344687997883, 0.15069095967839213, 0.15786372199055745, 0.16465638160644172, 0.17131951853912597, 0.17806114113625138, 0.18487918920358243, 0.19144435563281983, 0.1979130209284909, 0.2043340241106991, 0.21051046944820323, 0.2167549604767144, 0.22290968489048663, 0.22906645858523544, 0.2356019679018321, 0.24200437948057835, 0.24793655791118457, 0.25364530804547447, 0.25916656276360994, 0.2646777929510388, 0.2703726646150169, 0.27605276667335016, 0.28149302078144056, 0.28694989359651707, 0.2924241715714416, 0.29764081764125616, 0.3030003558490057, 0.3082727319936669, 0.31334891625884936, 0.3186103765329927, 0.32361368298535265, 0.32828653483975795, 0.3331448646266982, 0.3379713066995899, 0.34292082666416246, 0.34808290041516643, 0.3531765975344184, 0.3583249403194107, 0.3633748424635885, 0.3683608705548613, 0.37320815991730244, 0.3778480968399032, 0.3822629160964127, 0.38691750431486627, 0.3918163909945873, 0.3963950153616211, 0.40083519034406234, 0.40523950701723177, 0.40975551237266183, 0.4143362760635452, 0.41875752490936613, 0.4231974153289268, 0.4275791402548236, 0.4318285800800059, 0.43604665283146093, 0.4400876130245452, 0.44406221170754145, 0.44832309035376483, 0.45272908898276193, 0.4569400185108168, 0.4610904882326129, 0.46518863862575244, 0.4692396855252337, 0.4732433892375214, 0.4773710826490739, 0.4813104349372628]}],                        {\"annotations\": [{\"font\": {\"size\": 26}, \"showarrow\": false, \"text\": \"$Slope | K_{RR}^{trans}: 0.071\\\\space min^{-1}\\\\\\\\R^{2}:0.9996$\", \"x\": 0.9, \"xref\": \"paper\", \"y\": 0.1, \"yref\": \"paper\"}], \"plot_bgcolor\": \"#fff\", \"template\": {\"data\": {\"bar\": [{\"error_x\": {\"color\": \"#2a3f5f\"}, \"error_y\": {\"color\": \"#2a3f5f\"}, \"marker\": {\"line\": {\"color\": \"#E5ECF6\", \"width\": 0.5}}, \"type\": \"bar\"}], \"barpolar\": [{\"marker\": {\"line\": {\"color\": \"#E5ECF6\", \"width\": 0.5}}, \"type\": \"barpolar\"}], \"carpet\": [{\"aaxis\": {\"endlinecolor\": \"#2a3f5f\", \"gridcolor\": \"white\", \"linecolor\": \"white\", \"minorgridcolor\": \"white\", \"startlinecolor\": \"#2a3f5f\"}, \"baxis\": {\"endlinecolor\": \"#2a3f5f\", \"gridcolor\": \"white\", \"linecolor\": \"white\", \"minorgridcolor\": \"white\", \"startlinecolor\": \"#2a3f5f\"}, \"type\": \"carpet\"}], \"choropleth\": [{\"colorbar\": {\"outlinewidth\": 0, \"ticks\": \"\"}, \"type\": \"choropleth\"}], \"contour\": [{\"colorbar\": {\"outlinewidth\": 0, \"ticks\": \"\"}, \"colorscale\": [[0.0, \"#0d0887\"], [0.1111111111111111, \"#46039f\"], [0.2222222222222222, \"#7201a8\"], [0.3333333333333333, \"#9c179e\"], [0.4444444444444444, \"#bd3786\"], [0.5555555555555556, \"#d8576b\"], [0.6666666666666666, \"#ed7953\"], [0.7777777777777778, \"#fb9f3a\"], [0.8888888888888888, \"#fdca26\"], [1.0, \"#f0f921\"]], \"type\": \"contour\"}], \"contourcarpet\": [{\"colorbar\": {\"outlinewidth\": 0, \"ticks\": \"\"}, \"type\": \"contourcarpet\"}], \"heatmap\": [{\"colorbar\": {\"outlinewidth\": 0, \"ticks\": \"\"}, \"colorscale\": [[0.0, \"#0d0887\"], [0.1111111111111111, \"#46039f\"], [0.2222222222222222, \"#7201a8\"], [0.3333333333333333, \"#9c179e\"], [0.4444444444444444, \"#bd3786\"], [0.5555555555555556, \"#d8576b\"], [0.6666666666666666, \"#ed7953\"], [0.7777777777777778, \"#fb9f3a\"], [0.8888888888888888, \"#fdca26\"], [1.0, \"#f0f921\"]], \"type\": \"heatmap\"}], \"heatmapgl\": [{\"colorbar\": {\"outlinewidth\": 0, \"ticks\": \"\"}, \"colorscale\": [[0.0, \"#0d0887\"], [0.1111111111111111, \"#46039f\"], [0.2222222222222222, \"#7201a8\"], [0.3333333333333333, \"#9c179e\"], [0.4444444444444444, \"#bd3786\"], [0.5555555555555556, \"#d8576b\"], [0.6666666666666666, \"#ed7953\"], [0.7777777777777778, \"#fb9f3a\"], [0.8888888888888888, \"#fdca26\"], [1.0, \"#f0f921\"]], \"type\": \"heatmapgl\"}], \"histogram\": [{\"marker\": {\"colorbar\": {\"outlinewidth\": 0, \"ticks\": \"\"}}, \"type\": \"histogram\"}], \"histogram2d\": [{\"colorbar\": {\"outlinewidth\": 0, \"ticks\": \"\"}, \"colorscale\": [[0.0, \"#0d0887\"], [0.1111111111111111, \"#46039f\"], [0.2222222222222222, \"#7201a8\"], [0.3333333333333333, \"#9c179e\"], [0.4444444444444444, \"#bd3786\"], [0.5555555555555556, \"#d8576b\"], [0.6666666666666666, \"#ed7953\"], [0.7777777777777778, \"#fb9f3a\"], [0.8888888888888888, \"#fdca26\"], [1.0, \"#f0f921\"]], \"type\": \"histogram2d\"}], \"histogram2dcontour\": [{\"colorbar\": {\"outlinewidth\": 0, \"ticks\": \"\"}, \"colorscale\": [[0.0, \"#0d0887\"], [0.1111111111111111, \"#46039f\"], [0.2222222222222222, \"#7201a8\"], [0.3333333333333333, \"#9c179e\"], [0.4444444444444444, \"#bd3786\"], [0.5555555555555556, \"#d8576b\"], [0.6666666666666666, \"#ed7953\"], [0.7777777777777778, \"#fb9f3a\"], [0.8888888888888888, \"#fdca26\"], [1.0, \"#f0f921\"]], \"type\": \"histogram2dcontour\"}], \"mesh3d\": [{\"colorbar\": {\"outlinewidth\": 0, \"ticks\": \"\"}, \"type\": \"mesh3d\"}], \"parcoords\": [{\"line\": {\"colorbar\": {\"outlinewidth\": 0, \"ticks\": \"\"}}, \"type\": \"parcoords\"}], \"pie\": [{\"automargin\": true, \"type\": \"pie\"}], \"scatter\": [{\"marker\": {\"colorbar\": {\"outlinewidth\": 0, \"ticks\": \"\"}}, \"type\": \"scatter\"}], \"scatter3d\": [{\"line\": {\"colorbar\": {\"outlinewidth\": 0, \"ticks\": \"\"}}, \"marker\": {\"colorbar\": {\"outlinewidth\": 0, \"ticks\": \"\"}}, \"type\": \"scatter3d\"}], \"scattercarpet\": [{\"marker\": {\"colorbar\": {\"outlinewidth\": 0, \"ticks\": \"\"}}, \"type\": \"scattercarpet\"}], \"scattergeo\": [{\"marker\": {\"colorbar\": {\"outlinewidth\": 0, \"ticks\": \"\"}}, \"type\": \"scattergeo\"}], \"scattergl\": [{\"marker\": {\"colorbar\": {\"outlinewidth\": 0, \"ticks\": \"\"}}, \"type\": \"scattergl\"}], \"scattermapbox\": [{\"marker\": {\"colorbar\": {\"outlinewidth\": 0, \"ticks\": \"\"}}, \"type\": \"scattermapbox\"}], \"scatterpolar\": [{\"marker\": {\"colorbar\": {\"outlinewidth\": 0, \"ticks\": \"\"}}, \"type\": \"scatterpolar\"}], \"scatterpolargl\": [{\"marker\": {\"colorbar\": {\"outlinewidth\": 0, \"ticks\": \"\"}}, \"type\": \"scatterpolargl\"}], \"scatterternary\": [{\"marker\": {\"colorbar\": {\"outlinewidth\": 0, \"ticks\": \"\"}}, \"type\": \"scatterternary\"}], \"surface\": [{\"colorbar\": {\"outlinewidth\": 0, \"ticks\": \"\"}, \"colorscale\": [[0.0, \"#0d0887\"], [0.1111111111111111, \"#46039f\"], [0.2222222222222222, \"#7201a8\"], [0.3333333333333333, \"#9c179e\"], [0.4444444444444444, \"#bd3786\"], [0.5555555555555556, \"#d8576b\"], [0.6666666666666666, \"#ed7953\"], [0.7777777777777778, \"#fb9f3a\"], [0.8888888888888888, \"#fdca26\"], [1.0, \"#f0f921\"]], \"type\": \"surface\"}], \"table\": [{\"cells\": {\"fill\": {\"color\": \"#EBF0F8\"}, \"line\": {\"color\": \"white\"}}, \"header\": {\"fill\": {\"color\": \"#C8D4E3\"}, \"line\": {\"color\": \"white\"}}, \"type\": \"table\"}]}, \"layout\": {\"annotationdefaults\": {\"arrowcolor\": \"#2a3f5f\", \"arrowhead\": 0, \"arrowwidth\": 1}, \"autotypenumbers\": \"strict\", \"coloraxis\": {\"colorbar\": {\"outlinewidth\": 0, \"ticks\": \"\"}}, \"colorscale\": {\"diverging\": [[0, \"#8e0152\"], [0.1, \"#c51b7d\"], [0.2, \"#de77ae\"], [0.3, \"#f1b6da\"], [0.4, \"#fde0ef\"], [0.5, \"#f7f7f7\"], [0.6, \"#e6f5d0\"], [0.7, \"#b8e186\"], [0.8, \"#7fbc41\"], [0.9, \"#4d9221\"], [1, \"#276419\"]], \"sequential\": [[0.0, \"#0d0887\"], [0.1111111111111111, \"#46039f\"], [0.2222222222222222, \"#7201a8\"], [0.3333333333333333, \"#9c179e\"], [0.4444444444444444, \"#bd3786\"], [0.5555555555555556, \"#d8576b\"], [0.6666666666666666, \"#ed7953\"], [0.7777777777777778, \"#fb9f3a\"], [0.8888888888888888, \"#fdca26\"], [1.0, \"#f0f921\"]], \"sequentialminus\": [[0.0, \"#0d0887\"], [0.1111111111111111, \"#46039f\"], [0.2222222222222222, \"#7201a8\"], [0.3333333333333333, \"#9c179e\"], [0.4444444444444444, \"#bd3786\"], [0.5555555555555556, \"#d8576b\"], [0.6666666666666666, \"#ed7953\"], [0.7777777777777778, \"#fb9f3a\"], [0.8888888888888888, \"#fdca26\"], [1.0, \"#f0f921\"]]}, \"colorway\": [\"#636efa\", \"#EF553B\", \"#00cc96\", \"#ab63fa\", \"#FFA15A\", \"#19d3f3\", \"#FF6692\", \"#B6E880\", \"#FF97FF\", \"#FECB52\"], \"font\": {\"color\": \"#2a3f5f\"}, \"geo\": {\"bgcolor\": \"white\", \"lakecolor\": \"white\", \"landcolor\": \"#E5ECF6\", \"showlakes\": true, \"showland\": true, \"subunitcolor\": \"white\"}, \"hoverlabel\": {\"align\": \"left\"}, \"hovermode\": \"closest\", \"mapbox\": {\"style\": \"light\"}, \"paper_bgcolor\": \"white\", \"plot_bgcolor\": \"#E5ECF6\", \"polar\": {\"angularaxis\": {\"gridcolor\": \"white\", \"linecolor\": \"white\", \"ticks\": \"\"}, \"bgcolor\": \"#E5ECF6\", \"radialaxis\": {\"gridcolor\": \"white\", \"linecolor\": \"white\", \"ticks\": \"\"}}, \"scene\": {\"xaxis\": {\"backgroundcolor\": \"#E5ECF6\", \"gridcolor\": \"white\", \"gridwidth\": 2, \"linecolor\": \"white\", \"showbackground\": true, \"ticks\": \"\", \"zerolinecolor\": \"white\"}, \"yaxis\": {\"backgroundcolor\": \"#E5ECF6\", \"gridcolor\": \"white\", \"gridwidth\": 2, \"linecolor\": \"white\", \"showbackground\": true, \"ticks\": \"\", \"zerolinecolor\": \"white\"}, \"zaxis\": {\"backgroundcolor\": \"#E5ECF6\", \"gridcolor\": \"white\", \"gridwidth\": 2, \"linecolor\": \"white\", \"showbackground\": true, \"ticks\": \"\", \"zerolinecolor\": \"white\"}}, \"shapedefaults\": {\"line\": {\"color\": \"#2a3f5f\"}}, \"ternary\": {\"aaxis\": {\"gridcolor\": \"white\", \"linecolor\": \"white\", \"ticks\": \"\"}, \"baxis\": {\"gridcolor\": \"white\", \"linecolor\": \"white\", \"ticks\": \"\"}, \"bgcolor\": \"#E5ECF6\", \"caxis\": {\"gridcolor\": \"white\", \"linecolor\": \"white\", \"ticks\": \"\"}}, \"title\": {\"x\": 0.05}, \"xaxis\": {\"automargin\": true, \"gridcolor\": \"white\", \"linecolor\": \"white\", \"ticks\": \"\", \"title\": {\"standoff\": 15}, \"zerolinecolor\": \"white\", \"zerolinewidth\": 2}, \"yaxis\": {\"automargin\": true, \"gridcolor\": \"white\", \"linecolor\": \"white\", \"ticks\": \"\", \"title\": {\"standoff\": 15}, \"zerolinecolor\": \"white\", \"zerolinewidth\": 2}}}, \"title\": {\"text\": \"(D) RRIFT Fit\"}, \"xaxis\": {\"range\": [-0.1, 7], \"showline\": true, \"tickvals\": [0, 1, 2, 3, 4, 5, 6, 7], \"title\": {\"text\": \"Denominator [mM * min]\"}}, \"yaxis\": {\"range\": [-0.015, 0.5], \"showline\": true, \"tickvals\": [0, 0.1, 0.2, 0.3, 0.4, 0.5], \"title\": {\"text\": \"Numerator [mM]\"}}},                        {\"responsive\": true}                    ).then(function(){\n",
       "                            \n",
       "var gd = document.getElementById('9d8d9be6-e77b-40b7-aed2-15e9123bb08b');\n",
       "var x = new MutationObserver(function (mutations, observer) {{\n",
       "        var display = window.getComputedStyle(gd).display;\n",
       "        if (!display || display === 'none') {{\n",
       "            console.log([gd, 'removed!']);\n",
       "            Plotly.purge(gd);\n",
       "            observer.disconnect();\n",
       "        }}\n",
       "}});\n",
       "\n",
       "// Listen for the removal of the full notebook cells\n",
       "var notebookContainer = gd.closest('#notebook-container');\n",
       "if (notebookContainer) {{\n",
       "    x.observe(notebookContainer, {childList: true});\n",
       "}}\n",
       "\n",
       "// Listen for the clearing of the current output cell\n",
       "var outputEl = gd.closest('.output');\n",
       "if (outputEl) {{\n",
       "    x.observe(outputEl, {childList: true});\n",
       "}}\n",
       "\n",
       "                        })                };                });            </script>        </div>"
      ]
     },
     "metadata": {},
     "output_type": "display_data"
    }
   ],
   "source": [
    "%get denum --from MATLAB\n",
    "%get num --from MATLAB\n",
    "\n",
    "line_fit = sm.OLS(num ,sm.add_constant(denum)).fit().fittedvalues\n",
    "\n",
    "fig=go.Figure()\n",
    "fig.add_trace(go.Scatter(name=\"Markers\",\n",
    "                         x=denum, \n",
    "                         y=num, \n",
    "                         mode='markers',\n",
    "                         marker_symbol=\"circle-open\", \n",
    "                         marker_size=14, \n",
    "                         marker_color='red'))\n",
    "fig.add_trace(go.Scatter(name=\"Linear Fit\",\n",
    "                         x=denum, \n",
    "                         y=line_fit, \n",
    "                         mode='lines',\n",
    "                         line_color=\"black\"))\n",
    "\n",
    "fig.add_annotation(text=r'$Slope | K_{RR}^{trans}: 0.071\\space min^{-1}\\\\R^{2}:0.9996$',\n",
    "                  xref=\"paper\", yref=\"paper\",\n",
    "                  x=0.9, y=0.1, showarrow=False, font = dict(size = 26))\n",
    "\n",
    "fig.update_layout(title='(D) RRIFT Fit',\n",
    "                   xaxis_title='Denominator [mM * min]',\n",
    "                   yaxis_title='Numerator [mM]',\n",
    "                   xaxis=dict(showline=True,\n",
    "                              range=[-0.1,7],\n",
    "                              tickvals=[0, 1, 2, 3, 4, 5, 6, 7]),\n",
    "                   yaxis=dict(showline=True,\n",
    "                              range=[-0.015,0.5],\n",
    "                              tickvals=[0, 0.1, 0.2, 0.3, 0.4, 0.5]),\n",
    "                   plot_bgcolor=\"#fff\",\n",
    ")\n",
    "\n",
    "fig.show()\n"
   ]
  },
  {
   "cell_type": "markdown",
   "metadata": {
    "kernel": "MATLAB"
   },
   "source": [
    "## Figure 2 <a name=\"figure-2\"></a>"
   ]
  },
  {
   "cell_type": "code",
   "execution_count": 7,
   "metadata": {
    "kernel": "MATLAB",
    "scrolled": true
   },
   "outputs": [],
   "source": [
    "%% This code contains the variables for both figure 2 and 3\n",
    "\n",
    "addpath('RRIFT/mfiles')\n",
    "clearvars\n",
    "\n",
    "load('RRIFT/data/simMap.mat');\n",
    "load('RRIFT/data/simResults.mat');\n",
    "%%\n",
    "[nVox nP nRep nRes nSig] = size(params.CERRM);\n",
    "\n",
    "pkCE = reshape(params.CERRM,[nVox 5 nRep*nRes*nSig]);\n",
    "pkET = reshape(params.ETM,[nVox 3 nRep*nRes*nSig]);\n",
    "pkCE = permute(pkCE,[1 3 2]);\n",
    "pkET = permute(pkET,[1 3 2]);\n",
    "%%\n",
    "rrKt = repmat(estKtRR(:),[1 nVox])';\n",
    "rrKep = repmat(estKepRRS(:),[1 nVox])';\n",
    "rrVe = rrKt./rrKep;\n",
    "%%\n",
    "errKtCE = PercentError(pkCE(:,:,1).*rrKt,trueKt(:));\n",
    "errVeCE = PercentError(pkCE(:,:,2).*rrVe,trueVe(:));\n",
    "errVpCE = PercentError(pkCE(:,:,4).*rrKt,trueVp(:));\n",
    "\n",
    "errKtET = PercentError(pkET(:,:,1),trueKt(:));\n",
    "errVeET = PercentError(pkET(:,:,1)./pkET(:,:,2),trueVe(:));\n",
    "errVpET = PercentError(pkET(:,:,3),trueVp(:));\n",
    "%%\n",
    "errKtCE = reshape(errKtCE,[nVox*nRep nRes nSig]);\n",
    "errVeCE = reshape(errVeCE,[nVox*nRep nRes nSig]);\n",
    "errVpCE = reshape(errVpCE,[nVox*nRep nRes nSig]);\n",
    "\n",
    "errKtET = reshape(errKtET,[nVox*nRep nRes nSig]);\n",
    "errVeET = reshape(errVeET,[nVox*nRep nRes nSig]);\n",
    "errVpET = reshape(errVpET,[nVox*nRep nRes nSig]);\n",
    "%%\n",
    "errKepRR = PercentError(reshape(estKepRRS,[nRep nRes*nSig]),kepRR);\n",
    "errKtRR = PercentError(reshape(estKtRR,[nRep nRes*nSig]),ktRR);\n",
    "errVeRR = PercentError(reshape(estKtRR./estKepRRS,[nRep nRes*nSig]),veRR);\n",
    "\n",
    "errKepRRD = PercentError(reshape(estKepRRS,[nRep nRes*nSig]),kepRR);\n",
    "errKtRRD = PercentError(reshape(estKtRRD,[nRep nRes*nSig]),ktRR);\n",
    "errVeRRD = PercentError(reshape(estKtRRD./estKepRRS,[nRep nRes*nSig]),veRR);\n",
    "\n",
    "errKepRR = reshape(errKepRR,[nRep nRes nSig]);\n",
    "errKtRR = reshape(errKtRR,[nRep nRes nSig]);\n",
    "errVeRR = reshape(errVeRR,[nRep nRes nSig]);\n",
    "\n",
    "errKepRRD = reshape(errKepRRD,[nRep nRes nSig]);\n",
    "errKtRRD = reshape(errKtRRD,[nRep nRes nSig]);\n",
    "errVeRRD = reshape(errVeRRD,[nRep nRes nSig]);\n",
    "%%\n",
    "errKtCE = shiftdim(errKtCE,1);\n",
    "errVeCE = shiftdim(errVeCE,1);\n",
    "errVpCE = shiftdim(errVpCE,1);\n",
    "\n",
    "errKtET = shiftdim(errKtET,1);\n",
    "errVeET = shiftdim(errVeET,1);\n",
    "errVpET = shiftdim(errVpET,1);\n",
    "\n",
    "errKepRR = shiftdim(errKepRR,1);\n",
    "errKtRR = shiftdim(errKtRR,1);\n",
    "errVeRR = shiftdim(errVeRR,1);\n",
    "\n",
    "errKepRRD = shiftdim(errKepRRD,1);\n",
    "errKtRRD = shiftdim(errKtRRD,1);\n",
    "errVeRRD = shiftdim(errVeRRD,1);\n",
    "\n",
    "%% Median/IQR RR\n",
    "cSize = 10;\n",
    "iList = 1:4;\n",
    "\n",
    "%% FIRST SUBFIGURE\n",
    "curErr = errKepRR;\n",
    "errQt = quantile(curErr,[.25 .75],3);\n",
    "errMd = median(curErr,3);\n",
    "\n",
    "%% SECOND SUBFIGURE\n",
    "curErr1 = errKtRR;\n",
    "errQt1 = quantile(curErr1,[.25 .75],3);\n",
    "errMd1 = median(curErr1,3);\n",
    "\n",
    "%% THIRD SUBFIGURE\n",
    "curErr2 = errVeRR;\n",
    "errQt2 = quantile(curErr2,[.25 .75],3);\n",
    "errMd2 = median(curErr2,3);\n",
    "\n",
    "curErr3 = errKtCE;\n",
    "errQt3 = quantile(curErr3,[.25 .75],3);\n",
    "errMd3 = median(curErr3,3);\n",
    "\n",
    "curErr4 = errVeCE;\n",
    "errQt4 = quantile(curErr4,[.25 .75],3);\n",
    "errMd4 = median(curErr4,3);\n",
    "\n",
    "curErr5 = errVpCE;\n",
    "errQt5 = quantile(curErr5,[.25 .75],3);\n",
    "errMd5 = median(curErr5,3);"
   ]
  },
  {
   "cell_type": "code",
   "execution_count": 8,
   "metadata": {
    "kernel": "SoS",
    "scrolled": false
   },
   "outputs": [
    {
     "data": {
      "application/vnd.plotly.v1+json": {
       "config": {
        "plotlyServerURL": "https://plot.ly"
       },
       "data": [
        {
         "error_y": {
          "array": [
           0.16788584024785835,
           1.521395434291816,
           2.93183807063381,
           4.273062607469782,
           5.576120004700529,
           6.678222258770232
          ],
          "arrayminus": [
           0.1519744123312202,
           1.4490069353387511,
           2.8558432445467545,
           4.129785089780925,
           5.36322720526507,
           6.444900909462762
          ],
          "symmetric": false,
          "thickness": 4,
          "type": "data",
          "visible": true
         },
         "line": {
          "color": "#253494",
          "width": 4
         },
         "name": "5",
         "showlegend": false,
         "type": "scatter",
         "x": [
          0,
          0.01,
          0.02,
          0.030000000000000002,
          0.04,
          0.05
         ],
         "xaxis": "x",
         "y": [
          -0.04438379028423219,
          -0.6034629466017821,
          -1.535324422925144,
          -2.840858105624846,
          -3.6479737453757646,
          -5.108948160980921
         ],
         "yaxis": "y"
        },
        {
         "error_y": {
          "array": [
           1.8006474478784775,
           3.4889834786157983,
           4.94831837857227,
           6.433071152252573,
           7.6568875351511405,
           8.791442031744493
          ],
          "arrayminus": [
           1.6164141709039974,
           3.410860775512818,
           5.104709488251493,
           6.530036997433772,
           7.779206209947806,
           8.8092770890249
          ],
          "symmetric": false,
          "thickness": 4,
          "type": "data",
          "visible": true
         },
         "line": {
          "color": "#2C7fB8",
          "width": 4
         },
         "name": "10",
         "showlegend": false,
         "type": "scatter",
         "x": [
          0,
          0.01,
          0.02,
          0.030000000000000002,
          0.04,
          0.05
         ],
         "xaxis": "x",
         "y": [
          -0.39379287120341194,
          -1.5974216767199274,
          -2.8797630940219223,
          -4.1751258196386445,
          -6.2624456511458,
          -9.08522073778205
         ],
         "yaxis": "y"
        },
        {
         "error_y": {
          "array": [
           3.9845286125278316,
           6.0295263215256005,
           7.757863223760958,
           9.092047713223465,
           10.01813002315786,
           11.017197952077456
          ],
          "arrayminus": [
           3.9695226472345495,
           5.926197974762882,
           8.012398442420505,
           9.345678191969753,
           10.559245533824834,
           11.645098654273882
          ],
          "symmetric": false,
          "thickness": 4,
          "type": "data",
          "visible": true
         },
         "line": {
          "color": "#41B6C4",
          "width": 4
         },
         "name": "15",
         "showlegend": false,
         "type": "scatter",
         "x": [
          0,
          0.01,
          0.02,
          0.030000000000000002,
          0.04,
          0.05
         ],
         "xaxis": "x",
         "y": [
          -0.8397840515121796,
          -2.15538115902561,
          -3.4990315093833386,
          -5.848721727735317,
          -8.799458264684356,
          -11.653665525045628
         ],
         "yaxis": "y"
        },
        {
         "error_y": {
          "array": [
           6.331335949032671,
           9.082157374459362,
           11.991593745629999,
           13.655386237643402,
           15.05985035855159,
           15.69677039789238
          ],
          "arrayminus": [
           10.690243849393733,
           10.839964873136527,
           12.272237200066744,
           13.809521674825994,
           15.330653487089798,
           16.58929278603815
          ],
          "symmetric": false,
          "thickness": 4,
          "type": "data",
          "visible": true
         },
         "line": {
          "color": "#A1DAB4",
          "width": 4
         },
         "name": "30",
         "showlegend": false,
         "type": "scatter",
         "x": [
          0,
          0.01,
          0.02,
          0.030000000000000002,
          0.04,
          0.05
         ],
         "xaxis": "x",
         "y": [
          -1.6309355169535078,
          -4.097629032330385,
          -6.470137454132811,
          -9.183283096423942,
          -11.861865442318027,
          -15.688443616278462
         ],
         "yaxis": "y"
        },
        {
         "error_y": {
          "array": [
           0.07051594909662699,
           0.6493352353390648,
           1.26206355755313,
           1.916938883722445,
           2.5094576062734255,
           3.094479153885586
          ],
          "arrayminus": [
           0.0479680169727647,
           0.6409508299349927,
           1.261310678758149,
           1.8744532010956045,
           2.48097584861861,
           3.148323644182098
          ],
          "symmetric": false,
          "thickness": 4,
          "type": "data",
          "visible": true
         },
         "line": {
          "color": "#253494",
          "width": 4
         },
         "name": "5",
         "showlegend": false,
         "type": "scatter",
         "x": [
          0,
          0.01,
          0.02,
          0.030000000000000002,
          0.04,
          0.05
         ],
         "xaxis": "x2",
         "y": [
          -0.0077389559808756685,
          -0.03674820690460688,
          0.00865858844902766,
          -0.08586270399902093,
          -0.04630138731900571,
          -0.13524094505751766
         ],
         "yaxis": "y2"
        },
        {
         "error_y": {
          "array": [
           0.723119883608669,
           1.4298618579373912,
           2.154237838052885,
           2.8884520865762404,
           3.5046869284487316,
           4.25191434513858
          ],
          "arrayminus": [
           0.6033412915471031,
           1.462900521491468,
           2.2133011229290958,
           2.9737307255031444,
           3.70375681152764,
           4.494136727335778
          ],
          "symmetric": false,
          "thickness": 4,
          "type": "data",
          "visible": true
         },
         "line": {
          "color": "#2C7fB8",
          "width": 4
         },
         "name": "10",
         "showlegend": false,
         "type": "scatter",
         "x": [
          0,
          0.01,
          0.02,
          0.030000000000000002,
          0.04,
          0.05
         ],
         "xaxis": "x2",
         "y": [
          -0.040281031802152416,
          -0.13465821396930316,
          -0.14729938463811654,
          -0.22597202652150503,
          -0.2698759264722017,
          -0.3688527991199049
         ],
         "yaxis": "y2"
        },
        {
         "error_y": {
          "array": [
           1.5745243605141295,
           2.3124845129926426,
           3.245435752149273,
           4.064240818248648,
           4.731972112303385,
           5.485813095206851
          ],
          "arrayminus": [
           1.5837609252322171,
           2.518873976526632,
           3.4930481510799787,
           4.4115931997363145,
           5.231499679048538,
           6.0545652402215415
          ],
          "symmetric": false,
          "thickness": 4,
          "type": "data",
          "visible": true
         },
         "line": {
          "color": "#41B6C4",
          "width": 4
         },
         "name": "15",
         "showlegend": false,
         "type": "scatter",
         "x": [
          0,
          0.01,
          0.02,
          0.030000000000000002,
          0.04,
          0.05
         ],
         "xaxis": "x2",
         "y": [
          -0.009503527206472013,
          -0.12061129699859927,
          -0.1380237206970632,
          -0.22130071938180668,
          -0.28815322695375134,
          -0.511247326533728
         ],
         "yaxis": "y2"
        },
        {
         "error_y": {
          "array": [
           2.435785309046474,
           3.505428016376248,
           4.943608294166402,
           6.037810608254883,
           7.114310516600493,
           8.132038787420896
          ],
          "arrayminus": [
           4.4605197317468335,
           5.317690104072837,
           6.0836253774285405,
           7.088916426117104,
           8.06767392956371,
           8.949638873336882
          ],
          "symmetric": false,
          "thickness": 4,
          "type": "data",
          "visible": true
         },
         "line": {
          "color": "#A1DAB4",
          "width": 4
         },
         "name": "30",
         "showlegend": false,
         "type": "scatter",
         "x": [
          0,
          0.01,
          0.02,
          0.030000000000000002,
          0.04,
          0.05
         ],
         "xaxis": "x2",
         "y": [
          0.25610167902415504,
          0.17076869536710132,
          0.16211581530952385,
          0.18036872697459028,
          0.20814847487034116,
          -0.19821544202254976
         ],
         "yaxis": "y2"
        },
        {
         "error_y": {
          "array": [
           1.4734645817356464,
           5.4311030019435,
           10.221926739819905,
           14.590373912123727,
           18.95711081525033,
           22.886968824948447
          ],
          "arrayminus": [
           1.3822662645941381,
           5.820292003557516,
           11.062643736263999,
           16.354076872513538,
           20.79658224259464,
           26.02835769042838
          ],
          "symmetric": false,
          "thickness": 4,
          "type": "data",
          "visible": true
         },
         "line": {
          "color": "#253494",
          "width": 4
         },
         "name": "5",
         "showlegend": true,
         "type": "scatter",
         "x": [
          0,
          0.01,
          0.02,
          0.030000000000000002,
          0.04,
          0.05
         ],
         "xaxis": "x3",
         "y": [
          -0.09665537077041542,
          -0.7704244922641518,
          -1.862389031592554,
          -3.189505412658229,
          -4.337131857791137,
          -5.785422260551676
         ],
         "yaxis": "y3"
        },
        {
         "error_y": {
          "array": [
           17.911268739154803,
           20.790583123214528,
           24.659844901572168,
           28.42361475966391,
           31.62396356557594,
           35.33270126810652
          ],
          "arrayminus": [
           14.780587447429696,
           18.286114582846846,
           23.001340778161925,
           28.787016108749533,
           33.132889232843645,
           37.836836741208295
          ],
          "symmetric": false,
          "thickness": 4,
          "type": "data",
          "visible": true
         },
         "line": {
          "color": "#2C7fB8",
          "width": 4
         },
         "name": "10",
         "showlegend": true,
         "type": "scatter",
         "x": [
          0,
          0.01,
          0.02,
          0.030000000000000002,
          0.04,
          0.05
         ],
         "xaxis": "x3",
         "y": [
          0.7370468796232612,
          -0.7455632253245137,
          -2.4924630676286874,
          -3.8034504982100215,
          -6.5594688522769555,
          -9.353183800527571
         ],
         "yaxis": "y3"
        },
        {
         "error_y": {
          "array": [
           36.33974818492146,
           38.86790962173681,
           43.66062654276332,
           47.245967661525455,
           49.71716046681979,
           52.32607211517721
          ],
          "arrayminus": [
           39.11340934404259,
           40.63997092981247,
           45.31143841714891,
           49.37221352242837,
           52.9590266624049,
           56.269607800541266
          ],
          "symmetric": false,
          "thickness": 4,
          "type": "data",
          "visible": true
         },
         "line": {
          "color": "#41B6C4",
          "width": 4
         },
         "name": "15",
         "showlegend": true,
         "type": "scatter",
         "x": [
          0,
          0.01,
          0.02,
          0.030000000000000002,
          0.04,
          0.05
         ],
         "xaxis": "x3",
         "y": [
          -3.156760812981057,
          -3.7489543774530727,
          -4.7658686979612295,
          -6.620428180705764,
          -9.49540018181745,
          -12.646107981224251
         ],
         "yaxis": "y3"
        },
        {
         "error_y": {
          "array": [
           16.51036704677899,
           29.871271752405633,
           36.6578125530042,
           42.48035281726682,
           47.31447777850418,
           51.82693540787929
          ],
          "arrayminus": [
           108.0318123214555,
           102.10746366755784,
           109.38432429405694,
           115.20587830105833,
           120.35633700736264,
           121.0284069657477
          ],
          "symmetric": false,
          "thickness": 4,
          "type": "data",
          "visible": true
         },
         "line": {
          "color": "#A1DAB4",
          "width": 4
         },
         "name": "30",
         "showlegend": true,
         "type": "scatter",
         "x": [
          0,
          0.01,
          0.02,
          0.030000000000000002,
          0.04,
          0.05
         ],
         "xaxis": "x3",
         "y": [
          -52.962241753227055,
          -42.7257896927035,
          -39.90890498766327,
          -38.841243381584036,
          -39.45060173053297,
          -40.613977713591964
         ],
         "yaxis": "y3"
        }
       ],
       "layout": {
        "annotations": [
         {
          "font": {
           "size": 16
          },
          "showarrow": false,
          "text": "$K^{trans}$",
          "x": 0.14444444444444446,
          "xanchor": "center",
          "xref": "paper",
          "y": 1,
          "yanchor": "bottom",
          "yref": "paper"
         },
         {
          "font": {
           "size": 16
          },
          "showarrow": false,
          "text": "$V_{e}$",
          "x": 0.5,
          "xanchor": "center",
          "xref": "paper",
          "y": 1,
          "yanchor": "bottom",
          "yref": "paper"
         },
         {
          "font": {
           "size": 16
          },
          "showarrow": false,
          "text": "$V_{p}$",
          "x": 0.8555555555555556,
          "xanchor": "center",
          "xref": "paper",
          "y": 1,
          "yanchor": "bottom",
          "yref": "paper"
         }
        ],
        "plot_bgcolor": "#ffffff",
        "template": {
         "data": {
          "bar": [
           {
            "error_x": {
             "color": "#2a3f5f"
            },
            "error_y": {
             "color": "#2a3f5f"
            },
            "marker": {
             "line": {
              "color": "#E5ECF6",
              "width": 0.5
             }
            },
            "type": "bar"
           }
          ],
          "barpolar": [
           {
            "marker": {
             "line": {
              "color": "#E5ECF6",
              "width": 0.5
             }
            },
            "type": "barpolar"
           }
          ],
          "carpet": [
           {
            "aaxis": {
             "endlinecolor": "#2a3f5f",
             "gridcolor": "white",
             "linecolor": "white",
             "minorgridcolor": "white",
             "startlinecolor": "#2a3f5f"
            },
            "baxis": {
             "endlinecolor": "#2a3f5f",
             "gridcolor": "white",
             "linecolor": "white",
             "minorgridcolor": "white",
             "startlinecolor": "#2a3f5f"
            },
            "type": "carpet"
           }
          ],
          "choropleth": [
           {
            "colorbar": {
             "outlinewidth": 0,
             "ticks": ""
            },
            "type": "choropleth"
           }
          ],
          "contour": [
           {
            "colorbar": {
             "outlinewidth": 0,
             "ticks": ""
            },
            "colorscale": [
             [
              0,
              "#0d0887"
             ],
             [
              0.1111111111111111,
              "#46039f"
             ],
             [
              0.2222222222222222,
              "#7201a8"
             ],
             [
              0.3333333333333333,
              "#9c179e"
             ],
             [
              0.4444444444444444,
              "#bd3786"
             ],
             [
              0.5555555555555556,
              "#d8576b"
             ],
             [
              0.6666666666666666,
              "#ed7953"
             ],
             [
              0.7777777777777778,
              "#fb9f3a"
             ],
             [
              0.8888888888888888,
              "#fdca26"
             ],
             [
              1,
              "#f0f921"
             ]
            ],
            "type": "contour"
           }
          ],
          "contourcarpet": [
           {
            "colorbar": {
             "outlinewidth": 0,
             "ticks": ""
            },
            "type": "contourcarpet"
           }
          ],
          "heatmap": [
           {
            "colorbar": {
             "outlinewidth": 0,
             "ticks": ""
            },
            "colorscale": [
             [
              0,
              "#0d0887"
             ],
             [
              0.1111111111111111,
              "#46039f"
             ],
             [
              0.2222222222222222,
              "#7201a8"
             ],
             [
              0.3333333333333333,
              "#9c179e"
             ],
             [
              0.4444444444444444,
              "#bd3786"
             ],
             [
              0.5555555555555556,
              "#d8576b"
             ],
             [
              0.6666666666666666,
              "#ed7953"
             ],
             [
              0.7777777777777778,
              "#fb9f3a"
             ],
             [
              0.8888888888888888,
              "#fdca26"
             ],
             [
              1,
              "#f0f921"
             ]
            ],
            "type": "heatmap"
           }
          ],
          "heatmapgl": [
           {
            "colorbar": {
             "outlinewidth": 0,
             "ticks": ""
            },
            "colorscale": [
             [
              0,
              "#0d0887"
             ],
             [
              0.1111111111111111,
              "#46039f"
             ],
             [
              0.2222222222222222,
              "#7201a8"
             ],
             [
              0.3333333333333333,
              "#9c179e"
             ],
             [
              0.4444444444444444,
              "#bd3786"
             ],
             [
              0.5555555555555556,
              "#d8576b"
             ],
             [
              0.6666666666666666,
              "#ed7953"
             ],
             [
              0.7777777777777778,
              "#fb9f3a"
             ],
             [
              0.8888888888888888,
              "#fdca26"
             ],
             [
              1,
              "#f0f921"
             ]
            ],
            "type": "heatmapgl"
           }
          ],
          "histogram": [
           {
            "marker": {
             "colorbar": {
              "outlinewidth": 0,
              "ticks": ""
             }
            },
            "type": "histogram"
           }
          ],
          "histogram2d": [
           {
            "colorbar": {
             "outlinewidth": 0,
             "ticks": ""
            },
            "colorscale": [
             [
              0,
              "#0d0887"
             ],
             [
              0.1111111111111111,
              "#46039f"
             ],
             [
              0.2222222222222222,
              "#7201a8"
             ],
             [
              0.3333333333333333,
              "#9c179e"
             ],
             [
              0.4444444444444444,
              "#bd3786"
             ],
             [
              0.5555555555555556,
              "#d8576b"
             ],
             [
              0.6666666666666666,
              "#ed7953"
             ],
             [
              0.7777777777777778,
              "#fb9f3a"
             ],
             [
              0.8888888888888888,
              "#fdca26"
             ],
             [
              1,
              "#f0f921"
             ]
            ],
            "type": "histogram2d"
           }
          ],
          "histogram2dcontour": [
           {
            "colorbar": {
             "outlinewidth": 0,
             "ticks": ""
            },
            "colorscale": [
             [
              0,
              "#0d0887"
             ],
             [
              0.1111111111111111,
              "#46039f"
             ],
             [
              0.2222222222222222,
              "#7201a8"
             ],
             [
              0.3333333333333333,
              "#9c179e"
             ],
             [
              0.4444444444444444,
              "#bd3786"
             ],
             [
              0.5555555555555556,
              "#d8576b"
             ],
             [
              0.6666666666666666,
              "#ed7953"
             ],
             [
              0.7777777777777778,
              "#fb9f3a"
             ],
             [
              0.8888888888888888,
              "#fdca26"
             ],
             [
              1,
              "#f0f921"
             ]
            ],
            "type": "histogram2dcontour"
           }
          ],
          "mesh3d": [
           {
            "colorbar": {
             "outlinewidth": 0,
             "ticks": ""
            },
            "type": "mesh3d"
           }
          ],
          "parcoords": [
           {
            "line": {
             "colorbar": {
              "outlinewidth": 0,
              "ticks": ""
             }
            },
            "type": "parcoords"
           }
          ],
          "pie": [
           {
            "automargin": true,
            "type": "pie"
           }
          ],
          "scatter": [
           {
            "marker": {
             "colorbar": {
              "outlinewidth": 0,
              "ticks": ""
             }
            },
            "type": "scatter"
           }
          ],
          "scatter3d": [
           {
            "line": {
             "colorbar": {
              "outlinewidth": 0,
              "ticks": ""
             }
            },
            "marker": {
             "colorbar": {
              "outlinewidth": 0,
              "ticks": ""
             }
            },
            "type": "scatter3d"
           }
          ],
          "scattercarpet": [
           {
            "marker": {
             "colorbar": {
              "outlinewidth": 0,
              "ticks": ""
             }
            },
            "type": "scattercarpet"
           }
          ],
          "scattergeo": [
           {
            "marker": {
             "colorbar": {
              "outlinewidth": 0,
              "ticks": ""
             }
            },
            "type": "scattergeo"
           }
          ],
          "scattergl": [
           {
            "marker": {
             "colorbar": {
              "outlinewidth": 0,
              "ticks": ""
             }
            },
            "type": "scattergl"
           }
          ],
          "scattermapbox": [
           {
            "marker": {
             "colorbar": {
              "outlinewidth": 0,
              "ticks": ""
             }
            },
            "type": "scattermapbox"
           }
          ],
          "scatterpolar": [
           {
            "marker": {
             "colorbar": {
              "outlinewidth": 0,
              "ticks": ""
             }
            },
            "type": "scatterpolar"
           }
          ],
          "scatterpolargl": [
           {
            "marker": {
             "colorbar": {
              "outlinewidth": 0,
              "ticks": ""
             }
            },
            "type": "scatterpolargl"
           }
          ],
          "scatterternary": [
           {
            "marker": {
             "colorbar": {
              "outlinewidth": 0,
              "ticks": ""
             }
            },
            "type": "scatterternary"
           }
          ],
          "surface": [
           {
            "colorbar": {
             "outlinewidth": 0,
             "ticks": ""
            },
            "colorscale": [
             [
              0,
              "#0d0887"
             ],
             [
              0.1111111111111111,
              "#46039f"
             ],
             [
              0.2222222222222222,
              "#7201a8"
             ],
             [
              0.3333333333333333,
              "#9c179e"
             ],
             [
              0.4444444444444444,
              "#bd3786"
             ],
             [
              0.5555555555555556,
              "#d8576b"
             ],
             [
              0.6666666666666666,
              "#ed7953"
             ],
             [
              0.7777777777777778,
              "#fb9f3a"
             ],
             [
              0.8888888888888888,
              "#fdca26"
             ],
             [
              1,
              "#f0f921"
             ]
            ],
            "type": "surface"
           }
          ],
          "table": [
           {
            "cells": {
             "fill": {
              "color": "#EBF0F8"
             },
             "line": {
              "color": "white"
             }
            },
            "header": {
             "fill": {
              "color": "#C8D4E3"
             },
             "line": {
              "color": "white"
             }
            },
            "type": "table"
           }
          ]
         },
         "layout": {
          "annotationdefaults": {
           "arrowcolor": "#2a3f5f",
           "arrowhead": 0,
           "arrowwidth": 1
          },
          "autotypenumbers": "strict",
          "coloraxis": {
           "colorbar": {
            "outlinewidth": 0,
            "ticks": ""
           }
          },
          "colorscale": {
           "diverging": [
            [
             0,
             "#8e0152"
            ],
            [
             0.1,
             "#c51b7d"
            ],
            [
             0.2,
             "#de77ae"
            ],
            [
             0.3,
             "#f1b6da"
            ],
            [
             0.4,
             "#fde0ef"
            ],
            [
             0.5,
             "#f7f7f7"
            ],
            [
             0.6,
             "#e6f5d0"
            ],
            [
             0.7,
             "#b8e186"
            ],
            [
             0.8,
             "#7fbc41"
            ],
            [
             0.9,
             "#4d9221"
            ],
            [
             1,
             "#276419"
            ]
           ],
           "sequential": [
            [
             0,
             "#0d0887"
            ],
            [
             0.1111111111111111,
             "#46039f"
            ],
            [
             0.2222222222222222,
             "#7201a8"
            ],
            [
             0.3333333333333333,
             "#9c179e"
            ],
            [
             0.4444444444444444,
             "#bd3786"
            ],
            [
             0.5555555555555556,
             "#d8576b"
            ],
            [
             0.6666666666666666,
             "#ed7953"
            ],
            [
             0.7777777777777778,
             "#fb9f3a"
            ],
            [
             0.8888888888888888,
             "#fdca26"
            ],
            [
             1,
             "#f0f921"
            ]
           ],
           "sequentialminus": [
            [
             0,
             "#0d0887"
            ],
            [
             0.1111111111111111,
             "#46039f"
            ],
            [
             0.2222222222222222,
             "#7201a8"
            ],
            [
             0.3333333333333333,
             "#9c179e"
            ],
            [
             0.4444444444444444,
             "#bd3786"
            ],
            [
             0.5555555555555556,
             "#d8576b"
            ],
            [
             0.6666666666666666,
             "#ed7953"
            ],
            [
             0.7777777777777778,
             "#fb9f3a"
            ],
            [
             0.8888888888888888,
             "#fdca26"
            ],
            [
             1,
             "#f0f921"
            ]
           ]
          },
          "colorway": [
           "#636efa",
           "#EF553B",
           "#00cc96",
           "#ab63fa",
           "#FFA15A",
           "#19d3f3",
           "#FF6692",
           "#B6E880",
           "#FF97FF",
           "#FECB52"
          ],
          "font": {
           "color": "#2a3f5f"
          },
          "geo": {
           "bgcolor": "white",
           "lakecolor": "white",
           "landcolor": "#E5ECF6",
           "showlakes": true,
           "showland": true,
           "subunitcolor": "white"
          },
          "hoverlabel": {
           "align": "left"
          },
          "hovermode": "closest",
          "mapbox": {
           "style": "light"
          },
          "paper_bgcolor": "white",
          "plot_bgcolor": "#E5ECF6",
          "polar": {
           "angularaxis": {
            "gridcolor": "white",
            "linecolor": "white",
            "ticks": ""
           },
           "bgcolor": "#E5ECF6",
           "radialaxis": {
            "gridcolor": "white",
            "linecolor": "white",
            "ticks": ""
           }
          },
          "scene": {
           "xaxis": {
            "backgroundcolor": "#E5ECF6",
            "gridcolor": "white",
            "gridwidth": 2,
            "linecolor": "white",
            "showbackground": true,
            "ticks": "",
            "zerolinecolor": "white"
           },
           "yaxis": {
            "backgroundcolor": "#E5ECF6",
            "gridcolor": "white",
            "gridwidth": 2,
            "linecolor": "white",
            "showbackground": true,
            "ticks": "",
            "zerolinecolor": "white"
           },
           "zaxis": {
            "backgroundcolor": "#E5ECF6",
            "gridcolor": "white",
            "gridwidth": 2,
            "linecolor": "white",
            "showbackground": true,
            "ticks": "",
            "zerolinecolor": "white"
           }
          },
          "shapedefaults": {
           "line": {
            "color": "#2a3f5f"
           }
          },
          "ternary": {
           "aaxis": {
            "gridcolor": "white",
            "linecolor": "white",
            "ticks": ""
           },
           "baxis": {
            "gridcolor": "white",
            "linecolor": "white",
            "ticks": ""
           },
           "bgcolor": "#E5ECF6",
           "caxis": {
            "gridcolor": "white",
            "linecolor": "white",
            "ticks": ""
           }
          },
          "title": {
           "x": 0.05
          },
          "xaxis": {
           "automargin": true,
           "gridcolor": "white",
           "linecolor": "white",
           "ticks": "",
           "title": {
            "standoff": 15
           },
           "zerolinecolor": "white",
           "zerolinewidth": 2
          },
          "yaxis": {
           "automargin": true,
           "gridcolor": "white",
           "linecolor": "white",
           "ticks": "",
           "title": {
            "standoff": 15
           },
           "zerolinecolor": "white",
           "zerolinewidth": 2
          }
         }
        },
        "xaxis": {
         "anchor": "y",
         "domain": [
          0,
          0.2888888888888889
         ],
         "title": {
          "text": "$\\sigma_{noise}[Mm]$"
         }
        },
        "xaxis2": {
         "anchor": "y2",
         "domain": [
          0.35555555555555557,
          0.6444444444444445
         ],
         "title": {
          "text": "$\\sigma_{noise}[Mm]$"
         }
        },
        "xaxis3": {
         "anchor": "y3",
         "domain": [
          0.7111111111111111,
          1
         ],
         "title": {
          "text": "$\\sigma_{noise}[Mm]$"
         }
        },
        "yaxis": {
         "anchor": "x",
         "domain": [
          0,
          1
         ],
         "range": [
          -50,
          50
         ],
         "showline": true,
         "tickvals": [
          -50,
          -40,
          -30,
          -20,
          -10,
          0,
          10,
          20,
          30,
          40,
          50
         ],
         "title": {
          "text": "$Percent Error$"
         }
        },
        "yaxis2": {
         "anchor": "x2",
         "domain": [
          0,
          1
         ],
         "range": [
          -50,
          50
         ],
         "tickvals": [
          -50,
          -40,
          -30,
          -20,
          -10,
          0,
          10,
          20,
          30,
          40,
          50
         ]
        },
        "yaxis3": {
         "anchor": "x3",
         "domain": [
          0,
          1
         ],
         "range": [
          -50,
          50
         ],
         "tickvals": [
          -50,
          -40,
          -30,
          -20,
          -10,
          0,
          10,
          20,
          30,
          40,
          50
         ]
        }
       }
      },
      "text/html": [
       "<div>                            <div id=\"9452e9ce-1bf1-49da-9664-b658d4fb5ba4\" class=\"plotly-graph-div\" style=\"height:525px; width:100%;\"></div>            <script type=\"text/javascript\">                require([\"plotly\"], function(Plotly) {                    window.PLOTLYENV=window.PLOTLYENV || {};                                    if (document.getElementById(\"9452e9ce-1bf1-49da-9664-b658d4fb5ba4\")) {                    Plotly.newPlot(                        \"9452e9ce-1bf1-49da-9664-b658d4fb5ba4\",                        [{\"error_y\": {\"array\": [0.16788584024785835, 1.521395434291816, 2.93183807063381, 4.273062607469782, 5.576120004700529, 6.678222258770232], \"arrayminus\": [0.1519744123312202, 1.4490069353387511, 2.8558432445467545, 4.129785089780925, 5.36322720526507, 6.444900909462762], \"symmetric\": false, \"thickness\": 4, \"type\": \"data\", \"visible\": true}, \"line\": {\"color\": \"#253494\", \"width\": 4}, \"name\": \"5\", \"showlegend\": false, \"type\": \"scatter\", \"x\": [0.0, 0.01, 0.02, 0.030000000000000002, 0.04, 0.05], \"xaxis\": \"x\", \"y\": [-0.04438379028423219, -0.6034629466017821, -1.535324422925144, -2.840858105624846, -3.6479737453757646, -5.108948160980921], \"yaxis\": \"y\"}, {\"error_y\": {\"array\": [1.8006474478784775, 3.4889834786157983, 4.94831837857227, 6.433071152252573, 7.6568875351511405, 8.791442031744493], \"arrayminus\": [1.6164141709039974, 3.410860775512818, 5.104709488251493, 6.530036997433772, 7.779206209947806, 8.8092770890249], \"symmetric\": false, \"thickness\": 4, \"type\": \"data\", \"visible\": true}, \"line\": {\"color\": \"#2C7fB8\", \"width\": 4}, \"name\": \"10\", \"showlegend\": false, \"type\": \"scatter\", \"x\": [0.0, 0.01, 0.02, 0.030000000000000002, 0.04, 0.05], \"xaxis\": \"x\", \"y\": [-0.39379287120341194, -1.5974216767199274, -2.8797630940219223, -4.1751258196386445, -6.2624456511458, -9.08522073778205], \"yaxis\": \"y\"}, {\"error_y\": {\"array\": [3.9845286125278316, 6.0295263215256005, 7.757863223760958, 9.092047713223465, 10.01813002315786, 11.017197952077456], \"arrayminus\": [3.9695226472345495, 5.926197974762882, 8.012398442420505, 9.345678191969753, 10.559245533824834, 11.645098654273882], \"symmetric\": false, \"thickness\": 4, \"type\": \"data\", \"visible\": true}, \"line\": {\"color\": \"#41B6C4\", \"width\": 4}, \"name\": \"15\", \"showlegend\": false, \"type\": \"scatter\", \"x\": [0.0, 0.01, 0.02, 0.030000000000000002, 0.04, 0.05], \"xaxis\": \"x\", \"y\": [-0.8397840515121796, -2.15538115902561, -3.4990315093833386, -5.848721727735317, -8.799458264684356, -11.653665525045628], \"yaxis\": \"y\"}, {\"error_y\": {\"array\": [6.331335949032671, 9.082157374459362, 11.991593745629999, 13.655386237643402, 15.05985035855159, 15.69677039789238], \"arrayminus\": [10.690243849393733, 10.839964873136527, 12.272237200066744, 13.809521674825994, 15.330653487089798, 16.58929278603815], \"symmetric\": false, \"thickness\": 4, \"type\": \"data\", \"visible\": true}, \"line\": {\"color\": \"#A1DAB4\", \"width\": 4}, \"name\": \"30\", \"showlegend\": false, \"type\": \"scatter\", \"x\": [0.0, 0.01, 0.02, 0.030000000000000002, 0.04, 0.05], \"xaxis\": \"x\", \"y\": [-1.6309355169535078, -4.097629032330385, -6.470137454132811, -9.183283096423942, -11.861865442318027, -15.688443616278462], \"yaxis\": \"y\"}, {\"error_y\": {\"array\": [0.07051594909662699, 0.6493352353390648, 1.26206355755313, 1.916938883722445, 2.5094576062734255, 3.094479153885586], \"arrayminus\": [0.0479680169727647, 0.6409508299349927, 1.261310678758149, 1.8744532010956045, 2.48097584861861, 3.148323644182098], \"symmetric\": false, \"thickness\": 4, \"type\": \"data\", \"visible\": true}, \"line\": {\"color\": \"#253494\", \"width\": 4}, \"name\": \"5\", \"showlegend\": false, \"type\": \"scatter\", \"x\": [0.0, 0.01, 0.02, 0.030000000000000002, 0.04, 0.05], \"xaxis\": \"x2\", \"y\": [-0.0077389559808756685, -0.03674820690460688, 0.00865858844902766, -0.08586270399902093, -0.04630138731900571, -0.13524094505751766], \"yaxis\": \"y2\"}, {\"error_y\": {\"array\": [0.723119883608669, 1.4298618579373912, 2.154237838052885, 2.8884520865762404, 3.5046869284487316, 4.25191434513858], \"arrayminus\": [0.6033412915471031, 1.462900521491468, 2.2133011229290958, 2.9737307255031444, 3.70375681152764, 4.494136727335778], \"symmetric\": false, \"thickness\": 4, \"type\": \"data\", \"visible\": true}, \"line\": {\"color\": \"#2C7fB8\", \"width\": 4}, \"name\": \"10\", \"showlegend\": false, \"type\": \"scatter\", \"x\": [0.0, 0.01, 0.02, 0.030000000000000002, 0.04, 0.05], \"xaxis\": \"x2\", \"y\": [-0.040281031802152416, -0.13465821396930316, -0.14729938463811654, -0.22597202652150503, -0.2698759264722017, -0.3688527991199049], \"yaxis\": \"y2\"}, {\"error_y\": {\"array\": [1.5745243605141295, 2.3124845129926426, 3.245435752149273, 4.064240818248648, 4.731972112303385, 5.485813095206851], \"arrayminus\": [1.5837609252322171, 2.518873976526632, 3.4930481510799787, 4.4115931997363145, 5.231499679048538, 6.0545652402215415], \"symmetric\": false, \"thickness\": 4, \"type\": \"data\", \"visible\": true}, \"line\": {\"color\": \"#41B6C4\", \"width\": 4}, \"name\": \"15\", \"showlegend\": false, \"type\": \"scatter\", \"x\": [0.0, 0.01, 0.02, 0.030000000000000002, 0.04, 0.05], \"xaxis\": \"x2\", \"y\": [-0.009503527206472013, -0.12061129699859927, -0.1380237206970632, -0.22130071938180668, -0.28815322695375134, -0.511247326533728], \"yaxis\": \"y2\"}, {\"error_y\": {\"array\": [2.435785309046474, 3.505428016376248, 4.943608294166402, 6.037810608254883, 7.114310516600493, 8.132038787420896], \"arrayminus\": [4.4605197317468335, 5.317690104072837, 6.0836253774285405, 7.088916426117104, 8.06767392956371, 8.949638873336882], \"symmetric\": false, \"thickness\": 4, \"type\": \"data\", \"visible\": true}, \"line\": {\"color\": \"#A1DAB4\", \"width\": 4}, \"name\": \"30\", \"showlegend\": false, \"type\": \"scatter\", \"x\": [0.0, 0.01, 0.02, 0.030000000000000002, 0.04, 0.05], \"xaxis\": \"x2\", \"y\": [0.25610167902415504, 0.17076869536710132, 0.16211581530952385, 0.18036872697459028, 0.20814847487034116, -0.19821544202254976], \"yaxis\": \"y2\"}, {\"error_y\": {\"array\": [1.4734645817356464, 5.4311030019435, 10.221926739819905, 14.590373912123727, 18.95711081525033, 22.886968824948447], \"arrayminus\": [1.3822662645941381, 5.820292003557516, 11.062643736263999, 16.354076872513538, 20.79658224259464, 26.02835769042838], \"symmetric\": false, \"thickness\": 4, \"type\": \"data\", \"visible\": true}, \"line\": {\"color\": \"#253494\", \"width\": 4}, \"name\": \"5\", \"showlegend\": true, \"type\": \"scatter\", \"x\": [0.0, 0.01, 0.02, 0.030000000000000002, 0.04, 0.05], \"xaxis\": \"x3\", \"y\": [-0.09665537077041542, -0.7704244922641518, -1.862389031592554, -3.189505412658229, -4.337131857791137, -5.785422260551676], \"yaxis\": \"y3\"}, {\"error_y\": {\"array\": [17.911268739154803, 20.790583123214528, 24.659844901572168, 28.42361475966391, 31.62396356557594, 35.33270126810652], \"arrayminus\": [14.780587447429696, 18.286114582846846, 23.001340778161925, 28.787016108749533, 33.132889232843645, 37.836836741208295], \"symmetric\": false, \"thickness\": 4, \"type\": \"data\", \"visible\": true}, \"line\": {\"color\": \"#2C7fB8\", \"width\": 4}, \"name\": \"10\", \"showlegend\": true, \"type\": \"scatter\", \"x\": [0.0, 0.01, 0.02, 0.030000000000000002, 0.04, 0.05], \"xaxis\": \"x3\", \"y\": [0.7370468796232612, -0.7455632253245137, -2.4924630676286874, -3.8034504982100215, -6.5594688522769555, -9.353183800527571], \"yaxis\": \"y3\"}, {\"error_y\": {\"array\": [36.33974818492146, 38.86790962173681, 43.66062654276332, 47.245967661525455, 49.71716046681979, 52.32607211517721], \"arrayminus\": [39.11340934404259, 40.63997092981247, 45.31143841714891, 49.37221352242837, 52.9590266624049, 56.269607800541266], \"symmetric\": false, \"thickness\": 4, \"type\": \"data\", \"visible\": true}, \"line\": {\"color\": \"#41B6C4\", \"width\": 4}, \"name\": \"15\", \"showlegend\": true, \"type\": \"scatter\", \"x\": [0.0, 0.01, 0.02, 0.030000000000000002, 0.04, 0.05], \"xaxis\": \"x3\", \"y\": [-3.156760812981057, -3.7489543774530727, -4.7658686979612295, -6.620428180705764, -9.49540018181745, -12.646107981224251], \"yaxis\": \"y3\"}, {\"error_y\": {\"array\": [16.51036704677899, 29.871271752405633, 36.6578125530042, 42.48035281726682, 47.31447777850418, 51.82693540787929], \"arrayminus\": [108.0318123214555, 102.10746366755784, 109.38432429405694, 115.20587830105833, 120.35633700736264, 121.0284069657477], \"symmetric\": false, \"thickness\": 4, \"type\": \"data\", \"visible\": true}, \"line\": {\"color\": \"#A1DAB4\", \"width\": 4}, \"name\": \"30\", \"showlegend\": true, \"type\": \"scatter\", \"x\": [0.0, 0.01, 0.02, 0.030000000000000002, 0.04, 0.05], \"xaxis\": \"x3\", \"y\": [-52.962241753227055, -42.7257896927035, -39.90890498766327, -38.841243381584036, -39.45060173053297, -40.613977713591964], \"yaxis\": \"y3\"}],                        {\"annotations\": [{\"font\": {\"size\": 16}, \"showarrow\": false, \"text\": \"$K^{trans}$\", \"x\": 0.14444444444444446, \"xanchor\": \"center\", \"xref\": \"paper\", \"y\": 1.0, \"yanchor\": \"bottom\", \"yref\": \"paper\"}, {\"font\": {\"size\": 16}, \"showarrow\": false, \"text\": \"$V_{e}$\", \"x\": 0.5, \"xanchor\": \"center\", \"xref\": \"paper\", \"y\": 1.0, \"yanchor\": \"bottom\", \"yref\": \"paper\"}, {\"font\": {\"size\": 16}, \"showarrow\": false, \"text\": \"$V_{p}$\", \"x\": 0.8555555555555556, \"xanchor\": \"center\", \"xref\": \"paper\", \"y\": 1.0, \"yanchor\": \"bottom\", \"yref\": \"paper\"}], \"plot_bgcolor\": \"#ffffff\", \"template\": {\"data\": {\"bar\": [{\"error_x\": {\"color\": \"#2a3f5f\"}, \"error_y\": {\"color\": \"#2a3f5f\"}, \"marker\": {\"line\": {\"color\": \"#E5ECF6\", \"width\": 0.5}}, \"type\": \"bar\"}], \"barpolar\": [{\"marker\": {\"line\": {\"color\": \"#E5ECF6\", \"width\": 0.5}}, \"type\": \"barpolar\"}], \"carpet\": [{\"aaxis\": {\"endlinecolor\": \"#2a3f5f\", \"gridcolor\": \"white\", \"linecolor\": \"white\", \"minorgridcolor\": \"white\", \"startlinecolor\": \"#2a3f5f\"}, \"baxis\": {\"endlinecolor\": \"#2a3f5f\", \"gridcolor\": \"white\", \"linecolor\": \"white\", \"minorgridcolor\": \"white\", \"startlinecolor\": \"#2a3f5f\"}, \"type\": \"carpet\"}], \"choropleth\": [{\"colorbar\": {\"outlinewidth\": 0, \"ticks\": \"\"}, \"type\": \"choropleth\"}], \"contour\": [{\"colorbar\": {\"outlinewidth\": 0, \"ticks\": \"\"}, \"colorscale\": [[0.0, \"#0d0887\"], [0.1111111111111111, \"#46039f\"], [0.2222222222222222, \"#7201a8\"], [0.3333333333333333, \"#9c179e\"], [0.4444444444444444, \"#bd3786\"], [0.5555555555555556, \"#d8576b\"], [0.6666666666666666, \"#ed7953\"], [0.7777777777777778, \"#fb9f3a\"], [0.8888888888888888, \"#fdca26\"], [1.0, \"#f0f921\"]], \"type\": \"contour\"}], \"contourcarpet\": [{\"colorbar\": {\"outlinewidth\": 0, \"ticks\": \"\"}, \"type\": \"contourcarpet\"}], \"heatmap\": [{\"colorbar\": {\"outlinewidth\": 0, \"ticks\": \"\"}, \"colorscale\": [[0.0, \"#0d0887\"], [0.1111111111111111, \"#46039f\"], [0.2222222222222222, \"#7201a8\"], [0.3333333333333333, \"#9c179e\"], [0.4444444444444444, \"#bd3786\"], [0.5555555555555556, \"#d8576b\"], [0.6666666666666666, \"#ed7953\"], [0.7777777777777778, \"#fb9f3a\"], [0.8888888888888888, \"#fdca26\"], [1.0, \"#f0f921\"]], \"type\": \"heatmap\"}], \"heatmapgl\": [{\"colorbar\": {\"outlinewidth\": 0, \"ticks\": \"\"}, \"colorscale\": [[0.0, \"#0d0887\"], [0.1111111111111111, \"#46039f\"], [0.2222222222222222, \"#7201a8\"], [0.3333333333333333, \"#9c179e\"], [0.4444444444444444, \"#bd3786\"], [0.5555555555555556, \"#d8576b\"], [0.6666666666666666, \"#ed7953\"], [0.7777777777777778, \"#fb9f3a\"], [0.8888888888888888, \"#fdca26\"], [1.0, \"#f0f921\"]], \"type\": \"heatmapgl\"}], \"histogram\": [{\"marker\": {\"colorbar\": {\"outlinewidth\": 0, \"ticks\": \"\"}}, \"type\": \"histogram\"}], \"histogram2d\": [{\"colorbar\": {\"outlinewidth\": 0, \"ticks\": \"\"}, \"colorscale\": [[0.0, \"#0d0887\"], [0.1111111111111111, \"#46039f\"], [0.2222222222222222, \"#7201a8\"], [0.3333333333333333, \"#9c179e\"], [0.4444444444444444, \"#bd3786\"], [0.5555555555555556, \"#d8576b\"], [0.6666666666666666, \"#ed7953\"], [0.7777777777777778, \"#fb9f3a\"], [0.8888888888888888, \"#fdca26\"], [1.0, \"#f0f921\"]], \"type\": \"histogram2d\"}], \"histogram2dcontour\": [{\"colorbar\": {\"outlinewidth\": 0, \"ticks\": \"\"}, \"colorscale\": [[0.0, \"#0d0887\"], [0.1111111111111111, \"#46039f\"], [0.2222222222222222, \"#7201a8\"], [0.3333333333333333, \"#9c179e\"], [0.4444444444444444, \"#bd3786\"], [0.5555555555555556, \"#d8576b\"], [0.6666666666666666, \"#ed7953\"], [0.7777777777777778, \"#fb9f3a\"], [0.8888888888888888, \"#fdca26\"], [1.0, \"#f0f921\"]], \"type\": \"histogram2dcontour\"}], \"mesh3d\": [{\"colorbar\": {\"outlinewidth\": 0, \"ticks\": \"\"}, \"type\": \"mesh3d\"}], \"parcoords\": [{\"line\": {\"colorbar\": {\"outlinewidth\": 0, \"ticks\": \"\"}}, \"type\": \"parcoords\"}], \"pie\": [{\"automargin\": true, \"type\": \"pie\"}], \"scatter\": [{\"marker\": {\"colorbar\": {\"outlinewidth\": 0, \"ticks\": \"\"}}, \"type\": \"scatter\"}], \"scatter3d\": [{\"line\": {\"colorbar\": {\"outlinewidth\": 0, \"ticks\": \"\"}}, \"marker\": {\"colorbar\": {\"outlinewidth\": 0, \"ticks\": \"\"}}, \"type\": \"scatter3d\"}], \"scattercarpet\": [{\"marker\": {\"colorbar\": {\"outlinewidth\": 0, \"ticks\": \"\"}}, \"type\": \"scattercarpet\"}], \"scattergeo\": [{\"marker\": {\"colorbar\": {\"outlinewidth\": 0, \"ticks\": \"\"}}, \"type\": \"scattergeo\"}], \"scattergl\": [{\"marker\": {\"colorbar\": {\"outlinewidth\": 0, \"ticks\": \"\"}}, \"type\": \"scattergl\"}], \"scattermapbox\": [{\"marker\": {\"colorbar\": {\"outlinewidth\": 0, \"ticks\": \"\"}}, \"type\": \"scattermapbox\"}], \"scatterpolar\": [{\"marker\": {\"colorbar\": {\"outlinewidth\": 0, \"ticks\": \"\"}}, \"type\": \"scatterpolar\"}], \"scatterpolargl\": [{\"marker\": {\"colorbar\": {\"outlinewidth\": 0, \"ticks\": \"\"}}, \"type\": \"scatterpolargl\"}], \"scatterternary\": [{\"marker\": {\"colorbar\": {\"outlinewidth\": 0, \"ticks\": \"\"}}, \"type\": \"scatterternary\"}], \"surface\": [{\"colorbar\": {\"outlinewidth\": 0, \"ticks\": \"\"}, \"colorscale\": [[0.0, \"#0d0887\"], [0.1111111111111111, \"#46039f\"], [0.2222222222222222, \"#7201a8\"], [0.3333333333333333, \"#9c179e\"], [0.4444444444444444, \"#bd3786\"], [0.5555555555555556, \"#d8576b\"], [0.6666666666666666, \"#ed7953\"], [0.7777777777777778, \"#fb9f3a\"], [0.8888888888888888, \"#fdca26\"], [1.0, \"#f0f921\"]], \"type\": \"surface\"}], \"table\": [{\"cells\": {\"fill\": {\"color\": \"#EBF0F8\"}, \"line\": {\"color\": \"white\"}}, \"header\": {\"fill\": {\"color\": \"#C8D4E3\"}, \"line\": {\"color\": \"white\"}}, \"type\": \"table\"}]}, \"layout\": {\"annotationdefaults\": {\"arrowcolor\": \"#2a3f5f\", \"arrowhead\": 0, \"arrowwidth\": 1}, \"autotypenumbers\": \"strict\", \"coloraxis\": {\"colorbar\": {\"outlinewidth\": 0, \"ticks\": \"\"}}, \"colorscale\": {\"diverging\": [[0, \"#8e0152\"], [0.1, \"#c51b7d\"], [0.2, \"#de77ae\"], [0.3, \"#f1b6da\"], [0.4, \"#fde0ef\"], [0.5, \"#f7f7f7\"], [0.6, \"#e6f5d0\"], [0.7, \"#b8e186\"], [0.8, \"#7fbc41\"], [0.9, \"#4d9221\"], [1, \"#276419\"]], \"sequential\": [[0.0, \"#0d0887\"], [0.1111111111111111, \"#46039f\"], [0.2222222222222222, \"#7201a8\"], [0.3333333333333333, \"#9c179e\"], [0.4444444444444444, \"#bd3786\"], [0.5555555555555556, \"#d8576b\"], [0.6666666666666666, \"#ed7953\"], [0.7777777777777778, \"#fb9f3a\"], [0.8888888888888888, \"#fdca26\"], [1.0, \"#f0f921\"]], \"sequentialminus\": [[0.0, \"#0d0887\"], [0.1111111111111111, \"#46039f\"], [0.2222222222222222, \"#7201a8\"], [0.3333333333333333, \"#9c179e\"], [0.4444444444444444, \"#bd3786\"], [0.5555555555555556, \"#d8576b\"], [0.6666666666666666, \"#ed7953\"], [0.7777777777777778, \"#fb9f3a\"], [0.8888888888888888, \"#fdca26\"], [1.0, \"#f0f921\"]]}, \"colorway\": [\"#636efa\", \"#EF553B\", \"#00cc96\", \"#ab63fa\", \"#FFA15A\", \"#19d3f3\", \"#FF6692\", \"#B6E880\", \"#FF97FF\", \"#FECB52\"], \"font\": {\"color\": \"#2a3f5f\"}, \"geo\": {\"bgcolor\": \"white\", \"lakecolor\": \"white\", \"landcolor\": \"#E5ECF6\", \"showlakes\": true, \"showland\": true, \"subunitcolor\": \"white\"}, \"hoverlabel\": {\"align\": \"left\"}, \"hovermode\": \"closest\", \"mapbox\": {\"style\": \"light\"}, \"paper_bgcolor\": \"white\", \"plot_bgcolor\": \"#E5ECF6\", \"polar\": {\"angularaxis\": {\"gridcolor\": \"white\", \"linecolor\": \"white\", \"ticks\": \"\"}, \"bgcolor\": \"#E5ECF6\", \"radialaxis\": {\"gridcolor\": \"white\", \"linecolor\": \"white\", \"ticks\": \"\"}}, \"scene\": {\"xaxis\": {\"backgroundcolor\": \"#E5ECF6\", \"gridcolor\": \"white\", \"gridwidth\": 2, \"linecolor\": \"white\", \"showbackground\": true, \"ticks\": \"\", \"zerolinecolor\": \"white\"}, \"yaxis\": {\"backgroundcolor\": \"#E5ECF6\", \"gridcolor\": \"white\", \"gridwidth\": 2, \"linecolor\": \"white\", \"showbackground\": true, \"ticks\": \"\", \"zerolinecolor\": \"white\"}, \"zaxis\": {\"backgroundcolor\": \"#E5ECF6\", \"gridcolor\": \"white\", \"gridwidth\": 2, \"linecolor\": \"white\", \"showbackground\": true, \"ticks\": \"\", \"zerolinecolor\": \"white\"}}, \"shapedefaults\": {\"line\": {\"color\": \"#2a3f5f\"}}, \"ternary\": {\"aaxis\": {\"gridcolor\": \"white\", \"linecolor\": \"white\", \"ticks\": \"\"}, \"baxis\": {\"gridcolor\": \"white\", \"linecolor\": \"white\", \"ticks\": \"\"}, \"bgcolor\": \"#E5ECF6\", \"caxis\": {\"gridcolor\": \"white\", \"linecolor\": \"white\", \"ticks\": \"\"}}, \"title\": {\"x\": 0.05}, \"xaxis\": {\"automargin\": true, \"gridcolor\": \"white\", \"linecolor\": \"white\", \"ticks\": \"\", \"title\": {\"standoff\": 15}, \"zerolinecolor\": \"white\", \"zerolinewidth\": 2}, \"yaxis\": {\"automargin\": true, \"gridcolor\": \"white\", \"linecolor\": \"white\", \"ticks\": \"\", \"title\": {\"standoff\": 15}, \"zerolinecolor\": \"white\", \"zerolinewidth\": 2}}}, \"xaxis\": {\"anchor\": \"y\", \"domain\": [0.0, 0.2888888888888889], \"title\": {\"text\": \"$\\\\sigma_{noise}[Mm]$\"}}, \"xaxis2\": {\"anchor\": \"y2\", \"domain\": [0.35555555555555557, 0.6444444444444445], \"title\": {\"text\": \"$\\\\sigma_{noise}[Mm]$\"}}, \"xaxis3\": {\"anchor\": \"y3\", \"domain\": [0.7111111111111111, 1.0], \"title\": {\"text\": \"$\\\\sigma_{noise}[Mm]$\"}}, \"yaxis\": {\"anchor\": \"x\", \"domain\": [0.0, 1.0], \"range\": [-50, 50], \"showline\": true, \"tickvals\": [-50, -40, -30, -20, -10, 0, 10, 20, 30, 40, 50], \"title\": {\"text\": \"$Percent Error$\"}}, \"yaxis2\": {\"anchor\": \"x2\", \"domain\": [0.0, 1.0], \"range\": [-50, 50], \"tickvals\": [-50, -40, -30, -20, -10, 0, 10, 20, 30, 40, 50]}, \"yaxis3\": {\"anchor\": \"x3\", \"domain\": [0.0, 1.0], \"range\": [-50, 50], \"tickvals\": [-50, -40, -30, -20, -10, 0, 10, 20, 30, 40, 50]}},                        {\"responsive\": true}                    ).then(function(){\n",
       "                            \n",
       "var gd = document.getElementById('9452e9ce-1bf1-49da-9664-b658d4fb5ba4');\n",
       "var x = new MutationObserver(function (mutations, observer) {{\n",
       "        var display = window.getComputedStyle(gd).display;\n",
       "        if (!display || display === 'none') {{\n",
       "            console.log([gd, 'removed!']);\n",
       "            Plotly.purge(gd);\n",
       "            observer.disconnect();\n",
       "        }}\n",
       "}});\n",
       "\n",
       "// Listen for the removal of the full notebook cells\n",
       "var notebookContainer = gd.closest('#notebook-container');\n",
       "if (notebookContainer) {{\n",
       "    x.observe(notebookContainer, {childList: true});\n",
       "}}\n",
       "\n",
       "// Listen for the clearing of the current output cell\n",
       "var outputEl = gd.closest('.output');\n",
       "if (outputEl) {{\n",
       "    x.observe(outputEl, {childList: true});\n",
       "}}\n",
       "\n",
       "                        })                };                });            </script>        </div>"
      ]
     },
     "metadata": {},
     "output_type": "display_data"
    }
   ],
   "source": [
    "%get listSigmaC --from MATLAB\n",
    "%get curErr3 --from MATLAB\n",
    "%get errQt3 --from MATLAB\n",
    "%get errMd3 --from MATLAB\n",
    "%get curErr4 --from MATLAB\n",
    "%get errQt4 --from MATLAB\n",
    "%get errMd4 --from MATLAB\n",
    "%get curErr5 --from MATLAB\n",
    "%get errQt5 --from MATLAB\n",
    "%get errMd5 --from MATLAB\n",
    "\n",
    "\n",
    "fig = make_subplots(rows=1, cols=3, \n",
    "                    subplot_titles=(r'$K^{trans}$', r'$V_{e}$', r'$V_{p}$'))\n",
    "\n",
    "legend_values=cycle(['5','10','15','30'])\n",
    "\n",
    "# First subplot \n",
    "line_colours = cycle(['#253494','#2C7fB8','#41B6C4','#A1DAB4'])\n",
    "\n",
    "for i in range(0,4):\n",
    "    finalErrMd3=np.squeeze(np.asarray((np.reshape(errMd3[i,:], 6))))\n",
    "    # take another look here - is it errorQt[i,:,1] because MATLAB indexing starts from 1,\n",
    "    # or is it just like in MATLAB?\n",
    "    finalErrorDiff3=np.squeeze(np.asarray((np.reshape(abs(errQt3[i,:,0]-errMd3[i,:]), 6))))\n",
    "    finalErrorDiffMinus3=np.squeeze(np.asarray((np.reshape(abs(errQt3[i,:,1]-errMd3[i,:]), 6))))\n",
    "    fig.add_trace(go.Scatter(\n",
    "        x=listSigmaC,\n",
    "        y=finalErrMd3,\n",
    "        error_y=dict(\n",
    "            type='data', # value of error bar given in data coordinates\n",
    "            array=finalErrorDiff3,\n",
    "            arrayminus=finalErrorDiffMinus3,\n",
    "            symmetric=False,\n",
    "            visible=True,\n",
    "            thickness=4),\n",
    "        line_color=next(line_colours),\n",
    "        line_width=4, showlegend=False, name=next(legend_values)\n",
    "    ),row=1, col=1)\n",
    "    \n",
    "\n",
    "\n",
    "# Second subplot\n",
    "\n",
    "line_colours = cycle(['#253494','#2C7fB8','#41B6C4','#A1DAB4'])\n",
    "\n",
    "for i in range(0,4):\n",
    "    finalErrMd4=np.squeeze(np.asarray((np.reshape(errMd4[i,:], 6))))\n",
    "    \n",
    "    finalErrorDiff4=np.squeeze(np.asarray((np.reshape(abs(errQt4[i,:,0]-errMd4[i,:]), 6))))\n",
    "    finalErrorDiffMinus4=np.squeeze(np.asarray((np.reshape(abs(errQt4[i,:,1]-errMd4[i,:]), 6))))\n",
    "    fig.add_trace(go.Scatter(\n",
    "        x=listSigmaC,\n",
    "        y=finalErrMd4,\n",
    "        error_y=dict(\n",
    "            type='data', # value of error bar given in data coordinates\n",
    "            array=finalErrorDiff4,\n",
    "            arrayminus=finalErrorDiffMinus4,\n",
    "            symmetric=False,\n",
    "            visible=True,\n",
    "            thickness=4),\n",
    "        line_color=next(line_colours),\n",
    "        line_width=4, showlegend=False, name=next(legend_values)       \n",
    "    ),row=1, col=2)\n",
    "\n",
    "\n",
    "# Third subplot\n",
    "\n",
    "line_colours = cycle(['#253494','#2C7fB8','#41B6C4','#A1DAB4'])\n",
    "\n",
    "for i in range(0,4):\n",
    "    finalErrMd5=np.squeeze(np.asarray((np.reshape(errMd5[i,:], 6))))\n",
    "    finalErrorDiff5=np.squeeze(np.asarray((np.reshape(abs(errQt5[i,:,0]-errMd5[i,:]), 6))))\n",
    "    finalErrorDiffMinus5=np.squeeze(np.asarray((np.reshape(abs(errQt5[i,:,1]-errMd5[i,:]), 6))))\n",
    "    fig.add_trace(go.Scatter(\n",
    "        x=listSigmaC,\n",
    "        y=finalErrMd5,\n",
    "        error_y=dict(\n",
    "            type='data', # value of error bar given in data coordinates\n",
    "            array=finalErrorDiff5,\n",
    "            arrayminus=finalErrorDiffMinus5,\n",
    "            symmetric=False,\n",
    "            visible=True,\n",
    "            thickness=4),\n",
    "        line_color=next(line_colours),\n",
    "        line_width=4, showlegend=True, name=next(legend_values) \n",
    "    ),row=1, col=3)\n",
    "\n",
    "\n",
    "\n",
    "fig.update_xaxes(title_text=r'$\\sigma_{noise}[Mm]$')\n",
    "fig.update_yaxes(range=[-50,50], tickvals=[-50, -40, -30, -20, -10, 0, 10, 20, 30, 40, 50], row=1, col=1)\n",
    "fig.update_yaxes(range=[-50,50], tickvals=[-50, -40, -30, -20, -10, 0, 10, 20, 30, 40, 50], row=1, col=2)\n",
    "fig.update_yaxes(range=[-50,50], tickvals=[-50, -40, -30, -20, -10, 0, 10, 20, 30, 40, 50], row=1, col=3)\n",
    "\n",
    "fig.update_layout(yaxis=dict(title=r'$Percent Error$',\n",
    "                             showline=True,\n",
    "                             ), \n",
    "                  plot_bgcolor='#ffffff'\n",
    "                  #legend=dict(yanchor='bottom', y=0.20, xanchor='right', x=0.30) -- change legend position\n",
    ")\n",
    "\n",
    "\n",
    "\n",
    "\n",
    "\n",
    "fig.show()\n"
   ]
  },
  {
   "cell_type": "markdown",
   "metadata": {
    "kernel": "SoS"
   },
   "source": [
    "### Subfigures with sliders"
   ]
  },
  {
   "cell_type": "markdown",
   "metadata": {
    "kernel": "SoS"
   },
   "source": [
    "* $K^{trans}$: <a name=\"fig-2-1\"></a>"
   ]
  },
  {
   "cell_type": "code",
   "execution_count": 9,
   "metadata": {
    "kernel": "SoS",
    "scrolled": false
   },
   "outputs": [
    {
     "data": {
      "application/vnd.plotly.v1+json": {
       "config": {
        "plotlyServerURL": "https://plot.ly"
       },
       "data": [
        {
         "error_y": {
          "array": [
           0.16788584024785835,
           1.521395434291816,
           2.93183807063381,
           4.273062607469782,
           5.576120004700529,
           6.678222258770232
          ],
          "arrayminus": [
           0.1519744123312202,
           1.4490069353387511,
           2.8558432445467545,
           4.129785089780925,
           5.36322720526507,
           6.444900909462762
          ],
          "symmetric": false,
          "thickness": 4,
          "type": "data",
          "visible": true
         },
         "line": {
          "color": "#253494",
          "width": 4
         },
         "name": "5",
         "showlegend": false,
         "type": "scatter",
         "visible": true,
         "x": [
          0,
          0.01,
          0.02,
          0.030000000000000002,
          0.04,
          0.05
         ],
         "y": [
          -0.04438379028423219,
          -0.6034629466017821,
          -1.535324422925144,
          -2.840858105624846,
          -3.6479737453757646,
          -5.108948160980921
         ]
        },
        {
         "error_y": {
          "array": [
           1.8006474478784775,
           3.4889834786157983,
           4.94831837857227,
           6.433071152252573,
           7.6568875351511405,
           8.791442031744493
          ],
          "arrayminus": [
           1.6164141709039974,
           3.410860775512818,
           5.104709488251493,
           6.530036997433772,
           7.779206209947806,
           8.8092770890249
          ],
          "symmetric": false,
          "thickness": 4,
          "type": "data",
          "visible": true
         },
         "line": {
          "color": "#2C7fB8",
          "width": 4
         },
         "name": "10",
         "showlegend": false,
         "type": "scatter",
         "visible": false,
         "x": [
          0,
          0.01,
          0.02,
          0.030000000000000002,
          0.04,
          0.05
         ],
         "y": [
          -0.39379287120341194,
          -1.5974216767199274,
          -2.8797630940219223,
          -4.1751258196386445,
          -6.2624456511458,
          -9.08522073778205
         ]
        },
        {
         "error_y": {
          "array": [
           3.9845286125278316,
           6.0295263215256005,
           7.757863223760958,
           9.092047713223465,
           10.01813002315786,
           11.017197952077456
          ],
          "arrayminus": [
           3.9695226472345495,
           5.926197974762882,
           8.012398442420505,
           9.345678191969753,
           10.559245533824834,
           11.645098654273882
          ],
          "symmetric": false,
          "thickness": 4,
          "type": "data",
          "visible": true
         },
         "line": {
          "color": "#41B6C4",
          "width": 4
         },
         "name": "15",
         "showlegend": false,
         "type": "scatter",
         "visible": false,
         "x": [
          0,
          0.01,
          0.02,
          0.030000000000000002,
          0.04,
          0.05
         ],
         "y": [
          -0.8397840515121796,
          -2.15538115902561,
          -3.4990315093833386,
          -5.848721727735317,
          -8.799458264684356,
          -11.653665525045628
         ]
        },
        {
         "error_y": {
          "array": [
           6.331335949032671,
           9.082157374459362,
           11.991593745629999,
           13.655386237643402,
           15.05985035855159,
           15.69677039789238
          ],
          "arrayminus": [
           10.690243849393733,
           10.839964873136527,
           12.272237200066744,
           13.809521674825994,
           15.330653487089798,
           16.58929278603815
          ],
          "symmetric": false,
          "thickness": 4,
          "type": "data",
          "visible": true
         },
         "line": {
          "color": "#A1DAB4",
          "width": 4
         },
         "name": "30",
         "showlegend": false,
         "type": "scatter",
         "visible": false,
         "x": [
          0,
          0.01,
          0.02,
          0.030000000000000002,
          0.04,
          0.05
         ],
         "y": [
          -1.6309355169535078,
          -4.097629032330385,
          -6.470137454132811,
          -9.183283096423942,
          -11.861865442318027,
          -15.688443616278462
         ]
        }
       ],
       "layout": {
        "legend": {
         "x": 0.3,
         "xanchor": "right",
         "y": 0.2,
         "yanchor": "bottom"
        },
        "plot_bgcolor": "#ffffff",
        "sliders": [
         {
          "active": 4,
          "currentvalue": {
           "prefix": "Temporal resolution [seconds]: "
          },
          "pad": {
           "t": 70
          },
          "steps": [
           {
            "args": [
             {
              "visible": [
               true,
               false,
               false,
               false
              ]
             }
            ],
            "label": "5",
            "method": "update",
            "value": "5"
           },
           {
            "args": [
             {
              "visible": [
               false,
               true,
               false,
               false
              ]
             }
            ],
            "label": "10",
            "method": "update",
            "value": "10"
           },
           {
            "args": [
             {
              "visible": [
               false,
               false,
               true,
               false
              ]
             }
            ],
            "label": "15",
            "method": "update",
            "value": "15"
           },
           {
            "args": [
             {
              "visible": [
               false,
               false,
               false,
               true
              ]
             }
            ],
            "label": "30",
            "method": "update",
            "value": "30"
           }
          ]
         }
        ],
        "template": {
         "data": {
          "bar": [
           {
            "error_x": {
             "color": "#2a3f5f"
            },
            "error_y": {
             "color": "#2a3f5f"
            },
            "marker": {
             "line": {
              "color": "#E5ECF6",
              "width": 0.5
             }
            },
            "type": "bar"
           }
          ],
          "barpolar": [
           {
            "marker": {
             "line": {
              "color": "#E5ECF6",
              "width": 0.5
             }
            },
            "type": "barpolar"
           }
          ],
          "carpet": [
           {
            "aaxis": {
             "endlinecolor": "#2a3f5f",
             "gridcolor": "white",
             "linecolor": "white",
             "minorgridcolor": "white",
             "startlinecolor": "#2a3f5f"
            },
            "baxis": {
             "endlinecolor": "#2a3f5f",
             "gridcolor": "white",
             "linecolor": "white",
             "minorgridcolor": "white",
             "startlinecolor": "#2a3f5f"
            },
            "type": "carpet"
           }
          ],
          "choropleth": [
           {
            "colorbar": {
             "outlinewidth": 0,
             "ticks": ""
            },
            "type": "choropleth"
           }
          ],
          "contour": [
           {
            "colorbar": {
             "outlinewidth": 0,
             "ticks": ""
            },
            "colorscale": [
             [
              0,
              "#0d0887"
             ],
             [
              0.1111111111111111,
              "#46039f"
             ],
             [
              0.2222222222222222,
              "#7201a8"
             ],
             [
              0.3333333333333333,
              "#9c179e"
             ],
             [
              0.4444444444444444,
              "#bd3786"
             ],
             [
              0.5555555555555556,
              "#d8576b"
             ],
             [
              0.6666666666666666,
              "#ed7953"
             ],
             [
              0.7777777777777778,
              "#fb9f3a"
             ],
             [
              0.8888888888888888,
              "#fdca26"
             ],
             [
              1,
              "#f0f921"
             ]
            ],
            "type": "contour"
           }
          ],
          "contourcarpet": [
           {
            "colorbar": {
             "outlinewidth": 0,
             "ticks": ""
            },
            "type": "contourcarpet"
           }
          ],
          "heatmap": [
           {
            "colorbar": {
             "outlinewidth": 0,
             "ticks": ""
            },
            "colorscale": [
             [
              0,
              "#0d0887"
             ],
             [
              0.1111111111111111,
              "#46039f"
             ],
             [
              0.2222222222222222,
              "#7201a8"
             ],
             [
              0.3333333333333333,
              "#9c179e"
             ],
             [
              0.4444444444444444,
              "#bd3786"
             ],
             [
              0.5555555555555556,
              "#d8576b"
             ],
             [
              0.6666666666666666,
              "#ed7953"
             ],
             [
              0.7777777777777778,
              "#fb9f3a"
             ],
             [
              0.8888888888888888,
              "#fdca26"
             ],
             [
              1,
              "#f0f921"
             ]
            ],
            "type": "heatmap"
           }
          ],
          "heatmapgl": [
           {
            "colorbar": {
             "outlinewidth": 0,
             "ticks": ""
            },
            "colorscale": [
             [
              0,
              "#0d0887"
             ],
             [
              0.1111111111111111,
              "#46039f"
             ],
             [
              0.2222222222222222,
              "#7201a8"
             ],
             [
              0.3333333333333333,
              "#9c179e"
             ],
             [
              0.4444444444444444,
              "#bd3786"
             ],
             [
              0.5555555555555556,
              "#d8576b"
             ],
             [
              0.6666666666666666,
              "#ed7953"
             ],
             [
              0.7777777777777778,
              "#fb9f3a"
             ],
             [
              0.8888888888888888,
              "#fdca26"
             ],
             [
              1,
              "#f0f921"
             ]
            ],
            "type": "heatmapgl"
           }
          ],
          "histogram": [
           {
            "marker": {
             "colorbar": {
              "outlinewidth": 0,
              "ticks": ""
             }
            },
            "type": "histogram"
           }
          ],
          "histogram2d": [
           {
            "colorbar": {
             "outlinewidth": 0,
             "ticks": ""
            },
            "colorscale": [
             [
              0,
              "#0d0887"
             ],
             [
              0.1111111111111111,
              "#46039f"
             ],
             [
              0.2222222222222222,
              "#7201a8"
             ],
             [
              0.3333333333333333,
              "#9c179e"
             ],
             [
              0.4444444444444444,
              "#bd3786"
             ],
             [
              0.5555555555555556,
              "#d8576b"
             ],
             [
              0.6666666666666666,
              "#ed7953"
             ],
             [
              0.7777777777777778,
              "#fb9f3a"
             ],
             [
              0.8888888888888888,
              "#fdca26"
             ],
             [
              1,
              "#f0f921"
             ]
            ],
            "type": "histogram2d"
           }
          ],
          "histogram2dcontour": [
           {
            "colorbar": {
             "outlinewidth": 0,
             "ticks": ""
            },
            "colorscale": [
             [
              0,
              "#0d0887"
             ],
             [
              0.1111111111111111,
              "#46039f"
             ],
             [
              0.2222222222222222,
              "#7201a8"
             ],
             [
              0.3333333333333333,
              "#9c179e"
             ],
             [
              0.4444444444444444,
              "#bd3786"
             ],
             [
              0.5555555555555556,
              "#d8576b"
             ],
             [
              0.6666666666666666,
              "#ed7953"
             ],
             [
              0.7777777777777778,
              "#fb9f3a"
             ],
             [
              0.8888888888888888,
              "#fdca26"
             ],
             [
              1,
              "#f0f921"
             ]
            ],
            "type": "histogram2dcontour"
           }
          ],
          "mesh3d": [
           {
            "colorbar": {
             "outlinewidth": 0,
             "ticks": ""
            },
            "type": "mesh3d"
           }
          ],
          "parcoords": [
           {
            "line": {
             "colorbar": {
              "outlinewidth": 0,
              "ticks": ""
             }
            },
            "type": "parcoords"
           }
          ],
          "pie": [
           {
            "automargin": true,
            "type": "pie"
           }
          ],
          "scatter": [
           {
            "marker": {
             "colorbar": {
              "outlinewidth": 0,
              "ticks": ""
             }
            },
            "type": "scatter"
           }
          ],
          "scatter3d": [
           {
            "line": {
             "colorbar": {
              "outlinewidth": 0,
              "ticks": ""
             }
            },
            "marker": {
             "colorbar": {
              "outlinewidth": 0,
              "ticks": ""
             }
            },
            "type": "scatter3d"
           }
          ],
          "scattercarpet": [
           {
            "marker": {
             "colorbar": {
              "outlinewidth": 0,
              "ticks": ""
             }
            },
            "type": "scattercarpet"
           }
          ],
          "scattergeo": [
           {
            "marker": {
             "colorbar": {
              "outlinewidth": 0,
              "ticks": ""
             }
            },
            "type": "scattergeo"
           }
          ],
          "scattergl": [
           {
            "marker": {
             "colorbar": {
              "outlinewidth": 0,
              "ticks": ""
             }
            },
            "type": "scattergl"
           }
          ],
          "scattermapbox": [
           {
            "marker": {
             "colorbar": {
              "outlinewidth": 0,
              "ticks": ""
             }
            },
            "type": "scattermapbox"
           }
          ],
          "scatterpolar": [
           {
            "marker": {
             "colorbar": {
              "outlinewidth": 0,
              "ticks": ""
             }
            },
            "type": "scatterpolar"
           }
          ],
          "scatterpolargl": [
           {
            "marker": {
             "colorbar": {
              "outlinewidth": 0,
              "ticks": ""
             }
            },
            "type": "scatterpolargl"
           }
          ],
          "scatterternary": [
           {
            "marker": {
             "colorbar": {
              "outlinewidth": 0,
              "ticks": ""
             }
            },
            "type": "scatterternary"
           }
          ],
          "surface": [
           {
            "colorbar": {
             "outlinewidth": 0,
             "ticks": ""
            },
            "colorscale": [
             [
              0,
              "#0d0887"
             ],
             [
              0.1111111111111111,
              "#46039f"
             ],
             [
              0.2222222222222222,
              "#7201a8"
             ],
             [
              0.3333333333333333,
              "#9c179e"
             ],
             [
              0.4444444444444444,
              "#bd3786"
             ],
             [
              0.5555555555555556,
              "#d8576b"
             ],
             [
              0.6666666666666666,
              "#ed7953"
             ],
             [
              0.7777777777777778,
              "#fb9f3a"
             ],
             [
              0.8888888888888888,
              "#fdca26"
             ],
             [
              1,
              "#f0f921"
             ]
            ],
            "type": "surface"
           }
          ],
          "table": [
           {
            "cells": {
             "fill": {
              "color": "#EBF0F8"
             },
             "line": {
              "color": "white"
             }
            },
            "header": {
             "fill": {
              "color": "#C8D4E3"
             },
             "line": {
              "color": "white"
             }
            },
            "type": "table"
           }
          ]
         },
         "layout": {
          "annotationdefaults": {
           "arrowcolor": "#2a3f5f",
           "arrowhead": 0,
           "arrowwidth": 1
          },
          "autotypenumbers": "strict",
          "coloraxis": {
           "colorbar": {
            "outlinewidth": 0,
            "ticks": ""
           }
          },
          "colorscale": {
           "diverging": [
            [
             0,
             "#8e0152"
            ],
            [
             0.1,
             "#c51b7d"
            ],
            [
             0.2,
             "#de77ae"
            ],
            [
             0.3,
             "#f1b6da"
            ],
            [
             0.4,
             "#fde0ef"
            ],
            [
             0.5,
             "#f7f7f7"
            ],
            [
             0.6,
             "#e6f5d0"
            ],
            [
             0.7,
             "#b8e186"
            ],
            [
             0.8,
             "#7fbc41"
            ],
            [
             0.9,
             "#4d9221"
            ],
            [
             1,
             "#276419"
            ]
           ],
           "sequential": [
            [
             0,
             "#0d0887"
            ],
            [
             0.1111111111111111,
             "#46039f"
            ],
            [
             0.2222222222222222,
             "#7201a8"
            ],
            [
             0.3333333333333333,
             "#9c179e"
            ],
            [
             0.4444444444444444,
             "#bd3786"
            ],
            [
             0.5555555555555556,
             "#d8576b"
            ],
            [
             0.6666666666666666,
             "#ed7953"
            ],
            [
             0.7777777777777778,
             "#fb9f3a"
            ],
            [
             0.8888888888888888,
             "#fdca26"
            ],
            [
             1,
             "#f0f921"
            ]
           ],
           "sequentialminus": [
            [
             0,
             "#0d0887"
            ],
            [
             0.1111111111111111,
             "#46039f"
            ],
            [
             0.2222222222222222,
             "#7201a8"
            ],
            [
             0.3333333333333333,
             "#9c179e"
            ],
            [
             0.4444444444444444,
             "#bd3786"
            ],
            [
             0.5555555555555556,
             "#d8576b"
            ],
            [
             0.6666666666666666,
             "#ed7953"
            ],
            [
             0.7777777777777778,
             "#fb9f3a"
            ],
            [
             0.8888888888888888,
             "#fdca26"
            ],
            [
             1,
             "#f0f921"
            ]
           ]
          },
          "colorway": [
           "#636efa",
           "#EF553B",
           "#00cc96",
           "#ab63fa",
           "#FFA15A",
           "#19d3f3",
           "#FF6692",
           "#B6E880",
           "#FF97FF",
           "#FECB52"
          ],
          "font": {
           "color": "#2a3f5f"
          },
          "geo": {
           "bgcolor": "white",
           "lakecolor": "white",
           "landcolor": "#E5ECF6",
           "showlakes": true,
           "showland": true,
           "subunitcolor": "white"
          },
          "hoverlabel": {
           "align": "left"
          },
          "hovermode": "closest",
          "mapbox": {
           "style": "light"
          },
          "paper_bgcolor": "white",
          "plot_bgcolor": "#E5ECF6",
          "polar": {
           "angularaxis": {
            "gridcolor": "white",
            "linecolor": "white",
            "ticks": ""
           },
           "bgcolor": "#E5ECF6",
           "radialaxis": {
            "gridcolor": "white",
            "linecolor": "white",
            "ticks": ""
           }
          },
          "scene": {
           "xaxis": {
            "backgroundcolor": "#E5ECF6",
            "gridcolor": "white",
            "gridwidth": 2,
            "linecolor": "white",
            "showbackground": true,
            "ticks": "",
            "zerolinecolor": "white"
           },
           "yaxis": {
            "backgroundcolor": "#E5ECF6",
            "gridcolor": "white",
            "gridwidth": 2,
            "linecolor": "white",
            "showbackground": true,
            "ticks": "",
            "zerolinecolor": "white"
           },
           "zaxis": {
            "backgroundcolor": "#E5ECF6",
            "gridcolor": "white",
            "gridwidth": 2,
            "linecolor": "white",
            "showbackground": true,
            "ticks": "",
            "zerolinecolor": "white"
           }
          },
          "shapedefaults": {
           "line": {
            "color": "#2a3f5f"
           }
          },
          "ternary": {
           "aaxis": {
            "gridcolor": "white",
            "linecolor": "white",
            "ticks": ""
           },
           "baxis": {
            "gridcolor": "white",
            "linecolor": "white",
            "ticks": ""
           },
           "bgcolor": "#E5ECF6",
           "caxis": {
            "gridcolor": "white",
            "linecolor": "white",
            "ticks": ""
           }
          },
          "title": {
           "x": 0.05
          },
          "xaxis": {
           "automargin": true,
           "gridcolor": "white",
           "linecolor": "white",
           "ticks": "",
           "title": {
            "standoff": 15
           },
           "zerolinecolor": "white",
           "zerolinewidth": 2
          },
          "yaxis": {
           "automargin": true,
           "gridcolor": "white",
           "linecolor": "white",
           "ticks": "",
           "title": {
            "standoff": 15
           },
           "zerolinecolor": "white",
           "zerolinewidth": 2
          }
         }
        },
        "title": {
         "text": "$V_{e}$",
         "x": 0.5,
         "xanchor": "center"
        },
        "xaxis": {
         "title": {
          "text": "$\\sigma_{noise}[Mm]$"
         }
        },
        "yaxis": {
         "range": [
          -35,
          5
         ],
         "showline": true,
         "tickvals": [
          -35,
          -30,
          -25,
          -20,
          -15,
          -10,
          -5,
          0,
          5
         ],
         "title": {
          "text": "$Percent Error$"
         }
        }
       }
      },
      "text/html": [
       "<div>                            <div id=\"5d68f0bf-f5a7-4a96-9d5d-ad6d7a772b37\" class=\"plotly-graph-div\" style=\"height:525px; width:100%;\"></div>            <script type=\"text/javascript\">                require([\"plotly\"], function(Plotly) {                    window.PLOTLYENV=window.PLOTLYENV || {};                                    if (document.getElementById(\"5d68f0bf-f5a7-4a96-9d5d-ad6d7a772b37\")) {                    Plotly.newPlot(                        \"5d68f0bf-f5a7-4a96-9d5d-ad6d7a772b37\",                        [{\"error_y\": {\"array\": [0.16788584024785835, 1.521395434291816, 2.93183807063381, 4.273062607469782, 5.576120004700529, 6.678222258770232], \"arrayminus\": [0.1519744123312202, 1.4490069353387511, 2.8558432445467545, 4.129785089780925, 5.36322720526507, 6.444900909462762], \"symmetric\": false, \"thickness\": 4, \"type\": \"data\", \"visible\": true}, \"line\": {\"color\": \"#253494\", \"width\": 4}, \"name\": \"5\", \"showlegend\": false, \"type\": \"scatter\", \"visible\": true, \"x\": [0.0, 0.01, 0.02, 0.030000000000000002, 0.04, 0.05], \"y\": [-0.04438379028423219, -0.6034629466017821, -1.535324422925144, -2.840858105624846, -3.6479737453757646, -5.108948160980921]}, {\"error_y\": {\"array\": [1.8006474478784775, 3.4889834786157983, 4.94831837857227, 6.433071152252573, 7.6568875351511405, 8.791442031744493], \"arrayminus\": [1.6164141709039974, 3.410860775512818, 5.104709488251493, 6.530036997433772, 7.779206209947806, 8.8092770890249], \"symmetric\": false, \"thickness\": 4, \"type\": \"data\", \"visible\": true}, \"line\": {\"color\": \"#2C7fB8\", \"width\": 4}, \"name\": \"10\", \"showlegend\": false, \"type\": \"scatter\", \"visible\": false, \"x\": [0.0, 0.01, 0.02, 0.030000000000000002, 0.04, 0.05], \"y\": [-0.39379287120341194, -1.5974216767199274, -2.8797630940219223, -4.1751258196386445, -6.2624456511458, -9.08522073778205]}, {\"error_y\": {\"array\": [3.9845286125278316, 6.0295263215256005, 7.757863223760958, 9.092047713223465, 10.01813002315786, 11.017197952077456], \"arrayminus\": [3.9695226472345495, 5.926197974762882, 8.012398442420505, 9.345678191969753, 10.559245533824834, 11.645098654273882], \"symmetric\": false, \"thickness\": 4, \"type\": \"data\", \"visible\": true}, \"line\": {\"color\": \"#41B6C4\", \"width\": 4}, \"name\": \"15\", \"showlegend\": false, \"type\": \"scatter\", \"visible\": false, \"x\": [0.0, 0.01, 0.02, 0.030000000000000002, 0.04, 0.05], \"y\": [-0.8397840515121796, -2.15538115902561, -3.4990315093833386, -5.848721727735317, -8.799458264684356, -11.653665525045628]}, {\"error_y\": {\"array\": [6.331335949032671, 9.082157374459362, 11.991593745629999, 13.655386237643402, 15.05985035855159, 15.69677039789238], \"arrayminus\": [10.690243849393733, 10.839964873136527, 12.272237200066744, 13.809521674825994, 15.330653487089798, 16.58929278603815], \"symmetric\": false, \"thickness\": 4, \"type\": \"data\", \"visible\": true}, \"line\": {\"color\": \"#A1DAB4\", \"width\": 4}, \"name\": \"30\", \"showlegend\": false, \"type\": \"scatter\", \"visible\": false, \"x\": [0.0, 0.01, 0.02, 0.030000000000000002, 0.04, 0.05], \"y\": [-1.6309355169535078, -4.097629032330385, -6.470137454132811, -9.183283096423942, -11.861865442318027, -15.688443616278462]}],                        {\"legend\": {\"x\": 0.3, \"xanchor\": \"right\", \"y\": 0.2, \"yanchor\": \"bottom\"}, \"plot_bgcolor\": \"#ffffff\", \"sliders\": [{\"active\": 4, \"currentvalue\": {\"prefix\": \"Temporal resolution [seconds]: \"}, \"pad\": {\"t\": 70}, \"steps\": [{\"args\": [{\"visible\": [true, false, false, false]}], \"label\": \"5\", \"method\": \"update\", \"value\": \"5\"}, {\"args\": [{\"visible\": [false, true, false, false]}], \"label\": \"10\", \"method\": \"update\", \"value\": \"10\"}, {\"args\": [{\"visible\": [false, false, true, false]}], \"label\": \"15\", \"method\": \"update\", \"value\": \"15\"}, {\"args\": [{\"visible\": [false, false, false, true]}], \"label\": \"30\", \"method\": \"update\", \"value\": \"30\"}]}], \"template\": {\"data\": {\"bar\": [{\"error_x\": {\"color\": \"#2a3f5f\"}, \"error_y\": {\"color\": \"#2a3f5f\"}, \"marker\": {\"line\": {\"color\": \"#E5ECF6\", \"width\": 0.5}}, \"type\": \"bar\"}], \"barpolar\": [{\"marker\": {\"line\": {\"color\": \"#E5ECF6\", \"width\": 0.5}}, \"type\": \"barpolar\"}], \"carpet\": [{\"aaxis\": {\"endlinecolor\": \"#2a3f5f\", \"gridcolor\": \"white\", \"linecolor\": \"white\", \"minorgridcolor\": \"white\", \"startlinecolor\": \"#2a3f5f\"}, \"baxis\": {\"endlinecolor\": \"#2a3f5f\", \"gridcolor\": \"white\", \"linecolor\": \"white\", \"minorgridcolor\": \"white\", \"startlinecolor\": \"#2a3f5f\"}, \"type\": \"carpet\"}], \"choropleth\": [{\"colorbar\": {\"outlinewidth\": 0, \"ticks\": \"\"}, \"type\": \"choropleth\"}], \"contour\": [{\"colorbar\": {\"outlinewidth\": 0, \"ticks\": \"\"}, \"colorscale\": [[0.0, \"#0d0887\"], [0.1111111111111111, \"#46039f\"], [0.2222222222222222, \"#7201a8\"], [0.3333333333333333, \"#9c179e\"], [0.4444444444444444, \"#bd3786\"], [0.5555555555555556, \"#d8576b\"], [0.6666666666666666, \"#ed7953\"], [0.7777777777777778, \"#fb9f3a\"], [0.8888888888888888, \"#fdca26\"], [1.0, \"#f0f921\"]], \"type\": \"contour\"}], \"contourcarpet\": [{\"colorbar\": {\"outlinewidth\": 0, \"ticks\": \"\"}, \"type\": \"contourcarpet\"}], \"heatmap\": [{\"colorbar\": {\"outlinewidth\": 0, \"ticks\": \"\"}, \"colorscale\": [[0.0, \"#0d0887\"], [0.1111111111111111, \"#46039f\"], [0.2222222222222222, \"#7201a8\"], [0.3333333333333333, \"#9c179e\"], [0.4444444444444444, \"#bd3786\"], [0.5555555555555556, \"#d8576b\"], [0.6666666666666666, \"#ed7953\"], [0.7777777777777778, \"#fb9f3a\"], [0.8888888888888888, \"#fdca26\"], [1.0, \"#f0f921\"]], \"type\": \"heatmap\"}], \"heatmapgl\": [{\"colorbar\": {\"outlinewidth\": 0, \"ticks\": \"\"}, \"colorscale\": [[0.0, \"#0d0887\"], [0.1111111111111111, \"#46039f\"], [0.2222222222222222, \"#7201a8\"], [0.3333333333333333, \"#9c179e\"], [0.4444444444444444, \"#bd3786\"], [0.5555555555555556, \"#d8576b\"], [0.6666666666666666, \"#ed7953\"], [0.7777777777777778, \"#fb9f3a\"], [0.8888888888888888, \"#fdca26\"], [1.0, \"#f0f921\"]], \"type\": \"heatmapgl\"}], \"histogram\": [{\"marker\": {\"colorbar\": {\"outlinewidth\": 0, \"ticks\": \"\"}}, \"type\": \"histogram\"}], \"histogram2d\": [{\"colorbar\": {\"outlinewidth\": 0, \"ticks\": \"\"}, \"colorscale\": [[0.0, \"#0d0887\"], [0.1111111111111111, \"#46039f\"], [0.2222222222222222, \"#7201a8\"], [0.3333333333333333, \"#9c179e\"], [0.4444444444444444, \"#bd3786\"], [0.5555555555555556, \"#d8576b\"], [0.6666666666666666, \"#ed7953\"], [0.7777777777777778, \"#fb9f3a\"], [0.8888888888888888, \"#fdca26\"], [1.0, \"#f0f921\"]], \"type\": \"histogram2d\"}], \"histogram2dcontour\": [{\"colorbar\": {\"outlinewidth\": 0, \"ticks\": \"\"}, \"colorscale\": [[0.0, \"#0d0887\"], [0.1111111111111111, \"#46039f\"], [0.2222222222222222, \"#7201a8\"], [0.3333333333333333, \"#9c179e\"], [0.4444444444444444, \"#bd3786\"], [0.5555555555555556, \"#d8576b\"], [0.6666666666666666, \"#ed7953\"], [0.7777777777777778, \"#fb9f3a\"], [0.8888888888888888, \"#fdca26\"], [1.0, \"#f0f921\"]], \"type\": \"histogram2dcontour\"}], \"mesh3d\": [{\"colorbar\": {\"outlinewidth\": 0, \"ticks\": \"\"}, \"type\": \"mesh3d\"}], \"parcoords\": [{\"line\": {\"colorbar\": {\"outlinewidth\": 0, \"ticks\": \"\"}}, \"type\": \"parcoords\"}], \"pie\": [{\"automargin\": true, \"type\": \"pie\"}], \"scatter\": [{\"marker\": {\"colorbar\": {\"outlinewidth\": 0, \"ticks\": \"\"}}, \"type\": \"scatter\"}], \"scatter3d\": [{\"line\": {\"colorbar\": {\"outlinewidth\": 0, \"ticks\": \"\"}}, \"marker\": {\"colorbar\": {\"outlinewidth\": 0, \"ticks\": \"\"}}, \"type\": \"scatter3d\"}], \"scattercarpet\": [{\"marker\": {\"colorbar\": {\"outlinewidth\": 0, \"ticks\": \"\"}}, \"type\": \"scattercarpet\"}], \"scattergeo\": [{\"marker\": {\"colorbar\": {\"outlinewidth\": 0, \"ticks\": \"\"}}, \"type\": \"scattergeo\"}], \"scattergl\": [{\"marker\": {\"colorbar\": {\"outlinewidth\": 0, \"ticks\": \"\"}}, \"type\": \"scattergl\"}], \"scattermapbox\": [{\"marker\": {\"colorbar\": {\"outlinewidth\": 0, \"ticks\": \"\"}}, \"type\": \"scattermapbox\"}], \"scatterpolar\": [{\"marker\": {\"colorbar\": {\"outlinewidth\": 0, \"ticks\": \"\"}}, \"type\": \"scatterpolar\"}], \"scatterpolargl\": [{\"marker\": {\"colorbar\": {\"outlinewidth\": 0, \"ticks\": \"\"}}, \"type\": \"scatterpolargl\"}], \"scatterternary\": [{\"marker\": {\"colorbar\": {\"outlinewidth\": 0, \"ticks\": \"\"}}, \"type\": \"scatterternary\"}], \"surface\": [{\"colorbar\": {\"outlinewidth\": 0, \"ticks\": \"\"}, \"colorscale\": [[0.0, \"#0d0887\"], [0.1111111111111111, \"#46039f\"], [0.2222222222222222, \"#7201a8\"], [0.3333333333333333, \"#9c179e\"], [0.4444444444444444, \"#bd3786\"], [0.5555555555555556, \"#d8576b\"], [0.6666666666666666, \"#ed7953\"], [0.7777777777777778, \"#fb9f3a\"], [0.8888888888888888, \"#fdca26\"], [1.0, \"#f0f921\"]], \"type\": \"surface\"}], \"table\": [{\"cells\": {\"fill\": {\"color\": \"#EBF0F8\"}, \"line\": {\"color\": \"white\"}}, \"header\": {\"fill\": {\"color\": \"#C8D4E3\"}, \"line\": {\"color\": \"white\"}}, \"type\": \"table\"}]}, \"layout\": {\"annotationdefaults\": {\"arrowcolor\": \"#2a3f5f\", \"arrowhead\": 0, \"arrowwidth\": 1}, \"autotypenumbers\": \"strict\", \"coloraxis\": {\"colorbar\": {\"outlinewidth\": 0, \"ticks\": \"\"}}, \"colorscale\": {\"diverging\": [[0, \"#8e0152\"], [0.1, \"#c51b7d\"], [0.2, \"#de77ae\"], [0.3, \"#f1b6da\"], [0.4, \"#fde0ef\"], [0.5, \"#f7f7f7\"], [0.6, \"#e6f5d0\"], [0.7, \"#b8e186\"], [0.8, \"#7fbc41\"], [0.9, \"#4d9221\"], [1, \"#276419\"]], \"sequential\": [[0.0, \"#0d0887\"], [0.1111111111111111, \"#46039f\"], [0.2222222222222222, \"#7201a8\"], [0.3333333333333333, \"#9c179e\"], [0.4444444444444444, \"#bd3786\"], [0.5555555555555556, \"#d8576b\"], [0.6666666666666666, \"#ed7953\"], [0.7777777777777778, \"#fb9f3a\"], [0.8888888888888888, \"#fdca26\"], [1.0, \"#f0f921\"]], \"sequentialminus\": [[0.0, \"#0d0887\"], [0.1111111111111111, \"#46039f\"], [0.2222222222222222, \"#7201a8\"], [0.3333333333333333, \"#9c179e\"], [0.4444444444444444, \"#bd3786\"], [0.5555555555555556, \"#d8576b\"], [0.6666666666666666, \"#ed7953\"], [0.7777777777777778, \"#fb9f3a\"], [0.8888888888888888, \"#fdca26\"], [1.0, \"#f0f921\"]]}, \"colorway\": [\"#636efa\", \"#EF553B\", \"#00cc96\", \"#ab63fa\", \"#FFA15A\", \"#19d3f3\", \"#FF6692\", \"#B6E880\", \"#FF97FF\", \"#FECB52\"], \"font\": {\"color\": \"#2a3f5f\"}, \"geo\": {\"bgcolor\": \"white\", \"lakecolor\": \"white\", \"landcolor\": \"#E5ECF6\", \"showlakes\": true, \"showland\": true, \"subunitcolor\": \"white\"}, \"hoverlabel\": {\"align\": \"left\"}, \"hovermode\": \"closest\", \"mapbox\": {\"style\": \"light\"}, \"paper_bgcolor\": \"white\", \"plot_bgcolor\": \"#E5ECF6\", \"polar\": {\"angularaxis\": {\"gridcolor\": \"white\", \"linecolor\": \"white\", \"ticks\": \"\"}, \"bgcolor\": \"#E5ECF6\", \"radialaxis\": {\"gridcolor\": \"white\", \"linecolor\": \"white\", \"ticks\": \"\"}}, \"scene\": {\"xaxis\": {\"backgroundcolor\": \"#E5ECF6\", \"gridcolor\": \"white\", \"gridwidth\": 2, \"linecolor\": \"white\", \"showbackground\": true, \"ticks\": \"\", \"zerolinecolor\": \"white\"}, \"yaxis\": {\"backgroundcolor\": \"#E5ECF6\", \"gridcolor\": \"white\", \"gridwidth\": 2, \"linecolor\": \"white\", \"showbackground\": true, \"ticks\": \"\", \"zerolinecolor\": \"white\"}, \"zaxis\": {\"backgroundcolor\": \"#E5ECF6\", \"gridcolor\": \"white\", \"gridwidth\": 2, \"linecolor\": \"white\", \"showbackground\": true, \"ticks\": \"\", \"zerolinecolor\": \"white\"}}, \"shapedefaults\": {\"line\": {\"color\": \"#2a3f5f\"}}, \"ternary\": {\"aaxis\": {\"gridcolor\": \"white\", \"linecolor\": \"white\", \"ticks\": \"\"}, \"baxis\": {\"gridcolor\": \"white\", \"linecolor\": \"white\", \"ticks\": \"\"}, \"bgcolor\": \"#E5ECF6\", \"caxis\": {\"gridcolor\": \"white\", \"linecolor\": \"white\", \"ticks\": \"\"}}, \"title\": {\"x\": 0.05}, \"xaxis\": {\"automargin\": true, \"gridcolor\": \"white\", \"linecolor\": \"white\", \"ticks\": \"\", \"title\": {\"standoff\": 15}, \"zerolinecolor\": \"white\", \"zerolinewidth\": 2}, \"yaxis\": {\"automargin\": true, \"gridcolor\": \"white\", \"linecolor\": \"white\", \"ticks\": \"\", \"title\": {\"standoff\": 15}, \"zerolinecolor\": \"white\", \"zerolinewidth\": 2}}}, \"title\": {\"text\": \"$V_{e}$\", \"x\": 0.5, \"xanchor\": \"center\"}, \"xaxis\": {\"title\": {\"text\": \"$\\\\sigma_{noise}[Mm]$\"}}, \"yaxis\": {\"range\": [-35, 5], \"showline\": true, \"tickvals\": [-35, -30, -25, -20, -15, -10, -5, 0, 5], \"title\": {\"text\": \"$Percent Error$\"}}},                        {\"responsive\": true}                    ).then(function(){\n",
       "                            \n",
       "var gd = document.getElementById('5d68f0bf-f5a7-4a96-9d5d-ad6d7a772b37');\n",
       "var x = new MutationObserver(function (mutations, observer) {{\n",
       "        var display = window.getComputedStyle(gd).display;\n",
       "        if (!display || display === 'none') {{\n",
       "            console.log([gd, 'removed!']);\n",
       "            Plotly.purge(gd);\n",
       "            observer.disconnect();\n",
       "        }}\n",
       "}});\n",
       "\n",
       "// Listen for the removal of the full notebook cells\n",
       "var notebookContainer = gd.closest('#notebook-container');\n",
       "if (notebookContainer) {{\n",
       "    x.observe(notebookContainer, {childList: true});\n",
       "}}\n",
       "\n",
       "// Listen for the clearing of the current output cell\n",
       "var outputEl = gd.closest('.output');\n",
       "if (outputEl) {{\n",
       "    x.observe(outputEl, {childList: true});\n",
       "}}\n",
       "\n",
       "                        })                };                });            </script>        </div>"
      ]
     },
     "metadata": {},
     "output_type": "display_data"
    }
   ],
   "source": [
    "%get listSigmaC --from MATLAB\n",
    "%get curErr3 --from MATLAB\n",
    "%get errQt3 --from MATLAB\n",
    "%get errMd3 --from MATLAB\n",
    "\n",
    "# First subplot\n",
    "line_colours = cycle(['#253494','#2C7fB8','#41B6C4','#A1DAB4'])\n",
    "legend_values=cycle(['5','10','15','30'])\n",
    "\n",
    "fig = go.Figure()\n",
    "for i in range(0,4):\n",
    "    finalErrMd3=np.squeeze(np.asarray((np.reshape(errMd3[i,:], 6))))\n",
    "    # take another look here - is it errorQt[i,:,1] because MATLAB indexing starts from 1,\n",
    "    # or is it just like in MATLAB?\n",
    "    finalErrorDiff3=np.squeeze(np.asarray((np.reshape(abs(errQt3[i,:,0]-errMd3[i,:]), 6))))\n",
    "    finalErrorDiffMinus3=np.squeeze(np.asarray((np.reshape(abs(errQt3[i,:,1]-errMd3[i,:]), 6))))\n",
    "    fig.add_trace(go.Scatter(\n",
    "        visible=False,\n",
    "        x=listSigmaC,\n",
    "        y=finalErrMd3,\n",
    "        error_y=dict(\n",
    "            type='data', # value of error bar given in data coordinates\n",
    "            array=finalErrorDiff3,\n",
    "            arrayminus=finalErrorDiffMinus3,\n",
    "            symmetric=False,\n",
    "            visible=True,\n",
    "            thickness=4),\n",
    "        line_color=next(line_colours),\n",
    "        line_width=4, showlegend=False, name=next(legend_values)\n",
    "    ))\n",
    "    \n",
    "\n",
    "# Default value on the slider    \n",
    "fig.data[0].visible = True\n",
    "legend_values = [5, 10, 15, 30]\n",
    "\n",
    "# Create and add slider\n",
    "steps = []\n",
    "for i in range(len(fig.data)):\n",
    "    step = dict(\n",
    "        method=\"update\",\n",
    "        args=[{\"visible\": [False] * len(fig.data)}],  # layout attribute\n",
    "        value=legend_values[i],\n",
    "        label=legend_values[i]        \n",
    "    )\n",
    "    step[\"args\"][0][\"visible\"][i] = True  # Toggle i'th trace to \"visible\"\n",
    "    steps.append(step)\n",
    "\n",
    "sliders = [dict(\n",
    "    active=4,\n",
    "    currentvalue={\"prefix\": \"Temporal resolution [seconds]: \"},\n",
    "    pad={\"t\": 70}, #upper padding \n",
    "    steps=steps\n",
    ")]\n",
    "\n",
    "\n",
    "fig.update_xaxes(title_text=r'$\\sigma_{noise}[Mm]$')\n",
    "fig.update_layout(title=dict(text=r'$V_{e}$',\n",
    "                             x=0.5,\n",
    "                             xanchor='center'),\n",
    "                  yaxis=dict(title=r'$Percent Error$',\n",
    "                             showline=True,\n",
    "                             range=[-35,5],\n",
    "                             tickvals=[-35,-30,-25,-20,-15,-10,-5,0,5],\n",
    "                             ), \n",
    "                  plot_bgcolor='#ffffff',\n",
    "                  legend=dict(yanchor='bottom', y=0.20, xanchor='right', x=0.30),\n",
    "                  sliders=sliders)\n",
    "\n",
    "\n",
    "\n",
    "fig.show()    \n"
   ]
  },
  {
   "cell_type": "markdown",
   "metadata": {
    "kernel": "SoS"
   },
   "source": [
    "* $V_{e}$: <a name=\"fig-2-2\"></a>"
   ]
  },
  {
   "cell_type": "code",
   "execution_count": 10,
   "metadata": {
    "kernel": "SoS",
    "scrolled": false
   },
   "outputs": [
    {
     "data": {
      "application/vnd.plotly.v1+json": {
       "config": {
        "plotlyServerURL": "https://plot.ly"
       },
       "data": [
        {
         "error_y": {
          "array": [
           0.07051594909662699,
           0.6493352353390648,
           1.26206355755313,
           1.916938883722445,
           2.5094576062734255,
           3.094479153885586
          ],
          "arrayminus": [
           0.0479680169727647,
           0.6409508299349927,
           1.261310678758149,
           1.8744532010956045,
           2.48097584861861,
           3.148323644182098
          ],
          "symmetric": false,
          "thickness": 4,
          "type": "data",
          "visible": true
         },
         "line": {
          "color": "#253494",
          "width": 4
         },
         "name": "5",
         "showlegend": false,
         "type": "scatter",
         "visible": true,
         "x": [
          0,
          0.01,
          0.02,
          0.030000000000000002,
          0.04,
          0.05
         ],
         "y": [
          -0.0077389559808756685,
          -0.03674820690460688,
          0.00865858844902766,
          -0.08586270399902093,
          -0.04630138731900571,
          -0.13524094505751766
         ]
        },
        {
         "error_y": {
          "array": [
           0.723119883608669,
           1.4298618579373912,
           2.154237838052885,
           2.8884520865762404,
           3.5046869284487316,
           4.25191434513858
          ],
          "arrayminus": [
           0.6033412915471031,
           1.462900521491468,
           2.2133011229290958,
           2.9737307255031444,
           3.70375681152764,
           4.494136727335778
          ],
          "symmetric": false,
          "thickness": 4,
          "type": "data",
          "visible": true
         },
         "line": {
          "color": "#2C7fB8",
          "width": 4
         },
         "name": "10",
         "showlegend": false,
         "type": "scatter",
         "visible": false,
         "x": [
          0,
          0.01,
          0.02,
          0.030000000000000002,
          0.04,
          0.05
         ],
         "y": [
          -0.040281031802152416,
          -0.13465821396930316,
          -0.14729938463811654,
          -0.22597202652150503,
          -0.2698759264722017,
          -0.3688527991199049
         ]
        },
        {
         "error_y": {
          "array": [
           1.5745243605141295,
           2.3124845129926426,
           3.245435752149273,
           4.064240818248648,
           4.731972112303385,
           5.485813095206851
          ],
          "arrayminus": [
           1.5837609252322171,
           2.518873976526632,
           3.4930481510799787,
           4.4115931997363145,
           5.231499679048538,
           6.0545652402215415
          ],
          "symmetric": false,
          "thickness": 4,
          "type": "data",
          "visible": true
         },
         "line": {
          "color": "#41B6C4",
          "width": 4
         },
         "name": "15",
         "showlegend": false,
         "type": "scatter",
         "visible": false,
         "x": [
          0,
          0.01,
          0.02,
          0.030000000000000002,
          0.04,
          0.05
         ],
         "y": [
          -0.009503527206472013,
          -0.12061129699859927,
          -0.1380237206970632,
          -0.22130071938180668,
          -0.28815322695375134,
          -0.511247326533728
         ]
        },
        {
         "error_y": {
          "array": [
           2.435785309046474,
           3.505428016376248,
           4.943608294166402,
           6.037810608254883,
           7.114310516600493,
           8.132038787420896
          ],
          "arrayminus": [
           4.4605197317468335,
           5.317690104072837,
           6.0836253774285405,
           7.088916426117104,
           8.06767392956371,
           8.949638873336882
          ],
          "symmetric": false,
          "thickness": 4,
          "type": "data",
          "visible": true
         },
         "line": {
          "color": "#A1DAB4",
          "width": 4
         },
         "name": "30",
         "showlegend": false,
         "type": "scatter",
         "visible": false,
         "x": [
          0,
          0.01,
          0.02,
          0.030000000000000002,
          0.04,
          0.05
         ],
         "y": [
          0.25610167902415504,
          0.17076869536710132,
          0.16211581530952385,
          0.18036872697459028,
          0.20814847487034116,
          -0.19821544202254976
         ]
        }
       ],
       "layout": {
        "legend": {
         "x": 0.3,
         "xanchor": "right",
         "y": 0.2,
         "yanchor": "bottom"
        },
        "plot_bgcolor": "#ffffff",
        "sliders": [
         {
          "active": 4,
          "currentvalue": {
           "prefix": "Temporal resolution [seconds]: "
          },
          "pad": {
           "t": 70
          },
          "steps": [
           {
            "args": [
             {
              "visible": [
               true,
               false,
               false,
               false
              ]
             }
            ],
            "label": "5",
            "method": "update",
            "value": "5"
           },
           {
            "args": [
             {
              "visible": [
               false,
               true,
               false,
               false
              ]
             }
            ],
            "label": "10",
            "method": "update",
            "value": "10"
           },
           {
            "args": [
             {
              "visible": [
               false,
               false,
               true,
               false
              ]
             }
            ],
            "label": "15",
            "method": "update",
            "value": "15"
           },
           {
            "args": [
             {
              "visible": [
               false,
               false,
               false,
               true
              ]
             }
            ],
            "label": "30",
            "method": "update",
            "value": "30"
           }
          ]
         }
        ],
        "template": {
         "data": {
          "bar": [
           {
            "error_x": {
             "color": "#2a3f5f"
            },
            "error_y": {
             "color": "#2a3f5f"
            },
            "marker": {
             "line": {
              "color": "#E5ECF6",
              "width": 0.5
             }
            },
            "type": "bar"
           }
          ],
          "barpolar": [
           {
            "marker": {
             "line": {
              "color": "#E5ECF6",
              "width": 0.5
             }
            },
            "type": "barpolar"
           }
          ],
          "carpet": [
           {
            "aaxis": {
             "endlinecolor": "#2a3f5f",
             "gridcolor": "white",
             "linecolor": "white",
             "minorgridcolor": "white",
             "startlinecolor": "#2a3f5f"
            },
            "baxis": {
             "endlinecolor": "#2a3f5f",
             "gridcolor": "white",
             "linecolor": "white",
             "minorgridcolor": "white",
             "startlinecolor": "#2a3f5f"
            },
            "type": "carpet"
           }
          ],
          "choropleth": [
           {
            "colorbar": {
             "outlinewidth": 0,
             "ticks": ""
            },
            "type": "choropleth"
           }
          ],
          "contour": [
           {
            "colorbar": {
             "outlinewidth": 0,
             "ticks": ""
            },
            "colorscale": [
             [
              0,
              "#0d0887"
             ],
             [
              0.1111111111111111,
              "#46039f"
             ],
             [
              0.2222222222222222,
              "#7201a8"
             ],
             [
              0.3333333333333333,
              "#9c179e"
             ],
             [
              0.4444444444444444,
              "#bd3786"
             ],
             [
              0.5555555555555556,
              "#d8576b"
             ],
             [
              0.6666666666666666,
              "#ed7953"
             ],
             [
              0.7777777777777778,
              "#fb9f3a"
             ],
             [
              0.8888888888888888,
              "#fdca26"
             ],
             [
              1,
              "#f0f921"
             ]
            ],
            "type": "contour"
           }
          ],
          "contourcarpet": [
           {
            "colorbar": {
             "outlinewidth": 0,
             "ticks": ""
            },
            "type": "contourcarpet"
           }
          ],
          "heatmap": [
           {
            "colorbar": {
             "outlinewidth": 0,
             "ticks": ""
            },
            "colorscale": [
             [
              0,
              "#0d0887"
             ],
             [
              0.1111111111111111,
              "#46039f"
             ],
             [
              0.2222222222222222,
              "#7201a8"
             ],
             [
              0.3333333333333333,
              "#9c179e"
             ],
             [
              0.4444444444444444,
              "#bd3786"
             ],
             [
              0.5555555555555556,
              "#d8576b"
             ],
             [
              0.6666666666666666,
              "#ed7953"
             ],
             [
              0.7777777777777778,
              "#fb9f3a"
             ],
             [
              0.8888888888888888,
              "#fdca26"
             ],
             [
              1,
              "#f0f921"
             ]
            ],
            "type": "heatmap"
           }
          ],
          "heatmapgl": [
           {
            "colorbar": {
             "outlinewidth": 0,
             "ticks": ""
            },
            "colorscale": [
             [
              0,
              "#0d0887"
             ],
             [
              0.1111111111111111,
              "#46039f"
             ],
             [
              0.2222222222222222,
              "#7201a8"
             ],
             [
              0.3333333333333333,
              "#9c179e"
             ],
             [
              0.4444444444444444,
              "#bd3786"
             ],
             [
              0.5555555555555556,
              "#d8576b"
             ],
             [
              0.6666666666666666,
              "#ed7953"
             ],
             [
              0.7777777777777778,
              "#fb9f3a"
             ],
             [
              0.8888888888888888,
              "#fdca26"
             ],
             [
              1,
              "#f0f921"
             ]
            ],
            "type": "heatmapgl"
           }
          ],
          "histogram": [
           {
            "marker": {
             "colorbar": {
              "outlinewidth": 0,
              "ticks": ""
             }
            },
            "type": "histogram"
           }
          ],
          "histogram2d": [
           {
            "colorbar": {
             "outlinewidth": 0,
             "ticks": ""
            },
            "colorscale": [
             [
              0,
              "#0d0887"
             ],
             [
              0.1111111111111111,
              "#46039f"
             ],
             [
              0.2222222222222222,
              "#7201a8"
             ],
             [
              0.3333333333333333,
              "#9c179e"
             ],
             [
              0.4444444444444444,
              "#bd3786"
             ],
             [
              0.5555555555555556,
              "#d8576b"
             ],
             [
              0.6666666666666666,
              "#ed7953"
             ],
             [
              0.7777777777777778,
              "#fb9f3a"
             ],
             [
              0.8888888888888888,
              "#fdca26"
             ],
             [
              1,
              "#f0f921"
             ]
            ],
            "type": "histogram2d"
           }
          ],
          "histogram2dcontour": [
           {
            "colorbar": {
             "outlinewidth": 0,
             "ticks": ""
            },
            "colorscale": [
             [
              0,
              "#0d0887"
             ],
             [
              0.1111111111111111,
              "#46039f"
             ],
             [
              0.2222222222222222,
              "#7201a8"
             ],
             [
              0.3333333333333333,
              "#9c179e"
             ],
             [
              0.4444444444444444,
              "#bd3786"
             ],
             [
              0.5555555555555556,
              "#d8576b"
             ],
             [
              0.6666666666666666,
              "#ed7953"
             ],
             [
              0.7777777777777778,
              "#fb9f3a"
             ],
             [
              0.8888888888888888,
              "#fdca26"
             ],
             [
              1,
              "#f0f921"
             ]
            ],
            "type": "histogram2dcontour"
           }
          ],
          "mesh3d": [
           {
            "colorbar": {
             "outlinewidth": 0,
             "ticks": ""
            },
            "type": "mesh3d"
           }
          ],
          "parcoords": [
           {
            "line": {
             "colorbar": {
              "outlinewidth": 0,
              "ticks": ""
             }
            },
            "type": "parcoords"
           }
          ],
          "pie": [
           {
            "automargin": true,
            "type": "pie"
           }
          ],
          "scatter": [
           {
            "marker": {
             "colorbar": {
              "outlinewidth": 0,
              "ticks": ""
             }
            },
            "type": "scatter"
           }
          ],
          "scatter3d": [
           {
            "line": {
             "colorbar": {
              "outlinewidth": 0,
              "ticks": ""
             }
            },
            "marker": {
             "colorbar": {
              "outlinewidth": 0,
              "ticks": ""
             }
            },
            "type": "scatter3d"
           }
          ],
          "scattercarpet": [
           {
            "marker": {
             "colorbar": {
              "outlinewidth": 0,
              "ticks": ""
             }
            },
            "type": "scattercarpet"
           }
          ],
          "scattergeo": [
           {
            "marker": {
             "colorbar": {
              "outlinewidth": 0,
              "ticks": ""
             }
            },
            "type": "scattergeo"
           }
          ],
          "scattergl": [
           {
            "marker": {
             "colorbar": {
              "outlinewidth": 0,
              "ticks": ""
             }
            },
            "type": "scattergl"
           }
          ],
          "scattermapbox": [
           {
            "marker": {
             "colorbar": {
              "outlinewidth": 0,
              "ticks": ""
             }
            },
            "type": "scattermapbox"
           }
          ],
          "scatterpolar": [
           {
            "marker": {
             "colorbar": {
              "outlinewidth": 0,
              "ticks": ""
             }
            },
            "type": "scatterpolar"
           }
          ],
          "scatterpolargl": [
           {
            "marker": {
             "colorbar": {
              "outlinewidth": 0,
              "ticks": ""
             }
            },
            "type": "scatterpolargl"
           }
          ],
          "scatterternary": [
           {
            "marker": {
             "colorbar": {
              "outlinewidth": 0,
              "ticks": ""
             }
            },
            "type": "scatterternary"
           }
          ],
          "surface": [
           {
            "colorbar": {
             "outlinewidth": 0,
             "ticks": ""
            },
            "colorscale": [
             [
              0,
              "#0d0887"
             ],
             [
              0.1111111111111111,
              "#46039f"
             ],
             [
              0.2222222222222222,
              "#7201a8"
             ],
             [
              0.3333333333333333,
              "#9c179e"
             ],
             [
              0.4444444444444444,
              "#bd3786"
             ],
             [
              0.5555555555555556,
              "#d8576b"
             ],
             [
              0.6666666666666666,
              "#ed7953"
             ],
             [
              0.7777777777777778,
              "#fb9f3a"
             ],
             [
              0.8888888888888888,
              "#fdca26"
             ],
             [
              1,
              "#f0f921"
             ]
            ],
            "type": "surface"
           }
          ],
          "table": [
           {
            "cells": {
             "fill": {
              "color": "#EBF0F8"
             },
             "line": {
              "color": "white"
             }
            },
            "header": {
             "fill": {
              "color": "#C8D4E3"
             },
             "line": {
              "color": "white"
             }
            },
            "type": "table"
           }
          ]
         },
         "layout": {
          "annotationdefaults": {
           "arrowcolor": "#2a3f5f",
           "arrowhead": 0,
           "arrowwidth": 1
          },
          "autotypenumbers": "strict",
          "coloraxis": {
           "colorbar": {
            "outlinewidth": 0,
            "ticks": ""
           }
          },
          "colorscale": {
           "diverging": [
            [
             0,
             "#8e0152"
            ],
            [
             0.1,
             "#c51b7d"
            ],
            [
             0.2,
             "#de77ae"
            ],
            [
             0.3,
             "#f1b6da"
            ],
            [
             0.4,
             "#fde0ef"
            ],
            [
             0.5,
             "#f7f7f7"
            ],
            [
             0.6,
             "#e6f5d0"
            ],
            [
             0.7,
             "#b8e186"
            ],
            [
             0.8,
             "#7fbc41"
            ],
            [
             0.9,
             "#4d9221"
            ],
            [
             1,
             "#276419"
            ]
           ],
           "sequential": [
            [
             0,
             "#0d0887"
            ],
            [
             0.1111111111111111,
             "#46039f"
            ],
            [
             0.2222222222222222,
             "#7201a8"
            ],
            [
             0.3333333333333333,
             "#9c179e"
            ],
            [
             0.4444444444444444,
             "#bd3786"
            ],
            [
             0.5555555555555556,
             "#d8576b"
            ],
            [
             0.6666666666666666,
             "#ed7953"
            ],
            [
             0.7777777777777778,
             "#fb9f3a"
            ],
            [
             0.8888888888888888,
             "#fdca26"
            ],
            [
             1,
             "#f0f921"
            ]
           ],
           "sequentialminus": [
            [
             0,
             "#0d0887"
            ],
            [
             0.1111111111111111,
             "#46039f"
            ],
            [
             0.2222222222222222,
             "#7201a8"
            ],
            [
             0.3333333333333333,
             "#9c179e"
            ],
            [
             0.4444444444444444,
             "#bd3786"
            ],
            [
             0.5555555555555556,
             "#d8576b"
            ],
            [
             0.6666666666666666,
             "#ed7953"
            ],
            [
             0.7777777777777778,
             "#fb9f3a"
            ],
            [
             0.8888888888888888,
             "#fdca26"
            ],
            [
             1,
             "#f0f921"
            ]
           ]
          },
          "colorway": [
           "#636efa",
           "#EF553B",
           "#00cc96",
           "#ab63fa",
           "#FFA15A",
           "#19d3f3",
           "#FF6692",
           "#B6E880",
           "#FF97FF",
           "#FECB52"
          ],
          "font": {
           "color": "#2a3f5f"
          },
          "geo": {
           "bgcolor": "white",
           "lakecolor": "white",
           "landcolor": "#E5ECF6",
           "showlakes": true,
           "showland": true,
           "subunitcolor": "white"
          },
          "hoverlabel": {
           "align": "left"
          },
          "hovermode": "closest",
          "mapbox": {
           "style": "light"
          },
          "paper_bgcolor": "white",
          "plot_bgcolor": "#E5ECF6",
          "polar": {
           "angularaxis": {
            "gridcolor": "white",
            "linecolor": "white",
            "ticks": ""
           },
           "bgcolor": "#E5ECF6",
           "radialaxis": {
            "gridcolor": "white",
            "linecolor": "white",
            "ticks": ""
           }
          },
          "scene": {
           "xaxis": {
            "backgroundcolor": "#E5ECF6",
            "gridcolor": "white",
            "gridwidth": 2,
            "linecolor": "white",
            "showbackground": true,
            "ticks": "",
            "zerolinecolor": "white"
           },
           "yaxis": {
            "backgroundcolor": "#E5ECF6",
            "gridcolor": "white",
            "gridwidth": 2,
            "linecolor": "white",
            "showbackground": true,
            "ticks": "",
            "zerolinecolor": "white"
           },
           "zaxis": {
            "backgroundcolor": "#E5ECF6",
            "gridcolor": "white",
            "gridwidth": 2,
            "linecolor": "white",
            "showbackground": true,
            "ticks": "",
            "zerolinecolor": "white"
           }
          },
          "shapedefaults": {
           "line": {
            "color": "#2a3f5f"
           }
          },
          "ternary": {
           "aaxis": {
            "gridcolor": "white",
            "linecolor": "white",
            "ticks": ""
           },
           "baxis": {
            "gridcolor": "white",
            "linecolor": "white",
            "ticks": ""
           },
           "bgcolor": "#E5ECF6",
           "caxis": {
            "gridcolor": "white",
            "linecolor": "white",
            "ticks": ""
           }
          },
          "title": {
           "x": 0.05
          },
          "xaxis": {
           "automargin": true,
           "gridcolor": "white",
           "linecolor": "white",
           "ticks": "",
           "title": {
            "standoff": 15
           },
           "zerolinecolor": "white",
           "zerolinewidth": 2
          },
          "yaxis": {
           "automargin": true,
           "gridcolor": "white",
           "linecolor": "white",
           "ticks": "",
           "title": {
            "standoff": 15
           },
           "zerolinecolor": "white",
           "zerolinewidth": 2
          }
         }
        },
        "title": {
         "text": "$V_{e}$",
         "x": 0.5,
         "xanchor": "center"
        },
        "xaxis": {
         "title": {
          "text": "$\\sigma_{noise}[Mm]$"
         }
        },
        "yaxis": {
         "range": [
          -10,
          10
         ],
         "showline": true,
         "tickvals": [
          -10,
          -5,
          0,
          5,
          10
         ],
         "title": {
          "text": "$Percent Error$"
         }
        }
       }
      },
      "text/html": [
       "<div>                            <div id=\"628ee4e7-6cab-48dc-accc-2c135223b7c4\" class=\"plotly-graph-div\" style=\"height:525px; width:100%;\"></div>            <script type=\"text/javascript\">                require([\"plotly\"], function(Plotly) {                    window.PLOTLYENV=window.PLOTLYENV || {};                                    if (document.getElementById(\"628ee4e7-6cab-48dc-accc-2c135223b7c4\")) {                    Plotly.newPlot(                        \"628ee4e7-6cab-48dc-accc-2c135223b7c4\",                        [{\"error_y\": {\"array\": [0.07051594909662699, 0.6493352353390648, 1.26206355755313, 1.916938883722445, 2.5094576062734255, 3.094479153885586], \"arrayminus\": [0.0479680169727647, 0.6409508299349927, 1.261310678758149, 1.8744532010956045, 2.48097584861861, 3.148323644182098], \"symmetric\": false, \"thickness\": 4, \"type\": \"data\", \"visible\": true}, \"line\": {\"color\": \"#253494\", \"width\": 4}, \"name\": \"5\", \"showlegend\": false, \"type\": \"scatter\", \"visible\": true, \"x\": [0.0, 0.01, 0.02, 0.030000000000000002, 0.04, 0.05], \"y\": [-0.0077389559808756685, -0.03674820690460688, 0.00865858844902766, -0.08586270399902093, -0.04630138731900571, -0.13524094505751766]}, {\"error_y\": {\"array\": [0.723119883608669, 1.4298618579373912, 2.154237838052885, 2.8884520865762404, 3.5046869284487316, 4.25191434513858], \"arrayminus\": [0.6033412915471031, 1.462900521491468, 2.2133011229290958, 2.9737307255031444, 3.70375681152764, 4.494136727335778], \"symmetric\": false, \"thickness\": 4, \"type\": \"data\", \"visible\": true}, \"line\": {\"color\": \"#2C7fB8\", \"width\": 4}, \"name\": \"10\", \"showlegend\": false, \"type\": \"scatter\", \"visible\": false, \"x\": [0.0, 0.01, 0.02, 0.030000000000000002, 0.04, 0.05], \"y\": [-0.040281031802152416, -0.13465821396930316, -0.14729938463811654, -0.22597202652150503, -0.2698759264722017, -0.3688527991199049]}, {\"error_y\": {\"array\": [1.5745243605141295, 2.3124845129926426, 3.245435752149273, 4.064240818248648, 4.731972112303385, 5.485813095206851], \"arrayminus\": [1.5837609252322171, 2.518873976526632, 3.4930481510799787, 4.4115931997363145, 5.231499679048538, 6.0545652402215415], \"symmetric\": false, \"thickness\": 4, \"type\": \"data\", \"visible\": true}, \"line\": {\"color\": \"#41B6C4\", \"width\": 4}, \"name\": \"15\", \"showlegend\": false, \"type\": \"scatter\", \"visible\": false, \"x\": [0.0, 0.01, 0.02, 0.030000000000000002, 0.04, 0.05], \"y\": [-0.009503527206472013, -0.12061129699859927, -0.1380237206970632, -0.22130071938180668, -0.28815322695375134, -0.511247326533728]}, {\"error_y\": {\"array\": [2.435785309046474, 3.505428016376248, 4.943608294166402, 6.037810608254883, 7.114310516600493, 8.132038787420896], \"arrayminus\": [4.4605197317468335, 5.317690104072837, 6.0836253774285405, 7.088916426117104, 8.06767392956371, 8.949638873336882], \"symmetric\": false, \"thickness\": 4, \"type\": \"data\", \"visible\": true}, \"line\": {\"color\": \"#A1DAB4\", \"width\": 4}, \"name\": \"30\", \"showlegend\": false, \"type\": \"scatter\", \"visible\": false, \"x\": [0.0, 0.01, 0.02, 0.030000000000000002, 0.04, 0.05], \"y\": [0.25610167902415504, 0.17076869536710132, 0.16211581530952385, 0.18036872697459028, 0.20814847487034116, -0.19821544202254976]}],                        {\"legend\": {\"x\": 0.3, \"xanchor\": \"right\", \"y\": 0.2, \"yanchor\": \"bottom\"}, \"plot_bgcolor\": \"#ffffff\", \"sliders\": [{\"active\": 4, \"currentvalue\": {\"prefix\": \"Temporal resolution [seconds]: \"}, \"pad\": {\"t\": 70}, \"steps\": [{\"args\": [{\"visible\": [true, false, false, false]}], \"label\": \"5\", \"method\": \"update\", \"value\": \"5\"}, {\"args\": [{\"visible\": [false, true, false, false]}], \"label\": \"10\", \"method\": \"update\", \"value\": \"10\"}, {\"args\": [{\"visible\": [false, false, true, false]}], \"label\": \"15\", \"method\": \"update\", \"value\": \"15\"}, {\"args\": [{\"visible\": [false, false, false, true]}], \"label\": \"30\", \"method\": \"update\", \"value\": \"30\"}]}], \"template\": {\"data\": {\"bar\": [{\"error_x\": {\"color\": \"#2a3f5f\"}, \"error_y\": {\"color\": \"#2a3f5f\"}, \"marker\": {\"line\": {\"color\": \"#E5ECF6\", \"width\": 0.5}}, \"type\": \"bar\"}], \"barpolar\": [{\"marker\": {\"line\": {\"color\": \"#E5ECF6\", \"width\": 0.5}}, \"type\": \"barpolar\"}], \"carpet\": [{\"aaxis\": {\"endlinecolor\": \"#2a3f5f\", \"gridcolor\": \"white\", \"linecolor\": \"white\", \"minorgridcolor\": \"white\", \"startlinecolor\": \"#2a3f5f\"}, \"baxis\": {\"endlinecolor\": \"#2a3f5f\", \"gridcolor\": \"white\", \"linecolor\": \"white\", \"minorgridcolor\": \"white\", \"startlinecolor\": \"#2a3f5f\"}, \"type\": \"carpet\"}], \"choropleth\": [{\"colorbar\": {\"outlinewidth\": 0, \"ticks\": \"\"}, \"type\": \"choropleth\"}], \"contour\": [{\"colorbar\": {\"outlinewidth\": 0, \"ticks\": \"\"}, \"colorscale\": [[0.0, \"#0d0887\"], [0.1111111111111111, \"#46039f\"], [0.2222222222222222, \"#7201a8\"], [0.3333333333333333, \"#9c179e\"], [0.4444444444444444, \"#bd3786\"], [0.5555555555555556, \"#d8576b\"], [0.6666666666666666, \"#ed7953\"], [0.7777777777777778, \"#fb9f3a\"], [0.8888888888888888, \"#fdca26\"], [1.0, \"#f0f921\"]], \"type\": \"contour\"}], \"contourcarpet\": [{\"colorbar\": {\"outlinewidth\": 0, \"ticks\": \"\"}, \"type\": \"contourcarpet\"}], \"heatmap\": [{\"colorbar\": {\"outlinewidth\": 0, \"ticks\": \"\"}, \"colorscale\": [[0.0, \"#0d0887\"], [0.1111111111111111, \"#46039f\"], [0.2222222222222222, \"#7201a8\"], [0.3333333333333333, \"#9c179e\"], [0.4444444444444444, \"#bd3786\"], [0.5555555555555556, \"#d8576b\"], [0.6666666666666666, \"#ed7953\"], [0.7777777777777778, \"#fb9f3a\"], [0.8888888888888888, \"#fdca26\"], [1.0, \"#f0f921\"]], \"type\": \"heatmap\"}], \"heatmapgl\": [{\"colorbar\": {\"outlinewidth\": 0, \"ticks\": \"\"}, \"colorscale\": [[0.0, \"#0d0887\"], [0.1111111111111111, \"#46039f\"], [0.2222222222222222, \"#7201a8\"], [0.3333333333333333, \"#9c179e\"], [0.4444444444444444, \"#bd3786\"], [0.5555555555555556, \"#d8576b\"], [0.6666666666666666, \"#ed7953\"], [0.7777777777777778, \"#fb9f3a\"], [0.8888888888888888, \"#fdca26\"], [1.0, \"#f0f921\"]], \"type\": \"heatmapgl\"}], \"histogram\": [{\"marker\": {\"colorbar\": {\"outlinewidth\": 0, \"ticks\": \"\"}}, \"type\": \"histogram\"}], \"histogram2d\": [{\"colorbar\": {\"outlinewidth\": 0, \"ticks\": \"\"}, \"colorscale\": [[0.0, \"#0d0887\"], [0.1111111111111111, \"#46039f\"], [0.2222222222222222, \"#7201a8\"], [0.3333333333333333, \"#9c179e\"], [0.4444444444444444, \"#bd3786\"], [0.5555555555555556, \"#d8576b\"], [0.6666666666666666, \"#ed7953\"], [0.7777777777777778, \"#fb9f3a\"], [0.8888888888888888, \"#fdca26\"], [1.0, \"#f0f921\"]], \"type\": \"histogram2d\"}], \"histogram2dcontour\": [{\"colorbar\": {\"outlinewidth\": 0, \"ticks\": \"\"}, \"colorscale\": [[0.0, \"#0d0887\"], [0.1111111111111111, \"#46039f\"], [0.2222222222222222, \"#7201a8\"], [0.3333333333333333, \"#9c179e\"], [0.4444444444444444, \"#bd3786\"], [0.5555555555555556, \"#d8576b\"], [0.6666666666666666, \"#ed7953\"], [0.7777777777777778, \"#fb9f3a\"], [0.8888888888888888, \"#fdca26\"], [1.0, \"#f0f921\"]], \"type\": \"histogram2dcontour\"}], \"mesh3d\": [{\"colorbar\": {\"outlinewidth\": 0, \"ticks\": \"\"}, \"type\": \"mesh3d\"}], \"parcoords\": [{\"line\": {\"colorbar\": {\"outlinewidth\": 0, \"ticks\": \"\"}}, \"type\": \"parcoords\"}], \"pie\": [{\"automargin\": true, \"type\": \"pie\"}], \"scatter\": [{\"marker\": {\"colorbar\": {\"outlinewidth\": 0, \"ticks\": \"\"}}, \"type\": \"scatter\"}], \"scatter3d\": [{\"line\": {\"colorbar\": {\"outlinewidth\": 0, \"ticks\": \"\"}}, \"marker\": {\"colorbar\": {\"outlinewidth\": 0, \"ticks\": \"\"}}, \"type\": \"scatter3d\"}], \"scattercarpet\": [{\"marker\": {\"colorbar\": {\"outlinewidth\": 0, \"ticks\": \"\"}}, \"type\": \"scattercarpet\"}], \"scattergeo\": [{\"marker\": {\"colorbar\": {\"outlinewidth\": 0, \"ticks\": \"\"}}, \"type\": \"scattergeo\"}], \"scattergl\": [{\"marker\": {\"colorbar\": {\"outlinewidth\": 0, \"ticks\": \"\"}}, \"type\": \"scattergl\"}], \"scattermapbox\": [{\"marker\": {\"colorbar\": {\"outlinewidth\": 0, \"ticks\": \"\"}}, \"type\": \"scattermapbox\"}], \"scatterpolar\": [{\"marker\": {\"colorbar\": {\"outlinewidth\": 0, \"ticks\": \"\"}}, \"type\": \"scatterpolar\"}], \"scatterpolargl\": [{\"marker\": {\"colorbar\": {\"outlinewidth\": 0, \"ticks\": \"\"}}, \"type\": \"scatterpolargl\"}], \"scatterternary\": [{\"marker\": {\"colorbar\": {\"outlinewidth\": 0, \"ticks\": \"\"}}, \"type\": \"scatterternary\"}], \"surface\": [{\"colorbar\": {\"outlinewidth\": 0, \"ticks\": \"\"}, \"colorscale\": [[0.0, \"#0d0887\"], [0.1111111111111111, \"#46039f\"], [0.2222222222222222, \"#7201a8\"], [0.3333333333333333, \"#9c179e\"], [0.4444444444444444, \"#bd3786\"], [0.5555555555555556, \"#d8576b\"], [0.6666666666666666, \"#ed7953\"], [0.7777777777777778, \"#fb9f3a\"], [0.8888888888888888, \"#fdca26\"], [1.0, \"#f0f921\"]], \"type\": \"surface\"}], \"table\": [{\"cells\": {\"fill\": {\"color\": \"#EBF0F8\"}, \"line\": {\"color\": \"white\"}}, \"header\": {\"fill\": {\"color\": \"#C8D4E3\"}, \"line\": {\"color\": \"white\"}}, \"type\": \"table\"}]}, \"layout\": {\"annotationdefaults\": {\"arrowcolor\": \"#2a3f5f\", \"arrowhead\": 0, \"arrowwidth\": 1}, \"autotypenumbers\": \"strict\", \"coloraxis\": {\"colorbar\": {\"outlinewidth\": 0, \"ticks\": \"\"}}, \"colorscale\": {\"diverging\": [[0, \"#8e0152\"], [0.1, \"#c51b7d\"], [0.2, \"#de77ae\"], [0.3, \"#f1b6da\"], [0.4, \"#fde0ef\"], [0.5, \"#f7f7f7\"], [0.6, \"#e6f5d0\"], [0.7, \"#b8e186\"], [0.8, \"#7fbc41\"], [0.9, \"#4d9221\"], [1, \"#276419\"]], \"sequential\": [[0.0, \"#0d0887\"], [0.1111111111111111, \"#46039f\"], [0.2222222222222222, \"#7201a8\"], [0.3333333333333333, \"#9c179e\"], [0.4444444444444444, \"#bd3786\"], [0.5555555555555556, \"#d8576b\"], [0.6666666666666666, \"#ed7953\"], [0.7777777777777778, \"#fb9f3a\"], [0.8888888888888888, \"#fdca26\"], [1.0, \"#f0f921\"]], \"sequentialminus\": [[0.0, \"#0d0887\"], [0.1111111111111111, \"#46039f\"], [0.2222222222222222, \"#7201a8\"], [0.3333333333333333, \"#9c179e\"], [0.4444444444444444, \"#bd3786\"], [0.5555555555555556, \"#d8576b\"], [0.6666666666666666, \"#ed7953\"], [0.7777777777777778, \"#fb9f3a\"], [0.8888888888888888, \"#fdca26\"], [1.0, \"#f0f921\"]]}, \"colorway\": [\"#636efa\", \"#EF553B\", \"#00cc96\", \"#ab63fa\", \"#FFA15A\", \"#19d3f3\", \"#FF6692\", \"#B6E880\", \"#FF97FF\", \"#FECB52\"], \"font\": {\"color\": \"#2a3f5f\"}, \"geo\": {\"bgcolor\": \"white\", \"lakecolor\": \"white\", \"landcolor\": \"#E5ECF6\", \"showlakes\": true, \"showland\": true, \"subunitcolor\": \"white\"}, \"hoverlabel\": {\"align\": \"left\"}, \"hovermode\": \"closest\", \"mapbox\": {\"style\": \"light\"}, \"paper_bgcolor\": \"white\", \"plot_bgcolor\": \"#E5ECF6\", \"polar\": {\"angularaxis\": {\"gridcolor\": \"white\", \"linecolor\": \"white\", \"ticks\": \"\"}, \"bgcolor\": \"#E5ECF6\", \"radialaxis\": {\"gridcolor\": \"white\", \"linecolor\": \"white\", \"ticks\": \"\"}}, \"scene\": {\"xaxis\": {\"backgroundcolor\": \"#E5ECF6\", \"gridcolor\": \"white\", \"gridwidth\": 2, \"linecolor\": \"white\", \"showbackground\": true, \"ticks\": \"\", \"zerolinecolor\": \"white\"}, \"yaxis\": {\"backgroundcolor\": \"#E5ECF6\", \"gridcolor\": \"white\", \"gridwidth\": 2, \"linecolor\": \"white\", \"showbackground\": true, \"ticks\": \"\", \"zerolinecolor\": \"white\"}, \"zaxis\": {\"backgroundcolor\": \"#E5ECF6\", \"gridcolor\": \"white\", \"gridwidth\": 2, \"linecolor\": \"white\", \"showbackground\": true, \"ticks\": \"\", \"zerolinecolor\": \"white\"}}, \"shapedefaults\": {\"line\": {\"color\": \"#2a3f5f\"}}, \"ternary\": {\"aaxis\": {\"gridcolor\": \"white\", \"linecolor\": \"white\", \"ticks\": \"\"}, \"baxis\": {\"gridcolor\": \"white\", \"linecolor\": \"white\", \"ticks\": \"\"}, \"bgcolor\": \"#E5ECF6\", \"caxis\": {\"gridcolor\": \"white\", \"linecolor\": \"white\", \"ticks\": \"\"}}, \"title\": {\"x\": 0.05}, \"xaxis\": {\"automargin\": true, \"gridcolor\": \"white\", \"linecolor\": \"white\", \"ticks\": \"\", \"title\": {\"standoff\": 15}, \"zerolinecolor\": \"white\", \"zerolinewidth\": 2}, \"yaxis\": {\"automargin\": true, \"gridcolor\": \"white\", \"linecolor\": \"white\", \"ticks\": \"\", \"title\": {\"standoff\": 15}, \"zerolinecolor\": \"white\", \"zerolinewidth\": 2}}}, \"title\": {\"text\": \"$V_{e}$\", \"x\": 0.5, \"xanchor\": \"center\"}, \"xaxis\": {\"title\": {\"text\": \"$\\\\sigma_{noise}[Mm]$\"}}, \"yaxis\": {\"range\": [-10, 10], \"showline\": true, \"tickvals\": [-10, -5, 0, 5, 10], \"title\": {\"text\": \"$Percent Error$\"}}},                        {\"responsive\": true}                    ).then(function(){\n",
       "                            \n",
       "var gd = document.getElementById('628ee4e7-6cab-48dc-accc-2c135223b7c4');\n",
       "var x = new MutationObserver(function (mutations, observer) {{\n",
       "        var display = window.getComputedStyle(gd).display;\n",
       "        if (!display || display === 'none') {{\n",
       "            console.log([gd, 'removed!']);\n",
       "            Plotly.purge(gd);\n",
       "            observer.disconnect();\n",
       "        }}\n",
       "}});\n",
       "\n",
       "// Listen for the removal of the full notebook cells\n",
       "var notebookContainer = gd.closest('#notebook-container');\n",
       "if (notebookContainer) {{\n",
       "    x.observe(notebookContainer, {childList: true});\n",
       "}}\n",
       "\n",
       "// Listen for the clearing of the current output cell\n",
       "var outputEl = gd.closest('.output');\n",
       "if (outputEl) {{\n",
       "    x.observe(outputEl, {childList: true});\n",
       "}}\n",
       "\n",
       "                        })                };                });            </script>        </div>"
      ]
     },
     "metadata": {},
     "output_type": "display_data"
    }
   ],
   "source": [
    "# Second subplot\n",
    "\n",
    "line_colours = cycle(['#253494','#2C7fB8','#41B6C4','#A1DAB4'])\n",
    "legend_values=cycle(['5','10','15','30'])\n",
    "fig = go.Figure()\n",
    "\n",
    "for i in range(0,4):\n",
    "    finalErrMd4=np.squeeze(np.asarray((np.reshape(errMd4[i,:], 6))))\n",
    "    \n",
    "    finalErrorDiff4=np.squeeze(np.asarray((np.reshape(abs(errQt4[i,:,0]-errMd4[i,:]), 6))))\n",
    "    finalErrorDiffMinus4=np.squeeze(np.asarray((np.reshape(abs(errQt4[i,:,1]-errMd4[i,:]), 6))))\n",
    "    fig.add_trace(go.Scatter(\n",
    "        visible=False,\n",
    "        x=listSigmaC,\n",
    "        y=finalErrMd4,\n",
    "        error_y=dict(\n",
    "            type='data', # value of error bar given in data coordinates\n",
    "            array=finalErrorDiff4,\n",
    "            arrayminus=finalErrorDiffMinus4,\n",
    "            symmetric=False,\n",
    "            visible=True,\n",
    "            thickness=4),\n",
    "        line_color=next(line_colours),\n",
    "        line_width=4, showlegend=False, name=next(legend_values)       \n",
    "    ))\n",
    "    \n",
    "    \n",
    "# Default value on the slider    \n",
    "fig.data[0].visible = True\n",
    "\n",
    "legend_values = [5, 10, 15, 30]\n",
    "\n",
    "# Create and add slider\n",
    "steps = []\n",
    "for i in range(len(fig.data)):\n",
    "    step = dict(\n",
    "        method=\"update\",\n",
    "        args=[{\"visible\": [False] * len(fig.data)},\n",
    "#               {\"title\": \"Current value selected on slider: \" + str(legend_values[i])}\n",
    "             ],  # layout attribute\n",
    "        value=legend_values[i],\n",
    "        label=legend_values[i]        \n",
    "    )\n",
    "    step[\"args\"][0][\"visible\"][i] = True  # Toggle i'th trace to \"visible\"\n",
    "    steps.append(step)\n",
    "\n",
    "sliders = [dict(\n",
    "    active=4,\n",
    "    currentvalue={\"prefix\": \"Temporal resolution [seconds]: \"},\n",
    "    pad={\"t\": 70}, #upper padding \n",
    "    steps=steps\n",
    ")]\n",
    "\n",
    "\n",
    "#r'$\\widehat{k_{ep,RR}}$', r'$K^{trans}_{RR}$', r'$V_{e,RR}$'\n",
    "\n",
    "fig.update_xaxes(title_text=r'$\\sigma_{noise}[Mm]$')\n",
    "fig.update_layout(title=dict(text=r'$V_{e}$',\n",
    "                             x=0.5,\n",
    "                             xanchor='center'),\n",
    "                  yaxis=dict(title=r'$Percent Error$',\n",
    "                             showline=True,\n",
    "                             range=[-10,10],\n",
    "                             tickvals=[-10,-5,0,5, 10],\n",
    "                             ), \n",
    "                  plot_bgcolor='#ffffff',\n",
    "                  legend=dict(yanchor='bottom', y=0.20, xanchor='right', x=0.30),\n",
    "                  sliders=sliders\n",
    ")\n",
    "\n",
    "\n",
    "fig.show()  "
   ]
  },
  {
   "cell_type": "markdown",
   "metadata": {
    "kernel": "SoS"
   },
   "source": [
    "* $V_{p}$: <a name=\"fig-2-3\"></a>"
   ]
  },
  {
   "cell_type": "code",
   "execution_count": 11,
   "metadata": {
    "kernel": "SoS"
   },
   "outputs": [
    {
     "data": {
      "application/vnd.plotly.v1+json": {
       "config": {
        "plotlyServerURL": "https://plot.ly"
       },
       "data": [
        {
         "error_y": {
          "array": [
           1.4734645817356464,
           5.4311030019435,
           10.221926739819905,
           14.590373912123727,
           18.95711081525033,
           22.886968824948447
          ],
          "arrayminus": [
           1.3822662645941381,
           5.820292003557516,
           11.062643736263999,
           16.354076872513538,
           20.79658224259464,
           26.02835769042838
          ],
          "symmetric": false,
          "thickness": 4,
          "type": "data",
          "visible": true
         },
         "line": {
          "color": "#253494",
          "width": 4
         },
         "name": "5",
         "showlegend": false,
         "type": "scatter",
         "visible": true,
         "x": [
          0,
          0.01,
          0.02,
          0.030000000000000002,
          0.04,
          0.05
         ],
         "y": [
          -0.09665537077041542,
          -0.7704244922641518,
          -1.862389031592554,
          -3.189505412658229,
          -4.337131857791137,
          -5.785422260551676
         ]
        },
        {
         "error_y": {
          "array": [
           17.911268739154803,
           20.790583123214528,
           24.659844901572168,
           28.42361475966391,
           31.62396356557594,
           35.33270126810652
          ],
          "arrayminus": [
           14.780587447429696,
           18.286114582846846,
           23.001340778161925,
           28.787016108749533,
           33.132889232843645,
           37.836836741208295
          ],
          "symmetric": false,
          "thickness": 4,
          "type": "data",
          "visible": true
         },
         "line": {
          "color": "#2C7fB8",
          "width": 4
         },
         "name": "10",
         "showlegend": false,
         "type": "scatter",
         "visible": false,
         "x": [
          0,
          0.01,
          0.02,
          0.030000000000000002,
          0.04,
          0.05
         ],
         "y": [
          0.7370468796232612,
          -0.7455632253245137,
          -2.4924630676286874,
          -3.8034504982100215,
          -6.5594688522769555,
          -9.353183800527571
         ]
        },
        {
         "error_y": {
          "array": [
           36.33974818492146,
           38.86790962173681,
           43.66062654276332,
           47.245967661525455,
           49.71716046681979,
           52.32607211517721
          ],
          "arrayminus": [
           39.11340934404259,
           40.63997092981247,
           45.31143841714891,
           49.37221352242837,
           52.9590266624049,
           56.269607800541266
          ],
          "symmetric": false,
          "thickness": 4,
          "type": "data",
          "visible": true
         },
         "line": {
          "color": "#41B6C4",
          "width": 4
         },
         "name": "15",
         "showlegend": false,
         "type": "scatter",
         "visible": false,
         "x": [
          0,
          0.01,
          0.02,
          0.030000000000000002,
          0.04,
          0.05
         ],
         "y": [
          -3.156760812981057,
          -3.7489543774530727,
          -4.7658686979612295,
          -6.620428180705764,
          -9.49540018181745,
          -12.646107981224251
         ]
        },
        {
         "error_y": {
          "array": [
           16.51036704677899,
           29.871271752405633,
           36.6578125530042,
           42.48035281726682,
           47.31447777850418,
           51.82693540787929
          ],
          "arrayminus": [
           108.0318123214555,
           102.10746366755784,
           109.38432429405694,
           115.20587830105833,
           120.35633700736264,
           121.0284069657477
          ],
          "symmetric": false,
          "thickness": 4,
          "type": "data",
          "visible": true
         },
         "line": {
          "color": "#A1DAB4",
          "width": 4
         },
         "name": "30",
         "showlegend": false,
         "type": "scatter",
         "visible": false,
         "x": [
          0,
          0.01,
          0.02,
          0.030000000000000002,
          0.04,
          0.05
         ],
         "y": [
          -52.962241753227055,
          -42.7257896927035,
          -39.90890498766327,
          -38.841243381584036,
          -39.45060173053297,
          -40.613977713591964
         ]
        }
       ],
       "layout": {
        "legend": {
         "x": 0.3,
         "xanchor": "right",
         "y": 0.2,
         "yanchor": "bottom"
        },
        "plot_bgcolor": "#ffffff",
        "sliders": [
         {
          "active": 4,
          "currentvalue": {
           "prefix": "Temporal resolution [seconds]: "
          },
          "pad": {
           "t": 70
          },
          "steps": [
           {
            "args": [
             {
              "visible": [
               true,
               false,
               false,
               false
              ]
             }
            ],
            "label": "5",
            "method": "update",
            "value": "5"
           },
           {
            "args": [
             {
              "visible": [
               false,
               true,
               false,
               false
              ]
             }
            ],
            "label": "10",
            "method": "update",
            "value": "10"
           },
           {
            "args": [
             {
              "visible": [
               false,
               false,
               true,
               false
              ]
             }
            ],
            "label": "15",
            "method": "update",
            "value": "15"
           },
           {
            "args": [
             {
              "visible": [
               false,
               false,
               false,
               true
              ]
             }
            ],
            "label": "30",
            "method": "update",
            "value": "30"
           }
          ]
         }
        ],
        "template": {
         "data": {
          "bar": [
           {
            "error_x": {
             "color": "#2a3f5f"
            },
            "error_y": {
             "color": "#2a3f5f"
            },
            "marker": {
             "line": {
              "color": "#E5ECF6",
              "width": 0.5
             }
            },
            "type": "bar"
           }
          ],
          "barpolar": [
           {
            "marker": {
             "line": {
              "color": "#E5ECF6",
              "width": 0.5
             }
            },
            "type": "barpolar"
           }
          ],
          "carpet": [
           {
            "aaxis": {
             "endlinecolor": "#2a3f5f",
             "gridcolor": "white",
             "linecolor": "white",
             "minorgridcolor": "white",
             "startlinecolor": "#2a3f5f"
            },
            "baxis": {
             "endlinecolor": "#2a3f5f",
             "gridcolor": "white",
             "linecolor": "white",
             "minorgridcolor": "white",
             "startlinecolor": "#2a3f5f"
            },
            "type": "carpet"
           }
          ],
          "choropleth": [
           {
            "colorbar": {
             "outlinewidth": 0,
             "ticks": ""
            },
            "type": "choropleth"
           }
          ],
          "contour": [
           {
            "colorbar": {
             "outlinewidth": 0,
             "ticks": ""
            },
            "colorscale": [
             [
              0,
              "#0d0887"
             ],
             [
              0.1111111111111111,
              "#46039f"
             ],
             [
              0.2222222222222222,
              "#7201a8"
             ],
             [
              0.3333333333333333,
              "#9c179e"
             ],
             [
              0.4444444444444444,
              "#bd3786"
             ],
             [
              0.5555555555555556,
              "#d8576b"
             ],
             [
              0.6666666666666666,
              "#ed7953"
             ],
             [
              0.7777777777777778,
              "#fb9f3a"
             ],
             [
              0.8888888888888888,
              "#fdca26"
             ],
             [
              1,
              "#f0f921"
             ]
            ],
            "type": "contour"
           }
          ],
          "contourcarpet": [
           {
            "colorbar": {
             "outlinewidth": 0,
             "ticks": ""
            },
            "type": "contourcarpet"
           }
          ],
          "heatmap": [
           {
            "colorbar": {
             "outlinewidth": 0,
             "ticks": ""
            },
            "colorscale": [
             [
              0,
              "#0d0887"
             ],
             [
              0.1111111111111111,
              "#46039f"
             ],
             [
              0.2222222222222222,
              "#7201a8"
             ],
             [
              0.3333333333333333,
              "#9c179e"
             ],
             [
              0.4444444444444444,
              "#bd3786"
             ],
             [
              0.5555555555555556,
              "#d8576b"
             ],
             [
              0.6666666666666666,
              "#ed7953"
             ],
             [
              0.7777777777777778,
              "#fb9f3a"
             ],
             [
              0.8888888888888888,
              "#fdca26"
             ],
             [
              1,
              "#f0f921"
             ]
            ],
            "type": "heatmap"
           }
          ],
          "heatmapgl": [
           {
            "colorbar": {
             "outlinewidth": 0,
             "ticks": ""
            },
            "colorscale": [
             [
              0,
              "#0d0887"
             ],
             [
              0.1111111111111111,
              "#46039f"
             ],
             [
              0.2222222222222222,
              "#7201a8"
             ],
             [
              0.3333333333333333,
              "#9c179e"
             ],
             [
              0.4444444444444444,
              "#bd3786"
             ],
             [
              0.5555555555555556,
              "#d8576b"
             ],
             [
              0.6666666666666666,
              "#ed7953"
             ],
             [
              0.7777777777777778,
              "#fb9f3a"
             ],
             [
              0.8888888888888888,
              "#fdca26"
             ],
             [
              1,
              "#f0f921"
             ]
            ],
            "type": "heatmapgl"
           }
          ],
          "histogram": [
           {
            "marker": {
             "colorbar": {
              "outlinewidth": 0,
              "ticks": ""
             }
            },
            "type": "histogram"
           }
          ],
          "histogram2d": [
           {
            "colorbar": {
             "outlinewidth": 0,
             "ticks": ""
            },
            "colorscale": [
             [
              0,
              "#0d0887"
             ],
             [
              0.1111111111111111,
              "#46039f"
             ],
             [
              0.2222222222222222,
              "#7201a8"
             ],
             [
              0.3333333333333333,
              "#9c179e"
             ],
             [
              0.4444444444444444,
              "#bd3786"
             ],
             [
              0.5555555555555556,
              "#d8576b"
             ],
             [
              0.6666666666666666,
              "#ed7953"
             ],
             [
              0.7777777777777778,
              "#fb9f3a"
             ],
             [
              0.8888888888888888,
              "#fdca26"
             ],
             [
              1,
              "#f0f921"
             ]
            ],
            "type": "histogram2d"
           }
          ],
          "histogram2dcontour": [
           {
            "colorbar": {
             "outlinewidth": 0,
             "ticks": ""
            },
            "colorscale": [
             [
              0,
              "#0d0887"
             ],
             [
              0.1111111111111111,
              "#46039f"
             ],
             [
              0.2222222222222222,
              "#7201a8"
             ],
             [
              0.3333333333333333,
              "#9c179e"
             ],
             [
              0.4444444444444444,
              "#bd3786"
             ],
             [
              0.5555555555555556,
              "#d8576b"
             ],
             [
              0.6666666666666666,
              "#ed7953"
             ],
             [
              0.7777777777777778,
              "#fb9f3a"
             ],
             [
              0.8888888888888888,
              "#fdca26"
             ],
             [
              1,
              "#f0f921"
             ]
            ],
            "type": "histogram2dcontour"
           }
          ],
          "mesh3d": [
           {
            "colorbar": {
             "outlinewidth": 0,
             "ticks": ""
            },
            "type": "mesh3d"
           }
          ],
          "parcoords": [
           {
            "line": {
             "colorbar": {
              "outlinewidth": 0,
              "ticks": ""
             }
            },
            "type": "parcoords"
           }
          ],
          "pie": [
           {
            "automargin": true,
            "type": "pie"
           }
          ],
          "scatter": [
           {
            "marker": {
             "colorbar": {
              "outlinewidth": 0,
              "ticks": ""
             }
            },
            "type": "scatter"
           }
          ],
          "scatter3d": [
           {
            "line": {
             "colorbar": {
              "outlinewidth": 0,
              "ticks": ""
             }
            },
            "marker": {
             "colorbar": {
              "outlinewidth": 0,
              "ticks": ""
             }
            },
            "type": "scatter3d"
           }
          ],
          "scattercarpet": [
           {
            "marker": {
             "colorbar": {
              "outlinewidth": 0,
              "ticks": ""
             }
            },
            "type": "scattercarpet"
           }
          ],
          "scattergeo": [
           {
            "marker": {
             "colorbar": {
              "outlinewidth": 0,
              "ticks": ""
             }
            },
            "type": "scattergeo"
           }
          ],
          "scattergl": [
           {
            "marker": {
             "colorbar": {
              "outlinewidth": 0,
              "ticks": ""
             }
            },
            "type": "scattergl"
           }
          ],
          "scattermapbox": [
           {
            "marker": {
             "colorbar": {
              "outlinewidth": 0,
              "ticks": ""
             }
            },
            "type": "scattermapbox"
           }
          ],
          "scatterpolar": [
           {
            "marker": {
             "colorbar": {
              "outlinewidth": 0,
              "ticks": ""
             }
            },
            "type": "scatterpolar"
           }
          ],
          "scatterpolargl": [
           {
            "marker": {
             "colorbar": {
              "outlinewidth": 0,
              "ticks": ""
             }
            },
            "type": "scatterpolargl"
           }
          ],
          "scatterternary": [
           {
            "marker": {
             "colorbar": {
              "outlinewidth": 0,
              "ticks": ""
             }
            },
            "type": "scatterternary"
           }
          ],
          "surface": [
           {
            "colorbar": {
             "outlinewidth": 0,
             "ticks": ""
            },
            "colorscale": [
             [
              0,
              "#0d0887"
             ],
             [
              0.1111111111111111,
              "#46039f"
             ],
             [
              0.2222222222222222,
              "#7201a8"
             ],
             [
              0.3333333333333333,
              "#9c179e"
             ],
             [
              0.4444444444444444,
              "#bd3786"
             ],
             [
              0.5555555555555556,
              "#d8576b"
             ],
             [
              0.6666666666666666,
              "#ed7953"
             ],
             [
              0.7777777777777778,
              "#fb9f3a"
             ],
             [
              0.8888888888888888,
              "#fdca26"
             ],
             [
              1,
              "#f0f921"
             ]
            ],
            "type": "surface"
           }
          ],
          "table": [
           {
            "cells": {
             "fill": {
              "color": "#EBF0F8"
             },
             "line": {
              "color": "white"
             }
            },
            "header": {
             "fill": {
              "color": "#C8D4E3"
             },
             "line": {
              "color": "white"
             }
            },
            "type": "table"
           }
          ]
         },
         "layout": {
          "annotationdefaults": {
           "arrowcolor": "#2a3f5f",
           "arrowhead": 0,
           "arrowwidth": 1
          },
          "autotypenumbers": "strict",
          "coloraxis": {
           "colorbar": {
            "outlinewidth": 0,
            "ticks": ""
           }
          },
          "colorscale": {
           "diverging": [
            [
             0,
             "#8e0152"
            ],
            [
             0.1,
             "#c51b7d"
            ],
            [
             0.2,
             "#de77ae"
            ],
            [
             0.3,
             "#f1b6da"
            ],
            [
             0.4,
             "#fde0ef"
            ],
            [
             0.5,
             "#f7f7f7"
            ],
            [
             0.6,
             "#e6f5d0"
            ],
            [
             0.7,
             "#b8e186"
            ],
            [
             0.8,
             "#7fbc41"
            ],
            [
             0.9,
             "#4d9221"
            ],
            [
             1,
             "#276419"
            ]
           ],
           "sequential": [
            [
             0,
             "#0d0887"
            ],
            [
             0.1111111111111111,
             "#46039f"
            ],
            [
             0.2222222222222222,
             "#7201a8"
            ],
            [
             0.3333333333333333,
             "#9c179e"
            ],
            [
             0.4444444444444444,
             "#bd3786"
            ],
            [
             0.5555555555555556,
             "#d8576b"
            ],
            [
             0.6666666666666666,
             "#ed7953"
            ],
            [
             0.7777777777777778,
             "#fb9f3a"
            ],
            [
             0.8888888888888888,
             "#fdca26"
            ],
            [
             1,
             "#f0f921"
            ]
           ],
           "sequentialminus": [
            [
             0,
             "#0d0887"
            ],
            [
             0.1111111111111111,
             "#46039f"
            ],
            [
             0.2222222222222222,
             "#7201a8"
            ],
            [
             0.3333333333333333,
             "#9c179e"
            ],
            [
             0.4444444444444444,
             "#bd3786"
            ],
            [
             0.5555555555555556,
             "#d8576b"
            ],
            [
             0.6666666666666666,
             "#ed7953"
            ],
            [
             0.7777777777777778,
             "#fb9f3a"
            ],
            [
             0.8888888888888888,
             "#fdca26"
            ],
            [
             1,
             "#f0f921"
            ]
           ]
          },
          "colorway": [
           "#636efa",
           "#EF553B",
           "#00cc96",
           "#ab63fa",
           "#FFA15A",
           "#19d3f3",
           "#FF6692",
           "#B6E880",
           "#FF97FF",
           "#FECB52"
          ],
          "font": {
           "color": "#2a3f5f"
          },
          "geo": {
           "bgcolor": "white",
           "lakecolor": "white",
           "landcolor": "#E5ECF6",
           "showlakes": true,
           "showland": true,
           "subunitcolor": "white"
          },
          "hoverlabel": {
           "align": "left"
          },
          "hovermode": "closest",
          "mapbox": {
           "style": "light"
          },
          "paper_bgcolor": "white",
          "plot_bgcolor": "#E5ECF6",
          "polar": {
           "angularaxis": {
            "gridcolor": "white",
            "linecolor": "white",
            "ticks": ""
           },
           "bgcolor": "#E5ECF6",
           "radialaxis": {
            "gridcolor": "white",
            "linecolor": "white",
            "ticks": ""
           }
          },
          "scene": {
           "xaxis": {
            "backgroundcolor": "#E5ECF6",
            "gridcolor": "white",
            "gridwidth": 2,
            "linecolor": "white",
            "showbackground": true,
            "ticks": "",
            "zerolinecolor": "white"
           },
           "yaxis": {
            "backgroundcolor": "#E5ECF6",
            "gridcolor": "white",
            "gridwidth": 2,
            "linecolor": "white",
            "showbackground": true,
            "ticks": "",
            "zerolinecolor": "white"
           },
           "zaxis": {
            "backgroundcolor": "#E5ECF6",
            "gridcolor": "white",
            "gridwidth": 2,
            "linecolor": "white",
            "showbackground": true,
            "ticks": "",
            "zerolinecolor": "white"
           }
          },
          "shapedefaults": {
           "line": {
            "color": "#2a3f5f"
           }
          },
          "ternary": {
           "aaxis": {
            "gridcolor": "white",
            "linecolor": "white",
            "ticks": ""
           },
           "baxis": {
            "gridcolor": "white",
            "linecolor": "white",
            "ticks": ""
           },
           "bgcolor": "#E5ECF6",
           "caxis": {
            "gridcolor": "white",
            "linecolor": "white",
            "ticks": ""
           }
          },
          "title": {
           "x": 0.05
          },
          "xaxis": {
           "automargin": true,
           "gridcolor": "white",
           "linecolor": "white",
           "ticks": "",
           "title": {
            "standoff": 15
           },
           "zerolinecolor": "white",
           "zerolinewidth": 2
          },
          "yaxis": {
           "automargin": true,
           "gridcolor": "white",
           "linecolor": "white",
           "ticks": "",
           "title": {
            "standoff": 15
           },
           "zerolinecolor": "white",
           "zerolinewidth": 2
          }
         }
        },
        "title": {
         "text": "$V_{p}$",
         "x": 0.5,
         "xanchor": "center"
        },
        "xaxis": {
         "title": {
          "text": "$\\sigma_{noise}[Mm]$"
         }
        },
        "yaxis": {
         "range": [
          -170,
          50
         ],
         "showline": true,
         "tickvals": [
          -160,
          -130,
          -100,
          -70,
          -40,
          -10,
          20,
          50
         ],
         "title": {
          "text": "$Percent Error$"
         }
        }
       }
      },
      "text/html": [
       "<div>                            <div id=\"d79e2e13-7404-4141-b040-e335e727cecc\" class=\"plotly-graph-div\" style=\"height:525px; width:100%;\"></div>            <script type=\"text/javascript\">                require([\"plotly\"], function(Plotly) {                    window.PLOTLYENV=window.PLOTLYENV || {};                                    if (document.getElementById(\"d79e2e13-7404-4141-b040-e335e727cecc\")) {                    Plotly.newPlot(                        \"d79e2e13-7404-4141-b040-e335e727cecc\",                        [{\"error_y\": {\"array\": [1.4734645817356464, 5.4311030019435, 10.221926739819905, 14.590373912123727, 18.95711081525033, 22.886968824948447], \"arrayminus\": [1.3822662645941381, 5.820292003557516, 11.062643736263999, 16.354076872513538, 20.79658224259464, 26.02835769042838], \"symmetric\": false, \"thickness\": 4, \"type\": \"data\", \"visible\": true}, \"line\": {\"color\": \"#253494\", \"width\": 4}, \"name\": \"5\", \"showlegend\": false, \"type\": \"scatter\", \"visible\": true, \"x\": [0.0, 0.01, 0.02, 0.030000000000000002, 0.04, 0.05], \"y\": [-0.09665537077041542, -0.7704244922641518, -1.862389031592554, -3.189505412658229, -4.337131857791137, -5.785422260551676]}, {\"error_y\": {\"array\": [17.911268739154803, 20.790583123214528, 24.659844901572168, 28.42361475966391, 31.62396356557594, 35.33270126810652], \"arrayminus\": [14.780587447429696, 18.286114582846846, 23.001340778161925, 28.787016108749533, 33.132889232843645, 37.836836741208295], \"symmetric\": false, \"thickness\": 4, \"type\": \"data\", \"visible\": true}, \"line\": {\"color\": \"#2C7fB8\", \"width\": 4}, \"name\": \"10\", \"showlegend\": false, \"type\": \"scatter\", \"visible\": false, \"x\": [0.0, 0.01, 0.02, 0.030000000000000002, 0.04, 0.05], \"y\": [0.7370468796232612, -0.7455632253245137, -2.4924630676286874, -3.8034504982100215, -6.5594688522769555, -9.353183800527571]}, {\"error_y\": {\"array\": [36.33974818492146, 38.86790962173681, 43.66062654276332, 47.245967661525455, 49.71716046681979, 52.32607211517721], \"arrayminus\": [39.11340934404259, 40.63997092981247, 45.31143841714891, 49.37221352242837, 52.9590266624049, 56.269607800541266], \"symmetric\": false, \"thickness\": 4, \"type\": \"data\", \"visible\": true}, \"line\": {\"color\": \"#41B6C4\", \"width\": 4}, \"name\": \"15\", \"showlegend\": false, \"type\": \"scatter\", \"visible\": false, \"x\": [0.0, 0.01, 0.02, 0.030000000000000002, 0.04, 0.05], \"y\": [-3.156760812981057, -3.7489543774530727, -4.7658686979612295, -6.620428180705764, -9.49540018181745, -12.646107981224251]}, {\"error_y\": {\"array\": [16.51036704677899, 29.871271752405633, 36.6578125530042, 42.48035281726682, 47.31447777850418, 51.82693540787929], \"arrayminus\": [108.0318123214555, 102.10746366755784, 109.38432429405694, 115.20587830105833, 120.35633700736264, 121.0284069657477], \"symmetric\": false, \"thickness\": 4, \"type\": \"data\", \"visible\": true}, \"line\": {\"color\": \"#A1DAB4\", \"width\": 4}, \"name\": \"30\", \"showlegend\": false, \"type\": \"scatter\", \"visible\": false, \"x\": [0.0, 0.01, 0.02, 0.030000000000000002, 0.04, 0.05], \"y\": [-52.962241753227055, -42.7257896927035, -39.90890498766327, -38.841243381584036, -39.45060173053297, -40.613977713591964]}],                        {\"legend\": {\"x\": 0.3, \"xanchor\": \"right\", \"y\": 0.2, \"yanchor\": \"bottom\"}, \"plot_bgcolor\": \"#ffffff\", \"sliders\": [{\"active\": 4, \"currentvalue\": {\"prefix\": \"Temporal resolution [seconds]: \"}, \"pad\": {\"t\": 70}, \"steps\": [{\"args\": [{\"visible\": [true, false, false, false]}], \"label\": \"5\", \"method\": \"update\", \"value\": \"5\"}, {\"args\": [{\"visible\": [false, true, false, false]}], \"label\": \"10\", \"method\": \"update\", \"value\": \"10\"}, {\"args\": [{\"visible\": [false, false, true, false]}], \"label\": \"15\", \"method\": \"update\", \"value\": \"15\"}, {\"args\": [{\"visible\": [false, false, false, true]}], \"label\": \"30\", \"method\": \"update\", \"value\": \"30\"}]}], \"template\": {\"data\": {\"bar\": [{\"error_x\": {\"color\": \"#2a3f5f\"}, \"error_y\": {\"color\": \"#2a3f5f\"}, \"marker\": {\"line\": {\"color\": \"#E5ECF6\", \"width\": 0.5}}, \"type\": \"bar\"}], \"barpolar\": [{\"marker\": {\"line\": {\"color\": \"#E5ECF6\", \"width\": 0.5}}, \"type\": \"barpolar\"}], \"carpet\": [{\"aaxis\": {\"endlinecolor\": \"#2a3f5f\", \"gridcolor\": \"white\", \"linecolor\": \"white\", \"minorgridcolor\": \"white\", \"startlinecolor\": \"#2a3f5f\"}, \"baxis\": {\"endlinecolor\": \"#2a3f5f\", \"gridcolor\": \"white\", \"linecolor\": \"white\", \"minorgridcolor\": \"white\", \"startlinecolor\": \"#2a3f5f\"}, \"type\": \"carpet\"}], \"choropleth\": [{\"colorbar\": {\"outlinewidth\": 0, \"ticks\": \"\"}, \"type\": \"choropleth\"}], \"contour\": [{\"colorbar\": {\"outlinewidth\": 0, \"ticks\": \"\"}, \"colorscale\": [[0.0, \"#0d0887\"], [0.1111111111111111, \"#46039f\"], [0.2222222222222222, \"#7201a8\"], [0.3333333333333333, \"#9c179e\"], [0.4444444444444444, \"#bd3786\"], [0.5555555555555556, \"#d8576b\"], [0.6666666666666666, \"#ed7953\"], [0.7777777777777778, \"#fb9f3a\"], [0.8888888888888888, \"#fdca26\"], [1.0, \"#f0f921\"]], \"type\": \"contour\"}], \"contourcarpet\": [{\"colorbar\": {\"outlinewidth\": 0, \"ticks\": \"\"}, \"type\": \"contourcarpet\"}], \"heatmap\": [{\"colorbar\": {\"outlinewidth\": 0, \"ticks\": \"\"}, \"colorscale\": [[0.0, \"#0d0887\"], [0.1111111111111111, \"#46039f\"], [0.2222222222222222, \"#7201a8\"], [0.3333333333333333, \"#9c179e\"], [0.4444444444444444, \"#bd3786\"], [0.5555555555555556, \"#d8576b\"], [0.6666666666666666, \"#ed7953\"], [0.7777777777777778, \"#fb9f3a\"], [0.8888888888888888, \"#fdca26\"], [1.0, \"#f0f921\"]], \"type\": \"heatmap\"}], \"heatmapgl\": [{\"colorbar\": {\"outlinewidth\": 0, \"ticks\": \"\"}, \"colorscale\": [[0.0, \"#0d0887\"], [0.1111111111111111, \"#46039f\"], [0.2222222222222222, \"#7201a8\"], [0.3333333333333333, \"#9c179e\"], [0.4444444444444444, \"#bd3786\"], [0.5555555555555556, \"#d8576b\"], [0.6666666666666666, \"#ed7953\"], [0.7777777777777778, \"#fb9f3a\"], [0.8888888888888888, \"#fdca26\"], [1.0, \"#f0f921\"]], \"type\": \"heatmapgl\"}], \"histogram\": [{\"marker\": {\"colorbar\": {\"outlinewidth\": 0, \"ticks\": \"\"}}, \"type\": \"histogram\"}], \"histogram2d\": [{\"colorbar\": {\"outlinewidth\": 0, \"ticks\": \"\"}, \"colorscale\": [[0.0, \"#0d0887\"], [0.1111111111111111, \"#46039f\"], [0.2222222222222222, \"#7201a8\"], [0.3333333333333333, \"#9c179e\"], [0.4444444444444444, \"#bd3786\"], [0.5555555555555556, \"#d8576b\"], [0.6666666666666666, \"#ed7953\"], [0.7777777777777778, \"#fb9f3a\"], [0.8888888888888888, \"#fdca26\"], [1.0, \"#f0f921\"]], \"type\": \"histogram2d\"}], \"histogram2dcontour\": [{\"colorbar\": {\"outlinewidth\": 0, \"ticks\": \"\"}, \"colorscale\": [[0.0, \"#0d0887\"], [0.1111111111111111, \"#46039f\"], [0.2222222222222222, \"#7201a8\"], [0.3333333333333333, \"#9c179e\"], [0.4444444444444444, \"#bd3786\"], [0.5555555555555556, \"#d8576b\"], [0.6666666666666666, \"#ed7953\"], [0.7777777777777778, \"#fb9f3a\"], [0.8888888888888888, \"#fdca26\"], [1.0, \"#f0f921\"]], \"type\": \"histogram2dcontour\"}], \"mesh3d\": [{\"colorbar\": {\"outlinewidth\": 0, \"ticks\": \"\"}, \"type\": \"mesh3d\"}], \"parcoords\": [{\"line\": {\"colorbar\": {\"outlinewidth\": 0, \"ticks\": \"\"}}, \"type\": \"parcoords\"}], \"pie\": [{\"automargin\": true, \"type\": \"pie\"}], \"scatter\": [{\"marker\": {\"colorbar\": {\"outlinewidth\": 0, \"ticks\": \"\"}}, \"type\": \"scatter\"}], \"scatter3d\": [{\"line\": {\"colorbar\": {\"outlinewidth\": 0, \"ticks\": \"\"}}, \"marker\": {\"colorbar\": {\"outlinewidth\": 0, \"ticks\": \"\"}}, \"type\": \"scatter3d\"}], \"scattercarpet\": [{\"marker\": {\"colorbar\": {\"outlinewidth\": 0, \"ticks\": \"\"}}, \"type\": \"scattercarpet\"}], \"scattergeo\": [{\"marker\": {\"colorbar\": {\"outlinewidth\": 0, \"ticks\": \"\"}}, \"type\": \"scattergeo\"}], \"scattergl\": [{\"marker\": {\"colorbar\": {\"outlinewidth\": 0, \"ticks\": \"\"}}, \"type\": \"scattergl\"}], \"scattermapbox\": [{\"marker\": {\"colorbar\": {\"outlinewidth\": 0, \"ticks\": \"\"}}, \"type\": \"scattermapbox\"}], \"scatterpolar\": [{\"marker\": {\"colorbar\": {\"outlinewidth\": 0, \"ticks\": \"\"}}, \"type\": \"scatterpolar\"}], \"scatterpolargl\": [{\"marker\": {\"colorbar\": {\"outlinewidth\": 0, \"ticks\": \"\"}}, \"type\": \"scatterpolargl\"}], \"scatterternary\": [{\"marker\": {\"colorbar\": {\"outlinewidth\": 0, \"ticks\": \"\"}}, \"type\": \"scatterternary\"}], \"surface\": [{\"colorbar\": {\"outlinewidth\": 0, \"ticks\": \"\"}, \"colorscale\": [[0.0, \"#0d0887\"], [0.1111111111111111, \"#46039f\"], [0.2222222222222222, \"#7201a8\"], [0.3333333333333333, \"#9c179e\"], [0.4444444444444444, \"#bd3786\"], [0.5555555555555556, \"#d8576b\"], [0.6666666666666666, \"#ed7953\"], [0.7777777777777778, \"#fb9f3a\"], [0.8888888888888888, \"#fdca26\"], [1.0, \"#f0f921\"]], \"type\": \"surface\"}], \"table\": [{\"cells\": {\"fill\": {\"color\": \"#EBF0F8\"}, \"line\": {\"color\": \"white\"}}, \"header\": {\"fill\": {\"color\": \"#C8D4E3\"}, \"line\": {\"color\": \"white\"}}, \"type\": \"table\"}]}, \"layout\": {\"annotationdefaults\": {\"arrowcolor\": \"#2a3f5f\", \"arrowhead\": 0, \"arrowwidth\": 1}, \"autotypenumbers\": \"strict\", \"coloraxis\": {\"colorbar\": {\"outlinewidth\": 0, \"ticks\": \"\"}}, \"colorscale\": {\"diverging\": [[0, \"#8e0152\"], [0.1, \"#c51b7d\"], [0.2, \"#de77ae\"], [0.3, \"#f1b6da\"], [0.4, \"#fde0ef\"], [0.5, \"#f7f7f7\"], [0.6, \"#e6f5d0\"], [0.7, \"#b8e186\"], [0.8, \"#7fbc41\"], [0.9, \"#4d9221\"], [1, \"#276419\"]], \"sequential\": [[0.0, \"#0d0887\"], [0.1111111111111111, \"#46039f\"], [0.2222222222222222, \"#7201a8\"], [0.3333333333333333, \"#9c179e\"], [0.4444444444444444, \"#bd3786\"], [0.5555555555555556, \"#d8576b\"], [0.6666666666666666, \"#ed7953\"], [0.7777777777777778, \"#fb9f3a\"], [0.8888888888888888, \"#fdca26\"], [1.0, \"#f0f921\"]], \"sequentialminus\": [[0.0, \"#0d0887\"], [0.1111111111111111, \"#46039f\"], [0.2222222222222222, \"#7201a8\"], [0.3333333333333333, \"#9c179e\"], [0.4444444444444444, \"#bd3786\"], [0.5555555555555556, \"#d8576b\"], [0.6666666666666666, \"#ed7953\"], [0.7777777777777778, \"#fb9f3a\"], [0.8888888888888888, \"#fdca26\"], [1.0, \"#f0f921\"]]}, \"colorway\": [\"#636efa\", \"#EF553B\", \"#00cc96\", \"#ab63fa\", \"#FFA15A\", \"#19d3f3\", \"#FF6692\", \"#B6E880\", \"#FF97FF\", \"#FECB52\"], \"font\": {\"color\": \"#2a3f5f\"}, \"geo\": {\"bgcolor\": \"white\", \"lakecolor\": \"white\", \"landcolor\": \"#E5ECF6\", \"showlakes\": true, \"showland\": true, \"subunitcolor\": \"white\"}, \"hoverlabel\": {\"align\": \"left\"}, \"hovermode\": \"closest\", \"mapbox\": {\"style\": \"light\"}, \"paper_bgcolor\": \"white\", \"plot_bgcolor\": \"#E5ECF6\", \"polar\": {\"angularaxis\": {\"gridcolor\": \"white\", \"linecolor\": \"white\", \"ticks\": \"\"}, \"bgcolor\": \"#E5ECF6\", \"radialaxis\": {\"gridcolor\": \"white\", \"linecolor\": \"white\", \"ticks\": \"\"}}, \"scene\": {\"xaxis\": {\"backgroundcolor\": \"#E5ECF6\", \"gridcolor\": \"white\", \"gridwidth\": 2, \"linecolor\": \"white\", \"showbackground\": true, \"ticks\": \"\", \"zerolinecolor\": \"white\"}, \"yaxis\": {\"backgroundcolor\": \"#E5ECF6\", \"gridcolor\": \"white\", \"gridwidth\": 2, \"linecolor\": \"white\", \"showbackground\": true, \"ticks\": \"\", \"zerolinecolor\": \"white\"}, \"zaxis\": {\"backgroundcolor\": \"#E5ECF6\", \"gridcolor\": \"white\", \"gridwidth\": 2, \"linecolor\": \"white\", \"showbackground\": true, \"ticks\": \"\", \"zerolinecolor\": \"white\"}}, \"shapedefaults\": {\"line\": {\"color\": \"#2a3f5f\"}}, \"ternary\": {\"aaxis\": {\"gridcolor\": \"white\", \"linecolor\": \"white\", \"ticks\": \"\"}, \"baxis\": {\"gridcolor\": \"white\", \"linecolor\": \"white\", \"ticks\": \"\"}, \"bgcolor\": \"#E5ECF6\", \"caxis\": {\"gridcolor\": \"white\", \"linecolor\": \"white\", \"ticks\": \"\"}}, \"title\": {\"x\": 0.05}, \"xaxis\": {\"automargin\": true, \"gridcolor\": \"white\", \"linecolor\": \"white\", \"ticks\": \"\", \"title\": {\"standoff\": 15}, \"zerolinecolor\": \"white\", \"zerolinewidth\": 2}, \"yaxis\": {\"automargin\": true, \"gridcolor\": \"white\", \"linecolor\": \"white\", \"ticks\": \"\", \"title\": {\"standoff\": 15}, \"zerolinecolor\": \"white\", \"zerolinewidth\": 2}}}, \"title\": {\"text\": \"$V_{p}$\", \"x\": 0.5, \"xanchor\": \"center\"}, \"xaxis\": {\"title\": {\"text\": \"$\\\\sigma_{noise}[Mm]$\"}}, \"yaxis\": {\"range\": [-170, 50], \"showline\": true, \"tickvals\": [-160, -130, -100, -70, -40, -10, 20, 50], \"title\": {\"text\": \"$Percent Error$\"}}},                        {\"responsive\": true}                    ).then(function(){\n",
       "                            \n",
       "var gd = document.getElementById('d79e2e13-7404-4141-b040-e335e727cecc');\n",
       "var x = new MutationObserver(function (mutations, observer) {{\n",
       "        var display = window.getComputedStyle(gd).display;\n",
       "        if (!display || display === 'none') {{\n",
       "            console.log([gd, 'removed!']);\n",
       "            Plotly.purge(gd);\n",
       "            observer.disconnect();\n",
       "        }}\n",
       "}});\n",
       "\n",
       "// Listen for the removal of the full notebook cells\n",
       "var notebookContainer = gd.closest('#notebook-container');\n",
       "if (notebookContainer) {{\n",
       "    x.observe(notebookContainer, {childList: true});\n",
       "}}\n",
       "\n",
       "// Listen for the clearing of the current output cell\n",
       "var outputEl = gd.closest('.output');\n",
       "if (outputEl) {{\n",
       "    x.observe(outputEl, {childList: true});\n",
       "}}\n",
       "\n",
       "                        })                };                });            </script>        </div>"
      ]
     },
     "metadata": {},
     "output_type": "display_data"
    }
   ],
   "source": [
    "# Third subplot\n",
    "\n",
    "fig = go.Figure()\n",
    "line_colours = cycle(['#253494','#2C7fB8','#41B6C4','#A1DAB4'])\n",
    "legend_values=cycle(['5','10','15','30'])\n",
    "for i in range(0,4):\n",
    "    finalErrMd5=np.squeeze(np.asarray((np.reshape(errMd5[i,:], 6))))\n",
    "    finalErrorDiff5=np.squeeze(np.asarray((np.reshape(abs(errQt5[i,:,0]-errMd5[i,:]), 6))))\n",
    "    finalErrorDiffMinus5=np.squeeze(np.asarray((np.reshape(abs(errQt5[i,:,1]-errMd5[i,:]), 6))))\n",
    "    fig.add_trace(go.Scatter(\n",
    "        visible=False,\n",
    "        x=listSigmaC,\n",
    "        y=finalErrMd5,\n",
    "        error_y=dict(\n",
    "            type='data', # value of error bar given in data coordinates\n",
    "            array=finalErrorDiff5,\n",
    "            arrayminus=finalErrorDiffMinus5,\n",
    "            symmetric=False,\n",
    "            visible=True,\n",
    "            thickness=4),\n",
    "        line_color=next(line_colours),\n",
    "        line_width=4, showlegend=False, name=next(legend_values)) \n",
    "    )\n",
    "    \n",
    "    \n",
    "# Default value on the slider    \n",
    "fig.data[0].visible = True\n",
    "\n",
    "legend_values = [5, 10, 15, 30]\n",
    "\n",
    "# Create and add slider\n",
    "steps = []\n",
    "for i in range(len(fig.data)):\n",
    "    step = dict(\n",
    "        method=\"update\",\n",
    "        args=[{\"visible\": [False] * len(fig.data)},\n",
    "#               {\"title\": \"Current value selected on slider: \" + str(legend_values[i])}\n",
    "             ],  # layout attribute\n",
    "        value=legend_values[i],\n",
    "        label=legend_values[i]        \n",
    "    )\n",
    "    step[\"args\"][0][\"visible\"][i] = True  # Toggle i'th trace to \"visible\"\n",
    "    steps.append(step)\n",
    "\n",
    "sliders = [dict(\n",
    "    active=4,\n",
    "    currentvalue={\"prefix\": \"Temporal resolution [seconds]: \"},\n",
    "    pad={\"t\": 70}, #upper padding \n",
    "    steps=steps\n",
    ")]\n",
    "\n",
    "\n",
    "#r'$\\widehat{k_{ep,RR}}$', r'$K^{trans}_{RR}$', r'$V_{e,RR}$'\n",
    "\n",
    "fig.update_xaxes(title_text=r'$\\sigma_{noise}[Mm]$')\n",
    "fig.update_layout(title=dict(text=r'$V_{p}$',\n",
    "                             x=0.5,\n",
    "                             xanchor='center'),\n",
    "                  yaxis=dict(title=r'$Percent Error$',\n",
    "                             showline=True,\n",
    "                             range=[-170,50],\n",
    "                             tickvals=[-160,-130,-100,-70,-40,-10,20,50],\n",
    "                             ), \n",
    "                  plot_bgcolor='#ffffff',\n",
    "                  legend=dict(yanchor='bottom', y=0.20, xanchor='right', x=0.30),\n",
    "                  sliders=sliders\n",
    ")\n",
    "\n",
    "\n",
    "fig.show()  "
   ]
  },
  {
   "cell_type": "markdown",
   "metadata": {
    "kernel": "SoS"
   },
   "source": [
    "## Figure 3 <a name=\"figure-3\"></a>"
   ]
  },
  {
   "cell_type": "code",
   "execution_count": 12,
   "metadata": {
    "kernel": "SoS",
    "scrolled": false
   },
   "outputs": [
    {
     "data": {
      "application/vnd.plotly.v1+json": {
       "config": {
        "plotlyServerURL": "https://plot.ly"
       },
       "data": [
        {
         "error_y": {
          "array": [
           0.03388139495298925,
           0.7404281711346938,
           1.4658835655797455,
           2.129988761342605,
           2.660829314126473,
           3.016120656885529
          ],
          "arrayminus": [
           0.03991063959919994,
           0.7324514722922115,
           1.5825915928927126,
           2.1019365644807717,
           2.45474965074789,
           3.008280181452816
          ],
          "symmetric": false,
          "thickness": 4,
          "type": "data",
          "visible": true
         },
         "line": {
          "color": "#006837",
          "width": 4
         },
         "showlegend": false,
         "type": "scatter",
         "x": [
          0,
          0.01,
          0.02,
          0.030000000000000002,
          0.04,
          0.05
         ],
         "xaxis": "x",
         "y": [
          -0.04747548340481855,
          -0.6308295631378968,
          -1.6567340832072786,
          -2.8054493607440945,
          -3.6836849713625943,
          -4.975374394849497
         ],
         "yaxis": "y"
        },
        {
         "error_y": {
          "array": [
           0.4277464509514939,
           1.2560218129175849,
           1.9880118920301335,
           3.2227744269238023,
           3.755097657175998,
           3.2998920988873977
          ],
          "arrayminus": [
           0.3607453075580913,
           1.308007924190474,
           2.2136205789399788,
           2.780317074085609,
           3.3913166621801167,
           3.9727700216417077
          ],
          "symmetric": false,
          "thickness": 4,
          "type": "data",
          "visible": true
         },
         "line": {
          "color": "#31A354",
          "width": 4
         },
         "showlegend": false,
         "type": "scatter",
         "x": [
          0,
          0.01,
          0.02,
          0.030000000000000002,
          0.04,
          0.05
         ],
         "xaxis": "x",
         "y": [
          -0.2986318818728184,
          -1.3946955753039614,
          -2.724839365549836,
          -3.6806795407376747,
          -5.758618691497109,
          -8.812282777007058
         ],
         "yaxis": "y"
        },
        {
         "error_y": {
          "array": [
           0.9370348617132152,
           1.9398213719655004,
           2.927532083544132,
           3.410028193781095,
           3.7740218137168444,
           4.492239530887783
          ],
          "arrayminus": [
           0.8652251872720007,
           1.905923492675099,
           2.8108260048883063,
           3.403025938670911,
           3.7731314318001363,
           4.196564304365684
          ],
          "symmetric": false,
          "thickness": 4,
          "type": "data",
          "visible": true
         },
         "line": {
          "color": "#78C679",
          "width": 4
         },
         "showlegend": false,
         "type": "scatter",
         "x": [
          0,
          0.01,
          0.02,
          0.030000000000000002,
          0.04,
          0.05
         ],
         "xaxis": "x",
         "y": [
          -0.8457073530692027,
          -2.0758457285490195,
          -3.1512208895249474,
          -5.269536609424518,
          -7.973999490010042,
          -10.334319490708559
         ],
         "yaxis": "y"
        },
        {
         "error_y": {
          "array": [
           1.1335727023198516,
           2.5229083167114528,
           3.8737304430633674,
           4.485306162005974,
           4.887906186538647,
           5.406392513182912
          ],
          "arrayminus": [
           1.2346075421084457,
           2.687406842837115,
           3.7906620271234366,
           4.424035689139599,
           4.82989241413193,
           5.31934866289318
          ],
          "symmetric": false,
          "thickness": 4,
          "type": "data",
          "visible": true
         },
         "line": {
          "color": "#C2E699",
          "width": 4
         },
         "showlegend": false,
         "type": "scatter",
         "x": [
          0,
          0.01,
          0.02,
          0.030000000000000002,
          0.04,
          0.05
         ],
         "xaxis": "x",
         "y": [
          -3.307880273248387,
          -5.731790258306175,
          -7.677269738095182,
          -9.695654042240742,
          -12.052555466436065,
          -14.7560365591039
         ],
         "yaxis": "y"
        },
        {
         "error_y": {
          "array": [
           0.0396097111738321,
           0.9243669996149383,
           1.6374510496488486,
           2.502972164491071,
           3.1687734120877273,
           3.724663670542242
          ],
          "arrayminus": [
           0.0468899686697757,
           0.9231686503425456,
           2.0968710282389926,
           2.542604277632318,
           3.0144069480034124,
           3.648433915352354
          ],
          "symmetric": false,
          "thickness": 4,
          "type": "data",
          "visible": true
         },
         "line": {
          "color": "#006837",
          "width": 4
         },
         "showlegend": false,
         "type": "scatter",
         "x": [
          0,
          0.01,
          0.02,
          0.030000000000000002,
          0.04,
          0.05
         ],
         "xaxis": "x2",
         "y": [
          -0.059454023876958396,
          -0.788325336469896,
          -1.9626751915599692,
          -3.333475084465901,
          -4.27814996707354,
          -5.838137427962575
         ],
         "yaxis": "y2"
        },
        {
         "error_y": {
          "array": [
           0.5000132099899417,
           1.4614313011496578,
           2.3881865619910068,
           3.608384031136488,
           4.088866998788497,
           4.379391949104212
          ],
          "arrayminus": [
           0.4246154324457391,
           1.522148452798379,
           2.6838989208051145,
           3.3260537076144994,
           4.149920810868216,
           4.480393755043432
          ],
          "symmetric": false,
          "thickness": 4,
          "type": "data",
          "visible": true
         },
         "line": {
          "color": "#31A354",
          "width": 4
         },
         "showlegend": false,
         "type": "scatter",
         "x": [
          0,
          0.01,
          0.02,
          0.030000000000000002,
          0.04,
          0.05
         ],
         "xaxis": "x2",
         "y": [
          -0.366282506451533,
          -1.6606523700984028,
          -3.167625100943469,
          -4.4039100911217055,
          -6.86935704932251,
          -10.21534742812547
         ],
         "yaxis": "y2"
        },
        {
         "error_y": {
          "array": [
           1.0974031068336894,
           2.3073467882808023,
           3.5235888090674443,
           3.9997375210428947,
           4.549556499722403,
           5.459908950473077
          ],
          "arrayminus": [
           1.0208994436644678,
           2.264924948294738,
           3.3836810385892897,
           4.014361866053958,
           4.341355937093935,
           5.195609295232859
          ],
          "symmetric": false,
          "thickness": 4,
          "type": "data",
          "visible": true
         },
         "line": {
          "color": "#78C679",
          "width": 4
         },
         "showlegend": false,
         "type": "scatter",
         "x": [
          0,
          0.01,
          0.02,
          0.030000000000000002,
          0.04,
          0.05
         ],
         "xaxis": "x2",
         "y": [
          -1.0318969881786622,
          -2.5228821686112264,
          -3.7622350875823187,
          -6.28629793126217,
          -9.26781639562255,
          -12.370000422912705
         ],
         "yaxis": "y2"
        },
        {
         "error_y": {
          "array": [
           1.3194509267232544,
           3.01607807503164,
           4.9707429864873784,
           5.480480656468945,
           6.295555973442278,
           6.795753471239166
          ],
          "arrayminus": [
           1.4761875948241068,
           3.181978181616487,
           4.794276504599047,
           5.181825701884325,
           5.816023930121313,
           6.441504827827075
          ],
          "symmetric": false,
          "thickness": 4,
          "type": "data",
          "visible": true
         },
         "line": {
          "color": "#C2E699",
          "width": 4
         },
         "showlegend": false,
         "type": "scatter",
         "x": [
          0,
          0.01,
          0.02,
          0.030000000000000002,
          0.04,
          0.05
         ],
         "xaxis": "x2",
         "y": [
          -4.051053401847721,
          -6.847158498672037,
          -9.219976174411654,
          -11.52962873035601,
          -14.111182281868144,
          -17.656492866257175
         ],
         "yaxis": "y2"
        },
        {
         "error_y": {
          "array": [
           0.00582273931784957,
           0.2524024262627699,
           0.5183567978538182,
           0.8231535893039281,
           1.0651930993430379,
           1.2515997631621805
          ],
          "arrayminus": [
           0.006934136214089715,
           0.2638382085960832,
           0.5789810603262878,
           0.7952206584376151,
           0.9246959898332998,
           1.2805222501866491
          ],
          "symmetric": false,
          "thickness": 4,
          "type": "data",
          "visible": true
         },
         "line": {
          "color": "#006837",
          "width": 4
         },
         "name": "5",
         "showlegend": true,
         "type": "scatter",
         "x": [
          0,
          0.01,
          0.02,
          0.030000000000000002,
          0.04,
          0.05
         ],
         "xaxis": "x3",
         "y": [
          -0.011936536038461721,
          -0.1394902825714286,
          -0.250383398624874,
          -0.52829202070101,
          -0.5899815685539631,
          -0.9459100499807735
         ],
         "yaxis": "y3"
        },
        {
         "error_y": {
          "array": [
           0.07539197031757831,
           0.3743679890540792,
           0.6440136995463404,
           0.9534639311359735,
           1.250953568438478,
           1.543903581567248
          ],
          "arrayminus": [
           0.06382579037704901,
           0.2996578367664624,
           0.6196819366037101,
           0.8550009204853571,
           1.218587560727961,
           1.5793437689185845
          ],
          "symmetric": false,
          "thickness": 4,
          "type": "data",
          "visible": true
         },
         "line": {
          "color": "#31A354",
          "width": 4
         },
         "name": "10",
         "showlegend": true,
         "type": "scatter",
         "x": [
          0,
          0.01,
          0.02,
          0.030000000000000002,
          0.04,
          0.05
         ],
         "xaxis": "x3",
         "y": [
          -0.06762923458176433,
          -0.24586059328751286,
          -0.4736478154728238,
          -0.7513930088674295,
          -1.1362387170020822,
          -1.7607556669063067
         ],
         "yaxis": "y3"
        },
        {
         "error_y": {
          "array": [
           0.1682136275637573,
           0.43962878982076176,
           0.7395155895458171,
           1.1322092990697006,
           1.4435882355178746,
           1.6408225844487947
          ],
          "arrayminus": [
           0.15620412388459606,
           0.44498236262795,
           0.7351240485787617,
           0.9577930091254606,
           1.2609560017683847,
           1.6439458261287683
          ],
          "symmetric": false,
          "thickness": 4,
          "type": "data",
          "visible": true
         },
         "line": {
          "color": "#78C679",
          "width": 4
         },
         "name": "15",
         "showlegend": true,
         "type": "scatter",
         "x": [
          0,
          0.01,
          0.02,
          0.030000000000000002,
          0.04,
          0.05
         ],
         "xaxis": "x3",
         "y": [
          -0.18584311294992817,
          -0.43521811451906395,
          -0.6087268797081474,
          -0.9623107483865133,
          -1.5237226278278841,
          -2.273030452581188
         ],
         "yaxis": "y3"
        },
        {
         "error_y": {
          "array": [
           0.22448568883317743,
           0.6450693133610437,
           1.1109759407664648,
           1.4015938297909272,
           1.755160157833989,
           2.2842809492829614
          ],
          "arrayminus": [
           0.2424540357408399,
           0.6522854790578275,
           1.0116916589113134,
           1.298281641229974,
           1.6683880957439114,
           2.051355993973612
          ],
          "symmetric": false,
          "thickness": 4,
          "type": "data",
          "visible": true
         },
         "line": {
          "color": "#C2E699",
          "width": 4
         },
         "name": "30",
         "showlegend": true,
         "type": "scatter",
         "x": [
          0,
          0.01,
          0.02,
          0.030000000000000002,
          0.04,
          0.05
         ],
         "xaxis": "x3",
         "y": [
          -0.7552837524467293,
          -1.2234196131891237,
          -1.697341854635064,
          -2.1992334431413356,
          -2.610700847898578,
          -3.4335893542850044
         ],
         "yaxis": "y3"
        }
       ],
       "layout": {
        "annotations": [
         {
          "font": {
           "size": 16
          },
          "showarrow": false,
          "text": "$\\widehat{k_{ep,RR}}$",
          "x": 0.14444444444444446,
          "xanchor": "center",
          "xref": "paper",
          "y": 1,
          "yanchor": "bottom",
          "yref": "paper"
         },
         {
          "font": {
           "size": 16
          },
          "showarrow": false,
          "text": "$K^{trans}_{RR}$",
          "x": 0.5,
          "xanchor": "center",
          "xref": "paper",
          "y": 1,
          "yanchor": "bottom",
          "yref": "paper"
         },
         {
          "font": {
           "size": 16
          },
          "showarrow": false,
          "text": "$V_{e,RR}$",
          "x": 0.8555555555555556,
          "xanchor": "center",
          "xref": "paper",
          "y": 1,
          "yanchor": "bottom",
          "yref": "paper"
         }
        ],
        "plot_bgcolor": "#ffffff",
        "template": {
         "data": {
          "bar": [
           {
            "error_x": {
             "color": "#2a3f5f"
            },
            "error_y": {
             "color": "#2a3f5f"
            },
            "marker": {
             "line": {
              "color": "#E5ECF6",
              "width": 0.5
             }
            },
            "type": "bar"
           }
          ],
          "barpolar": [
           {
            "marker": {
             "line": {
              "color": "#E5ECF6",
              "width": 0.5
             }
            },
            "type": "barpolar"
           }
          ],
          "carpet": [
           {
            "aaxis": {
             "endlinecolor": "#2a3f5f",
             "gridcolor": "white",
             "linecolor": "white",
             "minorgridcolor": "white",
             "startlinecolor": "#2a3f5f"
            },
            "baxis": {
             "endlinecolor": "#2a3f5f",
             "gridcolor": "white",
             "linecolor": "white",
             "minorgridcolor": "white",
             "startlinecolor": "#2a3f5f"
            },
            "type": "carpet"
           }
          ],
          "choropleth": [
           {
            "colorbar": {
             "outlinewidth": 0,
             "ticks": ""
            },
            "type": "choropleth"
           }
          ],
          "contour": [
           {
            "colorbar": {
             "outlinewidth": 0,
             "ticks": ""
            },
            "colorscale": [
             [
              0,
              "#0d0887"
             ],
             [
              0.1111111111111111,
              "#46039f"
             ],
             [
              0.2222222222222222,
              "#7201a8"
             ],
             [
              0.3333333333333333,
              "#9c179e"
             ],
             [
              0.4444444444444444,
              "#bd3786"
             ],
             [
              0.5555555555555556,
              "#d8576b"
             ],
             [
              0.6666666666666666,
              "#ed7953"
             ],
             [
              0.7777777777777778,
              "#fb9f3a"
             ],
             [
              0.8888888888888888,
              "#fdca26"
             ],
             [
              1,
              "#f0f921"
             ]
            ],
            "type": "contour"
           }
          ],
          "contourcarpet": [
           {
            "colorbar": {
             "outlinewidth": 0,
             "ticks": ""
            },
            "type": "contourcarpet"
           }
          ],
          "heatmap": [
           {
            "colorbar": {
             "outlinewidth": 0,
             "ticks": ""
            },
            "colorscale": [
             [
              0,
              "#0d0887"
             ],
             [
              0.1111111111111111,
              "#46039f"
             ],
             [
              0.2222222222222222,
              "#7201a8"
             ],
             [
              0.3333333333333333,
              "#9c179e"
             ],
             [
              0.4444444444444444,
              "#bd3786"
             ],
             [
              0.5555555555555556,
              "#d8576b"
             ],
             [
              0.6666666666666666,
              "#ed7953"
             ],
             [
              0.7777777777777778,
              "#fb9f3a"
             ],
             [
              0.8888888888888888,
              "#fdca26"
             ],
             [
              1,
              "#f0f921"
             ]
            ],
            "type": "heatmap"
           }
          ],
          "heatmapgl": [
           {
            "colorbar": {
             "outlinewidth": 0,
             "ticks": ""
            },
            "colorscale": [
             [
              0,
              "#0d0887"
             ],
             [
              0.1111111111111111,
              "#46039f"
             ],
             [
              0.2222222222222222,
              "#7201a8"
             ],
             [
              0.3333333333333333,
              "#9c179e"
             ],
             [
              0.4444444444444444,
              "#bd3786"
             ],
             [
              0.5555555555555556,
              "#d8576b"
             ],
             [
              0.6666666666666666,
              "#ed7953"
             ],
             [
              0.7777777777777778,
              "#fb9f3a"
             ],
             [
              0.8888888888888888,
              "#fdca26"
             ],
             [
              1,
              "#f0f921"
             ]
            ],
            "type": "heatmapgl"
           }
          ],
          "histogram": [
           {
            "marker": {
             "colorbar": {
              "outlinewidth": 0,
              "ticks": ""
             }
            },
            "type": "histogram"
           }
          ],
          "histogram2d": [
           {
            "colorbar": {
             "outlinewidth": 0,
             "ticks": ""
            },
            "colorscale": [
             [
              0,
              "#0d0887"
             ],
             [
              0.1111111111111111,
              "#46039f"
             ],
             [
              0.2222222222222222,
              "#7201a8"
             ],
             [
              0.3333333333333333,
              "#9c179e"
             ],
             [
              0.4444444444444444,
              "#bd3786"
             ],
             [
              0.5555555555555556,
              "#d8576b"
             ],
             [
              0.6666666666666666,
              "#ed7953"
             ],
             [
              0.7777777777777778,
              "#fb9f3a"
             ],
             [
              0.8888888888888888,
              "#fdca26"
             ],
             [
              1,
              "#f0f921"
             ]
            ],
            "type": "histogram2d"
           }
          ],
          "histogram2dcontour": [
           {
            "colorbar": {
             "outlinewidth": 0,
             "ticks": ""
            },
            "colorscale": [
             [
              0,
              "#0d0887"
             ],
             [
              0.1111111111111111,
              "#46039f"
             ],
             [
              0.2222222222222222,
              "#7201a8"
             ],
             [
              0.3333333333333333,
              "#9c179e"
             ],
             [
              0.4444444444444444,
              "#bd3786"
             ],
             [
              0.5555555555555556,
              "#d8576b"
             ],
             [
              0.6666666666666666,
              "#ed7953"
             ],
             [
              0.7777777777777778,
              "#fb9f3a"
             ],
             [
              0.8888888888888888,
              "#fdca26"
             ],
             [
              1,
              "#f0f921"
             ]
            ],
            "type": "histogram2dcontour"
           }
          ],
          "mesh3d": [
           {
            "colorbar": {
             "outlinewidth": 0,
             "ticks": ""
            },
            "type": "mesh3d"
           }
          ],
          "parcoords": [
           {
            "line": {
             "colorbar": {
              "outlinewidth": 0,
              "ticks": ""
             }
            },
            "type": "parcoords"
           }
          ],
          "pie": [
           {
            "automargin": true,
            "type": "pie"
           }
          ],
          "scatter": [
           {
            "marker": {
             "colorbar": {
              "outlinewidth": 0,
              "ticks": ""
             }
            },
            "type": "scatter"
           }
          ],
          "scatter3d": [
           {
            "line": {
             "colorbar": {
              "outlinewidth": 0,
              "ticks": ""
             }
            },
            "marker": {
             "colorbar": {
              "outlinewidth": 0,
              "ticks": ""
             }
            },
            "type": "scatter3d"
           }
          ],
          "scattercarpet": [
           {
            "marker": {
             "colorbar": {
              "outlinewidth": 0,
              "ticks": ""
             }
            },
            "type": "scattercarpet"
           }
          ],
          "scattergeo": [
           {
            "marker": {
             "colorbar": {
              "outlinewidth": 0,
              "ticks": ""
             }
            },
            "type": "scattergeo"
           }
          ],
          "scattergl": [
           {
            "marker": {
             "colorbar": {
              "outlinewidth": 0,
              "ticks": ""
             }
            },
            "type": "scattergl"
           }
          ],
          "scattermapbox": [
           {
            "marker": {
             "colorbar": {
              "outlinewidth": 0,
              "ticks": ""
             }
            },
            "type": "scattermapbox"
           }
          ],
          "scatterpolar": [
           {
            "marker": {
             "colorbar": {
              "outlinewidth": 0,
              "ticks": ""
             }
            },
            "type": "scatterpolar"
           }
          ],
          "scatterpolargl": [
           {
            "marker": {
             "colorbar": {
              "outlinewidth": 0,
              "ticks": ""
             }
            },
            "type": "scatterpolargl"
           }
          ],
          "scatterternary": [
           {
            "marker": {
             "colorbar": {
              "outlinewidth": 0,
              "ticks": ""
             }
            },
            "type": "scatterternary"
           }
          ],
          "surface": [
           {
            "colorbar": {
             "outlinewidth": 0,
             "ticks": ""
            },
            "colorscale": [
             [
              0,
              "#0d0887"
             ],
             [
              0.1111111111111111,
              "#46039f"
             ],
             [
              0.2222222222222222,
              "#7201a8"
             ],
             [
              0.3333333333333333,
              "#9c179e"
             ],
             [
              0.4444444444444444,
              "#bd3786"
             ],
             [
              0.5555555555555556,
              "#d8576b"
             ],
             [
              0.6666666666666666,
              "#ed7953"
             ],
             [
              0.7777777777777778,
              "#fb9f3a"
             ],
             [
              0.8888888888888888,
              "#fdca26"
             ],
             [
              1,
              "#f0f921"
             ]
            ],
            "type": "surface"
           }
          ],
          "table": [
           {
            "cells": {
             "fill": {
              "color": "#EBF0F8"
             },
             "line": {
              "color": "white"
             }
            },
            "header": {
             "fill": {
              "color": "#C8D4E3"
             },
             "line": {
              "color": "white"
             }
            },
            "type": "table"
           }
          ]
         },
         "layout": {
          "annotationdefaults": {
           "arrowcolor": "#2a3f5f",
           "arrowhead": 0,
           "arrowwidth": 1
          },
          "autotypenumbers": "strict",
          "coloraxis": {
           "colorbar": {
            "outlinewidth": 0,
            "ticks": ""
           }
          },
          "colorscale": {
           "diverging": [
            [
             0,
             "#8e0152"
            ],
            [
             0.1,
             "#c51b7d"
            ],
            [
             0.2,
             "#de77ae"
            ],
            [
             0.3,
             "#f1b6da"
            ],
            [
             0.4,
             "#fde0ef"
            ],
            [
             0.5,
             "#f7f7f7"
            ],
            [
             0.6,
             "#e6f5d0"
            ],
            [
             0.7,
             "#b8e186"
            ],
            [
             0.8,
             "#7fbc41"
            ],
            [
             0.9,
             "#4d9221"
            ],
            [
             1,
             "#276419"
            ]
           ],
           "sequential": [
            [
             0,
             "#0d0887"
            ],
            [
             0.1111111111111111,
             "#46039f"
            ],
            [
             0.2222222222222222,
             "#7201a8"
            ],
            [
             0.3333333333333333,
             "#9c179e"
            ],
            [
             0.4444444444444444,
             "#bd3786"
            ],
            [
             0.5555555555555556,
             "#d8576b"
            ],
            [
             0.6666666666666666,
             "#ed7953"
            ],
            [
             0.7777777777777778,
             "#fb9f3a"
            ],
            [
             0.8888888888888888,
             "#fdca26"
            ],
            [
             1,
             "#f0f921"
            ]
           ],
           "sequentialminus": [
            [
             0,
             "#0d0887"
            ],
            [
             0.1111111111111111,
             "#46039f"
            ],
            [
             0.2222222222222222,
             "#7201a8"
            ],
            [
             0.3333333333333333,
             "#9c179e"
            ],
            [
             0.4444444444444444,
             "#bd3786"
            ],
            [
             0.5555555555555556,
             "#d8576b"
            ],
            [
             0.6666666666666666,
             "#ed7953"
            ],
            [
             0.7777777777777778,
             "#fb9f3a"
            ],
            [
             0.8888888888888888,
             "#fdca26"
            ],
            [
             1,
             "#f0f921"
            ]
           ]
          },
          "colorway": [
           "#636efa",
           "#EF553B",
           "#00cc96",
           "#ab63fa",
           "#FFA15A",
           "#19d3f3",
           "#FF6692",
           "#B6E880",
           "#FF97FF",
           "#FECB52"
          ],
          "font": {
           "color": "#2a3f5f"
          },
          "geo": {
           "bgcolor": "white",
           "lakecolor": "white",
           "landcolor": "#E5ECF6",
           "showlakes": true,
           "showland": true,
           "subunitcolor": "white"
          },
          "hoverlabel": {
           "align": "left"
          },
          "hovermode": "closest",
          "mapbox": {
           "style": "light"
          },
          "paper_bgcolor": "white",
          "plot_bgcolor": "#E5ECF6",
          "polar": {
           "angularaxis": {
            "gridcolor": "white",
            "linecolor": "white",
            "ticks": ""
           },
           "bgcolor": "#E5ECF6",
           "radialaxis": {
            "gridcolor": "white",
            "linecolor": "white",
            "ticks": ""
           }
          },
          "scene": {
           "xaxis": {
            "backgroundcolor": "#E5ECF6",
            "gridcolor": "white",
            "gridwidth": 2,
            "linecolor": "white",
            "showbackground": true,
            "ticks": "",
            "zerolinecolor": "white"
           },
           "yaxis": {
            "backgroundcolor": "#E5ECF6",
            "gridcolor": "white",
            "gridwidth": 2,
            "linecolor": "white",
            "showbackground": true,
            "ticks": "",
            "zerolinecolor": "white"
           },
           "zaxis": {
            "backgroundcolor": "#E5ECF6",
            "gridcolor": "white",
            "gridwidth": 2,
            "linecolor": "white",
            "showbackground": true,
            "ticks": "",
            "zerolinecolor": "white"
           }
          },
          "shapedefaults": {
           "line": {
            "color": "#2a3f5f"
           }
          },
          "ternary": {
           "aaxis": {
            "gridcolor": "white",
            "linecolor": "white",
            "ticks": ""
           },
           "baxis": {
            "gridcolor": "white",
            "linecolor": "white",
            "ticks": ""
           },
           "bgcolor": "#E5ECF6",
           "caxis": {
            "gridcolor": "white",
            "linecolor": "white",
            "ticks": ""
           }
          },
          "title": {
           "x": 0.05
          },
          "xaxis": {
           "automargin": true,
           "gridcolor": "white",
           "linecolor": "white",
           "ticks": "",
           "title": {
            "standoff": 15
           },
           "zerolinecolor": "white",
           "zerolinewidth": 2
          },
          "yaxis": {
           "automargin": true,
           "gridcolor": "white",
           "linecolor": "white",
           "ticks": "",
           "title": {
            "standoff": 15
           },
           "zerolinecolor": "white",
           "zerolinewidth": 2
          }
         }
        },
        "xaxis": {
         "anchor": "y",
         "domain": [
          0,
          0.2888888888888889
         ],
         "title": {
          "text": "$\\sigma_{noise}[Mm]$"
         }
        },
        "xaxis2": {
         "anchor": "y2",
         "domain": [
          0.35555555555555557,
          0.6444444444444445
         ],
         "title": {
          "text": "$\\sigma_{noise}[Mm]$"
         }
        },
        "xaxis3": {
         "anchor": "y3",
         "domain": [
          0.7111111111111111,
          1
         ],
         "title": {
          "text": "$\\sigma_{noise}[Mm]$"
         }
        },
        "yaxis": {
         "anchor": "x",
         "domain": [
          0,
          1
         ],
         "range": [
          -35,
          5
         ],
         "showline": true,
         "tickvals": [
          -35,
          -30,
          -25,
          -20,
          -15,
          -10,
          -5,
          0,
          5
         ],
         "title": {
          "text": "$Percent Error$"
         }
        },
        "yaxis2": {
         "anchor": "x2",
         "domain": [
          0,
          1
         ],
         "range": [
          -35,
          5
         ],
         "tickvals": [
          -35,
          -30,
          -25,
          -20,
          -15,
          -10,
          -5,
          0,
          5
         ]
        },
        "yaxis3": {
         "anchor": "x3",
         "domain": [
          0,
          1
         ],
         "range": [
          -35,
          5
         ],
         "tickvals": [
          -35,
          -30,
          -25,
          -20,
          -15,
          -10,
          -5,
          0,
          5
         ]
        }
       }
      },
      "text/html": [
       "<div>                            <div id=\"5e6ecf8f-a165-4bfe-b16f-21de35779f5d\" class=\"plotly-graph-div\" style=\"height:525px; width:100%;\"></div>            <script type=\"text/javascript\">                require([\"plotly\"], function(Plotly) {                    window.PLOTLYENV=window.PLOTLYENV || {};                                    if (document.getElementById(\"5e6ecf8f-a165-4bfe-b16f-21de35779f5d\")) {                    Plotly.newPlot(                        \"5e6ecf8f-a165-4bfe-b16f-21de35779f5d\",                        [{\"error_y\": {\"array\": [0.03388139495298925, 0.7404281711346938, 1.4658835655797455, 2.129988761342605, 2.660829314126473, 3.016120656885529], \"arrayminus\": [0.03991063959919994, 0.7324514722922115, 1.5825915928927126, 2.1019365644807717, 2.45474965074789, 3.008280181452816], \"symmetric\": false, \"thickness\": 4, \"type\": \"data\", \"visible\": true}, \"line\": {\"color\": \"#006837\", \"width\": 4}, \"showlegend\": false, \"type\": \"scatter\", \"x\": [0.0, 0.01, 0.02, 0.030000000000000002, 0.04, 0.05], \"xaxis\": \"x\", \"y\": [-0.04747548340481855, -0.6308295631378968, -1.6567340832072786, -2.8054493607440945, -3.6836849713625943, -4.975374394849497], \"yaxis\": \"y\"}, {\"error_y\": {\"array\": [0.4277464509514939, 1.2560218129175849, 1.9880118920301335, 3.2227744269238023, 3.755097657175998, 3.2998920988873977], \"arrayminus\": [0.3607453075580913, 1.308007924190474, 2.2136205789399788, 2.780317074085609, 3.3913166621801167, 3.9727700216417077], \"symmetric\": false, \"thickness\": 4, \"type\": \"data\", \"visible\": true}, \"line\": {\"color\": \"#31A354\", \"width\": 4}, \"showlegend\": false, \"type\": \"scatter\", \"x\": [0.0, 0.01, 0.02, 0.030000000000000002, 0.04, 0.05], \"xaxis\": \"x\", \"y\": [-0.2986318818728184, -1.3946955753039614, -2.724839365549836, -3.6806795407376747, -5.758618691497109, -8.812282777007058], \"yaxis\": \"y\"}, {\"error_y\": {\"array\": [0.9370348617132152, 1.9398213719655004, 2.927532083544132, 3.410028193781095, 3.7740218137168444, 4.492239530887783], \"arrayminus\": [0.8652251872720007, 1.905923492675099, 2.8108260048883063, 3.403025938670911, 3.7731314318001363, 4.196564304365684], \"symmetric\": false, \"thickness\": 4, \"type\": \"data\", \"visible\": true}, \"line\": {\"color\": \"#78C679\", \"width\": 4}, \"showlegend\": false, \"type\": \"scatter\", \"x\": [0.0, 0.01, 0.02, 0.030000000000000002, 0.04, 0.05], \"xaxis\": \"x\", \"y\": [-0.8457073530692027, -2.0758457285490195, -3.1512208895249474, -5.269536609424518, -7.973999490010042, -10.334319490708559], \"yaxis\": \"y\"}, {\"error_y\": {\"array\": [1.1335727023198516, 2.5229083167114528, 3.8737304430633674, 4.485306162005974, 4.887906186538647, 5.406392513182912], \"arrayminus\": [1.2346075421084457, 2.687406842837115, 3.7906620271234366, 4.424035689139599, 4.82989241413193, 5.31934866289318], \"symmetric\": false, \"thickness\": 4, \"type\": \"data\", \"visible\": true}, \"line\": {\"color\": \"#C2E699\", \"width\": 4}, \"showlegend\": false, \"type\": \"scatter\", \"x\": [0.0, 0.01, 0.02, 0.030000000000000002, 0.04, 0.05], \"xaxis\": \"x\", \"y\": [-3.307880273248387, -5.731790258306175, -7.677269738095182, -9.695654042240742, -12.052555466436065, -14.7560365591039], \"yaxis\": \"y\"}, {\"error_y\": {\"array\": [0.0396097111738321, 0.9243669996149383, 1.6374510496488486, 2.502972164491071, 3.1687734120877273, 3.724663670542242], \"arrayminus\": [0.0468899686697757, 0.9231686503425456, 2.0968710282389926, 2.542604277632318, 3.0144069480034124, 3.648433915352354], \"symmetric\": false, \"thickness\": 4, \"type\": \"data\", \"visible\": true}, \"line\": {\"color\": \"#006837\", \"width\": 4}, \"showlegend\": false, \"type\": \"scatter\", \"x\": [0.0, 0.01, 0.02, 0.030000000000000002, 0.04, 0.05], \"xaxis\": \"x2\", \"y\": [-0.059454023876958396, -0.788325336469896, -1.9626751915599692, -3.333475084465901, -4.27814996707354, -5.838137427962575], \"yaxis\": \"y2\"}, {\"error_y\": {\"array\": [0.5000132099899417, 1.4614313011496578, 2.3881865619910068, 3.608384031136488, 4.088866998788497, 4.379391949104212], \"arrayminus\": [0.4246154324457391, 1.522148452798379, 2.6838989208051145, 3.3260537076144994, 4.149920810868216, 4.480393755043432], \"symmetric\": false, \"thickness\": 4, \"type\": \"data\", \"visible\": true}, \"line\": {\"color\": \"#31A354\", \"width\": 4}, \"showlegend\": false, \"type\": \"scatter\", \"x\": [0.0, 0.01, 0.02, 0.030000000000000002, 0.04, 0.05], \"xaxis\": \"x2\", \"y\": [-0.366282506451533, -1.6606523700984028, -3.167625100943469, -4.4039100911217055, -6.86935704932251, -10.21534742812547], \"yaxis\": \"y2\"}, {\"error_y\": {\"array\": [1.0974031068336894, 2.3073467882808023, 3.5235888090674443, 3.9997375210428947, 4.549556499722403, 5.459908950473077], \"arrayminus\": [1.0208994436644678, 2.264924948294738, 3.3836810385892897, 4.014361866053958, 4.341355937093935, 5.195609295232859], \"symmetric\": false, \"thickness\": 4, \"type\": \"data\", \"visible\": true}, \"line\": {\"color\": \"#78C679\", \"width\": 4}, \"showlegend\": false, \"type\": \"scatter\", \"x\": [0.0, 0.01, 0.02, 0.030000000000000002, 0.04, 0.05], \"xaxis\": \"x2\", \"y\": [-1.0318969881786622, -2.5228821686112264, -3.7622350875823187, -6.28629793126217, -9.26781639562255, -12.370000422912705], \"yaxis\": \"y2\"}, {\"error_y\": {\"array\": [1.3194509267232544, 3.01607807503164, 4.9707429864873784, 5.480480656468945, 6.295555973442278, 6.795753471239166], \"arrayminus\": [1.4761875948241068, 3.181978181616487, 4.794276504599047, 5.181825701884325, 5.816023930121313, 6.441504827827075], \"symmetric\": false, \"thickness\": 4, \"type\": \"data\", \"visible\": true}, \"line\": {\"color\": \"#C2E699\", \"width\": 4}, \"showlegend\": false, \"type\": \"scatter\", \"x\": [0.0, 0.01, 0.02, 0.030000000000000002, 0.04, 0.05], \"xaxis\": \"x2\", \"y\": [-4.051053401847721, -6.847158498672037, -9.219976174411654, -11.52962873035601, -14.111182281868144, -17.656492866257175], \"yaxis\": \"y2\"}, {\"error_y\": {\"array\": [0.00582273931784957, 0.2524024262627699, 0.5183567978538182, 0.8231535893039281, 1.0651930993430379, 1.2515997631621805], \"arrayminus\": [0.006934136214089715, 0.2638382085960832, 0.5789810603262878, 0.7952206584376151, 0.9246959898332998, 1.2805222501866491], \"symmetric\": false, \"thickness\": 4, \"type\": \"data\", \"visible\": true}, \"line\": {\"color\": \"#006837\", \"width\": 4}, \"name\": \"5\", \"showlegend\": true, \"type\": \"scatter\", \"x\": [0.0, 0.01, 0.02, 0.030000000000000002, 0.04, 0.05], \"xaxis\": \"x3\", \"y\": [-0.011936536038461721, -0.1394902825714286, -0.250383398624874, -0.52829202070101, -0.5899815685539631, -0.9459100499807735], \"yaxis\": \"y3\"}, {\"error_y\": {\"array\": [0.07539197031757831, 0.3743679890540792, 0.6440136995463404, 0.9534639311359735, 1.250953568438478, 1.543903581567248], \"arrayminus\": [0.06382579037704901, 0.2996578367664624, 0.6196819366037101, 0.8550009204853571, 1.218587560727961, 1.5793437689185845], \"symmetric\": false, \"thickness\": 4, \"type\": \"data\", \"visible\": true}, \"line\": {\"color\": \"#31A354\", \"width\": 4}, \"name\": \"10\", \"showlegend\": true, \"type\": \"scatter\", \"x\": [0.0, 0.01, 0.02, 0.030000000000000002, 0.04, 0.05], \"xaxis\": \"x3\", \"y\": [-0.06762923458176433, -0.24586059328751286, -0.4736478154728238, -0.7513930088674295, -1.1362387170020822, -1.7607556669063067], \"yaxis\": \"y3\"}, {\"error_y\": {\"array\": [0.1682136275637573, 0.43962878982076176, 0.7395155895458171, 1.1322092990697006, 1.4435882355178746, 1.6408225844487947], \"arrayminus\": [0.15620412388459606, 0.44498236262795, 0.7351240485787617, 0.9577930091254606, 1.2609560017683847, 1.6439458261287683], \"symmetric\": false, \"thickness\": 4, \"type\": \"data\", \"visible\": true}, \"line\": {\"color\": \"#78C679\", \"width\": 4}, \"name\": \"15\", \"showlegend\": true, \"type\": \"scatter\", \"x\": [0.0, 0.01, 0.02, 0.030000000000000002, 0.04, 0.05], \"xaxis\": \"x3\", \"y\": [-0.18584311294992817, -0.43521811451906395, -0.6087268797081474, -0.9623107483865133, -1.5237226278278841, -2.273030452581188], \"yaxis\": \"y3\"}, {\"error_y\": {\"array\": [0.22448568883317743, 0.6450693133610437, 1.1109759407664648, 1.4015938297909272, 1.755160157833989, 2.2842809492829614], \"arrayminus\": [0.2424540357408399, 0.6522854790578275, 1.0116916589113134, 1.298281641229974, 1.6683880957439114, 2.051355993973612], \"symmetric\": false, \"thickness\": 4, \"type\": \"data\", \"visible\": true}, \"line\": {\"color\": \"#C2E699\", \"width\": 4}, \"name\": \"30\", \"showlegend\": true, \"type\": \"scatter\", \"x\": [0.0, 0.01, 0.02, 0.030000000000000002, 0.04, 0.05], \"xaxis\": \"x3\", \"y\": [-0.7552837524467293, -1.2234196131891237, -1.697341854635064, -2.1992334431413356, -2.610700847898578, -3.4335893542850044], \"yaxis\": \"y3\"}],                        {\"annotations\": [{\"font\": {\"size\": 16}, \"showarrow\": false, \"text\": \"$\\\\widehat{k_{ep,RR}}$\", \"x\": 0.14444444444444446, \"xanchor\": \"center\", \"xref\": \"paper\", \"y\": 1.0, \"yanchor\": \"bottom\", \"yref\": \"paper\"}, {\"font\": {\"size\": 16}, \"showarrow\": false, \"text\": \"$K^{trans}_{RR}$\", \"x\": 0.5, \"xanchor\": \"center\", \"xref\": \"paper\", \"y\": 1.0, \"yanchor\": \"bottom\", \"yref\": \"paper\"}, {\"font\": {\"size\": 16}, \"showarrow\": false, \"text\": \"$V_{e,RR}$\", \"x\": 0.8555555555555556, \"xanchor\": \"center\", \"xref\": \"paper\", \"y\": 1.0, \"yanchor\": \"bottom\", \"yref\": \"paper\"}], \"plot_bgcolor\": \"#ffffff\", \"template\": {\"data\": {\"bar\": [{\"error_x\": {\"color\": \"#2a3f5f\"}, \"error_y\": {\"color\": \"#2a3f5f\"}, \"marker\": {\"line\": {\"color\": \"#E5ECF6\", \"width\": 0.5}}, \"type\": \"bar\"}], \"barpolar\": [{\"marker\": {\"line\": {\"color\": \"#E5ECF6\", \"width\": 0.5}}, \"type\": \"barpolar\"}], \"carpet\": [{\"aaxis\": {\"endlinecolor\": \"#2a3f5f\", \"gridcolor\": \"white\", \"linecolor\": \"white\", \"minorgridcolor\": \"white\", \"startlinecolor\": \"#2a3f5f\"}, \"baxis\": {\"endlinecolor\": \"#2a3f5f\", \"gridcolor\": \"white\", \"linecolor\": \"white\", \"minorgridcolor\": \"white\", \"startlinecolor\": \"#2a3f5f\"}, \"type\": \"carpet\"}], \"choropleth\": [{\"colorbar\": {\"outlinewidth\": 0, \"ticks\": \"\"}, \"type\": \"choropleth\"}], \"contour\": [{\"colorbar\": {\"outlinewidth\": 0, \"ticks\": \"\"}, \"colorscale\": [[0.0, \"#0d0887\"], [0.1111111111111111, \"#46039f\"], [0.2222222222222222, \"#7201a8\"], [0.3333333333333333, \"#9c179e\"], [0.4444444444444444, \"#bd3786\"], [0.5555555555555556, \"#d8576b\"], [0.6666666666666666, \"#ed7953\"], [0.7777777777777778, \"#fb9f3a\"], [0.8888888888888888, \"#fdca26\"], [1.0, \"#f0f921\"]], \"type\": \"contour\"}], \"contourcarpet\": [{\"colorbar\": {\"outlinewidth\": 0, \"ticks\": \"\"}, \"type\": \"contourcarpet\"}], \"heatmap\": [{\"colorbar\": {\"outlinewidth\": 0, \"ticks\": \"\"}, \"colorscale\": [[0.0, \"#0d0887\"], [0.1111111111111111, \"#46039f\"], [0.2222222222222222, \"#7201a8\"], [0.3333333333333333, \"#9c179e\"], [0.4444444444444444, \"#bd3786\"], [0.5555555555555556, \"#d8576b\"], [0.6666666666666666, \"#ed7953\"], [0.7777777777777778, \"#fb9f3a\"], [0.8888888888888888, \"#fdca26\"], [1.0, \"#f0f921\"]], \"type\": \"heatmap\"}], \"heatmapgl\": [{\"colorbar\": {\"outlinewidth\": 0, \"ticks\": \"\"}, \"colorscale\": [[0.0, \"#0d0887\"], [0.1111111111111111, \"#46039f\"], [0.2222222222222222, \"#7201a8\"], [0.3333333333333333, \"#9c179e\"], [0.4444444444444444, \"#bd3786\"], [0.5555555555555556, \"#d8576b\"], [0.6666666666666666, \"#ed7953\"], [0.7777777777777778, \"#fb9f3a\"], [0.8888888888888888, \"#fdca26\"], [1.0, \"#f0f921\"]], \"type\": \"heatmapgl\"}], \"histogram\": [{\"marker\": {\"colorbar\": {\"outlinewidth\": 0, \"ticks\": \"\"}}, \"type\": \"histogram\"}], \"histogram2d\": [{\"colorbar\": {\"outlinewidth\": 0, \"ticks\": \"\"}, \"colorscale\": [[0.0, \"#0d0887\"], [0.1111111111111111, \"#46039f\"], [0.2222222222222222, \"#7201a8\"], [0.3333333333333333, \"#9c179e\"], [0.4444444444444444, \"#bd3786\"], [0.5555555555555556, \"#d8576b\"], [0.6666666666666666, \"#ed7953\"], [0.7777777777777778, \"#fb9f3a\"], [0.8888888888888888, \"#fdca26\"], [1.0, \"#f0f921\"]], \"type\": \"histogram2d\"}], \"histogram2dcontour\": [{\"colorbar\": {\"outlinewidth\": 0, \"ticks\": \"\"}, \"colorscale\": [[0.0, \"#0d0887\"], [0.1111111111111111, \"#46039f\"], [0.2222222222222222, \"#7201a8\"], [0.3333333333333333, \"#9c179e\"], [0.4444444444444444, \"#bd3786\"], [0.5555555555555556, \"#d8576b\"], [0.6666666666666666, \"#ed7953\"], [0.7777777777777778, \"#fb9f3a\"], [0.8888888888888888, \"#fdca26\"], [1.0, \"#f0f921\"]], \"type\": \"histogram2dcontour\"}], \"mesh3d\": [{\"colorbar\": {\"outlinewidth\": 0, \"ticks\": \"\"}, \"type\": \"mesh3d\"}], \"parcoords\": [{\"line\": {\"colorbar\": {\"outlinewidth\": 0, \"ticks\": \"\"}}, \"type\": \"parcoords\"}], \"pie\": [{\"automargin\": true, \"type\": \"pie\"}], \"scatter\": [{\"marker\": {\"colorbar\": {\"outlinewidth\": 0, \"ticks\": \"\"}}, \"type\": \"scatter\"}], \"scatter3d\": [{\"line\": {\"colorbar\": {\"outlinewidth\": 0, \"ticks\": \"\"}}, \"marker\": {\"colorbar\": {\"outlinewidth\": 0, \"ticks\": \"\"}}, \"type\": \"scatter3d\"}], \"scattercarpet\": [{\"marker\": {\"colorbar\": {\"outlinewidth\": 0, \"ticks\": \"\"}}, \"type\": \"scattercarpet\"}], \"scattergeo\": [{\"marker\": {\"colorbar\": {\"outlinewidth\": 0, \"ticks\": \"\"}}, \"type\": \"scattergeo\"}], \"scattergl\": [{\"marker\": {\"colorbar\": {\"outlinewidth\": 0, \"ticks\": \"\"}}, \"type\": \"scattergl\"}], \"scattermapbox\": [{\"marker\": {\"colorbar\": {\"outlinewidth\": 0, \"ticks\": \"\"}}, \"type\": \"scattermapbox\"}], \"scatterpolar\": [{\"marker\": {\"colorbar\": {\"outlinewidth\": 0, \"ticks\": \"\"}}, \"type\": \"scatterpolar\"}], \"scatterpolargl\": [{\"marker\": {\"colorbar\": {\"outlinewidth\": 0, \"ticks\": \"\"}}, \"type\": \"scatterpolargl\"}], \"scatterternary\": [{\"marker\": {\"colorbar\": {\"outlinewidth\": 0, \"ticks\": \"\"}}, \"type\": \"scatterternary\"}], \"surface\": [{\"colorbar\": {\"outlinewidth\": 0, \"ticks\": \"\"}, \"colorscale\": [[0.0, \"#0d0887\"], [0.1111111111111111, \"#46039f\"], [0.2222222222222222, \"#7201a8\"], [0.3333333333333333, \"#9c179e\"], [0.4444444444444444, \"#bd3786\"], [0.5555555555555556, \"#d8576b\"], [0.6666666666666666, \"#ed7953\"], [0.7777777777777778, \"#fb9f3a\"], [0.8888888888888888, \"#fdca26\"], [1.0, \"#f0f921\"]], \"type\": \"surface\"}], \"table\": [{\"cells\": {\"fill\": {\"color\": \"#EBF0F8\"}, \"line\": {\"color\": \"white\"}}, \"header\": {\"fill\": {\"color\": \"#C8D4E3\"}, \"line\": {\"color\": \"white\"}}, \"type\": \"table\"}]}, \"layout\": {\"annotationdefaults\": {\"arrowcolor\": \"#2a3f5f\", \"arrowhead\": 0, \"arrowwidth\": 1}, \"autotypenumbers\": \"strict\", \"coloraxis\": {\"colorbar\": {\"outlinewidth\": 0, \"ticks\": \"\"}}, \"colorscale\": {\"diverging\": [[0, \"#8e0152\"], [0.1, \"#c51b7d\"], [0.2, \"#de77ae\"], [0.3, \"#f1b6da\"], [0.4, \"#fde0ef\"], [0.5, \"#f7f7f7\"], [0.6, \"#e6f5d0\"], [0.7, \"#b8e186\"], [0.8, \"#7fbc41\"], [0.9, \"#4d9221\"], [1, \"#276419\"]], \"sequential\": [[0.0, \"#0d0887\"], [0.1111111111111111, \"#46039f\"], [0.2222222222222222, \"#7201a8\"], [0.3333333333333333, \"#9c179e\"], [0.4444444444444444, \"#bd3786\"], [0.5555555555555556, \"#d8576b\"], [0.6666666666666666, \"#ed7953\"], [0.7777777777777778, \"#fb9f3a\"], [0.8888888888888888, \"#fdca26\"], [1.0, \"#f0f921\"]], \"sequentialminus\": [[0.0, \"#0d0887\"], [0.1111111111111111, \"#46039f\"], [0.2222222222222222, \"#7201a8\"], [0.3333333333333333, \"#9c179e\"], [0.4444444444444444, \"#bd3786\"], [0.5555555555555556, \"#d8576b\"], [0.6666666666666666, \"#ed7953\"], [0.7777777777777778, \"#fb9f3a\"], [0.8888888888888888, \"#fdca26\"], [1.0, \"#f0f921\"]]}, \"colorway\": [\"#636efa\", \"#EF553B\", \"#00cc96\", \"#ab63fa\", \"#FFA15A\", \"#19d3f3\", \"#FF6692\", \"#B6E880\", \"#FF97FF\", \"#FECB52\"], \"font\": {\"color\": \"#2a3f5f\"}, \"geo\": {\"bgcolor\": \"white\", \"lakecolor\": \"white\", \"landcolor\": \"#E5ECF6\", \"showlakes\": true, \"showland\": true, \"subunitcolor\": \"white\"}, \"hoverlabel\": {\"align\": \"left\"}, \"hovermode\": \"closest\", \"mapbox\": {\"style\": \"light\"}, \"paper_bgcolor\": \"white\", \"plot_bgcolor\": \"#E5ECF6\", \"polar\": {\"angularaxis\": {\"gridcolor\": \"white\", \"linecolor\": \"white\", \"ticks\": \"\"}, \"bgcolor\": \"#E5ECF6\", \"radialaxis\": {\"gridcolor\": \"white\", \"linecolor\": \"white\", \"ticks\": \"\"}}, \"scene\": {\"xaxis\": {\"backgroundcolor\": \"#E5ECF6\", \"gridcolor\": \"white\", \"gridwidth\": 2, \"linecolor\": \"white\", \"showbackground\": true, \"ticks\": \"\", \"zerolinecolor\": \"white\"}, \"yaxis\": {\"backgroundcolor\": \"#E5ECF6\", \"gridcolor\": \"white\", \"gridwidth\": 2, \"linecolor\": \"white\", \"showbackground\": true, \"ticks\": \"\", \"zerolinecolor\": \"white\"}, \"zaxis\": {\"backgroundcolor\": \"#E5ECF6\", \"gridcolor\": \"white\", \"gridwidth\": 2, \"linecolor\": \"white\", \"showbackground\": true, \"ticks\": \"\", \"zerolinecolor\": \"white\"}}, \"shapedefaults\": {\"line\": {\"color\": \"#2a3f5f\"}}, \"ternary\": {\"aaxis\": {\"gridcolor\": \"white\", \"linecolor\": \"white\", \"ticks\": \"\"}, \"baxis\": {\"gridcolor\": \"white\", \"linecolor\": \"white\", \"ticks\": \"\"}, \"bgcolor\": \"#E5ECF6\", \"caxis\": {\"gridcolor\": \"white\", \"linecolor\": \"white\", \"ticks\": \"\"}}, \"title\": {\"x\": 0.05}, \"xaxis\": {\"automargin\": true, \"gridcolor\": \"white\", \"linecolor\": \"white\", \"ticks\": \"\", \"title\": {\"standoff\": 15}, \"zerolinecolor\": \"white\", \"zerolinewidth\": 2}, \"yaxis\": {\"automargin\": true, \"gridcolor\": \"white\", \"linecolor\": \"white\", \"ticks\": \"\", \"title\": {\"standoff\": 15}, \"zerolinecolor\": \"white\", \"zerolinewidth\": 2}}}, \"xaxis\": {\"anchor\": \"y\", \"domain\": [0.0, 0.2888888888888889], \"title\": {\"text\": \"$\\\\sigma_{noise}[Mm]$\"}}, \"xaxis2\": {\"anchor\": \"y2\", \"domain\": [0.35555555555555557, 0.6444444444444445], \"title\": {\"text\": \"$\\\\sigma_{noise}[Mm]$\"}}, \"xaxis3\": {\"anchor\": \"y3\", \"domain\": [0.7111111111111111, 1.0], \"title\": {\"text\": \"$\\\\sigma_{noise}[Mm]$\"}}, \"yaxis\": {\"anchor\": \"x\", \"domain\": [0.0, 1.0], \"range\": [-35, 5], \"showline\": true, \"tickvals\": [-35, -30, -25, -20, -15, -10, -5, 0, 5], \"title\": {\"text\": \"$Percent Error$\"}}, \"yaxis2\": {\"anchor\": \"x2\", \"domain\": [0.0, 1.0], \"range\": [-35, 5], \"tickvals\": [-35, -30, -25, -20, -15, -10, -5, 0, 5]}, \"yaxis3\": {\"anchor\": \"x3\", \"domain\": [0.0, 1.0], \"range\": [-35, 5], \"tickvals\": [-35, -30, -25, -20, -15, -10, -5, 0, 5]}},                        {\"responsive\": true}                    ).then(function(){\n",
       "                            \n",
       "var gd = document.getElementById('5e6ecf8f-a165-4bfe-b16f-21de35779f5d');\n",
       "var x = new MutationObserver(function (mutations, observer) {{\n",
       "        var display = window.getComputedStyle(gd).display;\n",
       "        if (!display || display === 'none') {{\n",
       "            console.log([gd, 'removed!']);\n",
       "            Plotly.purge(gd);\n",
       "            observer.disconnect();\n",
       "        }}\n",
       "}});\n",
       "\n",
       "// Listen for the removal of the full notebook cells\n",
       "var notebookContainer = gd.closest('#notebook-container');\n",
       "if (notebookContainer) {{\n",
       "    x.observe(notebookContainer, {childList: true});\n",
       "}}\n",
       "\n",
       "// Listen for the clearing of the current output cell\n",
       "var outputEl = gd.closest('.output');\n",
       "if (outputEl) {{\n",
       "    x.observe(outputEl, {childList: true});\n",
       "}}\n",
       "\n",
       "                        })                };                });            </script>        </div>"
      ]
     },
     "metadata": {},
     "output_type": "display_data"
    }
   ],
   "source": [
    "%get listSigmaC --from MATLAB\n",
    "%get curErr --from MATLAB\n",
    "%get errQt --from MATLAB\n",
    "%get errMd --from MATLAB\n",
    "%get curErr1 --from MATLAB\n",
    "%get errQt1 --from MATLAB\n",
    "%get errMd1 --from MATLAB\n",
    "%get curErr2 --from MATLAB\n",
    "%get errQt2 --from MATLAB\n",
    "%get errMd2 --from MATLAB\n",
    "\n",
    "# i think the imports can be commented out, we have a seperate cell for them\n",
    "# import plotly.graph_objects as go\n",
    "# import numpy as np\n",
    "# from itertools import cycle\n",
    "# from plotly.subplots import make_subplots\n",
    "\n",
    "\n",
    "\n",
    "fig = make_subplots(rows=1, cols=3, \n",
    "                    subplot_titles=(r'$\\widehat{k_{ep,RR}}$', r'$K^{trans}_{RR}$', r'$V_{e,RR}$'),\n",
    "                    )\n",
    "\n",
    "# First subplot \n",
    "# TODO: Add the dashed line at (0,0) if possible???\n",
    "line_colours = cycle(['#006837','#31A354','#78C679','#C2E699'])\n",
    "\n",
    "for i in range(0,4):\n",
    "    finalErrMd=np.squeeze(np.asarray((np.reshape(errMd[i,:], 6))))\n",
    "    # take another look here - is it errorQt[i,:,1] because MATLAB indexing starts from 1,\n",
    "    # or is it just like in MATLAB?\n",
    "    finalErrorDiff=np.squeeze(np.asarray((np.reshape(abs(errQt[i,:,0]-errMd[i,:]), 6))))\n",
    "    finalErrorDiffMinus=np.squeeze(np.asarray((np.reshape(abs(errQt[i,:,1]-errMd[i,:]), 6))))\n",
    "    fig.add_trace(go.Scatter(\n",
    "        x=listSigmaC,\n",
    "        y=finalErrMd,\n",
    "        error_y=dict(\n",
    "            type='data', # value of error bar given in data coordinates\n",
    "            array=finalErrorDiff,\n",
    "            arrayminus=finalErrorDiffMinus,\n",
    "            symmetric=False,\n",
    "            visible=True,\n",
    "            thickness=4),\n",
    "        line_color=next(line_colours),\n",
    "        line_width=4, showlegend=False\n",
    "    ),row=1, col=1)\n",
    "    \n",
    "\n",
    "\n",
    "\n",
    "# Second subplot\n",
    "\n",
    "line_colours = cycle(['#006837','#31A354','#78C679','#C2E699'])\n",
    "\n",
    "for i in range(0,4):\n",
    "    finalErrMd1=np.squeeze(np.asarray((np.reshape(errMd1[i,:], 6))))\n",
    "    \n",
    "    finalErrorDiff1=np.squeeze(np.asarray((np.reshape(abs(errQt1[i,:,0]-errMd1[i,:]), 6))))\n",
    "    finalErrorDiffMinus1=np.squeeze(np.asarray((np.reshape(abs(errQt1[i,:,1]-errMd1[i,:]), 6))))\n",
    "    fig.add_trace(go.Scatter(\n",
    "        x=listSigmaC,\n",
    "        y=finalErrMd1,\n",
    "        error_y=dict(\n",
    "            type='data', # value of error bar given in data coordinates\n",
    "            array=finalErrorDiff1,\n",
    "            arrayminus=finalErrorDiffMinus1,\n",
    "            symmetric=False,\n",
    "            visible=True,\n",
    "            thickness=4),\n",
    "        line_color=next(line_colours),\n",
    "        line_width=4, showlegend=False       \n",
    "    ),row=1, col=2)\n",
    "\n",
    "\n",
    "\n",
    "\n",
    "# Third subplot\n",
    "\n",
    "legend_values=cycle(['5','10','15','30'])\n",
    "\n",
    "    \n",
    "line_colours = cycle(['#006837','#31A354','#78C679','#C2E699'])\n",
    "\n",
    "for i in range(0,4):\n",
    "    finalErrMd2=np.squeeze(np.asarray((np.reshape(errMd2[i,:], 6))))\n",
    "    \n",
    "    finalErrorDiff2=np.squeeze(np.asarray((np.reshape(abs(errQt2[i,:,0]-errMd2[i,:]), 6))))\n",
    "    finalErrorDiffMinus2=np.squeeze(np.asarray((np.reshape(abs(errQt2[i,:,1]-errMd2[i,:]), 6))))\n",
    "    fig.add_trace(go.Scatter(\n",
    "        x=listSigmaC,\n",
    "        y=finalErrMd2,\n",
    "        error_y=dict(\n",
    "            type='data', # value of error bar given in data coordinates\n",
    "            array=finalErrorDiff2,\n",
    "            arrayminus=finalErrorDiffMinus2,\n",
    "            symmetric=False,\n",
    "            visible=True,\n",
    "            thickness=4),\n",
    "        line_color=next(line_colours),\n",
    "        line_width=4, showlegend=True, name=next(legend_values)      \n",
    "    ),row=1, col=3)\n",
    "\n",
    "# General\n",
    "# TODO: make all 3 y axes have the same range (from -35 to 5)\n",
    "\n",
    "fig.update_xaxes(title_text=r'$\\sigma_{noise}[Mm]$')\n",
    "\n",
    "fig.update_yaxes(range=[-35,5], tickvals=[-35,-30,-25,-20,-15,-10,-5,0,5], row=1, col=1)\n",
    "fig.update_yaxes(range=[-35,5], tickvals=[-35,-30,-25,-20,-15,-10,-5,0,5], row=1, col=2)\n",
    "fig.update_yaxes(range=[-35,5], tickvals=[-35,-30,-25,-20,-15,-10,-5,0,5], row=1, col=3)\n",
    "\n",
    "fig.update_layout(yaxis=dict(title=r'$Percent Error$',\n",
    "                             showline=True), \n",
    "                  plot_bgcolor='#ffffff',\n",
    ")\n",
    "\n",
    "fig.show()\n",
    "\n",
    "\n",
    "\n",
    "\n"
   ]
  },
  {
   "cell_type": "markdown",
   "metadata": {
    "kernel": "SoS"
   },
   "source": [
    "### Subfigures with sliders \n",
    "\n",
    "* $\\widehat{k_{ep,RR}}$ <a name=\"fig-3-1\"></a>"
   ]
  },
  {
   "cell_type": "code",
   "execution_count": 13,
   "metadata": {
    "kernel": "SoS",
    "scrolled": false
   },
   "outputs": [
    {
     "data": {
      "application/vnd.plotly.v1+json": {
       "config": {
        "plotlyServerURL": "https://plot.ly"
       },
       "data": [
        {
         "error_y": {
          "array": [
           0.03388139495298925,
           0.7404281711346938,
           1.4658835655797455,
           2.129988761342605,
           2.660829314126473,
           3.016120656885529
          ],
          "arrayminus": [
           0.03991063959919994,
           0.7324514722922115,
           1.5825915928927126,
           2.1019365644807717,
           2.45474965074789,
           3.008280181452816
          ],
          "symmetric": false,
          "thickness": 4,
          "type": "data",
          "visible": true
         },
         "line": {
          "color": "#006837",
          "width": 4
         },
         "showlegend": false,
         "type": "scatter",
         "visible": true,
         "x": [
          0,
          0.01,
          0.02,
          0.030000000000000002,
          0.04,
          0.05
         ],
         "y": [
          -0.04747548340481855,
          -0.6308295631378968,
          -1.6567340832072786,
          -2.8054493607440945,
          -3.6836849713625943,
          -4.975374394849497
         ]
        },
        {
         "error_y": {
          "array": [
           0.4277464509514939,
           1.2560218129175849,
           1.9880118920301335,
           3.2227744269238023,
           3.755097657175998,
           3.2998920988873977
          ],
          "arrayminus": [
           0.3607453075580913,
           1.308007924190474,
           2.2136205789399788,
           2.780317074085609,
           3.3913166621801167,
           3.9727700216417077
          ],
          "symmetric": false,
          "thickness": 4,
          "type": "data",
          "visible": true
         },
         "line": {
          "color": "#31A354",
          "width": 4
         },
         "showlegend": false,
         "type": "scatter",
         "visible": false,
         "x": [
          0,
          0.01,
          0.02,
          0.030000000000000002,
          0.04,
          0.05
         ],
         "y": [
          -0.2986318818728184,
          -1.3946955753039614,
          -2.724839365549836,
          -3.6806795407376747,
          -5.758618691497109,
          -8.812282777007058
         ]
        },
        {
         "error_y": {
          "array": [
           0.9370348617132152,
           1.9398213719655004,
           2.927532083544132,
           3.410028193781095,
           3.7740218137168444,
           4.492239530887783
          ],
          "arrayminus": [
           0.8652251872720007,
           1.905923492675099,
           2.8108260048883063,
           3.403025938670911,
           3.7731314318001363,
           4.196564304365684
          ],
          "symmetric": false,
          "thickness": 4,
          "type": "data",
          "visible": true
         },
         "line": {
          "color": "#78C679",
          "width": 4
         },
         "showlegend": false,
         "type": "scatter",
         "visible": false,
         "x": [
          0,
          0.01,
          0.02,
          0.030000000000000002,
          0.04,
          0.05
         ],
         "y": [
          -0.8457073530692027,
          -2.0758457285490195,
          -3.1512208895249474,
          -5.269536609424518,
          -7.973999490010042,
          -10.334319490708559
         ]
        },
        {
         "error_y": {
          "array": [
           1.1335727023198516,
           2.5229083167114528,
           3.8737304430633674,
           4.485306162005974,
           4.887906186538647,
           5.406392513182912
          ],
          "arrayminus": [
           1.2346075421084457,
           2.687406842837115,
           3.7906620271234366,
           4.424035689139599,
           4.82989241413193,
           5.31934866289318
          ],
          "symmetric": false,
          "thickness": 4,
          "type": "data",
          "visible": true
         },
         "line": {
          "color": "#C2E699",
          "width": 4
         },
         "showlegend": false,
         "type": "scatter",
         "visible": false,
         "x": [
          0,
          0.01,
          0.02,
          0.030000000000000002,
          0.04,
          0.05
         ],
         "y": [
          -3.307880273248387,
          -5.731790258306175,
          -7.677269738095182,
          -9.695654042240742,
          -12.052555466436065,
          -14.7560365591039
         ]
        }
       ],
       "layout": {
        "legend": {
         "x": 0.3,
         "xanchor": "right",
         "y": 0.2,
         "yanchor": "bottom"
        },
        "plot_bgcolor": "#ffffff",
        "sliders": [
         {
          "active": 4,
          "currentvalue": {
           "prefix": "Temporal resolution [seconds]: "
          },
          "pad": {
           "t": 70
          },
          "steps": [
           {
            "args": [
             {
              "visible": [
               true,
               false,
               false,
               false
              ]
             }
            ],
            "label": "5",
            "method": "update",
            "value": "5"
           },
           {
            "args": [
             {
              "visible": [
               false,
               true,
               false,
               false
              ]
             }
            ],
            "label": "10",
            "method": "update",
            "value": "10"
           },
           {
            "args": [
             {
              "visible": [
               false,
               false,
               true,
               false
              ]
             }
            ],
            "label": "15",
            "method": "update",
            "value": "15"
           },
           {
            "args": [
             {
              "visible": [
               false,
               false,
               false,
               true
              ]
             }
            ],
            "label": "30",
            "method": "update",
            "value": "30"
           }
          ]
         }
        ],
        "template": {
         "data": {
          "bar": [
           {
            "error_x": {
             "color": "#2a3f5f"
            },
            "error_y": {
             "color": "#2a3f5f"
            },
            "marker": {
             "line": {
              "color": "#E5ECF6",
              "width": 0.5
             }
            },
            "type": "bar"
           }
          ],
          "barpolar": [
           {
            "marker": {
             "line": {
              "color": "#E5ECF6",
              "width": 0.5
             }
            },
            "type": "barpolar"
           }
          ],
          "carpet": [
           {
            "aaxis": {
             "endlinecolor": "#2a3f5f",
             "gridcolor": "white",
             "linecolor": "white",
             "minorgridcolor": "white",
             "startlinecolor": "#2a3f5f"
            },
            "baxis": {
             "endlinecolor": "#2a3f5f",
             "gridcolor": "white",
             "linecolor": "white",
             "minorgridcolor": "white",
             "startlinecolor": "#2a3f5f"
            },
            "type": "carpet"
           }
          ],
          "choropleth": [
           {
            "colorbar": {
             "outlinewidth": 0,
             "ticks": ""
            },
            "type": "choropleth"
           }
          ],
          "contour": [
           {
            "colorbar": {
             "outlinewidth": 0,
             "ticks": ""
            },
            "colorscale": [
             [
              0,
              "#0d0887"
             ],
             [
              0.1111111111111111,
              "#46039f"
             ],
             [
              0.2222222222222222,
              "#7201a8"
             ],
             [
              0.3333333333333333,
              "#9c179e"
             ],
             [
              0.4444444444444444,
              "#bd3786"
             ],
             [
              0.5555555555555556,
              "#d8576b"
             ],
             [
              0.6666666666666666,
              "#ed7953"
             ],
             [
              0.7777777777777778,
              "#fb9f3a"
             ],
             [
              0.8888888888888888,
              "#fdca26"
             ],
             [
              1,
              "#f0f921"
             ]
            ],
            "type": "contour"
           }
          ],
          "contourcarpet": [
           {
            "colorbar": {
             "outlinewidth": 0,
             "ticks": ""
            },
            "type": "contourcarpet"
           }
          ],
          "heatmap": [
           {
            "colorbar": {
             "outlinewidth": 0,
             "ticks": ""
            },
            "colorscale": [
             [
              0,
              "#0d0887"
             ],
             [
              0.1111111111111111,
              "#46039f"
             ],
             [
              0.2222222222222222,
              "#7201a8"
             ],
             [
              0.3333333333333333,
              "#9c179e"
             ],
             [
              0.4444444444444444,
              "#bd3786"
             ],
             [
              0.5555555555555556,
              "#d8576b"
             ],
             [
              0.6666666666666666,
              "#ed7953"
             ],
             [
              0.7777777777777778,
              "#fb9f3a"
             ],
             [
              0.8888888888888888,
              "#fdca26"
             ],
             [
              1,
              "#f0f921"
             ]
            ],
            "type": "heatmap"
           }
          ],
          "heatmapgl": [
           {
            "colorbar": {
             "outlinewidth": 0,
             "ticks": ""
            },
            "colorscale": [
             [
              0,
              "#0d0887"
             ],
             [
              0.1111111111111111,
              "#46039f"
             ],
             [
              0.2222222222222222,
              "#7201a8"
             ],
             [
              0.3333333333333333,
              "#9c179e"
             ],
             [
              0.4444444444444444,
              "#bd3786"
             ],
             [
              0.5555555555555556,
              "#d8576b"
             ],
             [
              0.6666666666666666,
              "#ed7953"
             ],
             [
              0.7777777777777778,
              "#fb9f3a"
             ],
             [
              0.8888888888888888,
              "#fdca26"
             ],
             [
              1,
              "#f0f921"
             ]
            ],
            "type": "heatmapgl"
           }
          ],
          "histogram": [
           {
            "marker": {
             "colorbar": {
              "outlinewidth": 0,
              "ticks": ""
             }
            },
            "type": "histogram"
           }
          ],
          "histogram2d": [
           {
            "colorbar": {
             "outlinewidth": 0,
             "ticks": ""
            },
            "colorscale": [
             [
              0,
              "#0d0887"
             ],
             [
              0.1111111111111111,
              "#46039f"
             ],
             [
              0.2222222222222222,
              "#7201a8"
             ],
             [
              0.3333333333333333,
              "#9c179e"
             ],
             [
              0.4444444444444444,
              "#bd3786"
             ],
             [
              0.5555555555555556,
              "#d8576b"
             ],
             [
              0.6666666666666666,
              "#ed7953"
             ],
             [
              0.7777777777777778,
              "#fb9f3a"
             ],
             [
              0.8888888888888888,
              "#fdca26"
             ],
             [
              1,
              "#f0f921"
             ]
            ],
            "type": "histogram2d"
           }
          ],
          "histogram2dcontour": [
           {
            "colorbar": {
             "outlinewidth": 0,
             "ticks": ""
            },
            "colorscale": [
             [
              0,
              "#0d0887"
             ],
             [
              0.1111111111111111,
              "#46039f"
             ],
             [
              0.2222222222222222,
              "#7201a8"
             ],
             [
              0.3333333333333333,
              "#9c179e"
             ],
             [
              0.4444444444444444,
              "#bd3786"
             ],
             [
              0.5555555555555556,
              "#d8576b"
             ],
             [
              0.6666666666666666,
              "#ed7953"
             ],
             [
              0.7777777777777778,
              "#fb9f3a"
             ],
             [
              0.8888888888888888,
              "#fdca26"
             ],
             [
              1,
              "#f0f921"
             ]
            ],
            "type": "histogram2dcontour"
           }
          ],
          "mesh3d": [
           {
            "colorbar": {
             "outlinewidth": 0,
             "ticks": ""
            },
            "type": "mesh3d"
           }
          ],
          "parcoords": [
           {
            "line": {
             "colorbar": {
              "outlinewidth": 0,
              "ticks": ""
             }
            },
            "type": "parcoords"
           }
          ],
          "pie": [
           {
            "automargin": true,
            "type": "pie"
           }
          ],
          "scatter": [
           {
            "marker": {
             "colorbar": {
              "outlinewidth": 0,
              "ticks": ""
             }
            },
            "type": "scatter"
           }
          ],
          "scatter3d": [
           {
            "line": {
             "colorbar": {
              "outlinewidth": 0,
              "ticks": ""
             }
            },
            "marker": {
             "colorbar": {
              "outlinewidth": 0,
              "ticks": ""
             }
            },
            "type": "scatter3d"
           }
          ],
          "scattercarpet": [
           {
            "marker": {
             "colorbar": {
              "outlinewidth": 0,
              "ticks": ""
             }
            },
            "type": "scattercarpet"
           }
          ],
          "scattergeo": [
           {
            "marker": {
             "colorbar": {
              "outlinewidth": 0,
              "ticks": ""
             }
            },
            "type": "scattergeo"
           }
          ],
          "scattergl": [
           {
            "marker": {
             "colorbar": {
              "outlinewidth": 0,
              "ticks": ""
             }
            },
            "type": "scattergl"
           }
          ],
          "scattermapbox": [
           {
            "marker": {
             "colorbar": {
              "outlinewidth": 0,
              "ticks": ""
             }
            },
            "type": "scattermapbox"
           }
          ],
          "scatterpolar": [
           {
            "marker": {
             "colorbar": {
              "outlinewidth": 0,
              "ticks": ""
             }
            },
            "type": "scatterpolar"
           }
          ],
          "scatterpolargl": [
           {
            "marker": {
             "colorbar": {
              "outlinewidth": 0,
              "ticks": ""
             }
            },
            "type": "scatterpolargl"
           }
          ],
          "scatterternary": [
           {
            "marker": {
             "colorbar": {
              "outlinewidth": 0,
              "ticks": ""
             }
            },
            "type": "scatterternary"
           }
          ],
          "surface": [
           {
            "colorbar": {
             "outlinewidth": 0,
             "ticks": ""
            },
            "colorscale": [
             [
              0,
              "#0d0887"
             ],
             [
              0.1111111111111111,
              "#46039f"
             ],
             [
              0.2222222222222222,
              "#7201a8"
             ],
             [
              0.3333333333333333,
              "#9c179e"
             ],
             [
              0.4444444444444444,
              "#bd3786"
             ],
             [
              0.5555555555555556,
              "#d8576b"
             ],
             [
              0.6666666666666666,
              "#ed7953"
             ],
             [
              0.7777777777777778,
              "#fb9f3a"
             ],
             [
              0.8888888888888888,
              "#fdca26"
             ],
             [
              1,
              "#f0f921"
             ]
            ],
            "type": "surface"
           }
          ],
          "table": [
           {
            "cells": {
             "fill": {
              "color": "#EBF0F8"
             },
             "line": {
              "color": "white"
             }
            },
            "header": {
             "fill": {
              "color": "#C8D4E3"
             },
             "line": {
              "color": "white"
             }
            },
            "type": "table"
           }
          ]
         },
         "layout": {
          "annotationdefaults": {
           "arrowcolor": "#2a3f5f",
           "arrowhead": 0,
           "arrowwidth": 1
          },
          "autotypenumbers": "strict",
          "coloraxis": {
           "colorbar": {
            "outlinewidth": 0,
            "ticks": ""
           }
          },
          "colorscale": {
           "diverging": [
            [
             0,
             "#8e0152"
            ],
            [
             0.1,
             "#c51b7d"
            ],
            [
             0.2,
             "#de77ae"
            ],
            [
             0.3,
             "#f1b6da"
            ],
            [
             0.4,
             "#fde0ef"
            ],
            [
             0.5,
             "#f7f7f7"
            ],
            [
             0.6,
             "#e6f5d0"
            ],
            [
             0.7,
             "#b8e186"
            ],
            [
             0.8,
             "#7fbc41"
            ],
            [
             0.9,
             "#4d9221"
            ],
            [
             1,
             "#276419"
            ]
           ],
           "sequential": [
            [
             0,
             "#0d0887"
            ],
            [
             0.1111111111111111,
             "#46039f"
            ],
            [
             0.2222222222222222,
             "#7201a8"
            ],
            [
             0.3333333333333333,
             "#9c179e"
            ],
            [
             0.4444444444444444,
             "#bd3786"
            ],
            [
             0.5555555555555556,
             "#d8576b"
            ],
            [
             0.6666666666666666,
             "#ed7953"
            ],
            [
             0.7777777777777778,
             "#fb9f3a"
            ],
            [
             0.8888888888888888,
             "#fdca26"
            ],
            [
             1,
             "#f0f921"
            ]
           ],
           "sequentialminus": [
            [
             0,
             "#0d0887"
            ],
            [
             0.1111111111111111,
             "#46039f"
            ],
            [
             0.2222222222222222,
             "#7201a8"
            ],
            [
             0.3333333333333333,
             "#9c179e"
            ],
            [
             0.4444444444444444,
             "#bd3786"
            ],
            [
             0.5555555555555556,
             "#d8576b"
            ],
            [
             0.6666666666666666,
             "#ed7953"
            ],
            [
             0.7777777777777778,
             "#fb9f3a"
            ],
            [
             0.8888888888888888,
             "#fdca26"
            ],
            [
             1,
             "#f0f921"
            ]
           ]
          },
          "colorway": [
           "#636efa",
           "#EF553B",
           "#00cc96",
           "#ab63fa",
           "#FFA15A",
           "#19d3f3",
           "#FF6692",
           "#B6E880",
           "#FF97FF",
           "#FECB52"
          ],
          "font": {
           "color": "#2a3f5f"
          },
          "geo": {
           "bgcolor": "white",
           "lakecolor": "white",
           "landcolor": "#E5ECF6",
           "showlakes": true,
           "showland": true,
           "subunitcolor": "white"
          },
          "hoverlabel": {
           "align": "left"
          },
          "hovermode": "closest",
          "mapbox": {
           "style": "light"
          },
          "paper_bgcolor": "white",
          "plot_bgcolor": "#E5ECF6",
          "polar": {
           "angularaxis": {
            "gridcolor": "white",
            "linecolor": "white",
            "ticks": ""
           },
           "bgcolor": "#E5ECF6",
           "radialaxis": {
            "gridcolor": "white",
            "linecolor": "white",
            "ticks": ""
           }
          },
          "scene": {
           "xaxis": {
            "backgroundcolor": "#E5ECF6",
            "gridcolor": "white",
            "gridwidth": 2,
            "linecolor": "white",
            "showbackground": true,
            "ticks": "",
            "zerolinecolor": "white"
           },
           "yaxis": {
            "backgroundcolor": "#E5ECF6",
            "gridcolor": "white",
            "gridwidth": 2,
            "linecolor": "white",
            "showbackground": true,
            "ticks": "",
            "zerolinecolor": "white"
           },
           "zaxis": {
            "backgroundcolor": "#E5ECF6",
            "gridcolor": "white",
            "gridwidth": 2,
            "linecolor": "white",
            "showbackground": true,
            "ticks": "",
            "zerolinecolor": "white"
           }
          },
          "shapedefaults": {
           "line": {
            "color": "#2a3f5f"
           }
          },
          "ternary": {
           "aaxis": {
            "gridcolor": "white",
            "linecolor": "white",
            "ticks": ""
           },
           "baxis": {
            "gridcolor": "white",
            "linecolor": "white",
            "ticks": ""
           },
           "bgcolor": "#E5ECF6",
           "caxis": {
            "gridcolor": "white",
            "linecolor": "white",
            "ticks": ""
           }
          },
          "title": {
           "x": 0.05
          },
          "xaxis": {
           "automargin": true,
           "gridcolor": "white",
           "linecolor": "white",
           "ticks": "",
           "title": {
            "standoff": 15
           },
           "zerolinecolor": "white",
           "zerolinewidth": 2
          },
          "yaxis": {
           "automargin": true,
           "gridcolor": "white",
           "linecolor": "white",
           "ticks": "",
           "title": {
            "standoff": 15
           },
           "zerolinecolor": "white",
           "zerolinewidth": 2
          }
         }
        },
        "title": {
         "text": "$\\widehat{k_{ep,RR}}$",
         "x": 0.5,
         "xanchor": "center"
        },
        "xaxis": {
         "title": {
          "text": "$\\sigma_{noise}[Mm]$"
         }
        },
        "yaxis": {
         "range": [
          -35,
          5
         ],
         "showline": true,
         "tickvals": [
          -35,
          -30,
          -25,
          -20,
          -15,
          -10,
          -5,
          0,
          5
         ],
         "title": {
          "text": "$Percent Error$"
         }
        }
       }
      },
      "text/html": [
       "<div>                            <div id=\"21700f9b-48cb-4043-a4fc-25ad5525b184\" class=\"plotly-graph-div\" style=\"height:525px; width:100%;\"></div>            <script type=\"text/javascript\">                require([\"plotly\"], function(Plotly) {                    window.PLOTLYENV=window.PLOTLYENV || {};                                    if (document.getElementById(\"21700f9b-48cb-4043-a4fc-25ad5525b184\")) {                    Plotly.newPlot(                        \"21700f9b-48cb-4043-a4fc-25ad5525b184\",                        [{\"error_y\": {\"array\": [0.03388139495298925, 0.7404281711346938, 1.4658835655797455, 2.129988761342605, 2.660829314126473, 3.016120656885529], \"arrayminus\": [0.03991063959919994, 0.7324514722922115, 1.5825915928927126, 2.1019365644807717, 2.45474965074789, 3.008280181452816], \"symmetric\": false, \"thickness\": 4, \"type\": \"data\", \"visible\": true}, \"line\": {\"color\": \"#006837\", \"width\": 4}, \"showlegend\": false, \"type\": \"scatter\", \"visible\": true, \"x\": [0.0, 0.01, 0.02, 0.030000000000000002, 0.04, 0.05], \"y\": [-0.04747548340481855, -0.6308295631378968, -1.6567340832072786, -2.8054493607440945, -3.6836849713625943, -4.975374394849497]}, {\"error_y\": {\"array\": [0.4277464509514939, 1.2560218129175849, 1.9880118920301335, 3.2227744269238023, 3.755097657175998, 3.2998920988873977], \"arrayminus\": [0.3607453075580913, 1.308007924190474, 2.2136205789399788, 2.780317074085609, 3.3913166621801167, 3.9727700216417077], \"symmetric\": false, \"thickness\": 4, \"type\": \"data\", \"visible\": true}, \"line\": {\"color\": \"#31A354\", \"width\": 4}, \"showlegend\": false, \"type\": \"scatter\", \"visible\": false, \"x\": [0.0, 0.01, 0.02, 0.030000000000000002, 0.04, 0.05], \"y\": [-0.2986318818728184, -1.3946955753039614, -2.724839365549836, -3.6806795407376747, -5.758618691497109, -8.812282777007058]}, {\"error_y\": {\"array\": [0.9370348617132152, 1.9398213719655004, 2.927532083544132, 3.410028193781095, 3.7740218137168444, 4.492239530887783], \"arrayminus\": [0.8652251872720007, 1.905923492675099, 2.8108260048883063, 3.403025938670911, 3.7731314318001363, 4.196564304365684], \"symmetric\": false, \"thickness\": 4, \"type\": \"data\", \"visible\": true}, \"line\": {\"color\": \"#78C679\", \"width\": 4}, \"showlegend\": false, \"type\": \"scatter\", \"visible\": false, \"x\": [0.0, 0.01, 0.02, 0.030000000000000002, 0.04, 0.05], \"y\": [-0.8457073530692027, -2.0758457285490195, -3.1512208895249474, -5.269536609424518, -7.973999490010042, -10.334319490708559]}, {\"error_y\": {\"array\": [1.1335727023198516, 2.5229083167114528, 3.8737304430633674, 4.485306162005974, 4.887906186538647, 5.406392513182912], \"arrayminus\": [1.2346075421084457, 2.687406842837115, 3.7906620271234366, 4.424035689139599, 4.82989241413193, 5.31934866289318], \"symmetric\": false, \"thickness\": 4, \"type\": \"data\", \"visible\": true}, \"line\": {\"color\": \"#C2E699\", \"width\": 4}, \"showlegend\": false, \"type\": \"scatter\", \"visible\": false, \"x\": [0.0, 0.01, 0.02, 0.030000000000000002, 0.04, 0.05], \"y\": [-3.307880273248387, -5.731790258306175, -7.677269738095182, -9.695654042240742, -12.052555466436065, -14.7560365591039]}],                        {\"legend\": {\"x\": 0.3, \"xanchor\": \"right\", \"y\": 0.2, \"yanchor\": \"bottom\"}, \"plot_bgcolor\": \"#ffffff\", \"sliders\": [{\"active\": 4, \"currentvalue\": {\"prefix\": \"Temporal resolution [seconds]: \"}, \"pad\": {\"t\": 70}, \"steps\": [{\"args\": [{\"visible\": [true, false, false, false]}], \"label\": \"5\", \"method\": \"update\", \"value\": \"5\"}, {\"args\": [{\"visible\": [false, true, false, false]}], \"label\": \"10\", \"method\": \"update\", \"value\": \"10\"}, {\"args\": [{\"visible\": [false, false, true, false]}], \"label\": \"15\", \"method\": \"update\", \"value\": \"15\"}, {\"args\": [{\"visible\": [false, false, false, true]}], \"label\": \"30\", \"method\": \"update\", \"value\": \"30\"}]}], \"template\": {\"data\": {\"bar\": [{\"error_x\": {\"color\": \"#2a3f5f\"}, \"error_y\": {\"color\": \"#2a3f5f\"}, \"marker\": {\"line\": {\"color\": \"#E5ECF6\", \"width\": 0.5}}, \"type\": \"bar\"}], \"barpolar\": [{\"marker\": {\"line\": {\"color\": \"#E5ECF6\", \"width\": 0.5}}, \"type\": \"barpolar\"}], \"carpet\": [{\"aaxis\": {\"endlinecolor\": \"#2a3f5f\", \"gridcolor\": \"white\", \"linecolor\": \"white\", \"minorgridcolor\": \"white\", \"startlinecolor\": \"#2a3f5f\"}, \"baxis\": {\"endlinecolor\": \"#2a3f5f\", \"gridcolor\": \"white\", \"linecolor\": \"white\", \"minorgridcolor\": \"white\", \"startlinecolor\": \"#2a3f5f\"}, \"type\": \"carpet\"}], \"choropleth\": [{\"colorbar\": {\"outlinewidth\": 0, \"ticks\": \"\"}, \"type\": \"choropleth\"}], \"contour\": [{\"colorbar\": {\"outlinewidth\": 0, \"ticks\": \"\"}, \"colorscale\": [[0.0, \"#0d0887\"], [0.1111111111111111, \"#46039f\"], [0.2222222222222222, \"#7201a8\"], [0.3333333333333333, \"#9c179e\"], [0.4444444444444444, \"#bd3786\"], [0.5555555555555556, \"#d8576b\"], [0.6666666666666666, \"#ed7953\"], [0.7777777777777778, \"#fb9f3a\"], [0.8888888888888888, \"#fdca26\"], [1.0, \"#f0f921\"]], \"type\": \"contour\"}], \"contourcarpet\": [{\"colorbar\": {\"outlinewidth\": 0, \"ticks\": \"\"}, \"type\": \"contourcarpet\"}], \"heatmap\": [{\"colorbar\": {\"outlinewidth\": 0, \"ticks\": \"\"}, \"colorscale\": [[0.0, \"#0d0887\"], [0.1111111111111111, \"#46039f\"], [0.2222222222222222, \"#7201a8\"], [0.3333333333333333, \"#9c179e\"], [0.4444444444444444, \"#bd3786\"], [0.5555555555555556, \"#d8576b\"], [0.6666666666666666, \"#ed7953\"], [0.7777777777777778, \"#fb9f3a\"], [0.8888888888888888, \"#fdca26\"], [1.0, \"#f0f921\"]], \"type\": \"heatmap\"}], \"heatmapgl\": [{\"colorbar\": {\"outlinewidth\": 0, \"ticks\": \"\"}, \"colorscale\": [[0.0, \"#0d0887\"], [0.1111111111111111, \"#46039f\"], [0.2222222222222222, \"#7201a8\"], [0.3333333333333333, \"#9c179e\"], [0.4444444444444444, \"#bd3786\"], [0.5555555555555556, \"#d8576b\"], [0.6666666666666666, \"#ed7953\"], [0.7777777777777778, \"#fb9f3a\"], [0.8888888888888888, \"#fdca26\"], [1.0, \"#f0f921\"]], \"type\": \"heatmapgl\"}], \"histogram\": [{\"marker\": {\"colorbar\": {\"outlinewidth\": 0, \"ticks\": \"\"}}, \"type\": \"histogram\"}], \"histogram2d\": [{\"colorbar\": {\"outlinewidth\": 0, \"ticks\": \"\"}, \"colorscale\": [[0.0, \"#0d0887\"], [0.1111111111111111, \"#46039f\"], [0.2222222222222222, \"#7201a8\"], [0.3333333333333333, \"#9c179e\"], [0.4444444444444444, \"#bd3786\"], [0.5555555555555556, \"#d8576b\"], [0.6666666666666666, \"#ed7953\"], [0.7777777777777778, \"#fb9f3a\"], [0.8888888888888888, \"#fdca26\"], [1.0, \"#f0f921\"]], \"type\": \"histogram2d\"}], \"histogram2dcontour\": [{\"colorbar\": {\"outlinewidth\": 0, \"ticks\": \"\"}, \"colorscale\": [[0.0, \"#0d0887\"], [0.1111111111111111, \"#46039f\"], [0.2222222222222222, \"#7201a8\"], [0.3333333333333333, \"#9c179e\"], [0.4444444444444444, \"#bd3786\"], [0.5555555555555556, \"#d8576b\"], [0.6666666666666666, \"#ed7953\"], [0.7777777777777778, \"#fb9f3a\"], [0.8888888888888888, \"#fdca26\"], [1.0, \"#f0f921\"]], \"type\": \"histogram2dcontour\"}], \"mesh3d\": [{\"colorbar\": {\"outlinewidth\": 0, \"ticks\": \"\"}, \"type\": \"mesh3d\"}], \"parcoords\": [{\"line\": {\"colorbar\": {\"outlinewidth\": 0, \"ticks\": \"\"}}, \"type\": \"parcoords\"}], \"pie\": [{\"automargin\": true, \"type\": \"pie\"}], \"scatter\": [{\"marker\": {\"colorbar\": {\"outlinewidth\": 0, \"ticks\": \"\"}}, \"type\": \"scatter\"}], \"scatter3d\": [{\"line\": {\"colorbar\": {\"outlinewidth\": 0, \"ticks\": \"\"}}, \"marker\": {\"colorbar\": {\"outlinewidth\": 0, \"ticks\": \"\"}}, \"type\": \"scatter3d\"}], \"scattercarpet\": [{\"marker\": {\"colorbar\": {\"outlinewidth\": 0, \"ticks\": \"\"}}, \"type\": \"scattercarpet\"}], \"scattergeo\": [{\"marker\": {\"colorbar\": {\"outlinewidth\": 0, \"ticks\": \"\"}}, \"type\": \"scattergeo\"}], \"scattergl\": [{\"marker\": {\"colorbar\": {\"outlinewidth\": 0, \"ticks\": \"\"}}, \"type\": \"scattergl\"}], \"scattermapbox\": [{\"marker\": {\"colorbar\": {\"outlinewidth\": 0, \"ticks\": \"\"}}, \"type\": \"scattermapbox\"}], \"scatterpolar\": [{\"marker\": {\"colorbar\": {\"outlinewidth\": 0, \"ticks\": \"\"}}, \"type\": \"scatterpolar\"}], \"scatterpolargl\": [{\"marker\": {\"colorbar\": {\"outlinewidth\": 0, \"ticks\": \"\"}}, \"type\": \"scatterpolargl\"}], \"scatterternary\": [{\"marker\": {\"colorbar\": {\"outlinewidth\": 0, \"ticks\": \"\"}}, \"type\": \"scatterternary\"}], \"surface\": [{\"colorbar\": {\"outlinewidth\": 0, \"ticks\": \"\"}, \"colorscale\": [[0.0, \"#0d0887\"], [0.1111111111111111, \"#46039f\"], [0.2222222222222222, \"#7201a8\"], [0.3333333333333333, \"#9c179e\"], [0.4444444444444444, \"#bd3786\"], [0.5555555555555556, \"#d8576b\"], [0.6666666666666666, \"#ed7953\"], [0.7777777777777778, \"#fb9f3a\"], [0.8888888888888888, \"#fdca26\"], [1.0, \"#f0f921\"]], \"type\": \"surface\"}], \"table\": [{\"cells\": {\"fill\": {\"color\": \"#EBF0F8\"}, \"line\": {\"color\": \"white\"}}, \"header\": {\"fill\": {\"color\": \"#C8D4E3\"}, \"line\": {\"color\": \"white\"}}, \"type\": \"table\"}]}, \"layout\": {\"annotationdefaults\": {\"arrowcolor\": \"#2a3f5f\", \"arrowhead\": 0, \"arrowwidth\": 1}, \"autotypenumbers\": \"strict\", \"coloraxis\": {\"colorbar\": {\"outlinewidth\": 0, \"ticks\": \"\"}}, \"colorscale\": {\"diverging\": [[0, \"#8e0152\"], [0.1, \"#c51b7d\"], [0.2, \"#de77ae\"], [0.3, \"#f1b6da\"], [0.4, \"#fde0ef\"], [0.5, \"#f7f7f7\"], [0.6, \"#e6f5d0\"], [0.7, \"#b8e186\"], [0.8, \"#7fbc41\"], [0.9, \"#4d9221\"], [1, \"#276419\"]], \"sequential\": [[0.0, \"#0d0887\"], [0.1111111111111111, \"#46039f\"], [0.2222222222222222, \"#7201a8\"], [0.3333333333333333, \"#9c179e\"], [0.4444444444444444, \"#bd3786\"], [0.5555555555555556, \"#d8576b\"], [0.6666666666666666, \"#ed7953\"], [0.7777777777777778, \"#fb9f3a\"], [0.8888888888888888, \"#fdca26\"], [1.0, \"#f0f921\"]], \"sequentialminus\": [[0.0, \"#0d0887\"], [0.1111111111111111, \"#46039f\"], [0.2222222222222222, \"#7201a8\"], [0.3333333333333333, \"#9c179e\"], [0.4444444444444444, \"#bd3786\"], [0.5555555555555556, \"#d8576b\"], [0.6666666666666666, \"#ed7953\"], [0.7777777777777778, \"#fb9f3a\"], [0.8888888888888888, \"#fdca26\"], [1.0, \"#f0f921\"]]}, \"colorway\": [\"#636efa\", \"#EF553B\", \"#00cc96\", \"#ab63fa\", \"#FFA15A\", \"#19d3f3\", \"#FF6692\", \"#B6E880\", \"#FF97FF\", \"#FECB52\"], \"font\": {\"color\": \"#2a3f5f\"}, \"geo\": {\"bgcolor\": \"white\", \"lakecolor\": \"white\", \"landcolor\": \"#E5ECF6\", \"showlakes\": true, \"showland\": true, \"subunitcolor\": \"white\"}, \"hoverlabel\": {\"align\": \"left\"}, \"hovermode\": \"closest\", \"mapbox\": {\"style\": \"light\"}, \"paper_bgcolor\": \"white\", \"plot_bgcolor\": \"#E5ECF6\", \"polar\": {\"angularaxis\": {\"gridcolor\": \"white\", \"linecolor\": \"white\", \"ticks\": \"\"}, \"bgcolor\": \"#E5ECF6\", \"radialaxis\": {\"gridcolor\": \"white\", \"linecolor\": \"white\", \"ticks\": \"\"}}, \"scene\": {\"xaxis\": {\"backgroundcolor\": \"#E5ECF6\", \"gridcolor\": \"white\", \"gridwidth\": 2, \"linecolor\": \"white\", \"showbackground\": true, \"ticks\": \"\", \"zerolinecolor\": \"white\"}, \"yaxis\": {\"backgroundcolor\": \"#E5ECF6\", \"gridcolor\": \"white\", \"gridwidth\": 2, \"linecolor\": \"white\", \"showbackground\": true, \"ticks\": \"\", \"zerolinecolor\": \"white\"}, \"zaxis\": {\"backgroundcolor\": \"#E5ECF6\", \"gridcolor\": \"white\", \"gridwidth\": 2, \"linecolor\": \"white\", \"showbackground\": true, \"ticks\": \"\", \"zerolinecolor\": \"white\"}}, \"shapedefaults\": {\"line\": {\"color\": \"#2a3f5f\"}}, \"ternary\": {\"aaxis\": {\"gridcolor\": \"white\", \"linecolor\": \"white\", \"ticks\": \"\"}, \"baxis\": {\"gridcolor\": \"white\", \"linecolor\": \"white\", \"ticks\": \"\"}, \"bgcolor\": \"#E5ECF6\", \"caxis\": {\"gridcolor\": \"white\", \"linecolor\": \"white\", \"ticks\": \"\"}}, \"title\": {\"x\": 0.05}, \"xaxis\": {\"automargin\": true, \"gridcolor\": \"white\", \"linecolor\": \"white\", \"ticks\": \"\", \"title\": {\"standoff\": 15}, \"zerolinecolor\": \"white\", \"zerolinewidth\": 2}, \"yaxis\": {\"automargin\": true, \"gridcolor\": \"white\", \"linecolor\": \"white\", \"ticks\": \"\", \"title\": {\"standoff\": 15}, \"zerolinecolor\": \"white\", \"zerolinewidth\": 2}}}, \"title\": {\"text\": \"$\\\\widehat{k_{ep,RR}}$\", \"x\": 0.5, \"xanchor\": \"center\"}, \"xaxis\": {\"title\": {\"text\": \"$\\\\sigma_{noise}[Mm]$\"}}, \"yaxis\": {\"range\": [-35, 5], \"showline\": true, \"tickvals\": [-35, -30, -25, -20, -15, -10, -5, 0, 5], \"title\": {\"text\": \"$Percent Error$\"}}},                        {\"responsive\": true}                    ).then(function(){\n",
       "                            \n",
       "var gd = document.getElementById('21700f9b-48cb-4043-a4fc-25ad5525b184');\n",
       "var x = new MutationObserver(function (mutations, observer) {{\n",
       "        var display = window.getComputedStyle(gd).display;\n",
       "        if (!display || display === 'none') {{\n",
       "            console.log([gd, 'removed!']);\n",
       "            Plotly.purge(gd);\n",
       "            observer.disconnect();\n",
       "        }}\n",
       "}});\n",
       "\n",
       "// Listen for the removal of the full notebook cells\n",
       "var notebookContainer = gd.closest('#notebook-container');\n",
       "if (notebookContainer) {{\n",
       "    x.observe(notebookContainer, {childList: true});\n",
       "}}\n",
       "\n",
       "// Listen for the clearing of the current output cell\n",
       "var outputEl = gd.closest('.output');\n",
       "if (outputEl) {{\n",
       "    x.observe(outputEl, {childList: true});\n",
       "}}\n",
       "\n",
       "                        })                };                });            </script>        </div>"
      ]
     },
     "metadata": {},
     "output_type": "display_data"
    }
   ],
   "source": [
    "%get listSigmaC --from MATLAB\n",
    "%get curErr --from MATLAB\n",
    "%get errQt --from MATLAB\n",
    "%get errMd --from MATLAB\n",
    "\n",
    "fig = go.Figure()\n",
    "\n",
    "legend_values = [5, 10, 15, 30]\n",
    "\n",
    "line_colours = cycle(['#006837','#31A354','#78C679','#C2E699'])\n",
    "\n",
    "for i in range(0,4):\n",
    "    finalErrMd=np.squeeze(np.asarray((np.reshape(errMd[i,:], 6))))\n",
    "    # take another look here - is it errorQt[i,:,1] because MATLAB indexing starts from 1,\n",
    "    # or is it just like in MATLAB?\n",
    "    finalErrorDiff=np.squeeze(np.asarray((np.reshape(abs(errQt[i,:,0]-errMd[i,:]), 6))))\n",
    "    finalErrorDiffMinus=np.squeeze(np.asarray((np.reshape(abs(errQt[i,:,1]-errMd[i,:]), 6))))\n",
    "    fig.add_trace(go.Scatter(\n",
    "        visible=False,\n",
    "        x=listSigmaC,\n",
    "        y=finalErrMd,\n",
    "        error_y=dict(\n",
    "            type='data', # value of error bar given in data coordinates\n",
    "            array=finalErrorDiff,\n",
    "            arrayminus=finalErrorDiffMinus,\n",
    "            symmetric=False,\n",
    "            visible=True,\n",
    "            thickness=4),\n",
    "        line_color=next(line_colours),\n",
    "        line_width=4, showlegend=False\n",
    "    ))\n",
    "    \n",
    "# Default value on the slider    \n",
    "fig.data[0].visible = True\n",
    "\n",
    "\n",
    "# Create and add slider\n",
    "steps = []\n",
    "for i in range(len(fig.data)):\n",
    "    step = dict(\n",
    "        method=\"update\",\n",
    "        args=[{\"visible\": [False] * len(fig.data)},\n",
    "#               {\"title\": \"Current value selected on slider: \" + str(legend_values[i])}\n",
    "             ],  # layout attribute\n",
    "        value=legend_values[i],\n",
    "        label=legend_values[i]        \n",
    "    )\n",
    "    step[\"args\"][0][\"visible\"][i] = True  # Toggle i'th trace to \"visible\"\n",
    "    steps.append(step)\n",
    "\n",
    "sliders = [dict(\n",
    "    active=4,\n",
    "    currentvalue={\"prefix\": \"Temporal resolution [seconds]: \"},\n",
    "    pad={\"t\": 70}, #upper padding \n",
    "    steps=steps\n",
    ")]\n",
    "\n",
    "\n",
    "#r'$\\widehat{k_{ep,RR}}$', r'$K^{trans}_{RR}$', r'$V_{e,RR}$'\n",
    "\n",
    "fig.update_xaxes(title_text=r'$\\sigma_{noise}[Mm]$')\n",
    "fig.update_layout(title=dict(text=r'$\\widehat{k_{ep,RR}}$',\n",
    "                             x=0.5,\n",
    "                             xanchor='center'),\n",
    "                  yaxis=dict(title=r'$Percent Error$',\n",
    "                             showline=True,\n",
    "                             range=[-35,5],\n",
    "                             tickvals=[-35,-30,-25,-20,-15,-10,-5,0,5],\n",
    "                             ), \n",
    "                  plot_bgcolor='#ffffff',\n",
    "                  legend=dict(yanchor='bottom', y=0.20, xanchor='right', x=0.30),\n",
    "                  sliders=sliders\n",
    ")\n",
    "\n",
    "\n",
    "fig.show()"
   ]
  },
  {
   "cell_type": "markdown",
   "metadata": {
    "kernel": "SoS"
   },
   "source": [
    "* $K^{trans}_{RR}$ <a name=\"fig-3-2\"></a>"
   ]
  },
  {
   "cell_type": "code",
   "execution_count": 14,
   "metadata": {
    "kernel": "SoS"
   },
   "outputs": [
    {
     "data": {
      "application/vnd.plotly.v1+json": {
       "config": {
        "plotlyServerURL": "https://plot.ly"
       },
       "data": [
        {
         "error_y": {
          "array": [
           0.0396097111738321,
           0.9243669996149383,
           1.6374510496488486,
           2.502972164491071,
           3.1687734120877273,
           3.724663670542242
          ],
          "arrayminus": [
           0.0468899686697757,
           0.9231686503425456,
           2.0968710282389926,
           2.542604277632318,
           3.0144069480034124,
           3.648433915352354
          ],
          "symmetric": false,
          "thickness": 4,
          "type": "data",
          "visible": true
         },
         "line": {
          "color": "#006837",
          "width": 4
         },
         "showlegend": false,
         "type": "scatter",
         "visible": true,
         "x": [
          0,
          0.01,
          0.02,
          0.030000000000000002,
          0.04,
          0.05
         ],
         "y": [
          -0.059454023876958396,
          -0.788325336469896,
          -1.9626751915599692,
          -3.333475084465901,
          -4.27814996707354,
          -5.838137427962575
         ]
        },
        {
         "error_y": {
          "array": [
           0.5000132099899417,
           1.4614313011496578,
           2.3881865619910068,
           3.608384031136488,
           4.088866998788497,
           4.379391949104212
          ],
          "arrayminus": [
           0.4246154324457391,
           1.522148452798379,
           2.6838989208051145,
           3.3260537076144994,
           4.149920810868216,
           4.480393755043432
          ],
          "symmetric": false,
          "thickness": 4,
          "type": "data",
          "visible": true
         },
         "line": {
          "color": "#31A354",
          "width": 4
         },
         "showlegend": false,
         "type": "scatter",
         "visible": false,
         "x": [
          0,
          0.01,
          0.02,
          0.030000000000000002,
          0.04,
          0.05
         ],
         "y": [
          -0.366282506451533,
          -1.6606523700984028,
          -3.167625100943469,
          -4.4039100911217055,
          -6.86935704932251,
          -10.21534742812547
         ]
        },
        {
         "error_y": {
          "array": [
           1.0974031068336894,
           2.3073467882808023,
           3.5235888090674443,
           3.9997375210428947,
           4.549556499722403,
           5.459908950473077
          ],
          "arrayminus": [
           1.0208994436644678,
           2.264924948294738,
           3.3836810385892897,
           4.014361866053958,
           4.341355937093935,
           5.195609295232859
          ],
          "symmetric": false,
          "thickness": 4,
          "type": "data",
          "visible": true
         },
         "line": {
          "color": "#78C679",
          "width": 4
         },
         "showlegend": false,
         "type": "scatter",
         "visible": false,
         "x": [
          0,
          0.01,
          0.02,
          0.030000000000000002,
          0.04,
          0.05
         ],
         "y": [
          -1.0318969881786622,
          -2.5228821686112264,
          -3.7622350875823187,
          -6.28629793126217,
          -9.26781639562255,
          -12.370000422912705
         ]
        },
        {
         "error_y": {
          "array": [
           1.3194509267232544,
           3.01607807503164,
           4.9707429864873784,
           5.480480656468945,
           6.295555973442278,
           6.795753471239166
          ],
          "arrayminus": [
           1.4761875948241068,
           3.181978181616487,
           4.794276504599047,
           5.181825701884325,
           5.816023930121313,
           6.441504827827075
          ],
          "symmetric": false,
          "thickness": 4,
          "type": "data",
          "visible": true
         },
         "line": {
          "color": "#C2E699",
          "width": 4
         },
         "showlegend": false,
         "type": "scatter",
         "visible": false,
         "x": [
          0,
          0.01,
          0.02,
          0.030000000000000002,
          0.04,
          0.05
         ],
         "y": [
          -4.051053401847721,
          -6.847158498672037,
          -9.219976174411654,
          -11.52962873035601,
          -14.111182281868144,
          -17.656492866257175
         ]
        }
       ],
       "layout": {
        "legend": {
         "x": 0.3,
         "xanchor": "right",
         "y": 0.2,
         "yanchor": "bottom"
        },
        "plot_bgcolor": "#ffffff",
        "sliders": [
         {
          "active": 4,
          "currentvalue": {
           "prefix": "Temporal resolution [seconds]: "
          },
          "pad": {
           "t": 70
          },
          "steps": [
           {
            "args": [
             {
              "visible": [
               true,
               false,
               false,
               false
              ]
             }
            ],
            "label": "5",
            "method": "update",
            "value": "5"
           },
           {
            "args": [
             {
              "visible": [
               false,
               true,
               false,
               false
              ]
             }
            ],
            "label": "10",
            "method": "update",
            "value": "10"
           },
           {
            "args": [
             {
              "visible": [
               false,
               false,
               true,
               false
              ]
             }
            ],
            "label": "15",
            "method": "update",
            "value": "15"
           },
           {
            "args": [
             {
              "visible": [
               false,
               false,
               false,
               true
              ]
             }
            ],
            "label": "30",
            "method": "update",
            "value": "30"
           }
          ]
         }
        ],
        "template": {
         "data": {
          "bar": [
           {
            "error_x": {
             "color": "#2a3f5f"
            },
            "error_y": {
             "color": "#2a3f5f"
            },
            "marker": {
             "line": {
              "color": "#E5ECF6",
              "width": 0.5
             }
            },
            "type": "bar"
           }
          ],
          "barpolar": [
           {
            "marker": {
             "line": {
              "color": "#E5ECF6",
              "width": 0.5
             }
            },
            "type": "barpolar"
           }
          ],
          "carpet": [
           {
            "aaxis": {
             "endlinecolor": "#2a3f5f",
             "gridcolor": "white",
             "linecolor": "white",
             "minorgridcolor": "white",
             "startlinecolor": "#2a3f5f"
            },
            "baxis": {
             "endlinecolor": "#2a3f5f",
             "gridcolor": "white",
             "linecolor": "white",
             "minorgridcolor": "white",
             "startlinecolor": "#2a3f5f"
            },
            "type": "carpet"
           }
          ],
          "choropleth": [
           {
            "colorbar": {
             "outlinewidth": 0,
             "ticks": ""
            },
            "type": "choropleth"
           }
          ],
          "contour": [
           {
            "colorbar": {
             "outlinewidth": 0,
             "ticks": ""
            },
            "colorscale": [
             [
              0,
              "#0d0887"
             ],
             [
              0.1111111111111111,
              "#46039f"
             ],
             [
              0.2222222222222222,
              "#7201a8"
             ],
             [
              0.3333333333333333,
              "#9c179e"
             ],
             [
              0.4444444444444444,
              "#bd3786"
             ],
             [
              0.5555555555555556,
              "#d8576b"
             ],
             [
              0.6666666666666666,
              "#ed7953"
             ],
             [
              0.7777777777777778,
              "#fb9f3a"
             ],
             [
              0.8888888888888888,
              "#fdca26"
             ],
             [
              1,
              "#f0f921"
             ]
            ],
            "type": "contour"
           }
          ],
          "contourcarpet": [
           {
            "colorbar": {
             "outlinewidth": 0,
             "ticks": ""
            },
            "type": "contourcarpet"
           }
          ],
          "heatmap": [
           {
            "colorbar": {
             "outlinewidth": 0,
             "ticks": ""
            },
            "colorscale": [
             [
              0,
              "#0d0887"
             ],
             [
              0.1111111111111111,
              "#46039f"
             ],
             [
              0.2222222222222222,
              "#7201a8"
             ],
             [
              0.3333333333333333,
              "#9c179e"
             ],
             [
              0.4444444444444444,
              "#bd3786"
             ],
             [
              0.5555555555555556,
              "#d8576b"
             ],
             [
              0.6666666666666666,
              "#ed7953"
             ],
             [
              0.7777777777777778,
              "#fb9f3a"
             ],
             [
              0.8888888888888888,
              "#fdca26"
             ],
             [
              1,
              "#f0f921"
             ]
            ],
            "type": "heatmap"
           }
          ],
          "heatmapgl": [
           {
            "colorbar": {
             "outlinewidth": 0,
             "ticks": ""
            },
            "colorscale": [
             [
              0,
              "#0d0887"
             ],
             [
              0.1111111111111111,
              "#46039f"
             ],
             [
              0.2222222222222222,
              "#7201a8"
             ],
             [
              0.3333333333333333,
              "#9c179e"
             ],
             [
              0.4444444444444444,
              "#bd3786"
             ],
             [
              0.5555555555555556,
              "#d8576b"
             ],
             [
              0.6666666666666666,
              "#ed7953"
             ],
             [
              0.7777777777777778,
              "#fb9f3a"
             ],
             [
              0.8888888888888888,
              "#fdca26"
             ],
             [
              1,
              "#f0f921"
             ]
            ],
            "type": "heatmapgl"
           }
          ],
          "histogram": [
           {
            "marker": {
             "colorbar": {
              "outlinewidth": 0,
              "ticks": ""
             }
            },
            "type": "histogram"
           }
          ],
          "histogram2d": [
           {
            "colorbar": {
             "outlinewidth": 0,
             "ticks": ""
            },
            "colorscale": [
             [
              0,
              "#0d0887"
             ],
             [
              0.1111111111111111,
              "#46039f"
             ],
             [
              0.2222222222222222,
              "#7201a8"
             ],
             [
              0.3333333333333333,
              "#9c179e"
             ],
             [
              0.4444444444444444,
              "#bd3786"
             ],
             [
              0.5555555555555556,
              "#d8576b"
             ],
             [
              0.6666666666666666,
              "#ed7953"
             ],
             [
              0.7777777777777778,
              "#fb9f3a"
             ],
             [
              0.8888888888888888,
              "#fdca26"
             ],
             [
              1,
              "#f0f921"
             ]
            ],
            "type": "histogram2d"
           }
          ],
          "histogram2dcontour": [
           {
            "colorbar": {
             "outlinewidth": 0,
             "ticks": ""
            },
            "colorscale": [
             [
              0,
              "#0d0887"
             ],
             [
              0.1111111111111111,
              "#46039f"
             ],
             [
              0.2222222222222222,
              "#7201a8"
             ],
             [
              0.3333333333333333,
              "#9c179e"
             ],
             [
              0.4444444444444444,
              "#bd3786"
             ],
             [
              0.5555555555555556,
              "#d8576b"
             ],
             [
              0.6666666666666666,
              "#ed7953"
             ],
             [
              0.7777777777777778,
              "#fb9f3a"
             ],
             [
              0.8888888888888888,
              "#fdca26"
             ],
             [
              1,
              "#f0f921"
             ]
            ],
            "type": "histogram2dcontour"
           }
          ],
          "mesh3d": [
           {
            "colorbar": {
             "outlinewidth": 0,
             "ticks": ""
            },
            "type": "mesh3d"
           }
          ],
          "parcoords": [
           {
            "line": {
             "colorbar": {
              "outlinewidth": 0,
              "ticks": ""
             }
            },
            "type": "parcoords"
           }
          ],
          "pie": [
           {
            "automargin": true,
            "type": "pie"
           }
          ],
          "scatter": [
           {
            "marker": {
             "colorbar": {
              "outlinewidth": 0,
              "ticks": ""
             }
            },
            "type": "scatter"
           }
          ],
          "scatter3d": [
           {
            "line": {
             "colorbar": {
              "outlinewidth": 0,
              "ticks": ""
             }
            },
            "marker": {
             "colorbar": {
              "outlinewidth": 0,
              "ticks": ""
             }
            },
            "type": "scatter3d"
           }
          ],
          "scattercarpet": [
           {
            "marker": {
             "colorbar": {
              "outlinewidth": 0,
              "ticks": ""
             }
            },
            "type": "scattercarpet"
           }
          ],
          "scattergeo": [
           {
            "marker": {
             "colorbar": {
              "outlinewidth": 0,
              "ticks": ""
             }
            },
            "type": "scattergeo"
           }
          ],
          "scattergl": [
           {
            "marker": {
             "colorbar": {
              "outlinewidth": 0,
              "ticks": ""
             }
            },
            "type": "scattergl"
           }
          ],
          "scattermapbox": [
           {
            "marker": {
             "colorbar": {
              "outlinewidth": 0,
              "ticks": ""
             }
            },
            "type": "scattermapbox"
           }
          ],
          "scatterpolar": [
           {
            "marker": {
             "colorbar": {
              "outlinewidth": 0,
              "ticks": ""
             }
            },
            "type": "scatterpolar"
           }
          ],
          "scatterpolargl": [
           {
            "marker": {
             "colorbar": {
              "outlinewidth": 0,
              "ticks": ""
             }
            },
            "type": "scatterpolargl"
           }
          ],
          "scatterternary": [
           {
            "marker": {
             "colorbar": {
              "outlinewidth": 0,
              "ticks": ""
             }
            },
            "type": "scatterternary"
           }
          ],
          "surface": [
           {
            "colorbar": {
             "outlinewidth": 0,
             "ticks": ""
            },
            "colorscale": [
             [
              0,
              "#0d0887"
             ],
             [
              0.1111111111111111,
              "#46039f"
             ],
             [
              0.2222222222222222,
              "#7201a8"
             ],
             [
              0.3333333333333333,
              "#9c179e"
             ],
             [
              0.4444444444444444,
              "#bd3786"
             ],
             [
              0.5555555555555556,
              "#d8576b"
             ],
             [
              0.6666666666666666,
              "#ed7953"
             ],
             [
              0.7777777777777778,
              "#fb9f3a"
             ],
             [
              0.8888888888888888,
              "#fdca26"
             ],
             [
              1,
              "#f0f921"
             ]
            ],
            "type": "surface"
           }
          ],
          "table": [
           {
            "cells": {
             "fill": {
              "color": "#EBF0F8"
             },
             "line": {
              "color": "white"
             }
            },
            "header": {
             "fill": {
              "color": "#C8D4E3"
             },
             "line": {
              "color": "white"
             }
            },
            "type": "table"
           }
          ]
         },
         "layout": {
          "annotationdefaults": {
           "arrowcolor": "#2a3f5f",
           "arrowhead": 0,
           "arrowwidth": 1
          },
          "autotypenumbers": "strict",
          "coloraxis": {
           "colorbar": {
            "outlinewidth": 0,
            "ticks": ""
           }
          },
          "colorscale": {
           "diverging": [
            [
             0,
             "#8e0152"
            ],
            [
             0.1,
             "#c51b7d"
            ],
            [
             0.2,
             "#de77ae"
            ],
            [
             0.3,
             "#f1b6da"
            ],
            [
             0.4,
             "#fde0ef"
            ],
            [
             0.5,
             "#f7f7f7"
            ],
            [
             0.6,
             "#e6f5d0"
            ],
            [
             0.7,
             "#b8e186"
            ],
            [
             0.8,
             "#7fbc41"
            ],
            [
             0.9,
             "#4d9221"
            ],
            [
             1,
             "#276419"
            ]
           ],
           "sequential": [
            [
             0,
             "#0d0887"
            ],
            [
             0.1111111111111111,
             "#46039f"
            ],
            [
             0.2222222222222222,
             "#7201a8"
            ],
            [
             0.3333333333333333,
             "#9c179e"
            ],
            [
             0.4444444444444444,
             "#bd3786"
            ],
            [
             0.5555555555555556,
             "#d8576b"
            ],
            [
             0.6666666666666666,
             "#ed7953"
            ],
            [
             0.7777777777777778,
             "#fb9f3a"
            ],
            [
             0.8888888888888888,
             "#fdca26"
            ],
            [
             1,
             "#f0f921"
            ]
           ],
           "sequentialminus": [
            [
             0,
             "#0d0887"
            ],
            [
             0.1111111111111111,
             "#46039f"
            ],
            [
             0.2222222222222222,
             "#7201a8"
            ],
            [
             0.3333333333333333,
             "#9c179e"
            ],
            [
             0.4444444444444444,
             "#bd3786"
            ],
            [
             0.5555555555555556,
             "#d8576b"
            ],
            [
             0.6666666666666666,
             "#ed7953"
            ],
            [
             0.7777777777777778,
             "#fb9f3a"
            ],
            [
             0.8888888888888888,
             "#fdca26"
            ],
            [
             1,
             "#f0f921"
            ]
           ]
          },
          "colorway": [
           "#636efa",
           "#EF553B",
           "#00cc96",
           "#ab63fa",
           "#FFA15A",
           "#19d3f3",
           "#FF6692",
           "#B6E880",
           "#FF97FF",
           "#FECB52"
          ],
          "font": {
           "color": "#2a3f5f"
          },
          "geo": {
           "bgcolor": "white",
           "lakecolor": "white",
           "landcolor": "#E5ECF6",
           "showlakes": true,
           "showland": true,
           "subunitcolor": "white"
          },
          "hoverlabel": {
           "align": "left"
          },
          "hovermode": "closest",
          "mapbox": {
           "style": "light"
          },
          "paper_bgcolor": "white",
          "plot_bgcolor": "#E5ECF6",
          "polar": {
           "angularaxis": {
            "gridcolor": "white",
            "linecolor": "white",
            "ticks": ""
           },
           "bgcolor": "#E5ECF6",
           "radialaxis": {
            "gridcolor": "white",
            "linecolor": "white",
            "ticks": ""
           }
          },
          "scene": {
           "xaxis": {
            "backgroundcolor": "#E5ECF6",
            "gridcolor": "white",
            "gridwidth": 2,
            "linecolor": "white",
            "showbackground": true,
            "ticks": "",
            "zerolinecolor": "white"
           },
           "yaxis": {
            "backgroundcolor": "#E5ECF6",
            "gridcolor": "white",
            "gridwidth": 2,
            "linecolor": "white",
            "showbackground": true,
            "ticks": "",
            "zerolinecolor": "white"
           },
           "zaxis": {
            "backgroundcolor": "#E5ECF6",
            "gridcolor": "white",
            "gridwidth": 2,
            "linecolor": "white",
            "showbackground": true,
            "ticks": "",
            "zerolinecolor": "white"
           }
          },
          "shapedefaults": {
           "line": {
            "color": "#2a3f5f"
           }
          },
          "ternary": {
           "aaxis": {
            "gridcolor": "white",
            "linecolor": "white",
            "ticks": ""
           },
           "baxis": {
            "gridcolor": "white",
            "linecolor": "white",
            "ticks": ""
           },
           "bgcolor": "#E5ECF6",
           "caxis": {
            "gridcolor": "white",
            "linecolor": "white",
            "ticks": ""
           }
          },
          "title": {
           "x": 0.05
          },
          "xaxis": {
           "automargin": true,
           "gridcolor": "white",
           "linecolor": "white",
           "ticks": "",
           "title": {
            "standoff": 15
           },
           "zerolinecolor": "white",
           "zerolinewidth": 2
          },
          "yaxis": {
           "automargin": true,
           "gridcolor": "white",
           "linecolor": "white",
           "ticks": "",
           "title": {
            "standoff": 15
           },
           "zerolinecolor": "white",
           "zerolinewidth": 2
          }
         }
        },
        "title": {
         "text": "$K^{trans}_{RR}$",
         "x": 0.5,
         "xanchor": "center"
        },
        "xaxis": {
         "title": {
          "text": "$\\sigma_{noise}[Mm]$"
         }
        },
        "yaxis": {
         "range": [
          -25,
          5
         ],
         "showline": true,
         "tickvals": [
          -25,
          -20,
          -15,
          -10,
          -5,
          0,
          5
         ],
         "title": {
          "text": "$Percent Error$"
         }
        }
       }
      },
      "text/html": [
       "<div>                            <div id=\"13ce41ef-ae5a-48eb-8a21-a5f1efbe374d\" class=\"plotly-graph-div\" style=\"height:525px; width:100%;\"></div>            <script type=\"text/javascript\">                require([\"plotly\"], function(Plotly) {                    window.PLOTLYENV=window.PLOTLYENV || {};                                    if (document.getElementById(\"13ce41ef-ae5a-48eb-8a21-a5f1efbe374d\")) {                    Plotly.newPlot(                        \"13ce41ef-ae5a-48eb-8a21-a5f1efbe374d\",                        [{\"error_y\": {\"array\": [0.0396097111738321, 0.9243669996149383, 1.6374510496488486, 2.502972164491071, 3.1687734120877273, 3.724663670542242], \"arrayminus\": [0.0468899686697757, 0.9231686503425456, 2.0968710282389926, 2.542604277632318, 3.0144069480034124, 3.648433915352354], \"symmetric\": false, \"thickness\": 4, \"type\": \"data\", \"visible\": true}, \"line\": {\"color\": \"#006837\", \"width\": 4}, \"showlegend\": false, \"type\": \"scatter\", \"visible\": true, \"x\": [0.0, 0.01, 0.02, 0.030000000000000002, 0.04, 0.05], \"y\": [-0.059454023876958396, -0.788325336469896, -1.9626751915599692, -3.333475084465901, -4.27814996707354, -5.838137427962575]}, {\"error_y\": {\"array\": [0.5000132099899417, 1.4614313011496578, 2.3881865619910068, 3.608384031136488, 4.088866998788497, 4.379391949104212], \"arrayminus\": [0.4246154324457391, 1.522148452798379, 2.6838989208051145, 3.3260537076144994, 4.149920810868216, 4.480393755043432], \"symmetric\": false, \"thickness\": 4, \"type\": \"data\", \"visible\": true}, \"line\": {\"color\": \"#31A354\", \"width\": 4}, \"showlegend\": false, \"type\": \"scatter\", \"visible\": false, \"x\": [0.0, 0.01, 0.02, 0.030000000000000002, 0.04, 0.05], \"y\": [-0.366282506451533, -1.6606523700984028, -3.167625100943469, -4.4039100911217055, -6.86935704932251, -10.21534742812547]}, {\"error_y\": {\"array\": [1.0974031068336894, 2.3073467882808023, 3.5235888090674443, 3.9997375210428947, 4.549556499722403, 5.459908950473077], \"arrayminus\": [1.0208994436644678, 2.264924948294738, 3.3836810385892897, 4.014361866053958, 4.341355937093935, 5.195609295232859], \"symmetric\": false, \"thickness\": 4, \"type\": \"data\", \"visible\": true}, \"line\": {\"color\": \"#78C679\", \"width\": 4}, \"showlegend\": false, \"type\": \"scatter\", \"visible\": false, \"x\": [0.0, 0.01, 0.02, 0.030000000000000002, 0.04, 0.05], \"y\": [-1.0318969881786622, -2.5228821686112264, -3.7622350875823187, -6.28629793126217, -9.26781639562255, -12.370000422912705]}, {\"error_y\": {\"array\": [1.3194509267232544, 3.01607807503164, 4.9707429864873784, 5.480480656468945, 6.295555973442278, 6.795753471239166], \"arrayminus\": [1.4761875948241068, 3.181978181616487, 4.794276504599047, 5.181825701884325, 5.816023930121313, 6.441504827827075], \"symmetric\": false, \"thickness\": 4, \"type\": \"data\", \"visible\": true}, \"line\": {\"color\": \"#C2E699\", \"width\": 4}, \"showlegend\": false, \"type\": \"scatter\", \"visible\": false, \"x\": [0.0, 0.01, 0.02, 0.030000000000000002, 0.04, 0.05], \"y\": [-4.051053401847721, -6.847158498672037, -9.219976174411654, -11.52962873035601, -14.111182281868144, -17.656492866257175]}],                        {\"legend\": {\"x\": 0.3, \"xanchor\": \"right\", \"y\": 0.2, \"yanchor\": \"bottom\"}, \"plot_bgcolor\": \"#ffffff\", \"sliders\": [{\"active\": 4, \"currentvalue\": {\"prefix\": \"Temporal resolution [seconds]: \"}, \"pad\": {\"t\": 70}, \"steps\": [{\"args\": [{\"visible\": [true, false, false, false]}], \"label\": \"5\", \"method\": \"update\", \"value\": \"5\"}, {\"args\": [{\"visible\": [false, true, false, false]}], \"label\": \"10\", \"method\": \"update\", \"value\": \"10\"}, {\"args\": [{\"visible\": [false, false, true, false]}], \"label\": \"15\", \"method\": \"update\", \"value\": \"15\"}, {\"args\": [{\"visible\": [false, false, false, true]}], \"label\": \"30\", \"method\": \"update\", \"value\": \"30\"}]}], \"template\": {\"data\": {\"bar\": [{\"error_x\": {\"color\": \"#2a3f5f\"}, \"error_y\": {\"color\": \"#2a3f5f\"}, \"marker\": {\"line\": {\"color\": \"#E5ECF6\", \"width\": 0.5}}, \"type\": \"bar\"}], \"barpolar\": [{\"marker\": {\"line\": {\"color\": \"#E5ECF6\", \"width\": 0.5}}, \"type\": \"barpolar\"}], \"carpet\": [{\"aaxis\": {\"endlinecolor\": \"#2a3f5f\", \"gridcolor\": \"white\", \"linecolor\": \"white\", \"minorgridcolor\": \"white\", \"startlinecolor\": \"#2a3f5f\"}, \"baxis\": {\"endlinecolor\": \"#2a3f5f\", \"gridcolor\": \"white\", \"linecolor\": \"white\", \"minorgridcolor\": \"white\", \"startlinecolor\": \"#2a3f5f\"}, \"type\": \"carpet\"}], \"choropleth\": [{\"colorbar\": {\"outlinewidth\": 0, \"ticks\": \"\"}, \"type\": \"choropleth\"}], \"contour\": [{\"colorbar\": {\"outlinewidth\": 0, \"ticks\": \"\"}, \"colorscale\": [[0.0, \"#0d0887\"], [0.1111111111111111, \"#46039f\"], [0.2222222222222222, \"#7201a8\"], [0.3333333333333333, \"#9c179e\"], [0.4444444444444444, \"#bd3786\"], [0.5555555555555556, \"#d8576b\"], [0.6666666666666666, \"#ed7953\"], [0.7777777777777778, \"#fb9f3a\"], [0.8888888888888888, \"#fdca26\"], [1.0, \"#f0f921\"]], \"type\": \"contour\"}], \"contourcarpet\": [{\"colorbar\": {\"outlinewidth\": 0, \"ticks\": \"\"}, \"type\": \"contourcarpet\"}], \"heatmap\": [{\"colorbar\": {\"outlinewidth\": 0, \"ticks\": \"\"}, \"colorscale\": [[0.0, \"#0d0887\"], [0.1111111111111111, \"#46039f\"], [0.2222222222222222, \"#7201a8\"], [0.3333333333333333, \"#9c179e\"], [0.4444444444444444, \"#bd3786\"], [0.5555555555555556, \"#d8576b\"], [0.6666666666666666, \"#ed7953\"], [0.7777777777777778, \"#fb9f3a\"], [0.8888888888888888, \"#fdca26\"], [1.0, \"#f0f921\"]], \"type\": \"heatmap\"}], \"heatmapgl\": [{\"colorbar\": {\"outlinewidth\": 0, \"ticks\": \"\"}, \"colorscale\": [[0.0, \"#0d0887\"], [0.1111111111111111, \"#46039f\"], [0.2222222222222222, \"#7201a8\"], [0.3333333333333333, \"#9c179e\"], [0.4444444444444444, \"#bd3786\"], [0.5555555555555556, \"#d8576b\"], [0.6666666666666666, \"#ed7953\"], [0.7777777777777778, \"#fb9f3a\"], [0.8888888888888888, \"#fdca26\"], [1.0, \"#f0f921\"]], \"type\": \"heatmapgl\"}], \"histogram\": [{\"marker\": {\"colorbar\": {\"outlinewidth\": 0, \"ticks\": \"\"}}, \"type\": \"histogram\"}], \"histogram2d\": [{\"colorbar\": {\"outlinewidth\": 0, \"ticks\": \"\"}, \"colorscale\": [[0.0, \"#0d0887\"], [0.1111111111111111, \"#46039f\"], [0.2222222222222222, \"#7201a8\"], [0.3333333333333333, \"#9c179e\"], [0.4444444444444444, \"#bd3786\"], [0.5555555555555556, \"#d8576b\"], [0.6666666666666666, \"#ed7953\"], [0.7777777777777778, \"#fb9f3a\"], [0.8888888888888888, \"#fdca26\"], [1.0, \"#f0f921\"]], \"type\": \"histogram2d\"}], \"histogram2dcontour\": [{\"colorbar\": {\"outlinewidth\": 0, \"ticks\": \"\"}, \"colorscale\": [[0.0, \"#0d0887\"], [0.1111111111111111, \"#46039f\"], [0.2222222222222222, \"#7201a8\"], [0.3333333333333333, \"#9c179e\"], [0.4444444444444444, \"#bd3786\"], [0.5555555555555556, \"#d8576b\"], [0.6666666666666666, \"#ed7953\"], [0.7777777777777778, \"#fb9f3a\"], [0.8888888888888888, \"#fdca26\"], [1.0, \"#f0f921\"]], \"type\": \"histogram2dcontour\"}], \"mesh3d\": [{\"colorbar\": {\"outlinewidth\": 0, \"ticks\": \"\"}, \"type\": \"mesh3d\"}], \"parcoords\": [{\"line\": {\"colorbar\": {\"outlinewidth\": 0, \"ticks\": \"\"}}, \"type\": \"parcoords\"}], \"pie\": [{\"automargin\": true, \"type\": \"pie\"}], \"scatter\": [{\"marker\": {\"colorbar\": {\"outlinewidth\": 0, \"ticks\": \"\"}}, \"type\": \"scatter\"}], \"scatter3d\": [{\"line\": {\"colorbar\": {\"outlinewidth\": 0, \"ticks\": \"\"}}, \"marker\": {\"colorbar\": {\"outlinewidth\": 0, \"ticks\": \"\"}}, \"type\": \"scatter3d\"}], \"scattercarpet\": [{\"marker\": {\"colorbar\": {\"outlinewidth\": 0, \"ticks\": \"\"}}, \"type\": \"scattercarpet\"}], \"scattergeo\": [{\"marker\": {\"colorbar\": {\"outlinewidth\": 0, \"ticks\": \"\"}}, \"type\": \"scattergeo\"}], \"scattergl\": [{\"marker\": {\"colorbar\": {\"outlinewidth\": 0, \"ticks\": \"\"}}, \"type\": \"scattergl\"}], \"scattermapbox\": [{\"marker\": {\"colorbar\": {\"outlinewidth\": 0, \"ticks\": \"\"}}, \"type\": \"scattermapbox\"}], \"scatterpolar\": [{\"marker\": {\"colorbar\": {\"outlinewidth\": 0, \"ticks\": \"\"}}, \"type\": \"scatterpolar\"}], \"scatterpolargl\": [{\"marker\": {\"colorbar\": {\"outlinewidth\": 0, \"ticks\": \"\"}}, \"type\": \"scatterpolargl\"}], \"scatterternary\": [{\"marker\": {\"colorbar\": {\"outlinewidth\": 0, \"ticks\": \"\"}}, \"type\": \"scatterternary\"}], \"surface\": [{\"colorbar\": {\"outlinewidth\": 0, \"ticks\": \"\"}, \"colorscale\": [[0.0, \"#0d0887\"], [0.1111111111111111, \"#46039f\"], [0.2222222222222222, \"#7201a8\"], [0.3333333333333333, \"#9c179e\"], [0.4444444444444444, \"#bd3786\"], [0.5555555555555556, \"#d8576b\"], [0.6666666666666666, \"#ed7953\"], [0.7777777777777778, \"#fb9f3a\"], [0.8888888888888888, \"#fdca26\"], [1.0, \"#f0f921\"]], \"type\": \"surface\"}], \"table\": [{\"cells\": {\"fill\": {\"color\": \"#EBF0F8\"}, \"line\": {\"color\": \"white\"}}, \"header\": {\"fill\": {\"color\": \"#C8D4E3\"}, \"line\": {\"color\": \"white\"}}, \"type\": \"table\"}]}, \"layout\": {\"annotationdefaults\": {\"arrowcolor\": \"#2a3f5f\", \"arrowhead\": 0, \"arrowwidth\": 1}, \"autotypenumbers\": \"strict\", \"coloraxis\": {\"colorbar\": {\"outlinewidth\": 0, \"ticks\": \"\"}}, \"colorscale\": {\"diverging\": [[0, \"#8e0152\"], [0.1, \"#c51b7d\"], [0.2, \"#de77ae\"], [0.3, \"#f1b6da\"], [0.4, \"#fde0ef\"], [0.5, \"#f7f7f7\"], [0.6, \"#e6f5d0\"], [0.7, \"#b8e186\"], [0.8, \"#7fbc41\"], [0.9, \"#4d9221\"], [1, \"#276419\"]], \"sequential\": [[0.0, \"#0d0887\"], [0.1111111111111111, \"#46039f\"], [0.2222222222222222, \"#7201a8\"], [0.3333333333333333, \"#9c179e\"], [0.4444444444444444, \"#bd3786\"], [0.5555555555555556, \"#d8576b\"], [0.6666666666666666, \"#ed7953\"], [0.7777777777777778, \"#fb9f3a\"], [0.8888888888888888, \"#fdca26\"], [1.0, \"#f0f921\"]], \"sequentialminus\": [[0.0, \"#0d0887\"], [0.1111111111111111, \"#46039f\"], [0.2222222222222222, \"#7201a8\"], [0.3333333333333333, \"#9c179e\"], [0.4444444444444444, \"#bd3786\"], [0.5555555555555556, \"#d8576b\"], [0.6666666666666666, \"#ed7953\"], [0.7777777777777778, \"#fb9f3a\"], [0.8888888888888888, \"#fdca26\"], [1.0, \"#f0f921\"]]}, \"colorway\": [\"#636efa\", \"#EF553B\", \"#00cc96\", \"#ab63fa\", \"#FFA15A\", \"#19d3f3\", \"#FF6692\", \"#B6E880\", \"#FF97FF\", \"#FECB52\"], \"font\": {\"color\": \"#2a3f5f\"}, \"geo\": {\"bgcolor\": \"white\", \"lakecolor\": \"white\", \"landcolor\": \"#E5ECF6\", \"showlakes\": true, \"showland\": true, \"subunitcolor\": \"white\"}, \"hoverlabel\": {\"align\": \"left\"}, \"hovermode\": \"closest\", \"mapbox\": {\"style\": \"light\"}, \"paper_bgcolor\": \"white\", \"plot_bgcolor\": \"#E5ECF6\", \"polar\": {\"angularaxis\": {\"gridcolor\": \"white\", \"linecolor\": \"white\", \"ticks\": \"\"}, \"bgcolor\": \"#E5ECF6\", \"radialaxis\": {\"gridcolor\": \"white\", \"linecolor\": \"white\", \"ticks\": \"\"}}, \"scene\": {\"xaxis\": {\"backgroundcolor\": \"#E5ECF6\", \"gridcolor\": \"white\", \"gridwidth\": 2, \"linecolor\": \"white\", \"showbackground\": true, \"ticks\": \"\", \"zerolinecolor\": \"white\"}, \"yaxis\": {\"backgroundcolor\": \"#E5ECF6\", \"gridcolor\": \"white\", \"gridwidth\": 2, \"linecolor\": \"white\", \"showbackground\": true, \"ticks\": \"\", \"zerolinecolor\": \"white\"}, \"zaxis\": {\"backgroundcolor\": \"#E5ECF6\", \"gridcolor\": \"white\", \"gridwidth\": 2, \"linecolor\": \"white\", \"showbackground\": true, \"ticks\": \"\", \"zerolinecolor\": \"white\"}}, \"shapedefaults\": {\"line\": {\"color\": \"#2a3f5f\"}}, \"ternary\": {\"aaxis\": {\"gridcolor\": \"white\", \"linecolor\": \"white\", \"ticks\": \"\"}, \"baxis\": {\"gridcolor\": \"white\", \"linecolor\": \"white\", \"ticks\": \"\"}, \"bgcolor\": \"#E5ECF6\", \"caxis\": {\"gridcolor\": \"white\", \"linecolor\": \"white\", \"ticks\": \"\"}}, \"title\": {\"x\": 0.05}, \"xaxis\": {\"automargin\": true, \"gridcolor\": \"white\", \"linecolor\": \"white\", \"ticks\": \"\", \"title\": {\"standoff\": 15}, \"zerolinecolor\": \"white\", \"zerolinewidth\": 2}, \"yaxis\": {\"automargin\": true, \"gridcolor\": \"white\", \"linecolor\": \"white\", \"ticks\": \"\", \"title\": {\"standoff\": 15}, \"zerolinecolor\": \"white\", \"zerolinewidth\": 2}}}, \"title\": {\"text\": \"$K^{trans}_{RR}$\", \"x\": 0.5, \"xanchor\": \"center\"}, \"xaxis\": {\"title\": {\"text\": \"$\\\\sigma_{noise}[Mm]$\"}}, \"yaxis\": {\"range\": [-25, 5], \"showline\": true, \"tickvals\": [-25, -20, -15, -10, -5, 0, 5], \"title\": {\"text\": \"$Percent Error$\"}}},                        {\"responsive\": true}                    ).then(function(){\n",
       "                            \n",
       "var gd = document.getElementById('13ce41ef-ae5a-48eb-8a21-a5f1efbe374d');\n",
       "var x = new MutationObserver(function (mutations, observer) {{\n",
       "        var display = window.getComputedStyle(gd).display;\n",
       "        if (!display || display === 'none') {{\n",
       "            console.log([gd, 'removed!']);\n",
       "            Plotly.purge(gd);\n",
       "            observer.disconnect();\n",
       "        }}\n",
       "}});\n",
       "\n",
       "// Listen for the removal of the full notebook cells\n",
       "var notebookContainer = gd.closest('#notebook-container');\n",
       "if (notebookContainer) {{\n",
       "    x.observe(notebookContainer, {childList: true});\n",
       "}}\n",
       "\n",
       "// Listen for the clearing of the current output cell\n",
       "var outputEl = gd.closest('.output');\n",
       "if (outputEl) {{\n",
       "    x.observe(outputEl, {childList: true});\n",
       "}}\n",
       "\n",
       "                        })                };                });            </script>        </div>"
      ]
     },
     "metadata": {},
     "output_type": "display_data"
    }
   ],
   "source": [
    "%get listSigmaC --from MATLAB\n",
    "%get curErr1 --from MATLAB\n",
    "%get errQt1 --from MATLAB\n",
    "%get errMd1 --from MATLAB\n",
    "\n",
    "fig = go.Figure()\n",
    "\n",
    "legend_values = [5, 10, 15, 30]\n",
    "\n",
    "line_colours = cycle(['#006837','#31A354','#78C679','#C2E699'])\n",
    "    \n",
    "for i in range(0,4):\n",
    "    finalErrMd1=np.squeeze(np.asarray((np.reshape(errMd1[i,:], 6))))\n",
    "    \n",
    "    finalErrorDiff1=np.squeeze(np.asarray((np.reshape(abs(errQt1[i,:,0]-errMd1[i,:]), 6))))\n",
    "    finalErrorDiffMinus1=np.squeeze(np.asarray((np.reshape(abs(errQt1[i,:,1]-errMd1[i,:]), 6))))\n",
    "    fig.add_trace(go.Scatter(\n",
    "        visible=False,\n",
    "        x=listSigmaC,\n",
    "        y=finalErrMd1,\n",
    "        error_y=dict(\n",
    "            type='data', # value of error bar given in data coordinates\n",
    "            array=finalErrorDiff1,\n",
    "            arrayminus=finalErrorDiffMinus1,\n",
    "            symmetric=False,\n",
    "            visible=True,\n",
    "            thickness=4),\n",
    "        line_color=next(line_colours),\n",
    "        line_width=4, showlegend=False       \n",
    "    ))\n",
    "\n",
    "\n",
    "\n",
    "    \n",
    "# Default value on the slider    \n",
    "fig.data[0].visible = True\n",
    "\n",
    "\n",
    "# Create and add slider\n",
    "steps = []\n",
    "for i in range(len(fig.data)):\n",
    "    step = dict(\n",
    "        method=\"update\",\n",
    "        args=[{\"visible\": [False] * len(fig.data)},\n",
    "#               {\"title\": \"Current value selected on slider: \" + str(legend_values[i])}\n",
    "             ],  # layout attribute\n",
    "        value=legend_values[i],\n",
    "        label=legend_values[i]        \n",
    "    )\n",
    "    step[\"args\"][0][\"visible\"][i] = True  # Toggle i'th trace to \"visible\"\n",
    "    steps.append(step)\n",
    "\n",
    "sliders = [dict(\n",
    "    active=4,\n",
    "    currentvalue={\"prefix\": \"Temporal resolution [seconds]: \"},\n",
    "    pad={\"t\": 70}, #upper padding \n",
    "    steps=steps\n",
    ")]\n",
    "\n",
    "\n",
    "#r'$\\widehat{k_{ep,RR}}$', r'$K^{trans}_{RR}$', r'$V_{e,RR}$'\n",
    "\n",
    "fig.update_xaxes(title_text=r'$\\sigma_{noise}[Mm]$')\n",
    "fig.update_layout(title=dict(text=r'$K^{trans}_{RR}$',\n",
    "                             x=0.5,\n",
    "                             xanchor='center'),\n",
    "                  yaxis=dict(title=r'$Percent Error$',\n",
    "                             showline=True,\n",
    "                             range=[-25,5],\n",
    "                             tickvals=[-25,-20,-15,-10,-5,0,5],\n",
    "                             ), \n",
    "                  plot_bgcolor='#ffffff',\n",
    "                  legend=dict(yanchor='bottom', y=0.20, xanchor='right', x=0.30),\n",
    "                  sliders=sliders\n",
    ")\n",
    "\n",
    "\n",
    "fig.show()"
   ]
  },
  {
   "attachments": {},
   "cell_type": "markdown",
   "metadata": {
    "kernel": "SoS"
   },
   "source": [
    "* $V_{e,RR}$ <a name=\"fig-3-3\"></a>"
   ]
  },
  {
   "cell_type": "code",
   "execution_count": 15,
   "metadata": {
    "kernel": "SoS"
   },
   "outputs": [
    {
     "data": {
      "application/vnd.plotly.v1+json": {
       "config": {
        "plotlyServerURL": "https://plot.ly"
       },
       "data": [
        {
         "error_y": {
          "array": [
           0.00582273931784957,
           0.2524024262627699,
           0.5183567978538182,
           0.8231535893039281,
           1.0651930993430379,
           1.2515997631621805
          ],
          "arrayminus": [
           0.006934136214089715,
           0.2638382085960832,
           0.5789810603262878,
           0.7952206584376151,
           0.9246959898332998,
           1.2805222501866491
          ],
          "symmetric": false,
          "thickness": 4,
          "type": "data",
          "visible": true
         },
         "line": {
          "color": "#006837",
          "width": 4
         },
         "showlegend": false,
         "type": "scatter",
         "visible": true,
         "x": [
          0,
          0.01,
          0.02,
          0.030000000000000002,
          0.04,
          0.05
         ],
         "y": [
          -0.011936536038461721,
          -0.1394902825714286,
          -0.250383398624874,
          -0.52829202070101,
          -0.5899815685539631,
          -0.9459100499807735
         ]
        },
        {
         "error_y": {
          "array": [
           0.07539197031757831,
           0.3743679890540792,
           0.6440136995463404,
           0.9534639311359735,
           1.250953568438478,
           1.543903581567248
          ],
          "arrayminus": [
           0.06382579037704901,
           0.2996578367664624,
           0.6196819366037101,
           0.8550009204853571,
           1.218587560727961,
           1.5793437689185845
          ],
          "symmetric": false,
          "thickness": 4,
          "type": "data",
          "visible": true
         },
         "line": {
          "color": "#31A354",
          "width": 4
         },
         "showlegend": false,
         "type": "scatter",
         "visible": false,
         "x": [
          0,
          0.01,
          0.02,
          0.030000000000000002,
          0.04,
          0.05
         ],
         "y": [
          -0.06762923458176433,
          -0.24586059328751286,
          -0.4736478154728238,
          -0.7513930088674295,
          -1.1362387170020822,
          -1.7607556669063067
         ]
        },
        {
         "error_y": {
          "array": [
           0.1682136275637573,
           0.43962878982076176,
           0.7395155895458171,
           1.1322092990697006,
           1.4435882355178746,
           1.6408225844487947
          ],
          "arrayminus": [
           0.15620412388459606,
           0.44498236262795,
           0.7351240485787617,
           0.9577930091254606,
           1.2609560017683847,
           1.6439458261287683
          ],
          "symmetric": false,
          "thickness": 4,
          "type": "data",
          "visible": true
         },
         "line": {
          "color": "#78C679",
          "width": 4
         },
         "showlegend": false,
         "type": "scatter",
         "visible": false,
         "x": [
          0,
          0.01,
          0.02,
          0.030000000000000002,
          0.04,
          0.05
         ],
         "y": [
          -0.18584311294992817,
          -0.43521811451906395,
          -0.6087268797081474,
          -0.9623107483865133,
          -1.5237226278278841,
          -2.273030452581188
         ]
        },
        {
         "error_y": {
          "array": [
           0.22448568883317743,
           0.6450693133610437,
           1.1109759407664648,
           1.4015938297909272,
           1.755160157833989,
           2.2842809492829614
          ],
          "arrayminus": [
           0.2424540357408399,
           0.6522854790578275,
           1.0116916589113134,
           1.298281641229974,
           1.6683880957439114,
           2.051355993973612
          ],
          "symmetric": false,
          "thickness": 4,
          "type": "data",
          "visible": true
         },
         "line": {
          "color": "#C2E699",
          "width": 4
         },
         "showlegend": false,
         "type": "scatter",
         "visible": false,
         "x": [
          0,
          0.01,
          0.02,
          0.030000000000000002,
          0.04,
          0.05
         ],
         "y": [
          -0.7552837524467293,
          -1.2234196131891237,
          -1.697341854635064,
          -2.1992334431413356,
          -2.610700847898578,
          -3.4335893542850044
         ]
        }
       ],
       "layout": {
        "legend": {
         "x": 0.3,
         "xanchor": "right",
         "y": 0.2,
         "yanchor": "bottom"
        },
        "plot_bgcolor": "#ffffff",
        "sliders": [
         {
          "active": 4,
          "currentvalue": {
           "prefix": "Temporal resolution [seconds]: "
          },
          "pad": {
           "t": 70
          },
          "steps": [
           {
            "args": [
             {
              "visible": [
               true,
               false,
               false,
               false
              ]
             }
            ],
            "label": "5",
            "method": "update",
            "value": "5"
           },
           {
            "args": [
             {
              "visible": [
               false,
               true,
               false,
               false
              ]
             }
            ],
            "label": "10",
            "method": "update",
            "value": "10"
           },
           {
            "args": [
             {
              "visible": [
               false,
               false,
               true,
               false
              ]
             }
            ],
            "label": "15",
            "method": "update",
            "value": "15"
           },
           {
            "args": [
             {
              "visible": [
               false,
               false,
               false,
               true
              ]
             }
            ],
            "label": "30",
            "method": "update",
            "value": "30"
           }
          ]
         }
        ],
        "template": {
         "data": {
          "bar": [
           {
            "error_x": {
             "color": "#2a3f5f"
            },
            "error_y": {
             "color": "#2a3f5f"
            },
            "marker": {
             "line": {
              "color": "#E5ECF6",
              "width": 0.5
             }
            },
            "type": "bar"
           }
          ],
          "barpolar": [
           {
            "marker": {
             "line": {
              "color": "#E5ECF6",
              "width": 0.5
             }
            },
            "type": "barpolar"
           }
          ],
          "carpet": [
           {
            "aaxis": {
             "endlinecolor": "#2a3f5f",
             "gridcolor": "white",
             "linecolor": "white",
             "minorgridcolor": "white",
             "startlinecolor": "#2a3f5f"
            },
            "baxis": {
             "endlinecolor": "#2a3f5f",
             "gridcolor": "white",
             "linecolor": "white",
             "minorgridcolor": "white",
             "startlinecolor": "#2a3f5f"
            },
            "type": "carpet"
           }
          ],
          "choropleth": [
           {
            "colorbar": {
             "outlinewidth": 0,
             "ticks": ""
            },
            "type": "choropleth"
           }
          ],
          "contour": [
           {
            "colorbar": {
             "outlinewidth": 0,
             "ticks": ""
            },
            "colorscale": [
             [
              0,
              "#0d0887"
             ],
             [
              0.1111111111111111,
              "#46039f"
             ],
             [
              0.2222222222222222,
              "#7201a8"
             ],
             [
              0.3333333333333333,
              "#9c179e"
             ],
             [
              0.4444444444444444,
              "#bd3786"
             ],
             [
              0.5555555555555556,
              "#d8576b"
             ],
             [
              0.6666666666666666,
              "#ed7953"
             ],
             [
              0.7777777777777778,
              "#fb9f3a"
             ],
             [
              0.8888888888888888,
              "#fdca26"
             ],
             [
              1,
              "#f0f921"
             ]
            ],
            "type": "contour"
           }
          ],
          "contourcarpet": [
           {
            "colorbar": {
             "outlinewidth": 0,
             "ticks": ""
            },
            "type": "contourcarpet"
           }
          ],
          "heatmap": [
           {
            "colorbar": {
             "outlinewidth": 0,
             "ticks": ""
            },
            "colorscale": [
             [
              0,
              "#0d0887"
             ],
             [
              0.1111111111111111,
              "#46039f"
             ],
             [
              0.2222222222222222,
              "#7201a8"
             ],
             [
              0.3333333333333333,
              "#9c179e"
             ],
             [
              0.4444444444444444,
              "#bd3786"
             ],
             [
              0.5555555555555556,
              "#d8576b"
             ],
             [
              0.6666666666666666,
              "#ed7953"
             ],
             [
              0.7777777777777778,
              "#fb9f3a"
             ],
             [
              0.8888888888888888,
              "#fdca26"
             ],
             [
              1,
              "#f0f921"
             ]
            ],
            "type": "heatmap"
           }
          ],
          "heatmapgl": [
           {
            "colorbar": {
             "outlinewidth": 0,
             "ticks": ""
            },
            "colorscale": [
             [
              0,
              "#0d0887"
             ],
             [
              0.1111111111111111,
              "#46039f"
             ],
             [
              0.2222222222222222,
              "#7201a8"
             ],
             [
              0.3333333333333333,
              "#9c179e"
             ],
             [
              0.4444444444444444,
              "#bd3786"
             ],
             [
              0.5555555555555556,
              "#d8576b"
             ],
             [
              0.6666666666666666,
              "#ed7953"
             ],
             [
              0.7777777777777778,
              "#fb9f3a"
             ],
             [
              0.8888888888888888,
              "#fdca26"
             ],
             [
              1,
              "#f0f921"
             ]
            ],
            "type": "heatmapgl"
           }
          ],
          "histogram": [
           {
            "marker": {
             "colorbar": {
              "outlinewidth": 0,
              "ticks": ""
             }
            },
            "type": "histogram"
           }
          ],
          "histogram2d": [
           {
            "colorbar": {
             "outlinewidth": 0,
             "ticks": ""
            },
            "colorscale": [
             [
              0,
              "#0d0887"
             ],
             [
              0.1111111111111111,
              "#46039f"
             ],
             [
              0.2222222222222222,
              "#7201a8"
             ],
             [
              0.3333333333333333,
              "#9c179e"
             ],
             [
              0.4444444444444444,
              "#bd3786"
             ],
             [
              0.5555555555555556,
              "#d8576b"
             ],
             [
              0.6666666666666666,
              "#ed7953"
             ],
             [
              0.7777777777777778,
              "#fb9f3a"
             ],
             [
              0.8888888888888888,
              "#fdca26"
             ],
             [
              1,
              "#f0f921"
             ]
            ],
            "type": "histogram2d"
           }
          ],
          "histogram2dcontour": [
           {
            "colorbar": {
             "outlinewidth": 0,
             "ticks": ""
            },
            "colorscale": [
             [
              0,
              "#0d0887"
             ],
             [
              0.1111111111111111,
              "#46039f"
             ],
             [
              0.2222222222222222,
              "#7201a8"
             ],
             [
              0.3333333333333333,
              "#9c179e"
             ],
             [
              0.4444444444444444,
              "#bd3786"
             ],
             [
              0.5555555555555556,
              "#d8576b"
             ],
             [
              0.6666666666666666,
              "#ed7953"
             ],
             [
              0.7777777777777778,
              "#fb9f3a"
             ],
             [
              0.8888888888888888,
              "#fdca26"
             ],
             [
              1,
              "#f0f921"
             ]
            ],
            "type": "histogram2dcontour"
           }
          ],
          "mesh3d": [
           {
            "colorbar": {
             "outlinewidth": 0,
             "ticks": ""
            },
            "type": "mesh3d"
           }
          ],
          "parcoords": [
           {
            "line": {
             "colorbar": {
              "outlinewidth": 0,
              "ticks": ""
             }
            },
            "type": "parcoords"
           }
          ],
          "pie": [
           {
            "automargin": true,
            "type": "pie"
           }
          ],
          "scatter": [
           {
            "marker": {
             "colorbar": {
              "outlinewidth": 0,
              "ticks": ""
             }
            },
            "type": "scatter"
           }
          ],
          "scatter3d": [
           {
            "line": {
             "colorbar": {
              "outlinewidth": 0,
              "ticks": ""
             }
            },
            "marker": {
             "colorbar": {
              "outlinewidth": 0,
              "ticks": ""
             }
            },
            "type": "scatter3d"
           }
          ],
          "scattercarpet": [
           {
            "marker": {
             "colorbar": {
              "outlinewidth": 0,
              "ticks": ""
             }
            },
            "type": "scattercarpet"
           }
          ],
          "scattergeo": [
           {
            "marker": {
             "colorbar": {
              "outlinewidth": 0,
              "ticks": ""
             }
            },
            "type": "scattergeo"
           }
          ],
          "scattergl": [
           {
            "marker": {
             "colorbar": {
              "outlinewidth": 0,
              "ticks": ""
             }
            },
            "type": "scattergl"
           }
          ],
          "scattermapbox": [
           {
            "marker": {
             "colorbar": {
              "outlinewidth": 0,
              "ticks": ""
             }
            },
            "type": "scattermapbox"
           }
          ],
          "scatterpolar": [
           {
            "marker": {
             "colorbar": {
              "outlinewidth": 0,
              "ticks": ""
             }
            },
            "type": "scatterpolar"
           }
          ],
          "scatterpolargl": [
           {
            "marker": {
             "colorbar": {
              "outlinewidth": 0,
              "ticks": ""
             }
            },
            "type": "scatterpolargl"
           }
          ],
          "scatterternary": [
           {
            "marker": {
             "colorbar": {
              "outlinewidth": 0,
              "ticks": ""
             }
            },
            "type": "scatterternary"
           }
          ],
          "surface": [
           {
            "colorbar": {
             "outlinewidth": 0,
             "ticks": ""
            },
            "colorscale": [
             [
              0,
              "#0d0887"
             ],
             [
              0.1111111111111111,
              "#46039f"
             ],
             [
              0.2222222222222222,
              "#7201a8"
             ],
             [
              0.3333333333333333,
              "#9c179e"
             ],
             [
              0.4444444444444444,
              "#bd3786"
             ],
             [
              0.5555555555555556,
              "#d8576b"
             ],
             [
              0.6666666666666666,
              "#ed7953"
             ],
             [
              0.7777777777777778,
              "#fb9f3a"
             ],
             [
              0.8888888888888888,
              "#fdca26"
             ],
             [
              1,
              "#f0f921"
             ]
            ],
            "type": "surface"
           }
          ],
          "table": [
           {
            "cells": {
             "fill": {
              "color": "#EBF0F8"
             },
             "line": {
              "color": "white"
             }
            },
            "header": {
             "fill": {
              "color": "#C8D4E3"
             },
             "line": {
              "color": "white"
             }
            },
            "type": "table"
           }
          ]
         },
         "layout": {
          "annotationdefaults": {
           "arrowcolor": "#2a3f5f",
           "arrowhead": 0,
           "arrowwidth": 1
          },
          "autotypenumbers": "strict",
          "coloraxis": {
           "colorbar": {
            "outlinewidth": 0,
            "ticks": ""
           }
          },
          "colorscale": {
           "diverging": [
            [
             0,
             "#8e0152"
            ],
            [
             0.1,
             "#c51b7d"
            ],
            [
             0.2,
             "#de77ae"
            ],
            [
             0.3,
             "#f1b6da"
            ],
            [
             0.4,
             "#fde0ef"
            ],
            [
             0.5,
             "#f7f7f7"
            ],
            [
             0.6,
             "#e6f5d0"
            ],
            [
             0.7,
             "#b8e186"
            ],
            [
             0.8,
             "#7fbc41"
            ],
            [
             0.9,
             "#4d9221"
            ],
            [
             1,
             "#276419"
            ]
           ],
           "sequential": [
            [
             0,
             "#0d0887"
            ],
            [
             0.1111111111111111,
             "#46039f"
            ],
            [
             0.2222222222222222,
             "#7201a8"
            ],
            [
             0.3333333333333333,
             "#9c179e"
            ],
            [
             0.4444444444444444,
             "#bd3786"
            ],
            [
             0.5555555555555556,
             "#d8576b"
            ],
            [
             0.6666666666666666,
             "#ed7953"
            ],
            [
             0.7777777777777778,
             "#fb9f3a"
            ],
            [
             0.8888888888888888,
             "#fdca26"
            ],
            [
             1,
             "#f0f921"
            ]
           ],
           "sequentialminus": [
            [
             0,
             "#0d0887"
            ],
            [
             0.1111111111111111,
             "#46039f"
            ],
            [
             0.2222222222222222,
             "#7201a8"
            ],
            [
             0.3333333333333333,
             "#9c179e"
            ],
            [
             0.4444444444444444,
             "#bd3786"
            ],
            [
             0.5555555555555556,
             "#d8576b"
            ],
            [
             0.6666666666666666,
             "#ed7953"
            ],
            [
             0.7777777777777778,
             "#fb9f3a"
            ],
            [
             0.8888888888888888,
             "#fdca26"
            ],
            [
             1,
             "#f0f921"
            ]
           ]
          },
          "colorway": [
           "#636efa",
           "#EF553B",
           "#00cc96",
           "#ab63fa",
           "#FFA15A",
           "#19d3f3",
           "#FF6692",
           "#B6E880",
           "#FF97FF",
           "#FECB52"
          ],
          "font": {
           "color": "#2a3f5f"
          },
          "geo": {
           "bgcolor": "white",
           "lakecolor": "white",
           "landcolor": "#E5ECF6",
           "showlakes": true,
           "showland": true,
           "subunitcolor": "white"
          },
          "hoverlabel": {
           "align": "left"
          },
          "hovermode": "closest",
          "mapbox": {
           "style": "light"
          },
          "paper_bgcolor": "white",
          "plot_bgcolor": "#E5ECF6",
          "polar": {
           "angularaxis": {
            "gridcolor": "white",
            "linecolor": "white",
            "ticks": ""
           },
           "bgcolor": "#E5ECF6",
           "radialaxis": {
            "gridcolor": "white",
            "linecolor": "white",
            "ticks": ""
           }
          },
          "scene": {
           "xaxis": {
            "backgroundcolor": "#E5ECF6",
            "gridcolor": "white",
            "gridwidth": 2,
            "linecolor": "white",
            "showbackground": true,
            "ticks": "",
            "zerolinecolor": "white"
           },
           "yaxis": {
            "backgroundcolor": "#E5ECF6",
            "gridcolor": "white",
            "gridwidth": 2,
            "linecolor": "white",
            "showbackground": true,
            "ticks": "",
            "zerolinecolor": "white"
           },
           "zaxis": {
            "backgroundcolor": "#E5ECF6",
            "gridcolor": "white",
            "gridwidth": 2,
            "linecolor": "white",
            "showbackground": true,
            "ticks": "",
            "zerolinecolor": "white"
           }
          },
          "shapedefaults": {
           "line": {
            "color": "#2a3f5f"
           }
          },
          "ternary": {
           "aaxis": {
            "gridcolor": "white",
            "linecolor": "white",
            "ticks": ""
           },
           "baxis": {
            "gridcolor": "white",
            "linecolor": "white",
            "ticks": ""
           },
           "bgcolor": "#E5ECF6",
           "caxis": {
            "gridcolor": "white",
            "linecolor": "white",
            "ticks": ""
           }
          },
          "title": {
           "x": 0.05
          },
          "xaxis": {
           "automargin": true,
           "gridcolor": "white",
           "linecolor": "white",
           "ticks": "",
           "title": {
            "standoff": 15
           },
           "zerolinecolor": "white",
           "zerolinewidth": 2
          },
          "yaxis": {
           "automargin": true,
           "gridcolor": "white",
           "linecolor": "white",
           "ticks": "",
           "title": {
            "standoff": 15
           },
           "zerolinecolor": "white",
           "zerolinewidth": 2
          }
         }
        },
        "title": {
         "text": "$V_{e,RR}$",
         "x": 0.5,
         "xanchor": "center"
        },
        "xaxis": {
         "title": {
          "text": "$\\sigma_{noise}[Mm]$"
         }
        },
        "yaxis": {
         "range": [
          -10,
          5
         ],
         "showline": true,
         "tickvals": [
          -10,
          -5,
          0,
          5
         ],
         "title": {
          "text": "$Percent Error$"
         }
        }
       }
      },
      "text/html": [
       "<div>                            <div id=\"24a5e802-5431-420d-9d85-578ec0d7caab\" class=\"plotly-graph-div\" style=\"height:525px; width:100%;\"></div>            <script type=\"text/javascript\">                require([\"plotly\"], function(Plotly) {                    window.PLOTLYENV=window.PLOTLYENV || {};                                    if (document.getElementById(\"24a5e802-5431-420d-9d85-578ec0d7caab\")) {                    Plotly.newPlot(                        \"24a5e802-5431-420d-9d85-578ec0d7caab\",                        [{\"error_y\": {\"array\": [0.00582273931784957, 0.2524024262627699, 0.5183567978538182, 0.8231535893039281, 1.0651930993430379, 1.2515997631621805], \"arrayminus\": [0.006934136214089715, 0.2638382085960832, 0.5789810603262878, 0.7952206584376151, 0.9246959898332998, 1.2805222501866491], \"symmetric\": false, \"thickness\": 4, \"type\": \"data\", \"visible\": true}, \"line\": {\"color\": \"#006837\", \"width\": 4}, \"showlegend\": false, \"type\": \"scatter\", \"visible\": true, \"x\": [0.0, 0.01, 0.02, 0.030000000000000002, 0.04, 0.05], \"y\": [-0.011936536038461721, -0.1394902825714286, -0.250383398624874, -0.52829202070101, -0.5899815685539631, -0.9459100499807735]}, {\"error_y\": {\"array\": [0.07539197031757831, 0.3743679890540792, 0.6440136995463404, 0.9534639311359735, 1.250953568438478, 1.543903581567248], \"arrayminus\": [0.06382579037704901, 0.2996578367664624, 0.6196819366037101, 0.8550009204853571, 1.218587560727961, 1.5793437689185845], \"symmetric\": false, \"thickness\": 4, \"type\": \"data\", \"visible\": true}, \"line\": {\"color\": \"#31A354\", \"width\": 4}, \"showlegend\": false, \"type\": \"scatter\", \"visible\": false, \"x\": [0.0, 0.01, 0.02, 0.030000000000000002, 0.04, 0.05], \"y\": [-0.06762923458176433, -0.24586059328751286, -0.4736478154728238, -0.7513930088674295, -1.1362387170020822, -1.7607556669063067]}, {\"error_y\": {\"array\": [0.1682136275637573, 0.43962878982076176, 0.7395155895458171, 1.1322092990697006, 1.4435882355178746, 1.6408225844487947], \"arrayminus\": [0.15620412388459606, 0.44498236262795, 0.7351240485787617, 0.9577930091254606, 1.2609560017683847, 1.6439458261287683], \"symmetric\": false, \"thickness\": 4, \"type\": \"data\", \"visible\": true}, \"line\": {\"color\": \"#78C679\", \"width\": 4}, \"showlegend\": false, \"type\": \"scatter\", \"visible\": false, \"x\": [0.0, 0.01, 0.02, 0.030000000000000002, 0.04, 0.05], \"y\": [-0.18584311294992817, -0.43521811451906395, -0.6087268797081474, -0.9623107483865133, -1.5237226278278841, -2.273030452581188]}, {\"error_y\": {\"array\": [0.22448568883317743, 0.6450693133610437, 1.1109759407664648, 1.4015938297909272, 1.755160157833989, 2.2842809492829614], \"arrayminus\": [0.2424540357408399, 0.6522854790578275, 1.0116916589113134, 1.298281641229974, 1.6683880957439114, 2.051355993973612], \"symmetric\": false, \"thickness\": 4, \"type\": \"data\", \"visible\": true}, \"line\": {\"color\": \"#C2E699\", \"width\": 4}, \"showlegend\": false, \"type\": \"scatter\", \"visible\": false, \"x\": [0.0, 0.01, 0.02, 0.030000000000000002, 0.04, 0.05], \"y\": [-0.7552837524467293, -1.2234196131891237, -1.697341854635064, -2.1992334431413356, -2.610700847898578, -3.4335893542850044]}],                        {\"legend\": {\"x\": 0.3, \"xanchor\": \"right\", \"y\": 0.2, \"yanchor\": \"bottom\"}, \"plot_bgcolor\": \"#ffffff\", \"sliders\": [{\"active\": 4, \"currentvalue\": {\"prefix\": \"Temporal resolution [seconds]: \"}, \"pad\": {\"t\": 70}, \"steps\": [{\"args\": [{\"visible\": [true, false, false, false]}], \"label\": \"5\", \"method\": \"update\", \"value\": \"5\"}, {\"args\": [{\"visible\": [false, true, false, false]}], \"label\": \"10\", \"method\": \"update\", \"value\": \"10\"}, {\"args\": [{\"visible\": [false, false, true, false]}], \"label\": \"15\", \"method\": \"update\", \"value\": \"15\"}, {\"args\": [{\"visible\": [false, false, false, true]}], \"label\": \"30\", \"method\": \"update\", \"value\": \"30\"}]}], \"template\": {\"data\": {\"bar\": [{\"error_x\": {\"color\": \"#2a3f5f\"}, \"error_y\": {\"color\": \"#2a3f5f\"}, \"marker\": {\"line\": {\"color\": \"#E5ECF6\", \"width\": 0.5}}, \"type\": \"bar\"}], \"barpolar\": [{\"marker\": {\"line\": {\"color\": \"#E5ECF6\", \"width\": 0.5}}, \"type\": \"barpolar\"}], \"carpet\": [{\"aaxis\": {\"endlinecolor\": \"#2a3f5f\", \"gridcolor\": \"white\", \"linecolor\": \"white\", \"minorgridcolor\": \"white\", \"startlinecolor\": \"#2a3f5f\"}, \"baxis\": {\"endlinecolor\": \"#2a3f5f\", \"gridcolor\": \"white\", \"linecolor\": \"white\", \"minorgridcolor\": \"white\", \"startlinecolor\": \"#2a3f5f\"}, \"type\": \"carpet\"}], \"choropleth\": [{\"colorbar\": {\"outlinewidth\": 0, \"ticks\": \"\"}, \"type\": \"choropleth\"}], \"contour\": [{\"colorbar\": {\"outlinewidth\": 0, \"ticks\": \"\"}, \"colorscale\": [[0.0, \"#0d0887\"], [0.1111111111111111, \"#46039f\"], [0.2222222222222222, \"#7201a8\"], [0.3333333333333333, \"#9c179e\"], [0.4444444444444444, \"#bd3786\"], [0.5555555555555556, \"#d8576b\"], [0.6666666666666666, \"#ed7953\"], [0.7777777777777778, \"#fb9f3a\"], [0.8888888888888888, \"#fdca26\"], [1.0, \"#f0f921\"]], \"type\": \"contour\"}], \"contourcarpet\": [{\"colorbar\": {\"outlinewidth\": 0, \"ticks\": \"\"}, \"type\": \"contourcarpet\"}], \"heatmap\": [{\"colorbar\": {\"outlinewidth\": 0, \"ticks\": \"\"}, \"colorscale\": [[0.0, \"#0d0887\"], [0.1111111111111111, \"#46039f\"], [0.2222222222222222, \"#7201a8\"], [0.3333333333333333, \"#9c179e\"], [0.4444444444444444, \"#bd3786\"], [0.5555555555555556, \"#d8576b\"], [0.6666666666666666, \"#ed7953\"], [0.7777777777777778, \"#fb9f3a\"], [0.8888888888888888, \"#fdca26\"], [1.0, \"#f0f921\"]], \"type\": \"heatmap\"}], \"heatmapgl\": [{\"colorbar\": {\"outlinewidth\": 0, \"ticks\": \"\"}, \"colorscale\": [[0.0, \"#0d0887\"], [0.1111111111111111, \"#46039f\"], [0.2222222222222222, \"#7201a8\"], [0.3333333333333333, \"#9c179e\"], [0.4444444444444444, \"#bd3786\"], [0.5555555555555556, \"#d8576b\"], [0.6666666666666666, \"#ed7953\"], [0.7777777777777778, \"#fb9f3a\"], [0.8888888888888888, \"#fdca26\"], [1.0, \"#f0f921\"]], \"type\": \"heatmapgl\"}], \"histogram\": [{\"marker\": {\"colorbar\": {\"outlinewidth\": 0, \"ticks\": \"\"}}, \"type\": \"histogram\"}], \"histogram2d\": [{\"colorbar\": {\"outlinewidth\": 0, \"ticks\": \"\"}, \"colorscale\": [[0.0, \"#0d0887\"], [0.1111111111111111, \"#46039f\"], [0.2222222222222222, \"#7201a8\"], [0.3333333333333333, \"#9c179e\"], [0.4444444444444444, \"#bd3786\"], [0.5555555555555556, \"#d8576b\"], [0.6666666666666666, \"#ed7953\"], [0.7777777777777778, \"#fb9f3a\"], [0.8888888888888888, \"#fdca26\"], [1.0, \"#f0f921\"]], \"type\": \"histogram2d\"}], \"histogram2dcontour\": [{\"colorbar\": {\"outlinewidth\": 0, \"ticks\": \"\"}, \"colorscale\": [[0.0, \"#0d0887\"], [0.1111111111111111, \"#46039f\"], [0.2222222222222222, \"#7201a8\"], [0.3333333333333333, \"#9c179e\"], [0.4444444444444444, \"#bd3786\"], [0.5555555555555556, \"#d8576b\"], [0.6666666666666666, \"#ed7953\"], [0.7777777777777778, \"#fb9f3a\"], [0.8888888888888888, \"#fdca26\"], [1.0, \"#f0f921\"]], \"type\": \"histogram2dcontour\"}], \"mesh3d\": [{\"colorbar\": {\"outlinewidth\": 0, \"ticks\": \"\"}, \"type\": \"mesh3d\"}], \"parcoords\": [{\"line\": {\"colorbar\": {\"outlinewidth\": 0, \"ticks\": \"\"}}, \"type\": \"parcoords\"}], \"pie\": [{\"automargin\": true, \"type\": \"pie\"}], \"scatter\": [{\"marker\": {\"colorbar\": {\"outlinewidth\": 0, \"ticks\": \"\"}}, \"type\": \"scatter\"}], \"scatter3d\": [{\"line\": {\"colorbar\": {\"outlinewidth\": 0, \"ticks\": \"\"}}, \"marker\": {\"colorbar\": {\"outlinewidth\": 0, \"ticks\": \"\"}}, \"type\": \"scatter3d\"}], \"scattercarpet\": [{\"marker\": {\"colorbar\": {\"outlinewidth\": 0, \"ticks\": \"\"}}, \"type\": \"scattercarpet\"}], \"scattergeo\": [{\"marker\": {\"colorbar\": {\"outlinewidth\": 0, \"ticks\": \"\"}}, \"type\": \"scattergeo\"}], \"scattergl\": [{\"marker\": {\"colorbar\": {\"outlinewidth\": 0, \"ticks\": \"\"}}, \"type\": \"scattergl\"}], \"scattermapbox\": [{\"marker\": {\"colorbar\": {\"outlinewidth\": 0, \"ticks\": \"\"}}, \"type\": \"scattermapbox\"}], \"scatterpolar\": [{\"marker\": {\"colorbar\": {\"outlinewidth\": 0, \"ticks\": \"\"}}, \"type\": \"scatterpolar\"}], \"scatterpolargl\": [{\"marker\": {\"colorbar\": {\"outlinewidth\": 0, \"ticks\": \"\"}}, \"type\": \"scatterpolargl\"}], \"scatterternary\": [{\"marker\": {\"colorbar\": {\"outlinewidth\": 0, \"ticks\": \"\"}}, \"type\": \"scatterternary\"}], \"surface\": [{\"colorbar\": {\"outlinewidth\": 0, \"ticks\": \"\"}, \"colorscale\": [[0.0, \"#0d0887\"], [0.1111111111111111, \"#46039f\"], [0.2222222222222222, \"#7201a8\"], [0.3333333333333333, \"#9c179e\"], [0.4444444444444444, \"#bd3786\"], [0.5555555555555556, \"#d8576b\"], [0.6666666666666666, \"#ed7953\"], [0.7777777777777778, \"#fb9f3a\"], [0.8888888888888888, \"#fdca26\"], [1.0, \"#f0f921\"]], \"type\": \"surface\"}], \"table\": [{\"cells\": {\"fill\": {\"color\": \"#EBF0F8\"}, \"line\": {\"color\": \"white\"}}, \"header\": {\"fill\": {\"color\": \"#C8D4E3\"}, \"line\": {\"color\": \"white\"}}, \"type\": \"table\"}]}, \"layout\": {\"annotationdefaults\": {\"arrowcolor\": \"#2a3f5f\", \"arrowhead\": 0, \"arrowwidth\": 1}, \"autotypenumbers\": \"strict\", \"coloraxis\": {\"colorbar\": {\"outlinewidth\": 0, \"ticks\": \"\"}}, \"colorscale\": {\"diverging\": [[0, \"#8e0152\"], [0.1, \"#c51b7d\"], [0.2, \"#de77ae\"], [0.3, \"#f1b6da\"], [0.4, \"#fde0ef\"], [0.5, \"#f7f7f7\"], [0.6, \"#e6f5d0\"], [0.7, \"#b8e186\"], [0.8, \"#7fbc41\"], [0.9, \"#4d9221\"], [1, \"#276419\"]], \"sequential\": [[0.0, \"#0d0887\"], [0.1111111111111111, \"#46039f\"], [0.2222222222222222, \"#7201a8\"], [0.3333333333333333, \"#9c179e\"], [0.4444444444444444, \"#bd3786\"], [0.5555555555555556, \"#d8576b\"], [0.6666666666666666, \"#ed7953\"], [0.7777777777777778, \"#fb9f3a\"], [0.8888888888888888, \"#fdca26\"], [1.0, \"#f0f921\"]], \"sequentialminus\": [[0.0, \"#0d0887\"], [0.1111111111111111, \"#46039f\"], [0.2222222222222222, \"#7201a8\"], [0.3333333333333333, \"#9c179e\"], [0.4444444444444444, \"#bd3786\"], [0.5555555555555556, \"#d8576b\"], [0.6666666666666666, \"#ed7953\"], [0.7777777777777778, \"#fb9f3a\"], [0.8888888888888888, \"#fdca26\"], [1.0, \"#f0f921\"]]}, \"colorway\": [\"#636efa\", \"#EF553B\", \"#00cc96\", \"#ab63fa\", \"#FFA15A\", \"#19d3f3\", \"#FF6692\", \"#B6E880\", \"#FF97FF\", \"#FECB52\"], \"font\": {\"color\": \"#2a3f5f\"}, \"geo\": {\"bgcolor\": \"white\", \"lakecolor\": \"white\", \"landcolor\": \"#E5ECF6\", \"showlakes\": true, \"showland\": true, \"subunitcolor\": \"white\"}, \"hoverlabel\": {\"align\": \"left\"}, \"hovermode\": \"closest\", \"mapbox\": {\"style\": \"light\"}, \"paper_bgcolor\": \"white\", \"plot_bgcolor\": \"#E5ECF6\", \"polar\": {\"angularaxis\": {\"gridcolor\": \"white\", \"linecolor\": \"white\", \"ticks\": \"\"}, \"bgcolor\": \"#E5ECF6\", \"radialaxis\": {\"gridcolor\": \"white\", \"linecolor\": \"white\", \"ticks\": \"\"}}, \"scene\": {\"xaxis\": {\"backgroundcolor\": \"#E5ECF6\", \"gridcolor\": \"white\", \"gridwidth\": 2, \"linecolor\": \"white\", \"showbackground\": true, \"ticks\": \"\", \"zerolinecolor\": \"white\"}, \"yaxis\": {\"backgroundcolor\": \"#E5ECF6\", \"gridcolor\": \"white\", \"gridwidth\": 2, \"linecolor\": \"white\", \"showbackground\": true, \"ticks\": \"\", \"zerolinecolor\": \"white\"}, \"zaxis\": {\"backgroundcolor\": \"#E5ECF6\", \"gridcolor\": \"white\", \"gridwidth\": 2, \"linecolor\": \"white\", \"showbackground\": true, \"ticks\": \"\", \"zerolinecolor\": \"white\"}}, \"shapedefaults\": {\"line\": {\"color\": \"#2a3f5f\"}}, \"ternary\": {\"aaxis\": {\"gridcolor\": \"white\", \"linecolor\": \"white\", \"ticks\": \"\"}, \"baxis\": {\"gridcolor\": \"white\", \"linecolor\": \"white\", \"ticks\": \"\"}, \"bgcolor\": \"#E5ECF6\", \"caxis\": {\"gridcolor\": \"white\", \"linecolor\": \"white\", \"ticks\": \"\"}}, \"title\": {\"x\": 0.05}, \"xaxis\": {\"automargin\": true, \"gridcolor\": \"white\", \"linecolor\": \"white\", \"ticks\": \"\", \"title\": {\"standoff\": 15}, \"zerolinecolor\": \"white\", \"zerolinewidth\": 2}, \"yaxis\": {\"automargin\": true, \"gridcolor\": \"white\", \"linecolor\": \"white\", \"ticks\": \"\", \"title\": {\"standoff\": 15}, \"zerolinecolor\": \"white\", \"zerolinewidth\": 2}}}, \"title\": {\"text\": \"$V_{e,RR}$\", \"x\": 0.5, \"xanchor\": \"center\"}, \"xaxis\": {\"title\": {\"text\": \"$\\\\sigma_{noise}[Mm]$\"}}, \"yaxis\": {\"range\": [-10, 5], \"showline\": true, \"tickvals\": [-10, -5, 0, 5], \"title\": {\"text\": \"$Percent Error$\"}}},                        {\"responsive\": true}                    ).then(function(){\n",
       "                            \n",
       "var gd = document.getElementById('24a5e802-5431-420d-9d85-578ec0d7caab');\n",
       "var x = new MutationObserver(function (mutations, observer) {{\n",
       "        var display = window.getComputedStyle(gd).display;\n",
       "        if (!display || display === 'none') {{\n",
       "            console.log([gd, 'removed!']);\n",
       "            Plotly.purge(gd);\n",
       "            observer.disconnect();\n",
       "        }}\n",
       "}});\n",
       "\n",
       "// Listen for the removal of the full notebook cells\n",
       "var notebookContainer = gd.closest('#notebook-container');\n",
       "if (notebookContainer) {{\n",
       "    x.observe(notebookContainer, {childList: true});\n",
       "}}\n",
       "\n",
       "// Listen for the clearing of the current output cell\n",
       "var outputEl = gd.closest('.output');\n",
       "if (outputEl) {{\n",
       "    x.observe(outputEl, {childList: true});\n",
       "}}\n",
       "\n",
       "                        })                };                });            </script>        </div>"
      ]
     },
     "metadata": {},
     "output_type": "display_data"
    }
   ],
   "source": [
    "%get curErr2 --from MATLAB\n",
    "%get errQt2 --from MATLAB\n",
    "%get errMd2 --from MATLAB\n",
    "\n",
    "fig = go.Figure()\n",
    "\n",
    "legend_values = [5, 10, 15, 30]\n",
    "\n",
    "line_colours = cycle(['#006837','#31A354','#78C679','#C2E699'])\n",
    "\n",
    "for i in range(0,4):\n",
    "    finalErrMd2=np.squeeze(np.asarray((np.reshape(errMd2[i,:], 6))))\n",
    "    \n",
    "    finalErrorDiff2=np.squeeze(np.asarray((np.reshape(abs(errQt2[i,:,0]-errMd2[i,:]), 6))))\n",
    "    finalErrorDiffMinus2=np.squeeze(np.asarray((np.reshape(abs(errQt2[i,:,1]-errMd2[i,:]), 6))))\n",
    "    fig.add_trace(go.Scatter(\n",
    "        visible=False,\n",
    "        x=listSigmaC,\n",
    "        y=finalErrMd2,\n",
    "        error_y=dict(\n",
    "            type='data', # value of error bar given in data coordinates\n",
    "            array=finalErrorDiff2,\n",
    "            arrayminus=finalErrorDiffMinus2,\n",
    "            symmetric=False,\n",
    "            visible=True,\n",
    "            thickness=4),\n",
    "        line_color=next(line_colours),\n",
    "        line_width=4, showlegend=False      \n",
    "    ))\n",
    "\n",
    "\n",
    "\n",
    "    \n",
    "# Default value on the slider    \n",
    "fig.data[0].visible = True\n",
    "\n",
    "\n",
    "# Create and add slider\n",
    "steps = []\n",
    "for i in range(len(fig.data)):\n",
    "    step = dict(\n",
    "        method=\"update\",\n",
    "        args=[{\"visible\": [False] * len(fig.data)},\n",
    "#               {\"title\": \"Current value selected on slider: \" + str(legend_values[i])}\n",
    "             ],  # layout attribute\n",
    "        value=legend_values[i],\n",
    "        label=legend_values[i]        \n",
    "    )\n",
    "    step[\"args\"][0][\"visible\"][i] = True  # Toggle i'th trace to \"visible\"\n",
    "    steps.append(step)\n",
    "\n",
    "sliders = [dict(\n",
    "    active=4,\n",
    "    currentvalue={\"prefix\": \"Temporal resolution [seconds]: \"},\n",
    "    pad={\"t\": 70}, #upper padding \n",
    "    steps=steps\n",
    ")]\n",
    "\n",
    "\n",
    "fig.update_xaxes(title_text=r'$\\sigma_{noise}[Mm]$')\n",
    "fig.update_layout(title=dict(text=r'$V_{e,RR}$',\n",
    "                             x=0.5,\n",
    "                             xanchor='center'),\n",
    "                  yaxis=dict(title=r'$Percent Error$',\n",
    "                             showline=True,\n",
    "                             range=[-10,5],\n",
    "                             tickvals=[-10,-5,0,5],\n",
    "                             ), \n",
    "                  plot_bgcolor='#ffffff',\n",
    "                  legend=dict(yanchor='bottom', y=0.20, xanchor='right', x=0.30),\n",
    "                  sliders=sliders\n",
    ")\n",
    "\n",
    "\n",
    "fig.show()"
   ]
  },
  {
   "cell_type": "code",
   "execution_count": null,
   "metadata": {
    "kernel": "SoS"
   },
   "outputs": [],
   "source": []
  }
 ],
 "metadata": {
  "kernelspec": {
   "display_name": "SoS",
   "language": "sos",
   "name": "sos"
  },
  "language_info": {
   "codemirror_mode": "sos",
   "file_extension": ".sos",
   "mimetype": "text/x-sos",
   "name": "sos",
   "nbconvert_exporter": "sos_notebook.converter.SoS_Exporter",
   "pygments_lexer": "sos"
  },
  "sos": {
   "kernels": [
    [
     "MATLAB",
     "matlab",
     "MATLAB",
     "#8ee7f1",
     "octave"
    ],
    [
     "Python3",
     "python3",
     "Python3",
     "#FFD91A",
     ""
    ],
    [
     "SoS",
     "sos",
     "",
     "",
     "sos"
    ]
   ],
   "panel": {
    "displayed": true,
    "height": 0
   },
   "version": "0.20.1"
  }
 },
 "nbformat": 4,
 "nbformat_minor": 4
}
